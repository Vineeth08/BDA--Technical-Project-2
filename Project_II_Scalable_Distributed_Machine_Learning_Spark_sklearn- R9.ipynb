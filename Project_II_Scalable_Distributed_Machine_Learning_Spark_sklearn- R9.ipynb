{
  "cells": [
    {
      "cell_type": "markdown",
      "metadata": {
        "id": "Bh9tBqoZc0AP"
      },
      "source": [
        "\n",
        "Warning: Distribution/sharing of this notebook and other lab notebooks on the internet and other sources is strictly prohibited. You should not provide this notebook to anyone else. you should just use it for the purpose of this assessment only.\n",
        "\n",
        "You should attempt and submit your work. you can refer to sources/APIs to complete this taks. Copying from each other even a part or so is strictly prohibited and may result in serious action."
      ]
    },
    {
      "cell_type": "markdown",
      "metadata": {
        "id": "7s52Sbzec3Ls"
      },
      "source": [
        "# Assessment 5 : Big Data Analytics using Machine Learning\n",
        "## Due Feburary 25th, 5pm (Firm)\n",
        "### Total points: 100 ( weighted over 35)\n",
        "\n",
        "This assessmet will enable you achieve essential experience of machine learning using sklearn and scalable approach to machine learning based on park ML! \n",
        "\n",
        "The focus of this assessment is to explore what makes videos popular on various platforms, e.g., Netflix and YouTube. The assessment will focus on YouTube 's data.\n",
        "\n",
        "**PLEASE NOTE** There can be multiple solutions possible for this assessment. various students will end up implementing different solutions. Therefore, there is not a single solution to fit all students."
      ]
    },
    {
      "cell_type": "markdown",
      "metadata": {
        "id": "B-SxessBdHOb"
      },
      "source": [
        "### Required Libraries \n",
        "Setup the libraries using the following cells. You should select Java 8 when prompted."
      ]
    },
    {
      "cell_type": "code",
      "execution_count": 1,
      "metadata": {
        "colab": {
          "base_uri": "https://localhost:8080/"
        },
        "id": "1pZCwRuiW3mA",
        "outputId": "040a78de-1f48-4446-c5a7-c8bb2c3540af"
      },
      "outputs": [
        {
          "output_type": "stream",
          "name": "stdout",
          "text": [
            "Reading package lists... Done\n",
            "Building dependency tree       \n",
            "Reading state information... Done\n",
            "The following package was automatically installed and is no longer required:\n",
            "  libnvidia-common-470\n",
            "Use 'sudo apt autoremove' to remove it.\n",
            "The following additional packages will be installed:\n",
            "  fonts-dejavu-core fonts-dejavu-extra libatk-wrapper-java\n",
            "  libatk-wrapper-java-jni libgail-common libgail18 libgtk2.0-0 libgtk2.0-bin\n",
            "  libgtk2.0-common libxxf86dga1 openjdk-8-jdk-headless openjdk-8-jre\n",
            "  openjdk-8-jre-headless x11-utils\n",
            "Suggested packages:\n",
            "  gvfs openjdk-8-demo openjdk-8-source visualvm icedtea-8-plugin libnss-mdns\n",
            "  fonts-ipafont-gothic fonts-ipafont-mincho fonts-wqy-microhei\n",
            "  fonts-wqy-zenhei fonts-indic mesa-utils\n",
            "The following NEW packages will be installed:\n",
            "  fonts-dejavu-core fonts-dejavu-extra libatk-wrapper-java\n",
            "  libatk-wrapper-java-jni libgail-common libgail18 libgtk2.0-0 libgtk2.0-bin\n",
            "  libgtk2.0-common libxxf86dga1 openjdk-8-jdk openjdk-8-jdk-headless\n",
            "  openjdk-8-jre openjdk-8-jre-headless x11-utils\n",
            "0 upgraded, 15 newly installed, 0 to remove and 39 not upgraded.\n",
            "Need to get 43.5 MB of archives.\n",
            "After this operation, 163 MB of additional disk space will be used.\n",
            "Get:1 http://archive.ubuntu.com/ubuntu bionic/main amd64 libxxf86dga1 amd64 2:1.1.4-1 [13.7 kB]\n",
            "Get:2 http://archive.ubuntu.com/ubuntu bionic/main amd64 fonts-dejavu-core all 2.37-1 [1,041 kB]\n",
            "Get:3 http://archive.ubuntu.com/ubuntu bionic/main amd64 fonts-dejavu-extra all 2.37-1 [1,953 kB]\n",
            "Get:4 http://archive.ubuntu.com/ubuntu bionic/main amd64 x11-utils amd64 7.7+3build1 [196 kB]\n",
            "Get:5 http://archive.ubuntu.com/ubuntu bionic/main amd64 libatk-wrapper-java all 0.33.3-20ubuntu0.1 [34.7 kB]\n",
            "Get:6 http://archive.ubuntu.com/ubuntu bionic/main amd64 libatk-wrapper-java-jni amd64 0.33.3-20ubuntu0.1 [28.3 kB]\n",
            "Get:7 http://archive.ubuntu.com/ubuntu bionic/main amd64 libgtk2.0-common all 2.24.32-1ubuntu1 [125 kB]\n",
            "Get:8 http://archive.ubuntu.com/ubuntu bionic/main amd64 libgtk2.0-0 amd64 2.24.32-1ubuntu1 [1,769 kB]\n",
            "Get:9 http://archive.ubuntu.com/ubuntu bionic/main amd64 libgail18 amd64 2.24.32-1ubuntu1 [14.2 kB]\n",
            "Get:10 http://archive.ubuntu.com/ubuntu bionic/main amd64 libgail-common amd64 2.24.32-1ubuntu1 [112 kB]\n",
            "Get:11 http://archive.ubuntu.com/ubuntu bionic/main amd64 libgtk2.0-bin amd64 2.24.32-1ubuntu1 [7,536 B]\n",
            "Get:12 http://archive.ubuntu.com/ubuntu bionic-updates/universe amd64 openjdk-8-jre-headless amd64 8u312-b07-0ubuntu1~18.04 [28.2 MB]\n",
            "Get:13 http://archive.ubuntu.com/ubuntu bionic-updates/universe amd64 openjdk-8-jre amd64 8u312-b07-0ubuntu1~18.04 [69.6 kB]\n",
            "Get:14 http://archive.ubuntu.com/ubuntu bionic-updates/universe amd64 openjdk-8-jdk-headless amd64 8u312-b07-0ubuntu1~18.04 [8,298 kB]\n",
            "Get:15 http://archive.ubuntu.com/ubuntu bionic-updates/universe amd64 openjdk-8-jdk amd64 8u312-b07-0ubuntu1~18.04 [1,625 kB]\n",
            "Fetched 43.5 MB in 1s (54.0 MB/s)\n",
            "debconf: unable to initialize frontend: Dialog\n",
            "debconf: (No usable dialog-like program is installed, so the dialog based frontend cannot be used. at /usr/share/perl5/Debconf/FrontEnd/Dialog.pm line 76, <> line 15.)\n",
            "debconf: falling back to frontend: Readline\n",
            "debconf: unable to initialize frontend: Readline\n",
            "debconf: (This frontend requires a controlling tty.)\n",
            "debconf: falling back to frontend: Teletype\n",
            "dpkg-preconfigure: unable to re-open stdin: \n",
            "Selecting previously unselected package libxxf86dga1:amd64.\n",
            "(Reading database ... 155320 files and directories currently installed.)\n",
            "Preparing to unpack .../00-libxxf86dga1_2%3a1.1.4-1_amd64.deb ...\n",
            "Unpacking libxxf86dga1:amd64 (2:1.1.4-1) ...\n",
            "Selecting previously unselected package fonts-dejavu-core.\n",
            "Preparing to unpack .../01-fonts-dejavu-core_2.37-1_all.deb ...\n",
            "Unpacking fonts-dejavu-core (2.37-1) ...\n",
            "Selecting previously unselected package fonts-dejavu-extra.\n",
            "Preparing to unpack .../02-fonts-dejavu-extra_2.37-1_all.deb ...\n",
            "Unpacking fonts-dejavu-extra (2.37-1) ...\n",
            "Selecting previously unselected package x11-utils.\n",
            "Preparing to unpack .../03-x11-utils_7.7+3build1_amd64.deb ...\n",
            "Unpacking x11-utils (7.7+3build1) ...\n",
            "Selecting previously unselected package libatk-wrapper-java.\n",
            "Preparing to unpack .../04-libatk-wrapper-java_0.33.3-20ubuntu0.1_all.deb ...\n",
            "Unpacking libatk-wrapper-java (0.33.3-20ubuntu0.1) ...\n",
            "Selecting previously unselected package libatk-wrapper-java-jni:amd64.\n",
            "Preparing to unpack .../05-libatk-wrapper-java-jni_0.33.3-20ubuntu0.1_amd64.deb ...\n",
            "Unpacking libatk-wrapper-java-jni:amd64 (0.33.3-20ubuntu0.1) ...\n",
            "Selecting previously unselected package libgtk2.0-common.\n",
            "Preparing to unpack .../06-libgtk2.0-common_2.24.32-1ubuntu1_all.deb ...\n",
            "Unpacking libgtk2.0-common (2.24.32-1ubuntu1) ...\n",
            "Selecting previously unselected package libgtk2.0-0:amd64.\n",
            "Preparing to unpack .../07-libgtk2.0-0_2.24.32-1ubuntu1_amd64.deb ...\n",
            "Unpacking libgtk2.0-0:amd64 (2.24.32-1ubuntu1) ...\n",
            "Selecting previously unselected package libgail18:amd64.\n",
            "Preparing to unpack .../08-libgail18_2.24.32-1ubuntu1_amd64.deb ...\n",
            "Unpacking libgail18:amd64 (2.24.32-1ubuntu1) ...\n",
            "Selecting previously unselected package libgail-common:amd64.\n",
            "Preparing to unpack .../09-libgail-common_2.24.32-1ubuntu1_amd64.deb ...\n",
            "Unpacking libgail-common:amd64 (2.24.32-1ubuntu1) ...\n",
            "Selecting previously unselected package libgtk2.0-bin.\n",
            "Preparing to unpack .../10-libgtk2.0-bin_2.24.32-1ubuntu1_amd64.deb ...\n",
            "Unpacking libgtk2.0-bin (2.24.32-1ubuntu1) ...\n",
            "Selecting previously unselected package openjdk-8-jre-headless:amd64.\n",
            "Preparing to unpack .../11-openjdk-8-jre-headless_8u312-b07-0ubuntu1~18.04_amd64.deb ...\n",
            "Unpacking openjdk-8-jre-headless:amd64 (8u312-b07-0ubuntu1~18.04) ...\n",
            "Selecting previously unselected package openjdk-8-jre:amd64.\n",
            "Preparing to unpack .../12-openjdk-8-jre_8u312-b07-0ubuntu1~18.04_amd64.deb ...\n",
            "Unpacking openjdk-8-jre:amd64 (8u312-b07-0ubuntu1~18.04) ...\n",
            "Selecting previously unselected package openjdk-8-jdk-headless:amd64.\n",
            "Preparing to unpack .../13-openjdk-8-jdk-headless_8u312-b07-0ubuntu1~18.04_amd64.deb ...\n",
            "Unpacking openjdk-8-jdk-headless:amd64 (8u312-b07-0ubuntu1~18.04) ...\n",
            "Selecting previously unselected package openjdk-8-jdk:amd64.\n",
            "Preparing to unpack .../14-openjdk-8-jdk_8u312-b07-0ubuntu1~18.04_amd64.deb ...\n",
            "Unpacking openjdk-8-jdk:amd64 (8u312-b07-0ubuntu1~18.04) ...\n",
            "Setting up libgtk2.0-common (2.24.32-1ubuntu1) ...\n",
            "Setting up fonts-dejavu-core (2.37-1) ...\n",
            "Setting up libxxf86dga1:amd64 (2:1.1.4-1) ...\n",
            "Setting up fonts-dejavu-extra (2.37-1) ...\n",
            "Setting up openjdk-8-jre-headless:amd64 (8u312-b07-0ubuntu1~18.04) ...\n",
            "update-alternatives: using /usr/lib/jvm/java-8-openjdk-amd64/jre/bin/orbd to provide /usr/bin/orbd (orbd) in auto mode\n",
            "update-alternatives: using /usr/lib/jvm/java-8-openjdk-amd64/jre/bin/servertool to provide /usr/bin/servertool (servertool) in auto mode\n",
            "update-alternatives: using /usr/lib/jvm/java-8-openjdk-amd64/jre/bin/tnameserv to provide /usr/bin/tnameserv (tnameserv) in auto mode\n",
            "Setting up libgtk2.0-0:amd64 (2.24.32-1ubuntu1) ...\n",
            "Setting up libgail18:amd64 (2.24.32-1ubuntu1) ...\n",
            "Setting up openjdk-8-jdk-headless:amd64 (8u312-b07-0ubuntu1~18.04) ...\n",
            "update-alternatives: using /usr/lib/jvm/java-8-openjdk-amd64/bin/idlj to provide /usr/bin/idlj (idlj) in auto mode\n",
            "update-alternatives: using /usr/lib/jvm/java-8-openjdk-amd64/bin/wsimport to provide /usr/bin/wsimport (wsimport) in auto mode\n",
            "update-alternatives: using /usr/lib/jvm/java-8-openjdk-amd64/bin/jsadebugd to provide /usr/bin/jsadebugd (jsadebugd) in auto mode\n",
            "update-alternatives: using /usr/lib/jvm/java-8-openjdk-amd64/bin/native2ascii to provide /usr/bin/native2ascii (native2ascii) in auto mode\n",
            "update-alternatives: using /usr/lib/jvm/java-8-openjdk-amd64/bin/javah to provide /usr/bin/javah (javah) in auto mode\n",
            "update-alternatives: using /usr/lib/jvm/java-8-openjdk-amd64/bin/hsdb to provide /usr/bin/hsdb (hsdb) in auto mode\n",
            "update-alternatives: using /usr/lib/jvm/java-8-openjdk-amd64/bin/clhsdb to provide /usr/bin/clhsdb (clhsdb) in auto mode\n",
            "update-alternatives: using /usr/lib/jvm/java-8-openjdk-amd64/bin/xjc to provide /usr/bin/xjc (xjc) in auto mode\n",
            "update-alternatives: using /usr/lib/jvm/java-8-openjdk-amd64/bin/schemagen to provide /usr/bin/schemagen (schemagen) in auto mode\n",
            "update-alternatives: using /usr/lib/jvm/java-8-openjdk-amd64/bin/extcheck to provide /usr/bin/extcheck (extcheck) in auto mode\n",
            "update-alternatives: using /usr/lib/jvm/java-8-openjdk-amd64/bin/jhat to provide /usr/bin/jhat (jhat) in auto mode\n",
            "update-alternatives: using /usr/lib/jvm/java-8-openjdk-amd64/bin/wsgen to provide /usr/bin/wsgen (wsgen) in auto mode\n",
            "Setting up x11-utils (7.7+3build1) ...\n",
            "Setting up libgail-common:amd64 (2.24.32-1ubuntu1) ...\n",
            "Setting up libatk-wrapper-java (0.33.3-20ubuntu0.1) ...\n",
            "Setting up libgtk2.0-bin (2.24.32-1ubuntu1) ...\n",
            "Setting up libatk-wrapper-java-jni:amd64 (0.33.3-20ubuntu0.1) ...\n",
            "Setting up openjdk-8-jre:amd64 (8u312-b07-0ubuntu1~18.04) ...\n",
            "update-alternatives: using /usr/lib/jvm/java-8-openjdk-amd64/jre/bin/policytool to provide /usr/bin/policytool (policytool) in auto mode\n",
            "Setting up openjdk-8-jdk:amd64 (8u312-b07-0ubuntu1~18.04) ...\n",
            "update-alternatives: using /usr/lib/jvm/java-8-openjdk-amd64/bin/appletviewer to provide /usr/bin/appletviewer (appletviewer) in auto mode\n",
            "update-alternatives: using /usr/lib/jvm/java-8-openjdk-amd64/bin/jconsole to provide /usr/bin/jconsole (jconsole) in auto mode\n",
            "Processing triggers for man-db (2.8.3-2ubuntu0.1) ...\n",
            "Processing triggers for hicolor-icon-theme (0.17-2) ...\n",
            "Processing triggers for fontconfig (2.12.6-0ubuntu2) ...\n",
            "Processing triggers for mime-support (3.60ubuntu1) ...\n",
            "Processing triggers for libc-bin (2.27-3ubuntu1.3) ...\n",
            "/sbin/ldconfig.real: /usr/local/lib/python3.7/dist-packages/ideep4py/lib/libmkldnn.so.0 is not a symbolic link\n",
            "\n",
            "There are 2 choices for the alternative java (providing /usr/bin/java).\n",
            "\n",
            "  Selection    Path                                            Priority   Status\n",
            "------------------------------------------------------------\n",
            "* 0            /usr/lib/jvm/java-11-openjdk-amd64/bin/java      1111      auto mode\n",
            "  1            /usr/lib/jvm/java-11-openjdk-amd64/bin/java      1111      manual mode\n",
            "  2            /usr/lib/jvm/java-8-openjdk-amd64/jre/bin/java   1081      manual mode\n",
            "\n",
            "Press <enter> to keep the current choice[*], or type selection number: 2\n",
            "update-alternatives: using /usr/lib/jvm/java-8-openjdk-amd64/jre/bin/java to provide /usr/bin/java (java) in manual mode\n"
          ]
        }
      ],
      "source": [
        "! sudo apt install openjdk-8-jdk\n",
        "! sudo update-alternatives --config java"
      ]
    },
    {
      "cell_type": "code",
      "execution_count": 2,
      "metadata": {
        "colab": {
          "base_uri": "https://localhost:8080/",
          "height": 609
        },
        "id": "ybcVZlTrXrP1",
        "outputId": "4656305b-6fbf-4675-f6dd-b3c1caf47242"
      },
      "outputs": [
        {
          "output_type": "stream",
          "name": "stdout",
          "text": [
            "Collecting pandas==1.0.5\n",
            "  Downloading pandas-1.0.5-cp37-cp37m-manylinux1_x86_64.whl (10.1 MB)\n",
            "\u001b[K     |████████████████████████████████| 10.1 MB 13.7 MB/s \n",
            "\u001b[?25hRequirement already satisfied: pytz>=2017.2 in /usr/local/lib/python3.7/dist-packages (from pandas==1.0.5) (2018.9)\n",
            "Requirement already satisfied: python-dateutil>=2.6.1 in /usr/local/lib/python3.7/dist-packages (from pandas==1.0.5) (2.8.2)\n",
            "Requirement already satisfied: numpy>=1.13.3 in /usr/local/lib/python3.7/dist-packages (from pandas==1.0.5) (1.21.5)\n",
            "Requirement already satisfied: six>=1.5 in /usr/local/lib/python3.7/dist-packages (from python-dateutil>=2.6.1->pandas==1.0.5) (1.15.0)\n",
            "Installing collected packages: pandas\n",
            "  Attempting uninstall: pandas\n",
            "    Found existing installation: pandas 1.3.5\n",
            "    Uninstalling pandas-1.3.5:\n",
            "      Successfully uninstalled pandas-1.3.5\n",
            "\u001b[31mERROR: pip's dependency resolver does not currently take into account all the packages that are installed. This behaviour is the source of the following dependency conflicts.\n",
            "google-colab 1.0.0 requires pandas>=1.1.0; python_version >= \"3.0\", but you have pandas 1.0.5 which is incompatible.\u001b[0m\n",
            "Successfully installed pandas-1.0.5\n"
          ]
        },
        {
          "output_type": "display_data",
          "data": {
            "application/vnd.colab-display-data+json": {
              "pip_warning": {
                "packages": [
                  "pandas"
                ]
              }
            }
          },
          "metadata": {}
        },
        {
          "output_type": "stream",
          "name": "stdout",
          "text": [
            "Collecting pyspark\n",
            "  Downloading pyspark-3.2.1.tar.gz (281.4 MB)\n",
            "\u001b[K     |████████████████████████████████| 281.4 MB 43 kB/s \n",
            "\u001b[?25hCollecting py4j==0.10.9.3\n",
            "  Downloading py4j-0.10.9.3-py2.py3-none-any.whl (198 kB)\n",
            "\u001b[K     |████████████████████████████████| 198 kB 62.9 MB/s \n",
            "\u001b[?25hBuilding wheels for collected packages: pyspark\n",
            "  Building wheel for pyspark (setup.py) ... \u001b[?25l\u001b[?25hdone\n",
            "  Created wheel for pyspark: filename=pyspark-3.2.1-py2.py3-none-any.whl size=281853642 sha256=492f01edd1a2c7816565b315f77d70685e2ec9d50024cfbcd828bb434a0f8842\n",
            "  Stored in directory: /root/.cache/pip/wheels/9f/f5/07/7cd8017084dce4e93e84e92efd1e1d5334db05f2e83bcef74f\n",
            "Successfully built pyspark\n",
            "Installing collected packages: py4j, pyspark\n",
            "Successfully installed py4j-0.10.9.3 pyspark-3.2.1\n"
          ]
        }
      ],
      "source": [
        "!pip3 install pandas==1.0.5\n",
        "!pip3 install pyspark"
      ]
    },
    {
      "cell_type": "code",
      "execution_count": 1,
      "metadata": {
        "colab": {
          "base_uri": "https://localhost:8080/"
        },
        "id": "7CULu9oCX_oq",
        "outputId": "33631de8-0210-49ae-8008-388980dd7d9b"
      },
      "outputs": [
        {
          "output_type": "stream",
          "name": "stdout",
          "text": [
            "True\n"
          ]
        }
      ],
      "source": [
        "# if restart of runtime is successful, the execution of this cell should\n",
        "# prints True\n",
        "\n",
        "import pandas as pd\n",
        "print(pd.__version__ == '1.0.5')"
      ]
    },
    {
      "cell_type": "code",
      "execution_count": 2,
      "metadata": {
        "id": "CoPokFrsYk3J"
      },
      "outputs": [],
      "source": [
        "import numpy as np #for arrays\n",
        "import json  #to load json files\n",
        "import matplotlib #visualization\n",
        "import matplotlib.pyplot as plt #better plotting functions\n",
        "from matplotlib import cm #color\n",
        "from datetime import datetime #to work with date and time\n",
        "import glob #to search file paths and directories\n",
        "import seaborn as sns #visualization\n",
        "import re #regular expressions to match strings\n",
        "import os #forming directories\n",
        "from matplotlib import pyplot\n",
        "import seaborn\n",
        "import random #create random numbers and samples\n",
        "pd.options.mode.chained_assignment = None"
      ]
    },
    {
      "cell_type": "code",
      "source": [
        "import pandas as pd\n",
        "import numpy as np\n",
        "import matplotlib.pyplot as plt\n",
        "import seaborn as sns\n",
        "import datetime as dt\n",
        "import calendar,warnings,itertools,matplotlib,keras,shutil\n",
        "import tensorflow as tf\n",
        "import statsmodels.api as sm\n",
        "from datetime import datetime\n",
        "from sklearn.model_selection import train_test_split,cross_val_score, cross_val_predict\n",
        "from sklearn import svm,metrics,tree,preprocessing,linear_model\n",
        "from sklearn.preprocessing import MinMaxScaler,StandardScaler\n",
        "from sklearn.naive_bayes import GaussianNB\n",
        "from sklearn.neighbors import KNeighborsClassifier\n",
        "from sklearn.tree import DecisionTreeRegressor\n",
        "from sklearn.linear_model import Ridge,LinearRegression,LogisticRegression,ElasticNet, Lasso\n",
        "from sklearn.ensemble import RandomForestRegressor,RandomForestClassifier, GradientBoostingRegressor,BaggingClassifier,ExtraTreesClassifier\n",
        "from sklearn.metrics import accuracy_score,mean_squared_error,recall_score,confusion_matrix,f1_score,roc_curve, auc\n",
        "from sklearn.datasets import load_iris,make_regression\n",
        "from sklearn.discriminant_analysis import LinearDiscriminantAnalysis\n",
        "from sklearn.kernel_ridge import KernelRidge\n",
        "from keras import Sequential\n",
        "from keras.layers import Dense\n",
        "from IPython.core import display as ICD"
      ],
      "metadata": {
        "colab": {
          "base_uri": "https://localhost:8080/"
        },
        "id": "7si7iuri84l5",
        "outputId": "379ae328-eaaf-4e4a-d4e3-4bf1a75e5e30"
      },
      "execution_count": 3,
      "outputs": [
        {
          "output_type": "stream",
          "name": "stderr",
          "text": [
            "/usr/local/lib/python3.7/dist-packages/statsmodels/tools/_testing.py:19: FutureWarning: pandas.util.testing is deprecated. Use the functions in the public API at pandas.testing instead.\n",
            "  import pandas.util.testing as tm\n"
          ]
        }
      ]
    },
    {
      "cell_type": "markdown",
      "metadata": {
        "id": "ERPF3hiBdNLV"
      },
      "source": [
        "Import your dataset using the following cells for the Youtube videos"
      ]
    },
    {
      "cell_type": "code",
      "execution_count": 4,
      "metadata": {
        "colab": {
          "base_uri": "https://localhost:8080/",
          "height": 472,
          "resources": {
            "http://localhost:8080/nbextensions/google.colab/files.js": {
              "data": "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",
              "headers": [
                [
                  "content-type",
                  "application/javascript"
                ]
              ],
              "ok": true,
              "status": 200,
              "status_text": ""
            }
          }
        },
        "id": "lrxiWP8NYt3a",
        "outputId": "63ce64ad-a412-4e65-f7f6-20a9905f5950"
      },
      "outputs": [
        {
          "output_type": "display_data",
          "data": {
            "text/html": [
              "\n",
              "     <input type=\"file\" id=\"files-3c37efee-7a80-429b-8db4-33f672437549\" name=\"files[]\" multiple disabled\n",
              "        style=\"border:none\" />\n",
              "     <output id=\"result-3c37efee-7a80-429b-8db4-33f672437549\">\n",
              "      Upload widget is only available when the cell has been executed in the\n",
              "      current browser session. Please rerun this cell to enable.\n",
              "      </output>\n",
              "      <script src=\"/nbextensions/google.colab/files.js\"></script> "
            ],
            "text/plain": [
              "<IPython.core.display.HTML object>"
            ]
          },
          "metadata": {}
        },
        {
          "output_type": "stream",
          "name": "stdout",
          "text": [
            "Saving youtube_data.zip to youtube_data.zip\n",
            "Archive:  /content/youtube_data.zip\n",
            "   creating: youtube_data/\n",
            "  inflating: youtube_data/IN_category_id.json  \n",
            "   creating: __MACOSX/\n",
            "   creating: __MACOSX/youtube_data/\n",
            "  inflating: __MACOSX/youtube_data/._IN_category_id.json  \n",
            "  inflating: youtube_data/.DS_Store  \n",
            "  inflating: __MACOSX/youtube_data/._.DS_Store  \n",
            "  inflating: youtube_data/FR_category_id.json  \n",
            "  inflating: __MACOSX/youtube_data/._FR_category_id.json  \n",
            "  inflating: youtube_data/INvideos.csv  \n",
            "  inflating: __MACOSX/youtube_data/._INvideos.csv  \n",
            "  inflating: youtube_data/CAvideos.csv  \n",
            "  inflating: __MACOSX/youtube_data/._CAvideos.csv  \n",
            "  inflating: youtube_data/FRvideos.csv  \n",
            "  inflating: __MACOSX/youtube_data/._FRvideos.csv  \n",
            "  inflating: youtube_data/CA_category_id.json  \n",
            "  inflating: __MACOSX/youtube_data/._CA_category_id.json  \n",
            "  inflating: youtube_data/US_category_id.json  \n",
            "  inflating: __MACOSX/youtube_data/._US_category_id.json  \n",
            "  inflating: youtube_data/USvideos.csv  \n",
            "  inflating: __MACOSX/youtube_data/._USvideos.csv  \n",
            "  inflating: __MACOSX/._youtube_data  \n"
          ]
        }
      ],
      "source": [
        "from google.colab import files\n",
        "uploaded = files.upload()\n",
        "\n",
        "!unzip /content/youtube_data.zip"
      ]
    },
    {
      "cell_type": "code",
      "execution_count": 5,
      "metadata": {
        "id": "vN1v0c4_jOX2"
      },
      "outputs": [],
      "source": [
        "#from google.colab import drive\n",
        "\n",
        "#drive.mount('/content/gdrive')"
      ]
    },
    {
      "cell_type": "markdown",
      "metadata": {
        "id": "uslaJyw4jAkO"
      },
      "source": [
        "# Section 5.1. : Machine Learning with Sklearn (45 points)"
      ]
    },
    {
      "cell_type": "markdown",
      "metadata": {
        "id": "Gxnfm62yjF11"
      },
      "source": [
        "## 5.1.1 Data loading and Preprocessing (5 pts)\n",
        "\n",
        "The dataset consists of a daily record of the top trending YouTube videos.\n",
        "\n",
        "To determine the year’s top-trending videos, YouTube uses a combination of factors including measuring users interactions, e.g., number of views, shares, comments and likes. \"Note that they’re not the most-viewed videos overall for the calendar year”. Top performers on the YouTube trending list are music videos (such as the famously viral “[Gangnam Style](https://www.youtube.com/watch?v=9bZkp7q19f0)”), celebrity and/or reality TV performances, and the random dude-with-a-camera viral videos that YouTube is well-known for.\n",
        "\n",
        "This dataset includes several months (and counting) of data on daily trending YouTube videos. Data is included for numerous countries, with up to 200 listed trending videos per day.\n",
        "\n",
        "Each region’s data is in a separate file. Data includes:\n",
        "\n",
        "*   Video Title\n",
        "*   Channel title\n",
        "*   Publish time\n",
        "*   Tags\n",
        "*   Views\n",
        "*   Likes\n",
        "*   Dislikes\n",
        "*   Description\n",
        "*   Comment count\n",
        "\n",
        "The data also includes a category\\_id field, which varies between regions. To retrieve the categories for a specific video, find it in the associated JSON. One such file is included for each of the five regions in the dataset.\n",
        "\n",
        "For more information on specific columns in the dataset refer to the column metadata.\n"
      ]
    },
    {
      "cell_type": "markdown",
      "metadata": {
        "id": "LQMs6LwAjZm1"
      },
      "source": [
        "#### 5.1.1.1: Combining Multiple CSV's. (2 pts.)\n",
        "\n",
        "There are multiple csv files in the dataset, each corresponding to a specific country. As a first step you need to read them and combine these csv files into a single dataframe. Use 'video_id' as your index.\n",
        "\n",
        "While combining them, you also need to create a column for \"country\" and fill it in the final dataframe. The country name can be extracted using the filename itself.\n",
        "\n",
        "Name your dataframe \"combined_data\"."
      ]
    },
    {
      "cell_type": "code",
      "execution_count": 5,
      "metadata": {
        "colab": {
          "base_uri": "https://localhost:8080/",
          "height": 1000
        },
        "id": "6eNwAwXtgWyB",
        "outputId": "3224ab94-b77b-4cc2-dda3-a41a1f22cce0"
      },
      "outputs": [
        {
          "output_type": "execute_result",
          "data": {
            "text/html": [
              "\n",
              "  <div id=\"df-a3624958-2f70-4fea-8a22-222d91c648b8\">\n",
              "    <div class=\"colab-df-container\">\n",
              "      <div>\n",
              "<style scoped>\n",
              "    .dataframe tbody tr th:only-of-type {\n",
              "        vertical-align: middle;\n",
              "    }\n",
              "\n",
              "    .dataframe tbody tr th {\n",
              "        vertical-align: top;\n",
              "    }\n",
              "\n",
              "    .dataframe thead th {\n",
              "        text-align: right;\n",
              "    }\n",
              "</style>\n",
              "<table border=\"1\" class=\"dataframe\">\n",
              "  <thead>\n",
              "    <tr style=\"text-align: right;\">\n",
              "      <th></th>\n",
              "      <th>trending_date</th>\n",
              "      <th>title</th>\n",
              "      <th>channel_title</th>\n",
              "      <th>category_id</th>\n",
              "      <th>publish_time</th>\n",
              "      <th>tags</th>\n",
              "      <th>views</th>\n",
              "      <th>likes</th>\n",
              "      <th>dislikes</th>\n",
              "      <th>comment_count</th>\n",
              "      <th>thumbnail_link</th>\n",
              "      <th>comments_disabled</th>\n",
              "      <th>ratings_disabled</th>\n",
              "      <th>video_error_or_removed</th>\n",
              "      <th>description</th>\n",
              "      <th>country</th>\n",
              "    </tr>\n",
              "    <tr>\n",
              "      <th>video_id</th>\n",
              "      <th></th>\n",
              "      <th></th>\n",
              "      <th></th>\n",
              "      <th></th>\n",
              "      <th></th>\n",
              "      <th></th>\n",
              "      <th></th>\n",
              "      <th></th>\n",
              "      <th></th>\n",
              "      <th></th>\n",
              "      <th></th>\n",
              "      <th></th>\n",
              "      <th></th>\n",
              "      <th></th>\n",
              "      <th></th>\n",
              "      <th></th>\n",
              "    </tr>\n",
              "  </thead>\n",
              "  <tbody>\n",
              "    <tr>\n",
              "      <th>kzwfHumJyYc</th>\n",
              "      <td>17.14.11</td>\n",
              "      <td>Sharry Mann: Cute Munda ( Song Teaser) | Parmi...</td>\n",
              "      <td>Lokdhun Punjabi</td>\n",
              "      <td>1</td>\n",
              "      <td>2017-11-12T12:20:39.000Z</td>\n",
              "      <td>sharry mann|\"sharry mann new song\"|\"sharry man...</td>\n",
              "      <td>1096327</td>\n",
              "      <td>33966</td>\n",
              "      <td>798</td>\n",
              "      <td>882</td>\n",
              "      <td>https://i.ytimg.com/vi/kzwfHumJyYc/default.jpg</td>\n",
              "      <td>False</td>\n",
              "      <td>False</td>\n",
              "      <td>False</td>\n",
              "      <td>Presenting Sharry Mann latest Punjabi Song  Cu...</td>\n",
              "      <td>IN</td>\n",
              "    </tr>\n",
              "    <tr>\n",
              "      <th>zUZ1z7FwLc8</th>\n",
              "      <td>17.14.11</td>\n",
              "      <td>पीरियड्स के समय, पेट पर पति करता ऐसा, देखकर दं...</td>\n",
              "      <td>HJ NEWS</td>\n",
              "      <td>25</td>\n",
              "      <td>2017-11-13T05:43:56.000Z</td>\n",
              "      <td>पीरियड्स के समय|\"पेट पर पति करता ऐसा\"|\"देखकर द...</td>\n",
              "      <td>590101</td>\n",
              "      <td>735</td>\n",
              "      <td>904</td>\n",
              "      <td>0</td>\n",
              "      <td>https://i.ytimg.com/vi/zUZ1z7FwLc8/default.jpg</td>\n",
              "      <td>True</td>\n",
              "      <td>False</td>\n",
              "      <td>False</td>\n",
              "      <td>पीरियड्स के समय, पेट पर पति करता ऐसा, देखकर दं...</td>\n",
              "      <td>IN</td>\n",
              "    </tr>\n",
              "    <tr>\n",
              "      <th>10L1hZ9qa58</th>\n",
              "      <td>17.14.11</td>\n",
              "      <td>Stylish Star Allu Arjun @ ChaySam Wedding Rece...</td>\n",
              "      <td>TFPC</td>\n",
              "      <td>24</td>\n",
              "      <td>2017-11-12T15:48:08.000Z</td>\n",
              "      <td>Stylish Star Allu Arjun @ ChaySam Wedding Rece...</td>\n",
              "      <td>473988</td>\n",
              "      <td>2011</td>\n",
              "      <td>243</td>\n",
              "      <td>149</td>\n",
              "      <td>https://i.ytimg.com/vi/10L1hZ9qa58/default.jpg</td>\n",
              "      <td>False</td>\n",
              "      <td>False</td>\n",
              "      <td>False</td>\n",
              "      <td>Watch Stylish Star Allu Arjun @ ChaySam Weddin...</td>\n",
              "      <td>IN</td>\n",
              "    </tr>\n",
              "    <tr>\n",
              "      <th>N1vE8iiEg64</th>\n",
              "      <td>17.14.11</td>\n",
              "      <td>Eruma Saani | Tamil vs English</td>\n",
              "      <td>Eruma Saani</td>\n",
              "      <td>23</td>\n",
              "      <td>2017-11-12T07:08:48.000Z</td>\n",
              "      <td>Eruma Saani|\"Tamil Comedy Videos\"|\"Films\"|\"Mov...</td>\n",
              "      <td>1242680</td>\n",
              "      <td>70353</td>\n",
              "      <td>1624</td>\n",
              "      <td>2684</td>\n",
              "      <td>https://i.ytimg.com/vi/N1vE8iiEg64/default.jpg</td>\n",
              "      <td>False</td>\n",
              "      <td>False</td>\n",
              "      <td>False</td>\n",
              "      <td>This video showcases the difference between pe...</td>\n",
              "      <td>IN</td>\n",
              "    </tr>\n",
              "    <tr>\n",
              "      <th>kJzGH0PVQHQ</th>\n",
              "      <td>17.14.11</td>\n",
              "      <td>why Samantha became EMOTIONAL @ Samantha naga ...</td>\n",
              "      <td>Filmylooks</td>\n",
              "      <td>24</td>\n",
              "      <td>2017-11-13T01:14:16.000Z</td>\n",
              "      <td>Filmylooks|\"latest news\"|\"telugu movies\"|\"telu...</td>\n",
              "      <td>464015</td>\n",
              "      <td>492</td>\n",
              "      <td>293</td>\n",
              "      <td>66</td>\n",
              "      <td>https://i.ytimg.com/vi/kJzGH0PVQHQ/default.jpg</td>\n",
              "      <td>False</td>\n",
              "      <td>False</td>\n",
              "      <td>False</td>\n",
              "      <td>why Samantha became EMOTIONAL @ Samantha naga ...</td>\n",
              "      <td>IN</td>\n",
              "    </tr>\n",
              "    <tr>\n",
              "      <th>...</th>\n",
              "      <td>...</td>\n",
              "      <td>...</td>\n",
              "      <td>...</td>\n",
              "      <td>...</td>\n",
              "      <td>...</td>\n",
              "      <td>...</td>\n",
              "      <td>...</td>\n",
              "      <td>...</td>\n",
              "      <td>...</td>\n",
              "      <td>...</td>\n",
              "      <td>...</td>\n",
              "      <td>...</td>\n",
              "      <td>...</td>\n",
              "      <td>...</td>\n",
              "      <td>...</td>\n",
              "      <td>...</td>\n",
              "    </tr>\n",
              "    <tr>\n",
              "      <th>BZt0qjTWNhw</th>\n",
              "      <td>18.14.06</td>\n",
              "      <td>The Cat Who Caught the Laser</td>\n",
              "      <td>AaronsAnimals</td>\n",
              "      <td>15</td>\n",
              "      <td>2018-05-18T13:00:04.000Z</td>\n",
              "      <td>aarons animals|\"aarons\"|\"animals\"|\"cat\"|\"cats\"...</td>\n",
              "      <td>1685609</td>\n",
              "      <td>38160</td>\n",
              "      <td>1385</td>\n",
              "      <td>2657</td>\n",
              "      <td>https://i.ytimg.com/vi/BZt0qjTWNhw/default.jpg</td>\n",
              "      <td>False</td>\n",
              "      <td>False</td>\n",
              "      <td>False</td>\n",
              "      <td>The Cat Who Caught the Laser - Aaron's Animals</td>\n",
              "      <td>US</td>\n",
              "    </tr>\n",
              "    <tr>\n",
              "      <th>1h7KV2sjUWY</th>\n",
              "      <td>18.14.06</td>\n",
              "      <td>True Facts : Ant Mutualism</td>\n",
              "      <td>zefrank1</td>\n",
              "      <td>22</td>\n",
              "      <td>2018-05-18T01:00:06.000Z</td>\n",
              "      <td>[none]</td>\n",
              "      <td>1064798</td>\n",
              "      <td>60008</td>\n",
              "      <td>382</td>\n",
              "      <td>3936</td>\n",
              "      <td>https://i.ytimg.com/vi/1h7KV2sjUWY/default.jpg</td>\n",
              "      <td>False</td>\n",
              "      <td>False</td>\n",
              "      <td>False</td>\n",
              "      <td>NaN</td>\n",
              "      <td>US</td>\n",
              "    </tr>\n",
              "    <tr>\n",
              "      <th>D6Oy4LfoqsU</th>\n",
              "      <td>18.14.06</td>\n",
              "      <td>I GAVE SAFIYA NYGAARD A PERFECT HAIR MAKEOVER ...</td>\n",
              "      <td>Brad Mondo</td>\n",
              "      <td>24</td>\n",
              "      <td>2018-05-18T17:34:22.000Z</td>\n",
              "      <td>I gave safiya nygaard a perfect hair makeover ...</td>\n",
              "      <td>1066451</td>\n",
              "      <td>48068</td>\n",
              "      <td>1032</td>\n",
              "      <td>3992</td>\n",
              "      <td>https://i.ytimg.com/vi/D6Oy4LfoqsU/default.jpg</td>\n",
              "      <td>False</td>\n",
              "      <td>False</td>\n",
              "      <td>False</td>\n",
              "      <td>I had so much fun transforming Safiyas hair in...</td>\n",
              "      <td>US</td>\n",
              "    </tr>\n",
              "    <tr>\n",
              "      <th>oV0zkMe1K8s</th>\n",
              "      <td>18.14.06</td>\n",
              "      <td>How Black Panther Should Have Ended</td>\n",
              "      <td>How It Should Have Ended</td>\n",
              "      <td>1</td>\n",
              "      <td>2018-05-17T17:00:04.000Z</td>\n",
              "      <td>Black Panther|\"HISHE\"|\"Marvel\"|\"Infinity War\"|...</td>\n",
              "      <td>5660813</td>\n",
              "      <td>192957</td>\n",
              "      <td>2846</td>\n",
              "      <td>13088</td>\n",
              "      <td>https://i.ytimg.com/vi/oV0zkMe1K8s/default.jpg</td>\n",
              "      <td>False</td>\n",
              "      <td>False</td>\n",
              "      <td>False</td>\n",
              "      <td>How Black Panther Should Have EndedWatch More ...</td>\n",
              "      <td>US</td>\n",
              "    </tr>\n",
              "    <tr>\n",
              "      <th>ooyjaVdt-jA</th>\n",
              "      <td>18.14.06</td>\n",
              "      <td>Official Call of Duty®: Black Ops 4 — Multipla...</td>\n",
              "      <td>Call of Duty</td>\n",
              "      <td>20</td>\n",
              "      <td>2018-05-17T17:09:38.000Z</td>\n",
              "      <td>call of duty|\"cod\"|\"activision\"|\"Black Ops 4\"</td>\n",
              "      <td>10306119</td>\n",
              "      <td>357079</td>\n",
              "      <td>212976</td>\n",
              "      <td>144795</td>\n",
              "      <td>https://i.ytimg.com/vi/ooyjaVdt-jA/default.jpg</td>\n",
              "      <td>False</td>\n",
              "      <td>False</td>\n",
              "      <td>False</td>\n",
              "      <td>Call of Duty: Black Ops 4 Multiplayer raises t...</td>\n",
              "      <td>US</td>\n",
              "    </tr>\n",
              "  </tbody>\n",
              "</table>\n",
              "<p>159906 rows × 16 columns</p>\n",
              "</div>\n",
              "      <button class=\"colab-df-convert\" onclick=\"convertToInteractive('df-a3624958-2f70-4fea-8a22-222d91c648b8')\"\n",
              "              title=\"Convert this dataframe to an interactive table.\"\n",
              "              style=\"display:none;\">\n",
              "        \n",
              "  <svg xmlns=\"http://www.w3.org/2000/svg\" height=\"24px\"viewBox=\"0 0 24 24\"\n",
              "       width=\"24px\">\n",
              "    <path d=\"M0 0h24v24H0V0z\" fill=\"none\"/>\n",
              "    <path d=\"M18.56 5.44l.94 2.06.94-2.06 2.06-.94-2.06-.94-.94-2.06-.94 2.06-2.06.94zm-11 1L8.5 8.5l.94-2.06 2.06-.94-2.06-.94L8.5 2.5l-.94 2.06-2.06.94zm10 10l.94 2.06.94-2.06 2.06-.94-2.06-.94-.94-2.06-.94 2.06-2.06.94z\"/><path d=\"M17.41 7.96l-1.37-1.37c-.4-.4-.92-.59-1.43-.59-.52 0-1.04.2-1.43.59L10.3 9.45l-7.72 7.72c-.78.78-.78 2.05 0 2.83L4 21.41c.39.39.9.59 1.41.59.51 0 1.02-.2 1.41-.59l7.78-7.78 2.81-2.81c.8-.78.8-2.07 0-2.86zM5.41 20L4 18.59l7.72-7.72 1.47 1.35L5.41 20z\"/>\n",
              "  </svg>\n",
              "      </button>\n",
              "      \n",
              "  <style>\n",
              "    .colab-df-container {\n",
              "      display:flex;\n",
              "      flex-wrap:wrap;\n",
              "      gap: 12px;\n",
              "    }\n",
              "\n",
              "    .colab-df-convert {\n",
              "      background-color: #E8F0FE;\n",
              "      border: none;\n",
              "      border-radius: 50%;\n",
              "      cursor: pointer;\n",
              "      display: none;\n",
              "      fill: #1967D2;\n",
              "      height: 32px;\n",
              "      padding: 0 0 0 0;\n",
              "      width: 32px;\n",
              "    }\n",
              "\n",
              "    .colab-df-convert:hover {\n",
              "      background-color: #E2EBFA;\n",
              "      box-shadow: 0px 1px 2px rgba(60, 64, 67, 0.3), 0px 1px 3px 1px rgba(60, 64, 67, 0.15);\n",
              "      fill: #174EA6;\n",
              "    }\n",
              "\n",
              "    [theme=dark] .colab-df-convert {\n",
              "      background-color: #3B4455;\n",
              "      fill: #D2E3FC;\n",
              "    }\n",
              "\n",
              "    [theme=dark] .colab-df-convert:hover {\n",
              "      background-color: #434B5C;\n",
              "      box-shadow: 0px 1px 3px 1px rgba(0, 0, 0, 0.15);\n",
              "      filter: drop-shadow(0px 1px 2px rgba(0, 0, 0, 0.3));\n",
              "      fill: #FFFFFF;\n",
              "    }\n",
              "  </style>\n",
              "\n",
              "      <script>\n",
              "        const buttonEl =\n",
              "          document.querySelector('#df-a3624958-2f70-4fea-8a22-222d91c648b8 button.colab-df-convert');\n",
              "        buttonEl.style.display =\n",
              "          google.colab.kernel.accessAllowed ? 'block' : 'none';\n",
              "\n",
              "        async function convertToInteractive(key) {\n",
              "          const element = document.querySelector('#df-a3624958-2f70-4fea-8a22-222d91c648b8');\n",
              "          const dataTable =\n",
              "            await google.colab.kernel.invokeFunction('convertToInteractive',\n",
              "                                                     [key], {});\n",
              "          if (!dataTable) return;\n",
              "\n",
              "          const docLinkHtml = 'Like what you see? Visit the ' +\n",
              "            '<a target=\"_blank\" href=https://colab.research.google.com/notebooks/data_table.ipynb>data table notebook</a>'\n",
              "            + ' to learn more about interactive tables.';\n",
              "          element.innerHTML = '';\n",
              "          dataTable['output_type'] = 'display_data';\n",
              "          await google.colab.output.renderOutput(dataTable, element);\n",
              "          const docLink = document.createElement('div');\n",
              "          docLink.innerHTML = docLinkHtml;\n",
              "          element.appendChild(docLink);\n",
              "        }\n",
              "      </script>\n",
              "    </div>\n",
              "  </div>\n",
              "  "
            ],
            "text/plain": [
              "            trending_date  ... country\n",
              "video_id                   ...        \n",
              "kzwfHumJyYc      17.14.11  ...      IN\n",
              "zUZ1z7FwLc8      17.14.11  ...      IN\n",
              "10L1hZ9qa58      17.14.11  ...      IN\n",
              "N1vE8iiEg64      17.14.11  ...      IN\n",
              "kJzGH0PVQHQ      17.14.11  ...      IN\n",
              "...                   ...  ...     ...\n",
              "BZt0qjTWNhw      18.14.06  ...      US\n",
              "1h7KV2sjUWY      18.14.06  ...      US\n",
              "D6Oy4LfoqsU      18.14.06  ...      US\n",
              "oV0zkMe1K8s      18.14.06  ...      US\n",
              "ooyjaVdt-jA      18.14.06  ...      US\n",
              "\n",
              "[159906 rows x 16 columns]"
            ]
          },
          "metadata": {},
          "execution_count": 5
        }
      ],
      "source": [
        "#import all the csv files\n",
        "files = [i for i in glob.glob('/content/youtube_data/*.csv'.format('csv'))]\n",
        "#files = [i for i in glob.glob('/content/gdrive/MyDrive/youtube-data/*.csv'.format('csv'))]\n",
        "sorted(files)\n",
        "\n",
        "# Task: Merge all dataframes to single dataframe \"combined_data\" and add a 'country' column. \n",
        "all_dataframes = list()\n",
        "for csv in files:\n",
        "  #all_dataframes.append(pd.read_csv(csv))\n",
        "  frame = pd.read_csv(csv, index_col = 0)\n",
        "  frame['country'] = os.path.basename(csv)\n",
        "  all_dataframes.append(frame)\n",
        "\n",
        "combined_data = pd.concat(all_dataframes)\n",
        "combined_data['country'] = combined_data['country'].map(lambda x: x.lstrip('+-').rstrip('videos.csv'))\n",
        "combined_data"
      ]
    },
    {
      "cell_type": "markdown",
      "metadata": {
        "id": "tcWihezlL2lI"
      },
      "source": [
        "#### 5.1.1.2: Map category Id's to categories (2 pts)\n",
        "\n",
        "Read the category_id.json file and map the category_id's in the dataframe to the category name.\n",
        "\n",
        "Use json.load to read in the data in the json file as a python dictionary and then map the category id given in the dataframe to category name from the json file. (Hint: the US json is likely the most comprehensive reference)"
      ]
    },
    {
      "cell_type": "code",
      "execution_count": 6,
      "metadata": {
        "id": "9ASBhCoDFuRy"
      },
      "outputs": [],
      "source": [
        "combined_data['category_id'] = combined_data['category_id'].astype(str)\n",
        "js_files = [i for i in glob.glob('/content/youtube_data/*.json'.format('json'))]\n",
        "#js_files = [i for i in glob.glob('/content/gdrive/MyDrive/youtube-data/*.format('json'))]\n",
        "sorted(js_files)\n",
        "\n",
        "id_to_category = {}\n",
        "for x in js_files:\n",
        "  js = pd.read_json(x)\n"
      ]
    },
    {
      "cell_type": "code",
      "execution_count": 7,
      "metadata": {
        "colab": {
          "base_uri": "https://localhost:8080/",
          "height": 1000
        },
        "id": "govuZX-0HxZ8",
        "outputId": "2200d8e9-ac88-4259-86a1-683e6f6131fb"
      },
      "outputs": [
        {
          "output_type": "execute_result",
          "data": {
            "text/html": [
              "\n",
              "  <div id=\"df-9dd9940d-7d61-4208-8996-626d174c4d2b\">\n",
              "    <div class=\"colab-df-container\">\n",
              "      <div>\n",
              "<style scoped>\n",
              "    .dataframe tbody tr th:only-of-type {\n",
              "        vertical-align: middle;\n",
              "    }\n",
              "\n",
              "    .dataframe tbody tr th {\n",
              "        vertical-align: top;\n",
              "    }\n",
              "\n",
              "    .dataframe thead th {\n",
              "        text-align: right;\n",
              "    }\n",
              "</style>\n",
              "<table border=\"1\" class=\"dataframe\">\n",
              "  <thead>\n",
              "    <tr style=\"text-align: right;\">\n",
              "      <th></th>\n",
              "      <th>kind</th>\n",
              "      <th>etag</th>\n",
              "      <th>items</th>\n",
              "    </tr>\n",
              "  </thead>\n",
              "  <tbody>\n",
              "    <tr>\n",
              "      <th>0</th>\n",
              "      <td>youtube#videoCategoryListResponse</td>\n",
              "      <td>\"XI7nbFXulYBIpL0ayR_gDh3eu1k/1v2mrzYSYG6onNLt2...</td>\n",
              "      <td>{'kind': 'youtube#videoCategory', 'etag': '\"XI...</td>\n",
              "    </tr>\n",
              "    <tr>\n",
              "      <th>1</th>\n",
              "      <td>youtube#videoCategoryListResponse</td>\n",
              "      <td>\"XI7nbFXulYBIpL0ayR_gDh3eu1k/1v2mrzYSYG6onNLt2...</td>\n",
              "      <td>{'kind': 'youtube#videoCategory', 'etag': '\"XI...</td>\n",
              "    </tr>\n",
              "    <tr>\n",
              "      <th>2</th>\n",
              "      <td>youtube#videoCategoryListResponse</td>\n",
              "      <td>\"XI7nbFXulYBIpL0ayR_gDh3eu1k/1v2mrzYSYG6onNLt2...</td>\n",
              "      <td>{'kind': 'youtube#videoCategory', 'etag': '\"XI...</td>\n",
              "    </tr>\n",
              "    <tr>\n",
              "      <th>3</th>\n",
              "      <td>youtube#videoCategoryListResponse</td>\n",
              "      <td>\"XI7nbFXulYBIpL0ayR_gDh3eu1k/1v2mrzYSYG6onNLt2...</td>\n",
              "      <td>{'kind': 'youtube#videoCategory', 'etag': '\"XI...</td>\n",
              "    </tr>\n",
              "    <tr>\n",
              "      <th>4</th>\n",
              "      <td>youtube#videoCategoryListResponse</td>\n",
              "      <td>\"XI7nbFXulYBIpL0ayR_gDh3eu1k/1v2mrzYSYG6onNLt2...</td>\n",
              "      <td>{'kind': 'youtube#videoCategory', 'etag': '\"XI...</td>\n",
              "    </tr>\n",
              "    <tr>\n",
              "      <th>5</th>\n",
              "      <td>youtube#videoCategoryListResponse</td>\n",
              "      <td>\"XI7nbFXulYBIpL0ayR_gDh3eu1k/1v2mrzYSYG6onNLt2...</td>\n",
              "      <td>{'kind': 'youtube#videoCategory', 'etag': '\"XI...</td>\n",
              "    </tr>\n",
              "    <tr>\n",
              "      <th>6</th>\n",
              "      <td>youtube#videoCategoryListResponse</td>\n",
              "      <td>\"XI7nbFXulYBIpL0ayR_gDh3eu1k/1v2mrzYSYG6onNLt2...</td>\n",
              "      <td>{'kind': 'youtube#videoCategory', 'etag': '\"XI...</td>\n",
              "    </tr>\n",
              "    <tr>\n",
              "      <th>7</th>\n",
              "      <td>youtube#videoCategoryListResponse</td>\n",
              "      <td>\"XI7nbFXulYBIpL0ayR_gDh3eu1k/1v2mrzYSYG6onNLt2...</td>\n",
              "      <td>{'kind': 'youtube#videoCategory', 'etag': '\"XI...</td>\n",
              "    </tr>\n",
              "    <tr>\n",
              "      <th>8</th>\n",
              "      <td>youtube#videoCategoryListResponse</td>\n",
              "      <td>\"XI7nbFXulYBIpL0ayR_gDh3eu1k/1v2mrzYSYG6onNLt2...</td>\n",
              "      <td>{'kind': 'youtube#videoCategory', 'etag': '\"XI...</td>\n",
              "    </tr>\n",
              "    <tr>\n",
              "      <th>9</th>\n",
              "      <td>youtube#videoCategoryListResponse</td>\n",
              "      <td>\"XI7nbFXulYBIpL0ayR_gDh3eu1k/1v2mrzYSYG6onNLt2...</td>\n",
              "      <td>{'kind': 'youtube#videoCategory', 'etag': '\"XI...</td>\n",
              "    </tr>\n",
              "    <tr>\n",
              "      <th>10</th>\n",
              "      <td>youtube#videoCategoryListResponse</td>\n",
              "      <td>\"XI7nbFXulYBIpL0ayR_gDh3eu1k/1v2mrzYSYG6onNLt2...</td>\n",
              "      <td>{'kind': 'youtube#videoCategory', 'etag': '\"XI...</td>\n",
              "    </tr>\n",
              "    <tr>\n",
              "      <th>11</th>\n",
              "      <td>youtube#videoCategoryListResponse</td>\n",
              "      <td>\"XI7nbFXulYBIpL0ayR_gDh3eu1k/1v2mrzYSYG6onNLt2...</td>\n",
              "      <td>{'kind': 'youtube#videoCategory', 'etag': '\"XI...</td>\n",
              "    </tr>\n",
              "    <tr>\n",
              "      <th>12</th>\n",
              "      <td>youtube#videoCategoryListResponse</td>\n",
              "      <td>\"XI7nbFXulYBIpL0ayR_gDh3eu1k/1v2mrzYSYG6onNLt2...</td>\n",
              "      <td>{'kind': 'youtube#videoCategory', 'etag': '\"XI...</td>\n",
              "    </tr>\n",
              "    <tr>\n",
              "      <th>13</th>\n",
              "      <td>youtube#videoCategoryListResponse</td>\n",
              "      <td>\"XI7nbFXulYBIpL0ayR_gDh3eu1k/1v2mrzYSYG6onNLt2...</td>\n",
              "      <td>{'kind': 'youtube#videoCategory', 'etag': '\"XI...</td>\n",
              "    </tr>\n",
              "    <tr>\n",
              "      <th>14</th>\n",
              "      <td>youtube#videoCategoryListResponse</td>\n",
              "      <td>\"XI7nbFXulYBIpL0ayR_gDh3eu1k/1v2mrzYSYG6onNLt2...</td>\n",
              "      <td>{'kind': 'youtube#videoCategory', 'etag': '\"XI...</td>\n",
              "    </tr>\n",
              "    <tr>\n",
              "      <th>15</th>\n",
              "      <td>youtube#videoCategoryListResponse</td>\n",
              "      <td>\"XI7nbFXulYBIpL0ayR_gDh3eu1k/1v2mrzYSYG6onNLt2...</td>\n",
              "      <td>{'kind': 'youtube#videoCategory', 'etag': '\"XI...</td>\n",
              "    </tr>\n",
              "    <tr>\n",
              "      <th>16</th>\n",
              "      <td>youtube#videoCategoryListResponse</td>\n",
              "      <td>\"XI7nbFXulYBIpL0ayR_gDh3eu1k/1v2mrzYSYG6onNLt2...</td>\n",
              "      <td>{'kind': 'youtube#videoCategory', 'etag': '\"XI...</td>\n",
              "    </tr>\n",
              "    <tr>\n",
              "      <th>17</th>\n",
              "      <td>youtube#videoCategoryListResponse</td>\n",
              "      <td>\"XI7nbFXulYBIpL0ayR_gDh3eu1k/1v2mrzYSYG6onNLt2...</td>\n",
              "      <td>{'kind': 'youtube#videoCategory', 'etag': '\"XI...</td>\n",
              "    </tr>\n",
              "    <tr>\n",
              "      <th>18</th>\n",
              "      <td>youtube#videoCategoryListResponse</td>\n",
              "      <td>\"XI7nbFXulYBIpL0ayR_gDh3eu1k/1v2mrzYSYG6onNLt2...</td>\n",
              "      <td>{'kind': 'youtube#videoCategory', 'etag': '\"XI...</td>\n",
              "    </tr>\n",
              "    <tr>\n",
              "      <th>19</th>\n",
              "      <td>youtube#videoCategoryListResponse</td>\n",
              "      <td>\"XI7nbFXulYBIpL0ayR_gDh3eu1k/1v2mrzYSYG6onNLt2...</td>\n",
              "      <td>{'kind': 'youtube#videoCategory', 'etag': '\"XI...</td>\n",
              "    </tr>\n",
              "    <tr>\n",
              "      <th>20</th>\n",
              "      <td>youtube#videoCategoryListResponse</td>\n",
              "      <td>\"XI7nbFXulYBIpL0ayR_gDh3eu1k/1v2mrzYSYG6onNLt2...</td>\n",
              "      <td>{'kind': 'youtube#videoCategory', 'etag': '\"XI...</td>\n",
              "    </tr>\n",
              "    <tr>\n",
              "      <th>21</th>\n",
              "      <td>youtube#videoCategoryListResponse</td>\n",
              "      <td>\"XI7nbFXulYBIpL0ayR_gDh3eu1k/1v2mrzYSYG6onNLt2...</td>\n",
              "      <td>{'kind': 'youtube#videoCategory', 'etag': '\"XI...</td>\n",
              "    </tr>\n",
              "    <tr>\n",
              "      <th>22</th>\n",
              "      <td>youtube#videoCategoryListResponse</td>\n",
              "      <td>\"XI7nbFXulYBIpL0ayR_gDh3eu1k/1v2mrzYSYG6onNLt2...</td>\n",
              "      <td>{'kind': 'youtube#videoCategory', 'etag': '\"XI...</td>\n",
              "    </tr>\n",
              "    <tr>\n",
              "      <th>23</th>\n",
              "      <td>youtube#videoCategoryListResponse</td>\n",
              "      <td>\"XI7nbFXulYBIpL0ayR_gDh3eu1k/1v2mrzYSYG6onNLt2...</td>\n",
              "      <td>{'kind': 'youtube#videoCategory', 'etag': '\"XI...</td>\n",
              "    </tr>\n",
              "    <tr>\n",
              "      <th>24</th>\n",
              "      <td>youtube#videoCategoryListResponse</td>\n",
              "      <td>\"XI7nbFXulYBIpL0ayR_gDh3eu1k/1v2mrzYSYG6onNLt2...</td>\n",
              "      <td>{'kind': 'youtube#videoCategory', 'etag': '\"XI...</td>\n",
              "    </tr>\n",
              "    <tr>\n",
              "      <th>25</th>\n",
              "      <td>youtube#videoCategoryListResponse</td>\n",
              "      <td>\"XI7nbFXulYBIpL0ayR_gDh3eu1k/1v2mrzYSYG6onNLt2...</td>\n",
              "      <td>{'kind': 'youtube#videoCategory', 'etag': '\"XI...</td>\n",
              "    </tr>\n",
              "    <tr>\n",
              "      <th>26</th>\n",
              "      <td>youtube#videoCategoryListResponse</td>\n",
              "      <td>\"XI7nbFXulYBIpL0ayR_gDh3eu1k/1v2mrzYSYG6onNLt2...</td>\n",
              "      <td>{'kind': 'youtube#videoCategory', 'etag': '\"XI...</td>\n",
              "    </tr>\n",
              "    <tr>\n",
              "      <th>27</th>\n",
              "      <td>youtube#videoCategoryListResponse</td>\n",
              "      <td>\"XI7nbFXulYBIpL0ayR_gDh3eu1k/1v2mrzYSYG6onNLt2...</td>\n",
              "      <td>{'kind': 'youtube#videoCategory', 'etag': '\"XI...</td>\n",
              "    </tr>\n",
              "    <tr>\n",
              "      <th>28</th>\n",
              "      <td>youtube#videoCategoryListResponse</td>\n",
              "      <td>\"XI7nbFXulYBIpL0ayR_gDh3eu1k/1v2mrzYSYG6onNLt2...</td>\n",
              "      <td>{'kind': 'youtube#videoCategory', 'etag': '\"XI...</td>\n",
              "    </tr>\n",
              "    <tr>\n",
              "      <th>29</th>\n",
              "      <td>youtube#videoCategoryListResponse</td>\n",
              "      <td>\"XI7nbFXulYBIpL0ayR_gDh3eu1k/1v2mrzYSYG6onNLt2...</td>\n",
              "      <td>{'kind': 'youtube#videoCategory', 'etag': '\"XI...</td>\n",
              "    </tr>\n",
              "    <tr>\n",
              "      <th>30</th>\n",
              "      <td>youtube#videoCategoryListResponse</td>\n",
              "      <td>\"XI7nbFXulYBIpL0ayR_gDh3eu1k/1v2mrzYSYG6onNLt2...</td>\n",
              "      <td>{'kind': 'youtube#videoCategory', 'etag': '\"XI...</td>\n",
              "    </tr>\n",
              "  </tbody>\n",
              "</table>\n",
              "</div>\n",
              "      <button class=\"colab-df-convert\" onclick=\"convertToInteractive('df-9dd9940d-7d61-4208-8996-626d174c4d2b')\"\n",
              "              title=\"Convert this dataframe to an interactive table.\"\n",
              "              style=\"display:none;\">\n",
              "        \n",
              "  <svg xmlns=\"http://www.w3.org/2000/svg\" height=\"24px\"viewBox=\"0 0 24 24\"\n",
              "       width=\"24px\">\n",
              "    <path d=\"M0 0h24v24H0V0z\" fill=\"none\"/>\n",
              "    <path d=\"M18.56 5.44l.94 2.06.94-2.06 2.06-.94-2.06-.94-.94-2.06-.94 2.06-2.06.94zm-11 1L8.5 8.5l.94-2.06 2.06-.94-2.06-.94L8.5 2.5l-.94 2.06-2.06.94zm10 10l.94 2.06.94-2.06 2.06-.94-2.06-.94-.94-2.06-.94 2.06-2.06.94z\"/><path d=\"M17.41 7.96l-1.37-1.37c-.4-.4-.92-.59-1.43-.59-.52 0-1.04.2-1.43.59L10.3 9.45l-7.72 7.72c-.78.78-.78 2.05 0 2.83L4 21.41c.39.39.9.59 1.41.59.51 0 1.02-.2 1.41-.59l7.78-7.78 2.81-2.81c.8-.78.8-2.07 0-2.86zM5.41 20L4 18.59l7.72-7.72 1.47 1.35L5.41 20z\"/>\n",
              "  </svg>\n",
              "      </button>\n",
              "      \n",
              "  <style>\n",
              "    .colab-df-container {\n",
              "      display:flex;\n",
              "      flex-wrap:wrap;\n",
              "      gap: 12px;\n",
              "    }\n",
              "\n",
              "    .colab-df-convert {\n",
              "      background-color: #E8F0FE;\n",
              "      border: none;\n",
              "      border-radius: 50%;\n",
              "      cursor: pointer;\n",
              "      display: none;\n",
              "      fill: #1967D2;\n",
              "      height: 32px;\n",
              "      padding: 0 0 0 0;\n",
              "      width: 32px;\n",
              "    }\n",
              "\n",
              "    .colab-df-convert:hover {\n",
              "      background-color: #E2EBFA;\n",
              "      box-shadow: 0px 1px 2px rgba(60, 64, 67, 0.3), 0px 1px 3px 1px rgba(60, 64, 67, 0.15);\n",
              "      fill: #174EA6;\n",
              "    }\n",
              "\n",
              "    [theme=dark] .colab-df-convert {\n",
              "      background-color: #3B4455;\n",
              "      fill: #D2E3FC;\n",
              "    }\n",
              "\n",
              "    [theme=dark] .colab-df-convert:hover {\n",
              "      background-color: #434B5C;\n",
              "      box-shadow: 0px 1px 3px 1px rgba(0, 0, 0, 0.15);\n",
              "      filter: drop-shadow(0px 1px 2px rgba(0, 0, 0, 0.3));\n",
              "      fill: #FFFFFF;\n",
              "    }\n",
              "  </style>\n",
              "\n",
              "      <script>\n",
              "        const buttonEl =\n",
              "          document.querySelector('#df-9dd9940d-7d61-4208-8996-626d174c4d2b button.colab-df-convert');\n",
              "        buttonEl.style.display =\n",
              "          google.colab.kernel.accessAllowed ? 'block' : 'none';\n",
              "\n",
              "        async function convertToInteractive(key) {\n",
              "          const element = document.querySelector('#df-9dd9940d-7d61-4208-8996-626d174c4d2b');\n",
              "          const dataTable =\n",
              "            await google.colab.kernel.invokeFunction('convertToInteractive',\n",
              "                                                     [key], {});\n",
              "          if (!dataTable) return;\n",
              "\n",
              "          const docLinkHtml = 'Like what you see? Visit the ' +\n",
              "            '<a target=\"_blank\" href=https://colab.research.google.com/notebooks/data_table.ipynb>data table notebook</a>'\n",
              "            + ' to learn more about interactive tables.';\n",
              "          element.innerHTML = '';\n",
              "          dataTable['output_type'] = 'display_data';\n",
              "          await google.colab.output.renderOutput(dataTable, element);\n",
              "          const docLink = document.createElement('div');\n",
              "          docLink.innerHTML = docLinkHtml;\n",
              "          element.appendChild(docLink);\n",
              "        }\n",
              "      </script>\n",
              "    </div>\n",
              "  </div>\n",
              "  "
            ],
            "text/plain": [
              "                                 kind  ...                                              items\n",
              "0   youtube#videoCategoryListResponse  ...  {'kind': 'youtube#videoCategory', 'etag': '\"XI...\n",
              "1   youtube#videoCategoryListResponse  ...  {'kind': 'youtube#videoCategory', 'etag': '\"XI...\n",
              "2   youtube#videoCategoryListResponse  ...  {'kind': 'youtube#videoCategory', 'etag': '\"XI...\n",
              "3   youtube#videoCategoryListResponse  ...  {'kind': 'youtube#videoCategory', 'etag': '\"XI...\n",
              "4   youtube#videoCategoryListResponse  ...  {'kind': 'youtube#videoCategory', 'etag': '\"XI...\n",
              "5   youtube#videoCategoryListResponse  ...  {'kind': 'youtube#videoCategory', 'etag': '\"XI...\n",
              "6   youtube#videoCategoryListResponse  ...  {'kind': 'youtube#videoCategory', 'etag': '\"XI...\n",
              "7   youtube#videoCategoryListResponse  ...  {'kind': 'youtube#videoCategory', 'etag': '\"XI...\n",
              "8   youtube#videoCategoryListResponse  ...  {'kind': 'youtube#videoCategory', 'etag': '\"XI...\n",
              "9   youtube#videoCategoryListResponse  ...  {'kind': 'youtube#videoCategory', 'etag': '\"XI...\n",
              "10  youtube#videoCategoryListResponse  ...  {'kind': 'youtube#videoCategory', 'etag': '\"XI...\n",
              "11  youtube#videoCategoryListResponse  ...  {'kind': 'youtube#videoCategory', 'etag': '\"XI...\n",
              "12  youtube#videoCategoryListResponse  ...  {'kind': 'youtube#videoCategory', 'etag': '\"XI...\n",
              "13  youtube#videoCategoryListResponse  ...  {'kind': 'youtube#videoCategory', 'etag': '\"XI...\n",
              "14  youtube#videoCategoryListResponse  ...  {'kind': 'youtube#videoCategory', 'etag': '\"XI...\n",
              "15  youtube#videoCategoryListResponse  ...  {'kind': 'youtube#videoCategory', 'etag': '\"XI...\n",
              "16  youtube#videoCategoryListResponse  ...  {'kind': 'youtube#videoCategory', 'etag': '\"XI...\n",
              "17  youtube#videoCategoryListResponse  ...  {'kind': 'youtube#videoCategory', 'etag': '\"XI...\n",
              "18  youtube#videoCategoryListResponse  ...  {'kind': 'youtube#videoCategory', 'etag': '\"XI...\n",
              "19  youtube#videoCategoryListResponse  ...  {'kind': 'youtube#videoCategory', 'etag': '\"XI...\n",
              "20  youtube#videoCategoryListResponse  ...  {'kind': 'youtube#videoCategory', 'etag': '\"XI...\n",
              "21  youtube#videoCategoryListResponse  ...  {'kind': 'youtube#videoCategory', 'etag': '\"XI...\n",
              "22  youtube#videoCategoryListResponse  ...  {'kind': 'youtube#videoCategory', 'etag': '\"XI...\n",
              "23  youtube#videoCategoryListResponse  ...  {'kind': 'youtube#videoCategory', 'etag': '\"XI...\n",
              "24  youtube#videoCategoryListResponse  ...  {'kind': 'youtube#videoCategory', 'etag': '\"XI...\n",
              "25  youtube#videoCategoryListResponse  ...  {'kind': 'youtube#videoCategory', 'etag': '\"XI...\n",
              "26  youtube#videoCategoryListResponse  ...  {'kind': 'youtube#videoCategory', 'etag': '\"XI...\n",
              "27  youtube#videoCategoryListResponse  ...  {'kind': 'youtube#videoCategory', 'etag': '\"XI...\n",
              "28  youtube#videoCategoryListResponse  ...  {'kind': 'youtube#videoCategory', 'etag': '\"XI...\n",
              "29  youtube#videoCategoryListResponse  ...  {'kind': 'youtube#videoCategory', 'etag': '\"XI...\n",
              "30  youtube#videoCategoryListResponse  ...  {'kind': 'youtube#videoCategory', 'etag': '\"XI...\n",
              "\n",
              "[31 rows x 3 columns]"
            ]
          },
          "metadata": {},
          "execution_count": 7
        }
      ],
      "source": [
        "js"
      ]
    },
    {
      "cell_type": "code",
      "execution_count": 8,
      "metadata": {
        "id": "PPHX-yCoH5DT"
      },
      "outputs": [],
      "source": [
        " for category in js [\"items\"]:\n",
        "        id_to_category[category[\"id\"]] = category[\"snippet\"][\"title\"]\n",
        "combined_data[\"category\"] = combined_data[\"category_id\"].map(id_to_category)"
      ]
    },
    {
      "cell_type": "code",
      "execution_count": 9,
      "metadata": {
        "colab": {
          "base_uri": "https://localhost:8080/",
          "height": 1000
        },
        "id": "qUGmzevGIVYI",
        "outputId": "ac4616b3-c97b-4496-d42d-ed84e721265f"
      },
      "outputs": [
        {
          "output_type": "execute_result",
          "data": {
            "text/html": [
              "\n",
              "  <div id=\"df-aed1110e-4a79-4904-ae2e-7211b1f706aa\">\n",
              "    <div class=\"colab-df-container\">\n",
              "      <div>\n",
              "<style scoped>\n",
              "    .dataframe tbody tr th:only-of-type {\n",
              "        vertical-align: middle;\n",
              "    }\n",
              "\n",
              "    .dataframe tbody tr th {\n",
              "        vertical-align: top;\n",
              "    }\n",
              "\n",
              "    .dataframe thead th {\n",
              "        text-align: right;\n",
              "    }\n",
              "</style>\n",
              "<table border=\"1\" class=\"dataframe\">\n",
              "  <thead>\n",
              "    <tr style=\"text-align: right;\">\n",
              "      <th></th>\n",
              "      <th>trending_date</th>\n",
              "      <th>title</th>\n",
              "      <th>channel_title</th>\n",
              "      <th>category_id</th>\n",
              "      <th>publish_time</th>\n",
              "      <th>tags</th>\n",
              "      <th>views</th>\n",
              "      <th>likes</th>\n",
              "      <th>dislikes</th>\n",
              "      <th>comment_count</th>\n",
              "      <th>thumbnail_link</th>\n",
              "      <th>comments_disabled</th>\n",
              "      <th>ratings_disabled</th>\n",
              "      <th>video_error_or_removed</th>\n",
              "      <th>description</th>\n",
              "      <th>country</th>\n",
              "      <th>category</th>\n",
              "    </tr>\n",
              "    <tr>\n",
              "      <th>video_id</th>\n",
              "      <th></th>\n",
              "      <th></th>\n",
              "      <th></th>\n",
              "      <th></th>\n",
              "      <th></th>\n",
              "      <th></th>\n",
              "      <th></th>\n",
              "      <th></th>\n",
              "      <th></th>\n",
              "      <th></th>\n",
              "      <th></th>\n",
              "      <th></th>\n",
              "      <th></th>\n",
              "      <th></th>\n",
              "      <th></th>\n",
              "      <th></th>\n",
              "      <th></th>\n",
              "    </tr>\n",
              "  </thead>\n",
              "  <tbody>\n",
              "    <tr>\n",
              "      <th>kzwfHumJyYc</th>\n",
              "      <td>17.14.11</td>\n",
              "      <td>Sharry Mann: Cute Munda ( Song Teaser) | Parmi...</td>\n",
              "      <td>Lokdhun Punjabi</td>\n",
              "      <td>1</td>\n",
              "      <td>2017-11-12T12:20:39.000Z</td>\n",
              "      <td>sharry mann|\"sharry mann new song\"|\"sharry man...</td>\n",
              "      <td>1096327</td>\n",
              "      <td>33966</td>\n",
              "      <td>798</td>\n",
              "      <td>882</td>\n",
              "      <td>https://i.ytimg.com/vi/kzwfHumJyYc/default.jpg</td>\n",
              "      <td>False</td>\n",
              "      <td>False</td>\n",
              "      <td>False</td>\n",
              "      <td>Presenting Sharry Mann latest Punjabi Song  Cu...</td>\n",
              "      <td>IN</td>\n",
              "      <td>Film &amp; Animation</td>\n",
              "    </tr>\n",
              "    <tr>\n",
              "      <th>zUZ1z7FwLc8</th>\n",
              "      <td>17.14.11</td>\n",
              "      <td>पीरियड्स के समय, पेट पर पति करता ऐसा, देखकर दं...</td>\n",
              "      <td>HJ NEWS</td>\n",
              "      <td>25</td>\n",
              "      <td>2017-11-13T05:43:56.000Z</td>\n",
              "      <td>पीरियड्स के समय|\"पेट पर पति करता ऐसा\"|\"देखकर द...</td>\n",
              "      <td>590101</td>\n",
              "      <td>735</td>\n",
              "      <td>904</td>\n",
              "      <td>0</td>\n",
              "      <td>https://i.ytimg.com/vi/zUZ1z7FwLc8/default.jpg</td>\n",
              "      <td>True</td>\n",
              "      <td>False</td>\n",
              "      <td>False</td>\n",
              "      <td>पीरियड्स के समय, पेट पर पति करता ऐसा, देखकर दं...</td>\n",
              "      <td>IN</td>\n",
              "      <td>News &amp; Politics</td>\n",
              "    </tr>\n",
              "    <tr>\n",
              "      <th>10L1hZ9qa58</th>\n",
              "      <td>17.14.11</td>\n",
              "      <td>Stylish Star Allu Arjun @ ChaySam Wedding Rece...</td>\n",
              "      <td>TFPC</td>\n",
              "      <td>24</td>\n",
              "      <td>2017-11-12T15:48:08.000Z</td>\n",
              "      <td>Stylish Star Allu Arjun @ ChaySam Wedding Rece...</td>\n",
              "      <td>473988</td>\n",
              "      <td>2011</td>\n",
              "      <td>243</td>\n",
              "      <td>149</td>\n",
              "      <td>https://i.ytimg.com/vi/10L1hZ9qa58/default.jpg</td>\n",
              "      <td>False</td>\n",
              "      <td>False</td>\n",
              "      <td>False</td>\n",
              "      <td>Watch Stylish Star Allu Arjun @ ChaySam Weddin...</td>\n",
              "      <td>IN</td>\n",
              "      <td>Entertainment</td>\n",
              "    </tr>\n",
              "    <tr>\n",
              "      <th>N1vE8iiEg64</th>\n",
              "      <td>17.14.11</td>\n",
              "      <td>Eruma Saani | Tamil vs English</td>\n",
              "      <td>Eruma Saani</td>\n",
              "      <td>23</td>\n",
              "      <td>2017-11-12T07:08:48.000Z</td>\n",
              "      <td>Eruma Saani|\"Tamil Comedy Videos\"|\"Films\"|\"Mov...</td>\n",
              "      <td>1242680</td>\n",
              "      <td>70353</td>\n",
              "      <td>1624</td>\n",
              "      <td>2684</td>\n",
              "      <td>https://i.ytimg.com/vi/N1vE8iiEg64/default.jpg</td>\n",
              "      <td>False</td>\n",
              "      <td>False</td>\n",
              "      <td>False</td>\n",
              "      <td>This video showcases the difference between pe...</td>\n",
              "      <td>IN</td>\n",
              "      <td>Comedy</td>\n",
              "    </tr>\n",
              "    <tr>\n",
              "      <th>kJzGH0PVQHQ</th>\n",
              "      <td>17.14.11</td>\n",
              "      <td>why Samantha became EMOTIONAL @ Samantha naga ...</td>\n",
              "      <td>Filmylooks</td>\n",
              "      <td>24</td>\n",
              "      <td>2017-11-13T01:14:16.000Z</td>\n",
              "      <td>Filmylooks|\"latest news\"|\"telugu movies\"|\"telu...</td>\n",
              "      <td>464015</td>\n",
              "      <td>492</td>\n",
              "      <td>293</td>\n",
              "      <td>66</td>\n",
              "      <td>https://i.ytimg.com/vi/kJzGH0PVQHQ/default.jpg</td>\n",
              "      <td>False</td>\n",
              "      <td>False</td>\n",
              "      <td>False</td>\n",
              "      <td>why Samantha became EMOTIONAL @ Samantha naga ...</td>\n",
              "      <td>IN</td>\n",
              "      <td>Entertainment</td>\n",
              "    </tr>\n",
              "    <tr>\n",
              "      <th>il_pSa5l98w</th>\n",
              "      <td>17.14.11</td>\n",
              "      <td>MCA (Middle Class Abbayi) TEASER - Nani,Sai Pa...</td>\n",
              "      <td>Dil Raju</td>\n",
              "      <td>24</td>\n",
              "      <td>2017-11-10T04:29:50.000Z</td>\n",
              "      <td>Nenu Local|\"Nenu Local Telugu Movie\"|\"Nani\"|\"S...</td>\n",
              "      <td>6106669</td>\n",
              "      <td>98612</td>\n",
              "      <td>4185</td>\n",
              "      <td>4763</td>\n",
              "      <td>https://i.ytimg.com/vi/il_pSa5l98w/default.jpg</td>\n",
              "      <td>False</td>\n",
              "      <td>False</td>\n",
              "      <td>False</td>\n",
              "      <td>Watch MCA- Middle Class Abbayi First Look Teas...</td>\n",
              "      <td>IN</td>\n",
              "      <td>Entertainment</td>\n",
              "    </tr>\n",
              "    <tr>\n",
              "      <th>7MxiQ4v0EnE</th>\n",
              "      <td>17.14.11</td>\n",
              "      <td>Daang ( Full Video ) | Mankirt Aulakh | Sukh S...</td>\n",
              "      <td>Speed Records</td>\n",
              "      <td>10</td>\n",
              "      <td>2017-11-11T16:41:15.000Z</td>\n",
              "      <td>punjabi songs|\"punjabi bhangra\"|\"punjabi music...</td>\n",
              "      <td>5718766</td>\n",
              "      <td>127477</td>\n",
              "      <td>7134</td>\n",
              "      <td>8063</td>\n",
              "      <td>https://i.ytimg.com/vi/7MxiQ4v0EnE/default.jpg</td>\n",
              "      <td>False</td>\n",
              "      <td>False</td>\n",
              "      <td>False</td>\n",
              "      <td>Song - Daang\\nSinger - Mankirt Aulakh\\nFaceboo...</td>\n",
              "      <td>IN</td>\n",
              "      <td>Music</td>\n",
              "    </tr>\n",
              "    <tr>\n",
              "      <th>c64I9HNpiOY</th>\n",
              "      <td>17.14.11</td>\n",
              "      <td>Padmavati : Ek Dil Ek Jaan Video Song | Deepik...</td>\n",
              "      <td>T-Series</td>\n",
              "      <td>10</td>\n",
              "      <td>2017-11-11T06:14:19.000Z</td>\n",
              "      <td>Ek Dil Ek Jaan Video Song|\"'Ek Dil Ek Jaan'\"|\"...</td>\n",
              "      <td>10588371</td>\n",
              "      <td>132738</td>\n",
              "      <td>8812</td>\n",
              "      <td>10847</td>\n",
              "      <td>https://i.ytimg.com/vi/c64I9HNpiOY/default.jpg</td>\n",
              "      <td>False</td>\n",
              "      <td>False</td>\n",
              "      <td>False</td>\n",
              "      <td>Presenting the song 'Ek Dil Ek Jaan' from Padm...</td>\n",
              "      <td>IN</td>\n",
              "      <td>Music</td>\n",
              "    </tr>\n",
              "    <tr>\n",
              "      <th>KObFEYCaRx8</th>\n",
              "      <td>17.14.11</td>\n",
              "      <td>Chiranjeevi in Naga Chaitanya - Samantha Recep...</td>\n",
              "      <td>Top Telugu Media</td>\n",
              "      <td>24</td>\n",
              "      <td>2017-11-13T04:42:26.000Z</td>\n",
              "      <td>Chiranjeevi in Naga Chaitanya - Samantha Recep...</td>\n",
              "      <td>118223</td>\n",
              "      <td>520</td>\n",
              "      <td>53</td>\n",
              "      <td>23</td>\n",
              "      <td>https://i.ytimg.com/vi/KObFEYCaRx8/default.jpg</td>\n",
              "      <td>False</td>\n",
              "      <td>False</td>\n",
              "      <td>False</td>\n",
              "      <td>Chiranjeevi in Naga Chaitanya - Samantha Recep...</td>\n",
              "      <td>IN</td>\n",
              "      <td>Entertainment</td>\n",
              "    </tr>\n",
              "    <tr>\n",
              "      <th>g8QsfJhFpjY</th>\n",
              "      <td>17.14.11</td>\n",
              "      <td>New bike vs Old bike - the reality</td>\n",
              "      <td>Jump Cuts</td>\n",
              "      <td>24</td>\n",
              "      <td>2017-11-12T04:30:01.000Z</td>\n",
              "      <td>Jump cuts|\"Jumpcuts\"|\"Tamil comedy\"|\"Tamil Com...</td>\n",
              "      <td>969030</td>\n",
              "      <td>59798</td>\n",
              "      <td>1545</td>\n",
              "      <td>2404</td>\n",
              "      <td>https://i.ytimg.com/vi/g8QsfJhFpjY/default.jpg</td>\n",
              "      <td>False</td>\n",
              "      <td>False</td>\n",
              "      <td>False</td>\n",
              "      <td>Jump Cuts is a Tamil entertaining group by Har...</td>\n",
              "      <td>IN</td>\n",
              "      <td>Entertainment</td>\n",
              "    </tr>\n",
              "  </tbody>\n",
              "</table>\n",
              "</div>\n",
              "      <button class=\"colab-df-convert\" onclick=\"convertToInteractive('df-aed1110e-4a79-4904-ae2e-7211b1f706aa')\"\n",
              "              title=\"Convert this dataframe to an interactive table.\"\n",
              "              style=\"display:none;\">\n",
              "        \n",
              "  <svg xmlns=\"http://www.w3.org/2000/svg\" height=\"24px\"viewBox=\"0 0 24 24\"\n",
              "       width=\"24px\">\n",
              "    <path d=\"M0 0h24v24H0V0z\" fill=\"none\"/>\n",
              "    <path d=\"M18.56 5.44l.94 2.06.94-2.06 2.06-.94-2.06-.94-.94-2.06-.94 2.06-2.06.94zm-11 1L8.5 8.5l.94-2.06 2.06-.94-2.06-.94L8.5 2.5l-.94 2.06-2.06.94zm10 10l.94 2.06.94-2.06 2.06-.94-2.06-.94-.94-2.06-.94 2.06-2.06.94z\"/><path d=\"M17.41 7.96l-1.37-1.37c-.4-.4-.92-.59-1.43-.59-.52 0-1.04.2-1.43.59L10.3 9.45l-7.72 7.72c-.78.78-.78 2.05 0 2.83L4 21.41c.39.39.9.59 1.41.59.51 0 1.02-.2 1.41-.59l7.78-7.78 2.81-2.81c.8-.78.8-2.07 0-2.86zM5.41 20L4 18.59l7.72-7.72 1.47 1.35L5.41 20z\"/>\n",
              "  </svg>\n",
              "      </button>\n",
              "      \n",
              "  <style>\n",
              "    .colab-df-container {\n",
              "      display:flex;\n",
              "      flex-wrap:wrap;\n",
              "      gap: 12px;\n",
              "    }\n",
              "\n",
              "    .colab-df-convert {\n",
              "      background-color: #E8F0FE;\n",
              "      border: none;\n",
              "      border-radius: 50%;\n",
              "      cursor: pointer;\n",
              "      display: none;\n",
              "      fill: #1967D2;\n",
              "      height: 32px;\n",
              "      padding: 0 0 0 0;\n",
              "      width: 32px;\n",
              "    }\n",
              "\n",
              "    .colab-df-convert:hover {\n",
              "      background-color: #E2EBFA;\n",
              "      box-shadow: 0px 1px 2px rgba(60, 64, 67, 0.3), 0px 1px 3px 1px rgba(60, 64, 67, 0.15);\n",
              "      fill: #174EA6;\n",
              "    }\n",
              "\n",
              "    [theme=dark] .colab-df-convert {\n",
              "      background-color: #3B4455;\n",
              "      fill: #D2E3FC;\n",
              "    }\n",
              "\n",
              "    [theme=dark] .colab-df-convert:hover {\n",
              "      background-color: #434B5C;\n",
              "      box-shadow: 0px 1px 3px 1px rgba(0, 0, 0, 0.15);\n",
              "      filter: drop-shadow(0px 1px 2px rgba(0, 0, 0, 0.3));\n",
              "      fill: #FFFFFF;\n",
              "    }\n",
              "  </style>\n",
              "\n",
              "      <script>\n",
              "        const buttonEl =\n",
              "          document.querySelector('#df-aed1110e-4a79-4904-ae2e-7211b1f706aa button.colab-df-convert');\n",
              "        buttonEl.style.display =\n",
              "          google.colab.kernel.accessAllowed ? 'block' : 'none';\n",
              "\n",
              "        async function convertToInteractive(key) {\n",
              "          const element = document.querySelector('#df-aed1110e-4a79-4904-ae2e-7211b1f706aa');\n",
              "          const dataTable =\n",
              "            await google.colab.kernel.invokeFunction('convertToInteractive',\n",
              "                                                     [key], {});\n",
              "          if (!dataTable) return;\n",
              "\n",
              "          const docLinkHtml = 'Like what you see? Visit the ' +\n",
              "            '<a target=\"_blank\" href=https://colab.research.google.com/notebooks/data_table.ipynb>data table notebook</a>'\n",
              "            + ' to learn more about interactive tables.';\n",
              "          element.innerHTML = '';\n",
              "          dataTable['output_type'] = 'display_data';\n",
              "          await google.colab.output.renderOutput(dataTable, element);\n",
              "          const docLink = document.createElement('div');\n",
              "          docLink.innerHTML = docLinkHtml;\n",
              "          element.appendChild(docLink);\n",
              "        }\n",
              "      </script>\n",
              "    </div>\n",
              "  </div>\n",
              "  "
            ],
            "text/plain": [
              "            trending_date  ...          category\n",
              "video_id                   ...                  \n",
              "kzwfHumJyYc      17.14.11  ...  Film & Animation\n",
              "zUZ1z7FwLc8      17.14.11  ...   News & Politics\n",
              "10L1hZ9qa58      17.14.11  ...     Entertainment\n",
              "N1vE8iiEg64      17.14.11  ...            Comedy\n",
              "kJzGH0PVQHQ      17.14.11  ...     Entertainment\n",
              "il_pSa5l98w      17.14.11  ...     Entertainment\n",
              "7MxiQ4v0EnE      17.14.11  ...             Music\n",
              "c64I9HNpiOY      17.14.11  ...             Music\n",
              "KObFEYCaRx8      17.14.11  ...     Entertainment\n",
              "g8QsfJhFpjY      17.14.11  ...     Entertainment\n",
              "\n",
              "[10 rows x 17 columns]"
            ]
          },
          "metadata": {},
          "execution_count": 9
        }
      ],
      "source": [
        "#combined_data.insert(4, 'category', # Add code here)\n",
        "\n",
        "combined_data.head(10)"
      ]
    },
    {
      "cell_type": "code",
      "execution_count": 10,
      "metadata": {
        "colab": {
          "base_uri": "https://localhost:8080/"
        },
        "id": "qXizexzdnpIp",
        "outputId": "dfe72ace-7444-4126-e1e9-79efecc72b96"
      },
      "outputs": [
        {
          "output_type": "execute_result",
          "data": {
            "text/plain": [
              "(159906, 17)"
            ]
          },
          "metadata": {},
          "execution_count": 10
        }
      ],
      "source": [
        "combined_data.shape"
      ]
    },
    {
      "cell_type": "markdown",
      "metadata": {
        "id": "yuqBB60fLsbU"
      },
      "source": [
        "#### 5.1.1.3: Fix datetime format and remove rows with NA's (1 pt)\n",
        "\n",
        "The 'publish_time' and 'trending_date' features are not in a unix datetime format, so use pandas to_datetime() to convert it into the right format.\n",
        "\n",
        "After that is done remove all the rows which have NA's in them."
      ]
    },
    {
      "cell_type": "code",
      "execution_count": 11,
      "metadata": {
        "colab": {
          "base_uri": "https://localhost:8080/"
        },
        "id": "v7u2IJiqEBfh",
        "outputId": "ab83ed0f-a20a-4abc-e63e-1fe31056ce8d"
      },
      "outputs": [
        {
          "output_type": "stream",
          "name": "stdout",
          "text": [
            "<class 'pandas.core.frame.DataFrame'>\n",
            "Index: 159906 entries, kzwfHumJyYc to ooyjaVdt-jA\n",
            "Data columns (total 17 columns):\n",
            " #   Column                  Non-Null Count   Dtype \n",
            "---  ------                  --------------   ----- \n",
            " 0   trending_date           159906 non-null  object\n",
            " 1   title                   159906 non-null  object\n",
            " 2   channel_title           159906 non-null  object\n",
            " 3   category_id             159906 non-null  object\n",
            " 4   publish_time            159906 non-null  object\n",
            " 5   tags                    159906 non-null  object\n",
            " 6   views                   159906 non-null  int64 \n",
            " 7   likes                   159906 non-null  int64 \n",
            " 8   dislikes                159906 non-null  int64 \n",
            " 9   comment_count           159906 non-null  int64 \n",
            " 10  thumbnail_link          159906 non-null  object\n",
            " 11  comments_disabled       159906 non-null  bool  \n",
            " 12  ratings_disabled        159906 non-null  bool  \n",
            " 13  video_error_or_removed  159906 non-null  bool  \n",
            " 14  description             154567 non-null  object\n",
            " 15  country                 159906 non-null  object\n",
            " 16  category                159556 non-null  object\n",
            "dtypes: bool(3), int64(4), object(10)\n",
            "memory usage: 18.8+ MB\n"
          ]
        }
      ],
      "source": [
        "combined_data.info()\n",
        "combined_data['trending_date'] = pd.to_datetime(combined_data[\"trending_date\"],format =\"%y.%d.%m\")\n",
        "combined_data['publish_time'] = pd.to_datetime(combined_data[\"publish_time\"],format= \"%Y-%m-%dT%H:%M:%S.%fZ\")"
      ]
    },
    {
      "cell_type": "code",
      "execution_count": 12,
      "metadata": {
        "colab": {
          "base_uri": "https://localhost:8080/"
        },
        "id": "224EA22dTQ6e",
        "outputId": "73eb6da4-607f-44e5-ad59-707db927cec3"
      },
      "outputs": [
        {
          "output_type": "execute_result",
          "data": {
            "text/plain": [
              "trending_date                0\n",
              "title                        0\n",
              "channel_title                0\n",
              "category_id                  0\n",
              "publish_time                 0\n",
              "tags                         0\n",
              "views                        0\n",
              "likes                        0\n",
              "dislikes                     0\n",
              "comment_count                0\n",
              "thumbnail_link               0\n",
              "comments_disabled            0\n",
              "ratings_disabled             0\n",
              "video_error_or_removed       0\n",
              "description               5339\n",
              "country                      0\n",
              "category                   350\n",
              "dtype: int64"
            ]
          },
          "metadata": {},
          "execution_count": 12
        }
      ],
      "source": [
        "combined_data.isnull().sum()"
      ]
    },
    {
      "cell_type": "code",
      "execution_count": 13,
      "metadata": {
        "colab": {
          "base_uri": "https://localhost:8080/"
        },
        "id": "SUPn0vrQOc64",
        "outputId": "273f101c-d73d-49ba-ab88-03c16913ff7d"
      },
      "outputs": [
        {
          "output_type": "stream",
          "name": "stdout",
          "text": [
            "<class 'pandas.core.frame.DataFrame'>\n",
            "Index: 154229 entries, kzwfHumJyYc to ooyjaVdt-jA\n",
            "Data columns (total 17 columns):\n",
            " #   Column                  Non-Null Count   Dtype         \n",
            "---  ------                  --------------   -----         \n",
            " 0   trending_date           154229 non-null  datetime64[ns]\n",
            " 1   title                   154229 non-null  object        \n",
            " 2   channel_title           154229 non-null  object        \n",
            " 3   category_id             154229 non-null  object        \n",
            " 4   publish_time            154229 non-null  datetime64[ns]\n",
            " 5   tags                    154229 non-null  object        \n",
            " 6   views                   154229 non-null  int64         \n",
            " 7   likes                   154229 non-null  int64         \n",
            " 8   dislikes                154229 non-null  int64         \n",
            " 9   comment_count           154229 non-null  int64         \n",
            " 10  thumbnail_link          154229 non-null  object        \n",
            " 11  comments_disabled       154229 non-null  bool          \n",
            " 12  ratings_disabled        154229 non-null  bool          \n",
            " 13  video_error_or_removed  154229 non-null  bool          \n",
            " 14  description             154229 non-null  object        \n",
            " 15  country                 154229 non-null  object        \n",
            " 16  category                154229 non-null  object        \n",
            "dtypes: bool(3), datetime64[ns](2), int64(4), object(8)\n",
            "memory usage: 18.1+ MB\n"
          ]
        }
      ],
      "source": [
        "# Add your Code here to remove NA's\n",
        "combined_data = combined_data.dropna()\n",
        "combined_data.info()\n"
      ]
    },
    {
      "cell_type": "code",
      "execution_count": 14,
      "metadata": {
        "colab": {
          "base_uri": "https://localhost:8080/"
        },
        "id": "9VwfES1AQm0c",
        "outputId": "39c11748-7a3e-4b7a-be86-b4edf817d40b"
      },
      "outputs": [
        {
          "output_type": "stream",
          "name": "stdout",
          "text": [
            "validate_na (154229, 17)\n"
          ]
        }
      ],
      "source": [
        "# print\n",
        "print('validate_na',(combined_data.shape))"
      ]
    },
    {
      "cell_type": "markdown",
      "metadata": {
        "id": "hixbohs7SBM4"
      },
      "source": [
        "## 5.2 Exploratory Data Analysis & Feature Engineering (20pt)\n",
        "\n",
        "\n",
        "**Exploratory Data Analysis:** \n",
        "EDA aims to analyze data sets by summarizing its key characteristics assisted by visualizations. EDA communicates insights beyond formal modeling/hypothesis testing with or without statistical model.\n",
        "\n",
        "**Feature Engineering:** \n",
        "The primary object of feature engineering is to extract features using domain knowledge. It aims to extract features from raw data using various data mining approaches.\n",
        "\n",
        "These features are fed to various machine learning classifiers. These features are also called as covariates, predicators, or simply a new column in data frame."
      ]
    },
    {
      "cell_type": "markdown",
      "metadata": {
        "id": "C1UygleTSNmt"
      },
      "source": [
        "#### 5.2.1: Calculating Mean, standard deviation, min and max. (1 pt)\n",
        "\n",
        "In this section, we will focus to compute various satistics, i.e., mean, standard deviation, min and max for numerical features in the dataset and then store them into lists, i.e.,  [views, likes, dislikes, comment_count].\n",
        "\n",
        "means = [views_mean, likes_mean, dislikes_mean, comment_count_mean] and similarly for mins, maxs and stds."
      ]
    },
    {
      "cell_type": "code",
      "execution_count": 15,
      "metadata": {
        "colab": {
          "base_uri": "https://localhost:8080/",
          "height": 300
        },
        "id": "IhNgFTQ0SNQP",
        "outputId": "013de138-4036-43c9-81c8-5301a71617e4"
      },
      "outputs": [
        {
          "output_type": "execute_result",
          "data": {
            "text/html": [
              "\n",
              "  <div id=\"df-54cc55a8-f392-4cc4-8a03-6755ba26b78e\">\n",
              "    <div class=\"colab-df-container\">\n",
              "      <div>\n",
              "<style scoped>\n",
              "    .dataframe tbody tr th:only-of-type {\n",
              "        vertical-align: middle;\n",
              "    }\n",
              "\n",
              "    .dataframe tbody tr th {\n",
              "        vertical-align: top;\n",
              "    }\n",
              "\n",
              "    .dataframe thead th {\n",
              "        text-align: right;\n",
              "    }\n",
              "</style>\n",
              "<table border=\"1\" class=\"dataframe\">\n",
              "  <thead>\n",
              "    <tr style=\"text-align: right;\">\n",
              "      <th></th>\n",
              "      <th>views</th>\n",
              "      <th>likes</th>\n",
              "      <th>dislikes</th>\n",
              "      <th>comment_count</th>\n",
              "    </tr>\n",
              "  </thead>\n",
              "  <tbody>\n",
              "    <tr>\n",
              "      <th>count</th>\n",
              "      <td>1.542290e+05</td>\n",
              "      <td>1.542290e+05</td>\n",
              "      <td>1.542290e+05</td>\n",
              "      <td>1.542290e+05</td>\n",
              "    </tr>\n",
              "    <tr>\n",
              "      <th>mean</th>\n",
              "      <td>1.282135e+06</td>\n",
              "      <td>4.084849e+04</td>\n",
              "      <td>2.016090e+03</td>\n",
              "      <td>4.552620e+03</td>\n",
              "    </tr>\n",
              "    <tr>\n",
              "      <th>std</th>\n",
              "      <td>4.606547e+06</td>\n",
              "      <td>1.513268e+05</td>\n",
              "      <td>1.783895e+04</td>\n",
              "      <td>2.256879e+04</td>\n",
              "    </tr>\n",
              "    <tr>\n",
              "      <th>min</th>\n",
              "      <td>2.230000e+02</td>\n",
              "      <td>0.000000e+00</td>\n",
              "      <td>0.000000e+00</td>\n",
              "      <td>0.000000e+00</td>\n",
              "    </tr>\n",
              "    <tr>\n",
              "      <th>25%</th>\n",
              "      <td>9.638600e+04</td>\n",
              "      <td>1.328000e+03</td>\n",
              "      <td>8.200000e+01</td>\n",
              "      <td>1.730000e+02</td>\n",
              "    </tr>\n",
              "    <tr>\n",
              "      <th>50%</th>\n",
              "      <td>3.144400e+05</td>\n",
              "      <td>6.361000e+03</td>\n",
              "      <td>2.990000e+02</td>\n",
              "      <td>7.680000e+02</td>\n",
              "    </tr>\n",
              "    <tr>\n",
              "      <th>75%</th>\n",
              "      <td>9.491140e+05</td>\n",
              "      <td>2.599500e+04</td>\n",
              "      <td>1.026000e+03</td>\n",
              "      <td>2.730000e+03</td>\n",
              "    </tr>\n",
              "    <tr>\n",
              "      <th>max</th>\n",
              "      <td>2.252119e+08</td>\n",
              "      <td>5.613827e+06</td>\n",
              "      <td>1.643059e+06</td>\n",
              "      <td>1.228655e+06</td>\n",
              "    </tr>\n",
              "  </tbody>\n",
              "</table>\n",
              "</div>\n",
              "      <button class=\"colab-df-convert\" onclick=\"convertToInteractive('df-54cc55a8-f392-4cc4-8a03-6755ba26b78e')\"\n",
              "              title=\"Convert this dataframe to an interactive table.\"\n",
              "              style=\"display:none;\">\n",
              "        \n",
              "  <svg xmlns=\"http://www.w3.org/2000/svg\" height=\"24px\"viewBox=\"0 0 24 24\"\n",
              "       width=\"24px\">\n",
              "    <path d=\"M0 0h24v24H0V0z\" fill=\"none\"/>\n",
              "    <path d=\"M18.56 5.44l.94 2.06.94-2.06 2.06-.94-2.06-.94-.94-2.06-.94 2.06-2.06.94zm-11 1L8.5 8.5l.94-2.06 2.06-.94-2.06-.94L8.5 2.5l-.94 2.06-2.06.94zm10 10l.94 2.06.94-2.06 2.06-.94-2.06-.94-.94-2.06-.94 2.06-2.06.94z\"/><path d=\"M17.41 7.96l-1.37-1.37c-.4-.4-.92-.59-1.43-.59-.52 0-1.04.2-1.43.59L10.3 9.45l-7.72 7.72c-.78.78-.78 2.05 0 2.83L4 21.41c.39.39.9.59 1.41.59.51 0 1.02-.2 1.41-.59l7.78-7.78 2.81-2.81c.8-.78.8-2.07 0-2.86zM5.41 20L4 18.59l7.72-7.72 1.47 1.35L5.41 20z\"/>\n",
              "  </svg>\n",
              "      </button>\n",
              "      \n",
              "  <style>\n",
              "    .colab-df-container {\n",
              "      display:flex;\n",
              "      flex-wrap:wrap;\n",
              "      gap: 12px;\n",
              "    }\n",
              "\n",
              "    .colab-df-convert {\n",
              "      background-color: #E8F0FE;\n",
              "      border: none;\n",
              "      border-radius: 50%;\n",
              "      cursor: pointer;\n",
              "      display: none;\n",
              "      fill: #1967D2;\n",
              "      height: 32px;\n",
              "      padding: 0 0 0 0;\n",
              "      width: 32px;\n",
              "    }\n",
              "\n",
              "    .colab-df-convert:hover {\n",
              "      background-color: #E2EBFA;\n",
              "      box-shadow: 0px 1px 2px rgba(60, 64, 67, 0.3), 0px 1px 3px 1px rgba(60, 64, 67, 0.15);\n",
              "      fill: #174EA6;\n",
              "    }\n",
              "\n",
              "    [theme=dark] .colab-df-convert {\n",
              "      background-color: #3B4455;\n",
              "      fill: #D2E3FC;\n",
              "    }\n",
              "\n",
              "    [theme=dark] .colab-df-convert:hover {\n",
              "      background-color: #434B5C;\n",
              "      box-shadow: 0px 1px 3px 1px rgba(0, 0, 0, 0.15);\n",
              "      filter: drop-shadow(0px 1px 2px rgba(0, 0, 0, 0.3));\n",
              "      fill: #FFFFFF;\n",
              "    }\n",
              "  </style>\n",
              "\n",
              "      <script>\n",
              "        const buttonEl =\n",
              "          document.querySelector('#df-54cc55a8-f392-4cc4-8a03-6755ba26b78e button.colab-df-convert');\n",
              "        buttonEl.style.display =\n",
              "          google.colab.kernel.accessAllowed ? 'block' : 'none';\n",
              "\n",
              "        async function convertToInteractive(key) {\n",
              "          const element = document.querySelector('#df-54cc55a8-f392-4cc4-8a03-6755ba26b78e');\n",
              "          const dataTable =\n",
              "            await google.colab.kernel.invokeFunction('convertToInteractive',\n",
              "                                                     [key], {});\n",
              "          if (!dataTable) return;\n",
              "\n",
              "          const docLinkHtml = 'Like what you see? Visit the ' +\n",
              "            '<a target=\"_blank\" href=https://colab.research.google.com/notebooks/data_table.ipynb>data table notebook</a>'\n",
              "            + ' to learn more about interactive tables.';\n",
              "          element.innerHTML = '';\n",
              "          dataTable['output_type'] = 'display_data';\n",
              "          await google.colab.output.renderOutput(dataTable, element);\n",
              "          const docLink = document.createElement('div');\n",
              "          docLink.innerHTML = docLinkHtml;\n",
              "          element.appendChild(docLink);\n",
              "        }\n",
              "      </script>\n",
              "    </div>\n",
              "  </div>\n",
              "  "
            ],
            "text/plain": [
              "              views         likes      dislikes  comment_count\n",
              "count  1.542290e+05  1.542290e+05  1.542290e+05   1.542290e+05\n",
              "mean   1.282135e+06  4.084849e+04  2.016090e+03   4.552620e+03\n",
              "std    4.606547e+06  1.513268e+05  1.783895e+04   2.256879e+04\n",
              "min    2.230000e+02  0.000000e+00  0.000000e+00   0.000000e+00\n",
              "25%    9.638600e+04  1.328000e+03  8.200000e+01   1.730000e+02\n",
              "50%    3.144400e+05  6.361000e+03  2.990000e+02   7.680000e+02\n",
              "75%    9.491140e+05  2.599500e+04  1.026000e+03   2.730000e+03\n",
              "max    2.252119e+08  5.613827e+06  1.643059e+06   1.228655e+06"
            ]
          },
          "metadata": {},
          "execution_count": 15
        }
      ],
      "source": [
        "combined_data.describe()"
      ]
    },
    {
      "cell_type": "code",
      "execution_count": 16,
      "metadata": {
        "id": "P9a9uoSgWFwP"
      },
      "outputs": [],
      "source": [
        "# Add your code here\n",
        "maxs = combined_data.describe().iloc[7].values.tolist()\n",
        "mins = combined_data.describe().iloc[3].values.tolist()\n",
        "stds = combined_data.describe().iloc[2].values.tolist()\n",
        "means = combined_data.describe().iloc[1].values.tolist()"
      ]
    },
    {
      "cell_type": "code",
      "execution_count": 17,
      "metadata": {
        "colab": {
          "base_uri": "https://localhost:8080/"
        },
        "id": "2VpDFuDoXiqe",
        "outputId": "b600105c-9f4a-4ceb-acaf-8a8339a84fc2"
      },
      "outputs": [
        {
          "output_type": "stream",
          "name": "stdout",
          "text": [
            "check_min_max_mean_std [[225211923.0, 5613827.0, 1643059.0, 1228655.0], [223.0, 0.0, 0.0, 0.0], [4606547.383292062, 151326.79131692532, 17838.946154412628, 22568.78630305928], [1282134.6361384694, 40848.48799512413, 2016.0899701093829, 4552.620207613354]]\n"
          ]
        }
      ],
      "source": [
        "# print here\n",
        "print('check_min_max_mean_std',([maxs, mins, stds, means]))"
      ]
    },
    {
      "cell_type": "markdown",
      "metadata": {
        "id": "Ri3Flrv5ZXFy"
      },
      "source": [
        "#### 5.2.2: Rescaling the features (1 pt)\n",
        "\n",
        "From the above section, it is clear that the numerical values range is really high.  we can use rescaling to avoid numerical instability problems. We can rescale likes, views, dislikes, and comment_count using log scale (base e). Let us store rescaled features in dataframe as likes_log, views_log, dislikes_log and comment_log.\n",
        "\n",
        "NOTE- log 0 is not defined, therefore, you should add 1 to each value prior to taking the log."
      ]
    },
    {
      "cell_type": "code",
      "execution_count": 18,
      "metadata": {
        "id": "Qg2xjGn0ZWcW"
      },
      "outputs": [],
      "source": [
        "# Add your code here\n",
        "combined_data['likes_log'] = np.log(1 + combined_data['likes']) \n",
        "combined_data['views_log'] = np.log(1 + combined_data['views']) \n",
        "combined_data['dislikes_log'] = np.log(1 + combined_data['dislikes']) \n",
        "combined_data['comment_log'] = np.log(1 + combined_data['comment_count']) "
      ]
    },
    {
      "cell_type": "code",
      "execution_count": 19,
      "metadata": {
        "colab": {
          "base_uri": "https://localhost:8080/",
          "height": 344
        },
        "id": "ZXAT8AI_ZQbo",
        "outputId": "be12f4e7-5dd4-475d-d039-a3f2243b7e0e"
      },
      "outputs": [
        {
          "output_type": "execute_result",
          "data": {
            "text/html": [
              "\n",
              "  <div id=\"df-da41fac5-fb55-4ef3-a8ea-4e29a78338bb\">\n",
              "    <div class=\"colab-df-container\">\n",
              "      <div>\n",
              "<style scoped>\n",
              "    .dataframe tbody tr th:only-of-type {\n",
              "        vertical-align: middle;\n",
              "    }\n",
              "\n",
              "    .dataframe tbody tr th {\n",
              "        vertical-align: top;\n",
              "    }\n",
              "\n",
              "    .dataframe thead th {\n",
              "        text-align: right;\n",
              "    }\n",
              "</style>\n",
              "<table border=\"1\" class=\"dataframe\">\n",
              "  <thead>\n",
              "    <tr style=\"text-align: right;\">\n",
              "      <th></th>\n",
              "      <th>views</th>\n",
              "      <th>likes</th>\n",
              "      <th>dislikes</th>\n",
              "      <th>comment_count</th>\n",
              "      <th>likes_log</th>\n",
              "      <th>views_log</th>\n",
              "      <th>dislikes_log</th>\n",
              "      <th>comment_log</th>\n",
              "    </tr>\n",
              "  </thead>\n",
              "  <tbody>\n",
              "    <tr>\n",
              "      <th>count</th>\n",
              "      <td>1.542290e+05</td>\n",
              "      <td>1.542290e+05</td>\n",
              "      <td>1.542290e+05</td>\n",
              "      <td>1.542290e+05</td>\n",
              "      <td>154229.000000</td>\n",
              "      <td>154229.000000</td>\n",
              "      <td>154229.000000</td>\n",
              "      <td>154229.000000</td>\n",
              "    </tr>\n",
              "    <tr>\n",
              "      <th>mean</th>\n",
              "      <td>1.282135e+06</td>\n",
              "      <td>4.084849e+04</td>\n",
              "      <td>2.016090e+03</td>\n",
              "      <td>4.552620e+03</td>\n",
              "      <td>8.576654</td>\n",
              "      <td>12.556466</td>\n",
              "      <td>5.618475</td>\n",
              "      <td>6.430801</td>\n",
              "    </tr>\n",
              "    <tr>\n",
              "      <th>std</th>\n",
              "      <td>4.606547e+06</td>\n",
              "      <td>1.513268e+05</td>\n",
              "      <td>1.783895e+04</td>\n",
              "      <td>2.256879e+04</td>\n",
              "      <td>2.340390</td>\n",
              "      <td>1.814343</td>\n",
              "      <td>2.025127</td>\n",
              "      <td>2.241098</td>\n",
              "    </tr>\n",
              "    <tr>\n",
              "      <th>min</th>\n",
              "      <td>2.230000e+02</td>\n",
              "      <td>0.000000e+00</td>\n",
              "      <td>0.000000e+00</td>\n",
              "      <td>0.000000e+00</td>\n",
              "      <td>0.000000</td>\n",
              "      <td>5.411646</td>\n",
              "      <td>0.000000</td>\n",
              "      <td>0.000000</td>\n",
              "    </tr>\n",
              "    <tr>\n",
              "      <th>25%</th>\n",
              "      <td>9.638600e+04</td>\n",
              "      <td>1.328000e+03</td>\n",
              "      <td>8.200000e+01</td>\n",
              "      <td>1.730000e+02</td>\n",
              "      <td>7.192182</td>\n",
              "      <td>11.476127</td>\n",
              "      <td>4.418841</td>\n",
              "      <td>5.159055</td>\n",
              "    </tr>\n",
              "    <tr>\n",
              "      <th>50%</th>\n",
              "      <td>3.144400e+05</td>\n",
              "      <td>6.361000e+03</td>\n",
              "      <td>2.990000e+02</td>\n",
              "      <td>7.680000e+02</td>\n",
              "      <td>8.758098</td>\n",
              "      <td>12.658552</td>\n",
              "      <td>5.703782</td>\n",
              "      <td>6.645091</td>\n",
              "    </tr>\n",
              "    <tr>\n",
              "      <th>75%</th>\n",
              "      <td>9.491140e+05</td>\n",
              "      <td>2.599500e+04</td>\n",
              "      <td>1.026000e+03</td>\n",
              "      <td>2.730000e+03</td>\n",
              "      <td>10.165698</td>\n",
              "      <td>13.763285</td>\n",
              "      <td>6.934397</td>\n",
              "      <td>7.912423</td>\n",
              "    </tr>\n",
              "    <tr>\n",
              "      <th>max</th>\n",
              "      <td>2.252119e+08</td>\n",
              "      <td>5.613827e+06</td>\n",
              "      <td>1.643059e+06</td>\n",
              "      <td>1.228655e+06</td>\n",
              "      <td>15.540743</td>\n",
              "      <td>19.232552</td>\n",
              "      <td>14.312071</td>\n",
              "      <td>14.021431</td>\n",
              "    </tr>\n",
              "  </tbody>\n",
              "</table>\n",
              "</div>\n",
              "      <button class=\"colab-df-convert\" onclick=\"convertToInteractive('df-da41fac5-fb55-4ef3-a8ea-4e29a78338bb')\"\n",
              "              title=\"Convert this dataframe to an interactive table.\"\n",
              "              style=\"display:none;\">\n",
              "        \n",
              "  <svg xmlns=\"http://www.w3.org/2000/svg\" height=\"24px\"viewBox=\"0 0 24 24\"\n",
              "       width=\"24px\">\n",
              "    <path d=\"M0 0h24v24H0V0z\" fill=\"none\"/>\n",
              "    <path d=\"M18.56 5.44l.94 2.06.94-2.06 2.06-.94-2.06-.94-.94-2.06-.94 2.06-2.06.94zm-11 1L8.5 8.5l.94-2.06 2.06-.94-2.06-.94L8.5 2.5l-.94 2.06-2.06.94zm10 10l.94 2.06.94-2.06 2.06-.94-2.06-.94-.94-2.06-.94 2.06-2.06.94z\"/><path d=\"M17.41 7.96l-1.37-1.37c-.4-.4-.92-.59-1.43-.59-.52 0-1.04.2-1.43.59L10.3 9.45l-7.72 7.72c-.78.78-.78 2.05 0 2.83L4 21.41c.39.39.9.59 1.41.59.51 0 1.02-.2 1.41-.59l7.78-7.78 2.81-2.81c.8-.78.8-2.07 0-2.86zM5.41 20L4 18.59l7.72-7.72 1.47 1.35L5.41 20z\"/>\n",
              "  </svg>\n",
              "      </button>\n",
              "      \n",
              "  <style>\n",
              "    .colab-df-container {\n",
              "      display:flex;\n",
              "      flex-wrap:wrap;\n",
              "      gap: 12px;\n",
              "    }\n",
              "\n",
              "    .colab-df-convert {\n",
              "      background-color: #E8F0FE;\n",
              "      border: none;\n",
              "      border-radius: 50%;\n",
              "      cursor: pointer;\n",
              "      display: none;\n",
              "      fill: #1967D2;\n",
              "      height: 32px;\n",
              "      padding: 0 0 0 0;\n",
              "      width: 32px;\n",
              "    }\n",
              "\n",
              "    .colab-df-convert:hover {\n",
              "      background-color: #E2EBFA;\n",
              "      box-shadow: 0px 1px 2px rgba(60, 64, 67, 0.3), 0px 1px 3px 1px rgba(60, 64, 67, 0.15);\n",
              "      fill: #174EA6;\n",
              "    }\n",
              "\n",
              "    [theme=dark] .colab-df-convert {\n",
              "      background-color: #3B4455;\n",
              "      fill: #D2E3FC;\n",
              "    }\n",
              "\n",
              "    [theme=dark] .colab-df-convert:hover {\n",
              "      background-color: #434B5C;\n",
              "      box-shadow: 0px 1px 3px 1px rgba(0, 0, 0, 0.15);\n",
              "      filter: drop-shadow(0px 1px 2px rgba(0, 0, 0, 0.3));\n",
              "      fill: #FFFFFF;\n",
              "    }\n",
              "  </style>\n",
              "\n",
              "      <script>\n",
              "        const buttonEl =\n",
              "          document.querySelector('#df-da41fac5-fb55-4ef3-a8ea-4e29a78338bb button.colab-df-convert');\n",
              "        buttonEl.style.display =\n",
              "          google.colab.kernel.accessAllowed ? 'block' : 'none';\n",
              "\n",
              "        async function convertToInteractive(key) {\n",
              "          const element = document.querySelector('#df-da41fac5-fb55-4ef3-a8ea-4e29a78338bb');\n",
              "          const dataTable =\n",
              "            await google.colab.kernel.invokeFunction('convertToInteractive',\n",
              "                                                     [key], {});\n",
              "          if (!dataTable) return;\n",
              "\n",
              "          const docLinkHtml = 'Like what you see? Visit the ' +\n",
              "            '<a target=\"_blank\" href=https://colab.research.google.com/notebooks/data_table.ipynb>data table notebook</a>'\n",
              "            + ' to learn more about interactive tables.';\n",
              "          element.innerHTML = '';\n",
              "          dataTable['output_type'] = 'display_data';\n",
              "          await google.colab.output.renderOutput(dataTable, element);\n",
              "          const docLink = document.createElement('div');\n",
              "          docLink.innerHTML = docLinkHtml;\n",
              "          element.appendChild(docLink);\n",
              "        }\n",
              "      </script>\n",
              "    </div>\n",
              "  </div>\n",
              "  "
            ],
            "text/plain": [
              "              views         likes  ...   dislikes_log    comment_log\n",
              "count  1.542290e+05  1.542290e+05  ...  154229.000000  154229.000000\n",
              "mean   1.282135e+06  4.084849e+04  ...       5.618475       6.430801\n",
              "std    4.606547e+06  1.513268e+05  ...       2.025127       2.241098\n",
              "min    2.230000e+02  0.000000e+00  ...       0.000000       0.000000\n",
              "25%    9.638600e+04  1.328000e+03  ...       4.418841       5.159055\n",
              "50%    3.144400e+05  6.361000e+03  ...       5.703782       6.645091\n",
              "75%    9.491140e+05  2.599500e+04  ...       6.934397       7.912423\n",
              "max    2.252119e+08  5.613827e+06  ...      14.312071      14.021431\n",
              "\n",
              "[8 rows x 8 columns]"
            ]
          },
          "metadata": {},
          "execution_count": 19
        }
      ],
      "source": [
        "combined_data.describe()"
      ]
    },
    {
      "cell_type": "code",
      "execution_count": 20,
      "metadata": {
        "colab": {
          "base_uri": "https://localhost:8080/"
        },
        "id": "Swh52mGCbwvR",
        "outputId": "b6bdb154-23d5-4378-9d5c-a81fd3fdcef1"
      },
      "outputs": [
        {
          "output_type": "stream",
          "name": "stdout",
          "text": [
            "check_feature_rescaling [8.576653840075503, 12.556465515646423, 5.618474952050349, 6.4308007177583155]\n"
          ]
        }
      ],
      "source": [
        "# Print results\n",
        "print('check_feature_rescaling',([np.mean(combined_data['likes_log']),np.mean(combined_data['views_log']),np.mean(combined_data['dislikes_log']),\n",
        "                                         np.mean(combined_data['comment_log'])]))"
      ]
    },
    {
      "cell_type": "markdown",
      "metadata": {
        "id": "sLQkE60BfO6O"
      },
      "source": [
        "#### 5.2.3: Plotting the distribution (2 pt)\n",
        "\n",
        "Plot the distribution for the newly created log features. They should look like normal distribution curves."
      ]
    },
    {
      "cell_type": "code",
      "execution_count": 21,
      "metadata": {
        "colab": {
          "base_uri": "https://localhost:8080/",
          "height": 497
        },
        "id": "Q7AKpzyge2jZ",
        "outputId": "283b5558-d768-4293-9592-4bfde06f89f5"
      },
      "outputs": [
        {
          "output_type": "execute_result",
          "data": {
            "text/plain": [
              "<matplotlib.axes._subplots.AxesSubplot at 0x7efd3537b4d0>"
            ]
          },
          "metadata": {},
          "execution_count": 21
        },
        {
          "output_type": "display_data",
          "data": {
            "image/png": "[encoded data removed]",
            "text/plain": [
              "<Figure size 1440x720 with 1 Axes>"
            ]
          },
          "metadata": {
            "needs_background": "light"
          }
        }
      ],
      "source": [
        "# Add your code here for plotting the distribution\n",
        "log_df=combined_data[['likes_log','views_log','dislikes_log','comment_log']]\n",
        "log_df.plot.kde(figsize=(20,10))\n",
        "# plot data, Kernal Density Estimation for estimating Probability Density Function"
      ]
    },
    {
      "cell_type": "markdown",
      "metadata": {
        "id": "jgSHxISbVt67"
      },
      "source": [
        "#### 5.2.4: Comparing views, likes, dislikes against categories (3 pt)\n",
        "\n",
        "Let us gain isights into data using various catergories, views, likes and dislikes.\n",
        "\n",
        "Draw three plots for the following:\n",
        "\n",
        "1.) How many videos are there for each category?\n",
        "\n",
        "2.) What is the distribution of views against categories? (Use boxplot and views on log scale)\n",
        "\n",
        "3.) What is the distribution of dislikes against categories? (Use boxplot and dislikes on log scale)\n",
        "\n",
        "For extra credit:\n",
        "You can try to gain more insights into the dataset by drawing interesting plots. Some ideas include:\n",
        "\n",
        "* How long does a video trend in a country? \n",
        "* What are some videos which got popular because they were disliked? \n",
        "\n",
        "Think of such interesting things and add here. We will award points based on creativity of the insights that you get."
      ]
    },
    {
      "cell_type": "code",
      "execution_count": 22,
      "metadata": {
        "colab": {
          "base_uri": "https://localhost:8080/"
        },
        "id": "Nv0ef7Jhho9C",
        "outputId": "bbb8fed9-74c9-4943-c217-a9cc183ded04"
      },
      "outputs": [
        {
          "output_type": "stream",
          "name": "stdout",
          "text": [
            "Total videos for each category: \n",
            " category\n",
            "Entertainment           48964\n",
            "Music                   17818\n",
            "Comedy                  14790\n",
            "News & Politics         14713\n",
            "People & Blogs          13954\n",
            "Sports                   9488\n",
            "Howto & Style            9309\n",
            "Film & Animation         7874\n",
            "Science & Technology     4846\n",
            "Education                4544\n",
            "Gaming                   3592\n",
            "Pets & Animals           1522\n",
            "Autos & Vehicles         1406\n",
            "Travel & Events           889\n",
            "Shows                     485\n",
            "Movies                     33\n",
            "Trailers                    2\n",
            "dtype: int64\n"
          ]
        }
      ],
      "source": [
        "# Your code goes here\n",
        "# Plots will be manually graded\n",
        "##1-Total videos for each category:\n",
        "by_category = combined_data.groupby([\"category\"]).size().sort_values(ascending = False)\n",
        "print('Total videos for each category: \\n', by_category)"
      ]
    },
    {
      "cell_type": "code",
      "execution_count": 23,
      "metadata": {
        "colab": {
          "base_uri": "https://localhost:8080/",
          "height": 417
        },
        "id": "5TMwBlZ3WfNq",
        "outputId": "0dd24c31-1eed-49a5-af0e-e40f987f7158"
      },
      "outputs": [
        {
          "output_type": "display_data",
          "data": {
            "text/html": [
              "<html>\n",
              "<head><meta charset=\"utf-8\" /></head>\n",
              "<body>\n",
              "    <div>            <script src=\"https://cdnjs.cloudflare.com/ajax/libs/mathjax/2.7.5/MathJax.js?config=TeX-AMS-MML_SVG\"></script><script type=\"text/javascript\">if (window.MathJax) {MathJax.Hub.Config({SVG: {font: \"STIX-Web\"}});}</script>                <script type=\"text/javascript\">window.PlotlyConfig = {MathJaxConfig: 'local'};</script>\n",
              "        <script src=\"https://cdn.plot.ly/plotly-2.8.3.min.js\"></script>                <div id=\"d3beab99-16fa-4807-813f-17784ccecd3b\" class=\"plotly-graph-div\" style=\"height:400px; width:100%;\"></div>            <script type=\"text/javascript\">                                    window.PLOTLYENV=window.PLOTLYENV || {};                                    if (document.getElementById(\"d3beab99-16fa-4807-813f-17784ccecd3b\")) {                    Plotly.newPlot(                        \"d3beab99-16fa-4807-813f-17784ccecd3b\",                        [{\"alignmentgroup\":\"True\",\"hovertemplate\":\"Category=%{x}<br>Videos/Category=%{marker.color}<extra></extra>\",\"legendgroup\":\"\",\"marker\":{\"color\":[48964,17818,14790,14713,13954,9488,9309,7874,4846,4544,3592,1522,1406,889,485,33,2],\"coloraxis\":\"coloraxis\",\"pattern\":{\"shape\":\"\"}},\"name\":\"\",\"offsetgroup\":\"\",\"orientation\":\"v\",\"showlegend\":false,\"textposition\":\"auto\",\"x\":[\"Entertainment\",\"Music\",\"Comedy\",\"News & Politics\",\"People & Blogs\",\"Sports\",\"Howto & Style\",\"Film & Animation\",\"Science & Technology\",\"Education\",\"Gaming\",\"Pets & Animals\",\"Autos & Vehicles\",\"Travel & Events\",\"Shows\",\"Movies\",\"Trailers\"],\"xaxis\":\"x\",\"y\":[48964,17818,14790,14713,13954,9488,9309,7874,4846,4544,3592,1522,1406,889,485,33,2],\"yaxis\":\"y\",\"type\":\"bar\"}],                        {\"template\":{\"data\":{\"bar\":[{\"error_x\":{\"color\":\"#2a3f5f\"},\"error_y\":{\"color\":\"#2a3f5f\"},\"marker\":{\"line\":{\"color\":\"#E5ECF6\",\"width\":0.5},\"pattern\":{\"fillmode\":\"overlay\",\"size\":10,\"solidity\":0.2}},\"type\":\"bar\"}],\"barpolar\":[{\"marker\":{\"line\":{\"color\":\"#E5ECF6\",\"width\":0.5},\"pattern\":{\"fillmode\":\"overlay\",\"size\":10,\"solidity\":0.2}},\"type\":\"barpolar\"}],\"carpet\":[{\"aaxis\":{\"endlinecolor\":\"#2a3f5f\",\"gridcolor\":\"white\",\"linecolor\":\"white\",\"minorgridcolor\":\"white\",\"startlinecolor\":\"#2a3f5f\"},\"baxis\":{\"endlinecolor\":\"#2a3f5f\",\"gridcolor\":\"white\",\"linecolor\":\"white\",\"minorgridcolor\":\"white\",\"startlinecolor\":\"#2a3f5f\"},\"type\":\"carpet\"}],\"choropleth\":[{\"colorbar\":{\"outlinewidth\":0,\"ticks\":\"\"},\"type\":\"choropleth\"}],\"contour\":[{\"colorbar\":{\"outlinewidth\":0,\"ticks\":\"\"},\"colorscale\":[[0.0,\"#0d0887\"],[0.1111111111111111,\"#46039f\"],[0.2222222222222222,\"#7201a8\"],[0.3333333333333333,\"#9c179e\"],[0.4444444444444444,\"#bd3786\"],[0.5555555555555556,\"#d8576b\"],[0.6666666666666666,\"#ed7953\"],[0.7777777777777778,\"#fb9f3a\"],[0.8888888888888888,\"#fdca26\"],[1.0,\"#f0f921\"]],\"type\":\"contour\"}],\"contourcarpet\":[{\"colorbar\":{\"outlinewidth\":0,\"ticks\":\"\"},\"type\":\"contourcarpet\"}],\"heatmap\":[{\"colorbar\":{\"outlinewidth\":0,\"ticks\":\"\"},\"colorscale\":[[0.0,\"#0d0887\"],[0.1111111111111111,\"#46039f\"],[0.2222222222222222,\"#7201a8\"],[0.3333333333333333,\"#9c179e\"],[0.4444444444444444,\"#bd3786\"],[0.5555555555555556,\"#d8576b\"],[0.6666666666666666,\"#ed7953\"],[0.7777777777777778,\"#fb9f3a\"],[0.8888888888888888,\"#fdca26\"],[1.0,\"#f0f921\"]],\"type\":\"heatmap\"}],\"heatmapgl\":[{\"colorbar\":{\"outlinewidth\":0,\"ticks\":\"\"},\"colorscale\":[[0.0,\"#0d0887\"],[0.1111111111111111,\"#46039f\"],[0.2222222222222222,\"#7201a8\"],[0.3333333333333333,\"#9c179e\"],[0.4444444444444444,\"#bd3786\"],[0.5555555555555556,\"#d8576b\"],[0.6666666666666666,\"#ed7953\"],[0.7777777777777778,\"#fb9f3a\"],[0.8888888888888888,\"#fdca26\"],[1.0,\"#f0f921\"]],\"type\":\"heatmapgl\"}],\"histogram\":[{\"marker\":{\"pattern\":{\"fillmode\":\"overlay\",\"size\":10,\"solidity\":0.2}},\"type\":\"histogram\"}],\"histogram2d\":[{\"colorbar\":{\"outlinewidth\":0,\"ticks\":\"\"},\"colorscale\":[[0.0,\"#0d0887\"],[0.1111111111111111,\"#46039f\"],[0.2222222222222222,\"#7201a8\"],[0.3333333333333333,\"#9c179e\"],[0.4444444444444444,\"#bd3786\"],[0.5555555555555556,\"#d8576b\"],[0.6666666666666666,\"#ed7953\"],[0.7777777777777778,\"#fb9f3a\"],[0.8888888888888888,\"#fdca26\"],[1.0,\"#f0f921\"]],\"type\":\"histogram2d\"}],\"histogram2dcontour\":[{\"colorbar\":{\"outlinewidth\":0,\"ticks\":\"\"},\"colorscale\":[[0.0,\"#0d0887\"],[0.1111111111111111,\"#46039f\"],[0.2222222222222222,\"#7201a8\"],[0.3333333333333333,\"#9c179e\"],[0.4444444444444444,\"#bd3786\"],[0.5555555555555556,\"#d8576b\"],[0.6666666666666666,\"#ed7953\"],[0.7777777777777778,\"#fb9f3a\"],[0.8888888888888888,\"#fdca26\"],[1.0,\"#f0f921\"]],\"type\":\"histogram2dcontour\"}],\"mesh3d\":[{\"colorbar\":{\"outlinewidth\":0,\"ticks\":\"\"},\"type\":\"mesh3d\"}],\"parcoords\":[{\"line\":{\"colorbar\":{\"outlinewidth\":0,\"ticks\":\"\"}},\"type\":\"parcoords\"}],\"pie\":[{\"automargin\":true,\"type\":\"pie\"}],\"scatter\":[{\"marker\":{\"colorbar\":{\"outlinewidth\":0,\"ticks\":\"\"}},\"type\":\"scatter\"}],\"scatter3d\":[{\"line\":{\"colorbar\":{\"outlinewidth\":0,\"ticks\":\"\"}},\"marker\":{\"colorbar\":{\"outlinewidth\":0,\"ticks\":\"\"}},\"type\":\"scatter3d\"}],\"scattercarpet\":[{\"marker\":{\"colorbar\":{\"outlinewidth\":0,\"ticks\":\"\"}},\"type\":\"scattercarpet\"}],\"scattergeo\":[{\"marker\":{\"colorbar\":{\"outlinewidth\":0,\"ticks\":\"\"}},\"type\":\"scattergeo\"}],\"scattergl\":[{\"marker\":{\"colorbar\":{\"outlinewidth\":0,\"ticks\":\"\"}},\"type\":\"scattergl\"}],\"scattermapbox\":[{\"marker\":{\"colorbar\":{\"outlinewidth\":0,\"ticks\":\"\"}},\"type\":\"scattermapbox\"}],\"scatterpolar\":[{\"marker\":{\"colorbar\":{\"outlinewidth\":0,\"ticks\":\"\"}},\"type\":\"scatterpolar\"}],\"scatterpolargl\":[{\"marker\":{\"colorbar\":{\"outlinewidth\":0,\"ticks\":\"\"}},\"type\":\"scatterpolargl\"}],\"scatterternary\":[{\"marker\":{\"colorbar\":{\"outlinewidth\":0,\"ticks\":\"\"}},\"type\":\"scatterternary\"}],\"surface\":[{\"colorbar\":{\"outlinewidth\":0,\"ticks\":\"\"},\"colorscale\":[[0.0,\"#0d0887\"],[0.1111111111111111,\"#46039f\"],[0.2222222222222222,\"#7201a8\"],[0.3333333333333333,\"#9c179e\"],[0.4444444444444444,\"#bd3786\"],[0.5555555555555556,\"#d8576b\"],[0.6666666666666666,\"#ed7953\"],[0.7777777777777778,\"#fb9f3a\"],[0.8888888888888888,\"#fdca26\"],[1.0,\"#f0f921\"]],\"type\":\"surface\"}],\"table\":[{\"cells\":{\"fill\":{\"color\":\"#EBF0F8\"},\"line\":{\"color\":\"white\"}},\"header\":{\"fill\":{\"color\":\"#C8D4E3\"},\"line\":{\"color\":\"white\"}},\"type\":\"table\"}]},\"layout\":{\"annotationdefaults\":{\"arrowcolor\":\"#2a3f5f\",\"arrowhead\":0,\"arrowwidth\":1},\"autotypenumbers\":\"strict\",\"coloraxis\":{\"colorbar\":{\"outlinewidth\":0,\"ticks\":\"\"}},\"colorscale\":{\"diverging\":[[0,\"#8e0152\"],[0.1,\"#c51b7d\"],[0.2,\"#de77ae\"],[0.3,\"#f1b6da\"],[0.4,\"#fde0ef\"],[0.5,\"#f7f7f7\"],[0.6,\"#e6f5d0\"],[0.7,\"#b8e186\"],[0.8,\"#7fbc41\"],[0.9,\"#4d9221\"],[1,\"#276419\"]],\"sequential\":[[0.0,\"#0d0887\"],[0.1111111111111111,\"#46039f\"],[0.2222222222222222,\"#7201a8\"],[0.3333333333333333,\"#9c179e\"],[0.4444444444444444,\"#bd3786\"],[0.5555555555555556,\"#d8576b\"],[0.6666666666666666,\"#ed7953\"],[0.7777777777777778,\"#fb9f3a\"],[0.8888888888888888,\"#fdca26\"],[1.0,\"#f0f921\"]],\"sequentialminus\":[[0.0,\"#0d0887\"],[0.1111111111111111,\"#46039f\"],[0.2222222222222222,\"#7201a8\"],[0.3333333333333333,\"#9c179e\"],[0.4444444444444444,\"#bd3786\"],[0.5555555555555556,\"#d8576b\"],[0.6666666666666666,\"#ed7953\"],[0.7777777777777778,\"#fb9f3a\"],[0.8888888888888888,\"#fdca26\"],[1.0,\"#f0f921\"]]},\"colorway\":[\"#636efa\",\"#EF553B\",\"#00cc96\",\"#ab63fa\",\"#FFA15A\",\"#19d3f3\",\"#FF6692\",\"#B6E880\",\"#FF97FF\",\"#FECB52\"],\"font\":{\"color\":\"#2a3f5f\"},\"geo\":{\"bgcolor\":\"white\",\"lakecolor\":\"white\",\"landcolor\":\"#E5ECF6\",\"showlakes\":true,\"showland\":true,\"subunitcolor\":\"white\"},\"hoverlabel\":{\"align\":\"left\"},\"hovermode\":\"closest\",\"mapbox\":{\"style\":\"light\"},\"paper_bgcolor\":\"white\",\"plot_bgcolor\":\"#E5ECF6\",\"polar\":{\"angularaxis\":{\"gridcolor\":\"white\",\"linecolor\":\"white\",\"ticks\":\"\"},\"bgcolor\":\"#E5ECF6\",\"radialaxis\":{\"gridcolor\":\"white\",\"linecolor\":\"white\",\"ticks\":\"\"}},\"scene\":{\"xaxis\":{\"backgroundcolor\":\"#E5ECF6\",\"gridcolor\":\"white\",\"gridwidth\":2,\"linecolor\":\"white\",\"showbackground\":true,\"ticks\":\"\",\"zerolinecolor\":\"white\"},\"yaxis\":{\"backgroundcolor\":\"#E5ECF6\",\"gridcolor\":\"white\",\"gridwidth\":2,\"linecolor\":\"white\",\"showbackground\":true,\"ticks\":\"\",\"zerolinecolor\":\"white\"},\"zaxis\":{\"backgroundcolor\":\"#E5ECF6\",\"gridcolor\":\"white\",\"gridwidth\":2,\"linecolor\":\"white\",\"showbackground\":true,\"ticks\":\"\",\"zerolinecolor\":\"white\"}},\"shapedefaults\":{\"line\":{\"color\":\"#2a3f5f\"}},\"ternary\":{\"aaxis\":{\"gridcolor\":\"white\",\"linecolor\":\"white\",\"ticks\":\"\"},\"baxis\":{\"gridcolor\":\"white\",\"linecolor\":\"white\",\"ticks\":\"\"},\"bgcolor\":\"#E5ECF6\",\"caxis\":{\"gridcolor\":\"white\",\"linecolor\":\"white\",\"ticks\":\"\"}},\"title\":{\"x\":0.05},\"xaxis\":{\"automargin\":true,\"gridcolor\":\"white\",\"linecolor\":\"white\",\"ticks\":\"\",\"title\":{\"standoff\":15},\"zerolinecolor\":\"white\",\"zerolinewidth\":2},\"yaxis\":{\"automargin\":true,\"gridcolor\":\"white\",\"linecolor\":\"white\",\"ticks\":\"\",\"title\":{\"standoff\":15},\"zerolinecolor\":\"white\",\"zerolinewidth\":2}}},\"xaxis\":{\"anchor\":\"y\",\"domain\":[0.0,1.0],\"title\":{\"text\":\"Category\"}},\"yaxis\":{\"anchor\":\"x\",\"domain\":[0.0,1.0],\"title\":{\"text\":\"Videos/Category\"}},\"coloraxis\":{\"colorbar\":{\"title\":{\"text\":\"Videos/Category\"}},\"colorscale\":[[0.0,\"#0d0887\"],[0.1111111111111111,\"#46039f\"],[0.2222222222222222,\"#7201a8\"],[0.3333333333333333,\"#9c179e\"],[0.4444444444444444,\"#bd3786\"],[0.5555555555555556,\"#d8576b\"],[0.6666666666666666,\"#ed7953\"],[0.7777777777777778,\"#fb9f3a\"],[0.8888888888888888,\"#fdca26\"],[1.0,\"#f0f921\"]]},\"legend\":{\"tracegroupgap\":0},\"margin\":{\"t\":60},\"barmode\":\"relative\",\"height\":400,\"plot_bgcolor\":\"rgba(0, 0, 0, 0)\",\"paper_bgcolor\":\"rgba(0, 0, 0, 0)\"},                        {\"responsive\": true}                    ).then(function(){\n",
              "                            \n",
              "var gd = document.getElementById('d3beab99-16fa-4807-813f-17784ccecd3b');\n",
              "var x = new MutationObserver(function (mutations, observer) {{\n",
              "        var display = window.getComputedStyle(gd).display;\n",
              "        if (!display || display === 'none') {{\n",
              "            console.log([gd, 'removed!']);\n",
              "            Plotly.purge(gd);\n",
              "            observer.disconnect();\n",
              "        }}\n",
              "}});\n",
              "\n",
              "// Listen for the removal of the full notebook cells\n",
              "var notebookContainer = gd.closest('#notebook-container');\n",
              "if (notebookContainer) {{\n",
              "    x.observe(notebookContainer, {childList: true});\n",
              "}}\n",
              "\n",
              "// Listen for the clearing of the current output cell\n",
              "var outputEl = gd.closest('.output');\n",
              "if (outputEl) {{\n",
              "    x.observe(outputEl, {childList: true});\n",
              "}}\n",
              "\n",
              "                        })                };                            </script>        </div>\n",
              "</body>\n",
              "</html>"
            ]
          },
          "metadata": {}
        }
      ],
      "source": [
        "import plotly.express as px\n",
        "df_cat=pd.DataFrame(by_category)\n",
        "df_cat['category'] = df_cat.index\n",
        "df_cat.columns=['a','b']\n",
        "fig4 = px.bar(df_cat, x=\"b\", y=\"a\",color='a',labels={'b':'Category','a':'Videos/Category'}, height=400)\n",
        "fig4.update_layout({'plot_bgcolor': 'rgba(0, 0, 0, 0)','paper_bgcolor': 'rgba(0, 0, 0, 0)',})"
      ]
    },
    {
      "cell_type": "code",
      "execution_count": 24,
      "metadata": {
        "colab": {
          "base_uri": "https://localhost:8080/",
          "height": 757
        },
        "id": "PML0421tZGpN",
        "outputId": "46f05f41-8e4a-49f7-d681-88cb26fe4828"
      },
      "outputs": [
        {
          "output_type": "execute_result",
          "data": {
            "text/plain": [
              "(Text(0.5, 1.0, 'Distribution of Views against Categories'),\n",
              " Text(0.5, 0, 'Video Category'),\n",
              " Text(0, 0.5, 'View Logs'))"
            ]
          },
          "metadata": {},
          "execution_count": 24
        },
        {
          "output_type": "display_data",
          "data": {
            "image/png": "[encoded data removed]",
            "text/plain": [
              "<Figure size 1080x720 with 1 Axes>"
            ]
          },
          "metadata": {
            "needs_background": "light"
          }
        }
      ],
      "source": [
        "##2-Distribution of views against categories, using boxplot and views on log scale\n",
        "fig, ax = pyplot.subplots(figsize=(15,10))\n",
        "sns.boxplot(x=\"category\", y=\"views_log\", data=combined_data[['category','views_log']]),plt.xticks(rotation = 45)\n",
        "ax.set_title(\"Distribution of Views against Categories\",fontsize=20),ax.set_xlabel('Video Category',fontsize=15),ax.set_ylabel(ylabel='View Logs',fontsize=15)          \n",
        "# #To close the warning\n",
        "# fill with colors"
      ]
    },
    {
      "cell_type": "code",
      "execution_count": 25,
      "metadata": {
        "colab": {
          "base_uri": "https://localhost:8080/",
          "height": 757
        },
        "id": "bE8OdOt6aK0K",
        "outputId": "836e1299-0aaa-485f-b78a-163c49877d7f"
      },
      "outputs": [
        {
          "output_type": "execute_result",
          "data": {
            "text/plain": [
              "(Text(0.5, 1.0, 'Distribution of Dislikes against Categories'),\n",
              " Text(0.5, 0, 'Video Category'),\n",
              " Text(0, 0.5, 'Dislike Logs'))"
            ]
          },
          "metadata": {},
          "execution_count": 25
        },
        {
          "output_type": "display_data",
          "data": {
            "image/png": "[encoded data removed]",
            "text/plain": [
              "<Figure size 1080x720 with 1 Axes>"
            ]
          },
          "metadata": {
            "needs_background": "light"
          }
        }
      ],
      "source": [
        "##3-Distribution of dislikes against categories, Using boxplot and dislikes on log scale\n",
        "fig, ax = pyplot.subplots(figsize=(15,10))\n",
        "sns.boxplot(x=\"category\", y=\"dislikes_log\", data=combined_data[['category','dislikes_log']]),plt.xticks(rotation = 45)\n",
        "ax.set_title(\"Distribution of Dislikes against Categories\",fontsize=20),ax.set_xlabel('Video Category',fontsize=15),ax.set_ylabel(ylabel='Dislike Logs',fontsize=15)  \n"
      ]
    },
    {
      "cell_type": "code",
      "execution_count": 26,
      "metadata": {
        "id": "LSl-NGmuafaT"
      },
      "outputs": [],
      "source": [
        "#How long does a video trend in a country?\n",
        "#What are some videos which got popular because they were disliked?"
      ]
    },
    {
      "cell_type": "markdown",
      "metadata": {
        "id": "_BMiEsf0aiKa"
      },
      "source": [
        "**How long does a video trend in a country?**"
      ]
    },
    {
      "cell_type": "code",
      "execution_count": 27,
      "metadata": {
        "colab": {
          "base_uri": "https://localhost:8080/",
          "height": 497
        },
        "id": "RieeaBufagW6",
        "outputId": "4991e3c3-6dc7-415b-c709-98d88de730b4"
      },
      "outputs": [
        {
          "output_type": "execute_result",
          "data": {
            "text/plain": [
              "(<matplotlib.axes._subplots.AxesSubplot at 0x7efd2e47da10>,\n",
              " Text(0.5, 1.0, 'Number of Mean Video Trending in Each Country '))"
            ]
          },
          "metadata": {},
          "execution_count": 27
        },
        {
          "output_type": "display_data",
          "data": {
            "image/png": "[encoded data removed]",
            "text/plain": [
              "<Figure size 720x504 with 1 Axes>"
            ]
          },
          "metadata": {
            "needs_background": "light"
          }
        }
      ],
      "source": [
        "df=combined_data.drop_duplicates()\n",
        "df1=df.groupby(['title','country']).size().reset_index(name='count')\n",
        "trending=df1.groupby('country')['count'].mean().to_frame().reset_index().rename(columns={\"country\": \"Country\", \"count\": \"Mean Trinding days\"})\n",
        "\n",
        "fig, ax = pyplot.subplots(figsize=(10, 7)),sns.set(font_scale=1.5)\n",
        "sns.barplot(x=\"Country\", y=\"Mean Trinding days\", data=trending,ax=ax),plt.title('Number of Mean Video Trending in Each Country ',color='Blue')"
      ]
    },
    {
      "cell_type": "markdown",
      "metadata": {
        "id": "jXAHhOgJhaI1"
      },
      "source": [
        "**What are some videos which got popular because they were disliked?**"
      ]
    },
    {
      "cell_type": "code",
      "execution_count": 28,
      "metadata": {
        "colab": {
          "base_uri": "https://localhost:8080/"
        },
        "id": "pLWaRduJb0qE",
        "outputId": "86fb4bb4-9ecb-4858-8cb3-fa6adf132e73"
      },
      "outputs": [
        {
          "output_type": "stream",
          "name": "stdout",
          "text": [
            "Videos which got popular because they were disliked: \n",
            " \n",
            "  Jeffrey Tambor Fired From 'Transparent' Follow...\n",
            " 5 Things You Missed at the 2018 SAG Awards | E...\n",
            " Fergie Performs The U.S. National Anthem / 201...\n",
            "                        Staudt on Sports I 1-22-18\n",
            "         WATCH: Sen. Mitch McConnell on tax reform\n",
            "                               二贵摔跤 - tienghoa.net\n"
          ]
        }
      ],
      "source": [
        "df2=df.groupby(['title','dislikes','likes']).size().reset_index(name='Trend_Days')\n",
        "trending_dislikes=df2.loc[(df2['dislikes'] > df2['likes']) & (df2['Trend_Days'] >= 3)] #Videos which got trends and have dislikes more than likes#\n",
        "trending_dislikes=trending_dislikes.sort_values(['Trend_Days'],ascending=[ False])\n",
        "print('Videos which got popular because they were disliked: \\n \\n',trending_dislikes.title.to_string(index=False))"
      ]
    },
    {
      "cell_type": "markdown",
      "metadata": {
        "id": "2k_3xypOiKM1"
      },
      "source": [
        "#### 5.2.5: Feature Engineering (8 pts)"
      ]
    },
    {
      "cell_type": "markdown",
      "metadata": {
        "id": "_kDXP0t3iPPF"
      },
      "source": [
        "##### a. Processing tags (1 pt)\n",
        "\n",
        "The feature tags in the dataset has a delimiter, use that delimiter to count the number of tags, create a feature called num_tags and add that to the dataset."
      ]
    },
    {
      "cell_type": "code",
      "execution_count": 29,
      "metadata": {
        "colab": {
          "base_uri": "https://localhost:8080/",
          "height": 1000
        },
        "id": "8kSp72KkiHuu",
        "outputId": "5dff9b09-9126-4ebc-882b-cc55cb908668"
      },
      "outputs": [
        {
          "output_type": "execute_result",
          "data": {
            "text/html": [
              "\n",
              "  <div id=\"df-524ba24d-9e96-40f3-8e34-8f2ebc31383c\">\n",
              "    <div class=\"colab-df-container\">\n",
              "      <div>\n",
              "<style scoped>\n",
              "    .dataframe tbody tr th:only-of-type {\n",
              "        vertical-align: middle;\n",
              "    }\n",
              "\n",
              "    .dataframe tbody tr th {\n",
              "        vertical-align: top;\n",
              "    }\n",
              "\n",
              "    .dataframe thead th {\n",
              "        text-align: right;\n",
              "    }\n",
              "</style>\n",
              "<table border=\"1\" class=\"dataframe\">\n",
              "  <thead>\n",
              "    <tr style=\"text-align: right;\">\n",
              "      <th></th>\n",
              "      <th>trending_date</th>\n",
              "      <th>title</th>\n",
              "      <th>channel_title</th>\n",
              "      <th>category_id</th>\n",
              "      <th>publish_time</th>\n",
              "      <th>tags</th>\n",
              "      <th>views</th>\n",
              "      <th>likes</th>\n",
              "      <th>dislikes</th>\n",
              "      <th>comment_count</th>\n",
              "      <th>thumbnail_link</th>\n",
              "      <th>comments_disabled</th>\n",
              "      <th>ratings_disabled</th>\n",
              "      <th>video_error_or_removed</th>\n",
              "      <th>description</th>\n",
              "      <th>country</th>\n",
              "      <th>category</th>\n",
              "      <th>likes_log</th>\n",
              "      <th>views_log</th>\n",
              "      <th>dislikes_log</th>\n",
              "      <th>comment_log</th>\n",
              "      <th>num_tags</th>\n",
              "    </tr>\n",
              "    <tr>\n",
              "      <th>video_id</th>\n",
              "      <th></th>\n",
              "      <th></th>\n",
              "      <th></th>\n",
              "      <th></th>\n",
              "      <th></th>\n",
              "      <th></th>\n",
              "      <th></th>\n",
              "      <th></th>\n",
              "      <th></th>\n",
              "      <th></th>\n",
              "      <th></th>\n",
              "      <th></th>\n",
              "      <th></th>\n",
              "      <th></th>\n",
              "      <th></th>\n",
              "      <th></th>\n",
              "      <th></th>\n",
              "      <th></th>\n",
              "      <th></th>\n",
              "      <th></th>\n",
              "      <th></th>\n",
              "      <th></th>\n",
              "    </tr>\n",
              "  </thead>\n",
              "  <tbody>\n",
              "    <tr>\n",
              "      <th>kzwfHumJyYc</th>\n",
              "      <td>2017-11-14</td>\n",
              "      <td>Sharry Mann: Cute Munda ( Song Teaser) | Parmi...</td>\n",
              "      <td>Lokdhun Punjabi</td>\n",
              "      <td>1</td>\n",
              "      <td>2017-11-12 12:20:39</td>\n",
              "      <td>sharry mann|\"sharry mann new song\"|\"sharry man...</td>\n",
              "      <td>1096327</td>\n",
              "      <td>33966</td>\n",
              "      <td>798</td>\n",
              "      <td>882</td>\n",
              "      <td>https://i.ytimg.com/vi/kzwfHumJyYc/default.jpg</td>\n",
              "      <td>False</td>\n",
              "      <td>False</td>\n",
              "      <td>False</td>\n",
              "      <td>Presenting Sharry Mann latest Punjabi Song  Cu...</td>\n",
              "      <td>IN</td>\n",
              "      <td>Film &amp; Animation</td>\n",
              "      <td>10.433145</td>\n",
              "      <td>13.907477</td>\n",
              "      <td>6.683361</td>\n",
              "      <td>6.783325</td>\n",
              "      <td>15</td>\n",
              "    </tr>\n",
              "    <tr>\n",
              "      <th>zUZ1z7FwLc8</th>\n",
              "      <td>2017-11-14</td>\n",
              "      <td>पीरियड्स के समय, पेट पर पति करता ऐसा, देखकर दं...</td>\n",
              "      <td>HJ NEWS</td>\n",
              "      <td>25</td>\n",
              "      <td>2017-11-13 05:43:56</td>\n",
              "      <td>पीरियड्स के समय|\"पेट पर पति करता ऐसा\"|\"देखकर द...</td>\n",
              "      <td>590101</td>\n",
              "      <td>735</td>\n",
              "      <td>904</td>\n",
              "      <td>0</td>\n",
              "      <td>https://i.ytimg.com/vi/zUZ1z7FwLc8/default.jpg</td>\n",
              "      <td>True</td>\n",
              "      <td>False</td>\n",
              "      <td>False</td>\n",
              "      <td>पीरियड्स के समय, पेट पर पति करता ऐसा, देखकर दं...</td>\n",
              "      <td>IN</td>\n",
              "      <td>News &amp; Politics</td>\n",
              "      <td>6.601230</td>\n",
              "      <td>13.288051</td>\n",
              "      <td>6.807935</td>\n",
              "      <td>0.000000</td>\n",
              "      <td>19</td>\n",
              "    </tr>\n",
              "    <tr>\n",
              "      <th>10L1hZ9qa58</th>\n",
              "      <td>2017-11-14</td>\n",
              "      <td>Stylish Star Allu Arjun @ ChaySam Wedding Rece...</td>\n",
              "      <td>TFPC</td>\n",
              "      <td>24</td>\n",
              "      <td>2017-11-12 15:48:08</td>\n",
              "      <td>Stylish Star Allu Arjun @ ChaySam Wedding Rece...</td>\n",
              "      <td>473988</td>\n",
              "      <td>2011</td>\n",
              "      <td>243</td>\n",
              "      <td>149</td>\n",
              "      <td>https://i.ytimg.com/vi/10L1hZ9qa58/default.jpg</td>\n",
              "      <td>False</td>\n",
              "      <td>False</td>\n",
              "      <td>False</td>\n",
              "      <td>Watch Stylish Star Allu Arjun @ ChaySam Weddin...</td>\n",
              "      <td>IN</td>\n",
              "      <td>Entertainment</td>\n",
              "      <td>7.606885</td>\n",
              "      <td>13.068939</td>\n",
              "      <td>5.497168</td>\n",
              "      <td>5.010635</td>\n",
              "      <td>14</td>\n",
              "    </tr>\n",
              "    <tr>\n",
              "      <th>N1vE8iiEg64</th>\n",
              "      <td>2017-11-14</td>\n",
              "      <td>Eruma Saani | Tamil vs English</td>\n",
              "      <td>Eruma Saani</td>\n",
              "      <td>23</td>\n",
              "      <td>2017-11-12 07:08:48</td>\n",
              "      <td>Eruma Saani|\"Tamil Comedy Videos\"|\"Films\"|\"Mov...</td>\n",
              "      <td>1242680</td>\n",
              "      <td>70353</td>\n",
              "      <td>1624</td>\n",
              "      <td>2684</td>\n",
              "      <td>https://i.ytimg.com/vi/N1vE8iiEg64/default.jpg</td>\n",
              "      <td>False</td>\n",
              "      <td>False</td>\n",
              "      <td>False</td>\n",
              "      <td>This video showcases the difference between pe...</td>\n",
              "      <td>IN</td>\n",
              "      <td>Comedy</td>\n",
              "      <td>11.161295</td>\n",
              "      <td>14.032782</td>\n",
              "      <td>7.393263</td>\n",
              "      <td>7.895436</td>\n",
              "      <td>20</td>\n",
              "    </tr>\n",
              "    <tr>\n",
              "      <th>kJzGH0PVQHQ</th>\n",
              "      <td>2017-11-14</td>\n",
              "      <td>why Samantha became EMOTIONAL @ Samantha naga ...</td>\n",
              "      <td>Filmylooks</td>\n",
              "      <td>24</td>\n",
              "      <td>2017-11-13 01:14:16</td>\n",
              "      <td>Filmylooks|\"latest news\"|\"telugu movies\"|\"telu...</td>\n",
              "      <td>464015</td>\n",
              "      <td>492</td>\n",
              "      <td>293</td>\n",
              "      <td>66</td>\n",
              "      <td>https://i.ytimg.com/vi/kJzGH0PVQHQ/default.jpg</td>\n",
              "      <td>False</td>\n",
              "      <td>False</td>\n",
              "      <td>False</td>\n",
              "      <td>why Samantha became EMOTIONAL @ Samantha naga ...</td>\n",
              "      <td>IN</td>\n",
              "      <td>Entertainment</td>\n",
              "      <td>6.200509</td>\n",
              "      <td>13.047674</td>\n",
              "      <td>5.683580</td>\n",
              "      <td>4.204693</td>\n",
              "      <td>11</td>\n",
              "    </tr>\n",
              "    <tr>\n",
              "      <th>...</th>\n",
              "      <td>...</td>\n",
              "      <td>...</td>\n",
              "      <td>...</td>\n",
              "      <td>...</td>\n",
              "      <td>...</td>\n",
              "      <td>...</td>\n",
              "      <td>...</td>\n",
              "      <td>...</td>\n",
              "      <td>...</td>\n",
              "      <td>...</td>\n",
              "      <td>...</td>\n",
              "      <td>...</td>\n",
              "      <td>...</td>\n",
              "      <td>...</td>\n",
              "      <td>...</td>\n",
              "      <td>...</td>\n",
              "      <td>...</td>\n",
              "      <td>...</td>\n",
              "      <td>...</td>\n",
              "      <td>...</td>\n",
              "      <td>...</td>\n",
              "      <td>...</td>\n",
              "    </tr>\n",
              "    <tr>\n",
              "      <th>1PhPYr_9zRY</th>\n",
              "      <td>2018-06-14</td>\n",
              "      <td>BTS Plays With Puppies While Answering Fan Que...</td>\n",
              "      <td>BuzzFeed Celeb</td>\n",
              "      <td>22</td>\n",
              "      <td>2018-05-18 16:39:29</td>\n",
              "      <td>BuzzFeed|\"BuzzFeedVideo\"|\"Puppy Interview\"|\"pu...</td>\n",
              "      <td>8259128</td>\n",
              "      <td>645888</td>\n",
              "      <td>4052</td>\n",
              "      <td>62610</td>\n",
              "      <td>https://i.ytimg.com/vi/1PhPYr_9zRY/default.jpg</td>\n",
              "      <td>False</td>\n",
              "      <td>False</td>\n",
              "      <td>False</td>\n",
              "      <td>BTS with the PPS, the puppies. These adorable ...</td>\n",
              "      <td>US</td>\n",
              "      <td>People &amp; Blogs</td>\n",
              "      <td>13.378383</td>\n",
              "      <td>15.926830</td>\n",
              "      <td>8.307213</td>\n",
              "      <td>11.044696</td>\n",
              "      <td>27</td>\n",
              "    </tr>\n",
              "    <tr>\n",
              "      <th>BZt0qjTWNhw</th>\n",
              "      <td>2018-06-14</td>\n",
              "      <td>The Cat Who Caught the Laser</td>\n",
              "      <td>AaronsAnimals</td>\n",
              "      <td>15</td>\n",
              "      <td>2018-05-18 13:00:04</td>\n",
              "      <td>aarons animals|\"aarons\"|\"animals\"|\"cat\"|\"cats\"...</td>\n",
              "      <td>1685609</td>\n",
              "      <td>38160</td>\n",
              "      <td>1385</td>\n",
              "      <td>2657</td>\n",
              "      <td>https://i.ytimg.com/vi/BZt0qjTWNhw/default.jpg</td>\n",
              "      <td>False</td>\n",
              "      <td>False</td>\n",
              "      <td>False</td>\n",
              "      <td>The Cat Who Caught the Laser - Aaron's Animals</td>\n",
              "      <td>US</td>\n",
              "      <td>Pets &amp; Animals</td>\n",
              "      <td>10.549569</td>\n",
              "      <td>14.337638</td>\n",
              "      <td>7.234177</td>\n",
              "      <td>7.885329</td>\n",
              "      <td>14</td>\n",
              "    </tr>\n",
              "    <tr>\n",
              "      <th>D6Oy4LfoqsU</th>\n",
              "      <td>2018-06-14</td>\n",
              "      <td>I GAVE SAFIYA NYGAARD A PERFECT HAIR MAKEOVER ...</td>\n",
              "      <td>Brad Mondo</td>\n",
              "      <td>24</td>\n",
              "      <td>2018-05-18 17:34:22</td>\n",
              "      <td>I gave safiya nygaard a perfect hair makeover ...</td>\n",
              "      <td>1066451</td>\n",
              "      <td>48068</td>\n",
              "      <td>1032</td>\n",
              "      <td>3992</td>\n",
              "      <td>https://i.ytimg.com/vi/D6Oy4LfoqsU/default.jpg</td>\n",
              "      <td>False</td>\n",
              "      <td>False</td>\n",
              "      <td>False</td>\n",
              "      <td>I had so much fun transforming Safiyas hair in...</td>\n",
              "      <td>US</td>\n",
              "      <td>Entertainment</td>\n",
              "      <td>10.780393</td>\n",
              "      <td>13.879848</td>\n",
              "      <td>6.940222</td>\n",
              "      <td>8.292298</td>\n",
              "      <td>24</td>\n",
              "    </tr>\n",
              "    <tr>\n",
              "      <th>oV0zkMe1K8s</th>\n",
              "      <td>2018-06-14</td>\n",
              "      <td>How Black Panther Should Have Ended</td>\n",
              "      <td>How It Should Have Ended</td>\n",
              "      <td>1</td>\n",
              "      <td>2018-05-17 17:00:04</td>\n",
              "      <td>Black Panther|\"HISHE\"|\"Marvel\"|\"Infinity War\"|...</td>\n",
              "      <td>5660813</td>\n",
              "      <td>192957</td>\n",
              "      <td>2846</td>\n",
              "      <td>13088</td>\n",
              "      <td>https://i.ytimg.com/vi/oV0zkMe1K8s/default.jpg</td>\n",
              "      <td>False</td>\n",
              "      <td>False</td>\n",
              "      <td>False</td>\n",
              "      <td>How Black Panther Should Have EndedWatch More ...</td>\n",
              "      <td>US</td>\n",
              "      <td>Film &amp; Animation</td>\n",
              "      <td>12.170228</td>\n",
              "      <td>15.549078</td>\n",
              "      <td>7.954021</td>\n",
              "      <td>9.479527</td>\n",
              "      <td>22</td>\n",
              "    </tr>\n",
              "    <tr>\n",
              "      <th>ooyjaVdt-jA</th>\n",
              "      <td>2018-06-14</td>\n",
              "      <td>Official Call of Duty®: Black Ops 4 — Multipla...</td>\n",
              "      <td>Call of Duty</td>\n",
              "      <td>20</td>\n",
              "      <td>2018-05-17 17:09:38</td>\n",
              "      <td>call of duty|\"cod\"|\"activision\"|\"Black Ops 4\"</td>\n",
              "      <td>10306119</td>\n",
              "      <td>357079</td>\n",
              "      <td>212976</td>\n",
              "      <td>144795</td>\n",
              "      <td>https://i.ytimg.com/vi/ooyjaVdt-jA/default.jpg</td>\n",
              "      <td>False</td>\n",
              "      <td>False</td>\n",
              "      <td>False</td>\n",
              "      <td>Call of Duty: Black Ops 4 Multiplayer raises t...</td>\n",
              "      <td>US</td>\n",
              "      <td>Gaming</td>\n",
              "      <td>12.785715</td>\n",
              "      <td>16.148248</td>\n",
              "      <td>12.268939</td>\n",
              "      <td>11.883081</td>\n",
              "      <td>4</td>\n",
              "    </tr>\n",
              "  </tbody>\n",
              "</table>\n",
              "<p>154229 rows × 22 columns</p>\n",
              "</div>\n",
              "      <button class=\"colab-df-convert\" onclick=\"convertToInteractive('df-524ba24d-9e96-40f3-8e34-8f2ebc31383c')\"\n",
              "              title=\"Convert this dataframe to an interactive table.\"\n",
              "              style=\"display:none;\">\n",
              "        \n",
              "  <svg xmlns=\"http://www.w3.org/2000/svg\" height=\"24px\"viewBox=\"0 0 24 24\"\n",
              "       width=\"24px\">\n",
              "    <path d=\"M0 0h24v24H0V0z\" fill=\"none\"/>\n",
              "    <path d=\"M18.56 5.44l.94 2.06.94-2.06 2.06-.94-2.06-.94-.94-2.06-.94 2.06-2.06.94zm-11 1L8.5 8.5l.94-2.06 2.06-.94-2.06-.94L8.5 2.5l-.94 2.06-2.06.94zm10 10l.94 2.06.94-2.06 2.06-.94-2.06-.94-.94-2.06-.94 2.06-2.06.94z\"/><path d=\"M17.41 7.96l-1.37-1.37c-.4-.4-.92-.59-1.43-.59-.52 0-1.04.2-1.43.59L10.3 9.45l-7.72 7.72c-.78.78-.78 2.05 0 2.83L4 21.41c.39.39.9.59 1.41.59.51 0 1.02-.2 1.41-.59l7.78-7.78 2.81-2.81c.8-.78.8-2.07 0-2.86zM5.41 20L4 18.59l7.72-7.72 1.47 1.35L5.41 20z\"/>\n",
              "  </svg>\n",
              "      </button>\n",
              "      \n",
              "  <style>\n",
              "    .colab-df-container {\n",
              "      display:flex;\n",
              "      flex-wrap:wrap;\n",
              "      gap: 12px;\n",
              "    }\n",
              "\n",
              "    .colab-df-convert {\n",
              "      background-color: #E8F0FE;\n",
              "      border: none;\n",
              "      border-radius: 50%;\n",
              "      cursor: pointer;\n",
              "      display: none;\n",
              "      fill: #1967D2;\n",
              "      height: 32px;\n",
              "      padding: 0 0 0 0;\n",
              "      width: 32px;\n",
              "    }\n",
              "\n",
              "    .colab-df-convert:hover {\n",
              "      background-color: #E2EBFA;\n",
              "      box-shadow: 0px 1px 2px rgba(60, 64, 67, 0.3), 0px 1px 3px 1px rgba(60, 64, 67, 0.15);\n",
              "      fill: #174EA6;\n",
              "    }\n",
              "\n",
              "    [theme=dark] .colab-df-convert {\n",
              "      background-color: #3B4455;\n",
              "      fill: #D2E3FC;\n",
              "    }\n",
              "\n",
              "    [theme=dark] .colab-df-convert:hover {\n",
              "      background-color: #434B5C;\n",
              "      box-shadow: 0px 1px 3px 1px rgba(0, 0, 0, 0.15);\n",
              "      filter: drop-shadow(0px 1px 2px rgba(0, 0, 0, 0.3));\n",
              "      fill: #FFFFFF;\n",
              "    }\n",
              "  </style>\n",
              "\n",
              "      <script>\n",
              "        const buttonEl =\n",
              "          document.querySelector('#df-524ba24d-9e96-40f3-8e34-8f2ebc31383c button.colab-df-convert');\n",
              "        buttonEl.style.display =\n",
              "          google.colab.kernel.accessAllowed ? 'block' : 'none';\n",
              "\n",
              "        async function convertToInteractive(key) {\n",
              "          const element = document.querySelector('#df-524ba24d-9e96-40f3-8e34-8f2ebc31383c');\n",
              "          const dataTable =\n",
              "            await google.colab.kernel.invokeFunction('convertToInteractive',\n",
              "                                                     [key], {});\n",
              "          if (!dataTable) return;\n",
              "\n",
              "          const docLinkHtml = 'Like what you see? Visit the ' +\n",
              "            '<a target=\"_blank\" href=https://colab.research.google.com/notebooks/data_table.ipynb>data table notebook</a>'\n",
              "            + ' to learn more about interactive tables.';\n",
              "          element.innerHTML = '';\n",
              "          dataTable['output_type'] = 'display_data';\n",
              "          await google.colab.output.renderOutput(dataTable, element);\n",
              "          const docLink = document.createElement('div');\n",
              "          docLink.innerHTML = docLinkHtml;\n",
              "          element.appendChild(docLink);\n",
              "        }\n",
              "      </script>\n",
              "    </div>\n",
              "  </div>\n",
              "  "
            ],
            "text/plain": [
              "            trending_date  ... num_tags\n",
              "video_id                   ...         \n",
              "kzwfHumJyYc    2017-11-14  ...       15\n",
              "zUZ1z7FwLc8    2017-11-14  ...       19\n",
              "10L1hZ9qa58    2017-11-14  ...       14\n",
              "N1vE8iiEg64    2017-11-14  ...       20\n",
              "kJzGH0PVQHQ    2017-11-14  ...       11\n",
              "...                   ...  ...      ...\n",
              "1PhPYr_9zRY    2018-06-14  ...       27\n",
              "BZt0qjTWNhw    2018-06-14  ...       14\n",
              "D6Oy4LfoqsU    2018-06-14  ...       24\n",
              "oV0zkMe1K8s    2018-06-14  ...       22\n",
              "ooyjaVdt-jA    2018-06-14  ...        4\n",
              "\n",
              "[154229 rows x 22 columns]"
            ]
          },
          "metadata": {},
          "execution_count": 29
        }
      ],
      "source": [
        "# Add your code here\n",
        "num_tags=[]\n",
        "xdf=combined_data.reset_index(drop=True)\n",
        "for i in range(len(combined_data)):\n",
        "  if xdf.at[i,'tags']=='[none]': #some videos has no tags but instead [none], so we are going to consider it as Zero tags.\n",
        "    count=0\n",
        "  else:\n",
        "    count=(xdf.at[i,'tags']).count(\"|\") + 1 \n",
        "  num_tags.append(count)\n",
        "combined_data['num_tags']=num_tags\n",
        "combined_data"
      ]
    },
    {
      "cell_type": "markdown",
      "metadata": {
        "id": "ekieO9CxkwP0"
      },
      "source": [
        "##### b. Processing description and title (2 pts.)\n",
        "\n",
        "Calculate the length of description and title and add them as features to the dataset"
      ]
    },
    {
      "cell_type": "code",
      "execution_count": 30,
      "metadata": {
        "id": "0GRKou-skuEQ"
      },
      "outputs": [],
      "source": [
        "# Add your code here\n",
        "combined_data[\"desc_len\"]=combined_data[\"description\"].apply(lambda x: len(x))"
      ]
    },
    {
      "cell_type": "code",
      "execution_count": 31,
      "metadata": {
        "id": "vsVO9bGhmnWN"
      },
      "outputs": [],
      "source": [
        "# Add your code here\n",
        "\n",
        "combined_data[\"len_title\"]=combined_data[\"title\"].apply(lambda x: len(x))"
      ]
    },
    {
      "cell_type": "code",
      "execution_count": 32,
      "metadata": {
        "colab": {
          "base_uri": "https://localhost:8080/"
        },
        "id": "zn-wcP-5mxl7",
        "outputId": "29a952b3-e6f7-4f63-ba3e-82d6dba4e796"
      },
      "outputs": [
        {
          "output_type": "stream",
          "name": "stdout",
          "text": [
            "check_tags_title_description \n",
            " [count    154229.000000\n",
            "mean         18.579846\n",
            "std          11.916391\n",
            "min           0.000000\n",
            "25%           9.000000\n",
            "50%          17.000000\n",
            "75%          26.000000\n",
            "max         124.000000\n",
            "Name: num_tags, dtype: float64, count    154229.000000\n",
            "mean        960.566787\n",
            "std         857.801660\n",
            "min           1.000000\n",
            "25%         363.000000\n",
            "50%         718.000000\n",
            "75%        1289.000000\n",
            "max        5260.000000\n",
            "Name: desc_len, dtype: float64, count    154229.000000\n",
            "mean         56.412445\n",
            "std          22.975154\n",
            "min           2.000000\n",
            "25%          38.000000\n",
            "50%          54.000000\n",
            "75%          74.000000\n",
            "max         100.000000\n",
            "Name: len_title, dtype: float64]\n"
          ]
        }
      ],
      "source": [
        "# Print cell\n",
        "print('check_tags_title_description \\n',([combined_data['num_tags'].describe(),combined_data['desc_len'].describe(),combined_data['len_title'].describe()]))"
      ]
    },
    {
      "cell_type": "markdown",
      "metadata": {
        "id": "ql6UoHO4nLV8"
      },
      "source": [
        "##### c. Processing publish_time. (4 pts.)\n",
        "\n",
        "\n",
        "Split 'publish_time' feature into three parts time, date, and weekday, where time will contain the time component of the original feature and date and weekday will store the corresponding date and weekday number respectively. Start with 1 for Monday and end with 7 for Sunday."
      ]
    },
    {
      "cell_type": "code",
      "execution_count": 33,
      "metadata": {
        "id": "sv6X8QbCnEo0"
      },
      "outputs": [],
      "source": [
        "date_data=combined_data['publish_time']"
      ]
    },
    {
      "cell_type": "code",
      "execution_count": 34,
      "metadata": {
        "id": "oFDtLOAtnaeK"
      },
      "outputs": [],
      "source": [
        "# Add your code here\n",
        "combined_data['publish_time'] =date_data.apply(lambda x: pd.to_datetime(x).time())\n",
        "combined_data['publish_date'] =date_data.apply(lambda x: pd.to_datetime(x).date())\n",
        "\n",
        "#day on which video was published\n",
        "combined_data['publish_weekday']=date_data.apply(lambda x: x.dayofweek)+1\n",
        "\n",
        "import random\n",
        "random_index = random.randint(0,combined_data.shape[0]-1)"
      ]
    },
    {
      "cell_type": "code",
      "execution_count": 35,
      "metadata": {
        "colab": {
          "base_uri": "https://localhost:8080/"
        },
        "id": "oxrzpWI9oyE1",
        "outputId": "1c70c9e2-2b6b-4b88-a5bb-03985e92bfc5"
      },
      "outputs": [
        {
          "output_type": "stream",
          "name": "stdout",
          "text": [
            "check_date_time_processing [datetime.time(23, 17, 59), datetime.date(2018, 5, 3), [18591, 18896, 22089, 22446, 22466, 23520, 26221]]\n"
          ]
        }
      ],
      "source": [
        "# Print cell\n",
        "print('check_date_time_processing',([combined_data['publish_time'].iloc[random_index],combined_data['publish_date'].iloc[random_index],sorted(list(combined_data[\"publish_weekday\"].value_counts()))]))"
      ]
    },
    {
      "cell_type": "code",
      "execution_count": 36,
      "metadata": {
        "colab": {
          "base_uri": "https://localhost:8080/",
          "height": 1000
        },
        "id": "fM3ZMEcbpRfG",
        "outputId": "2b4524c4-54b4-4b59-c38d-fcc837bf4abc"
      },
      "outputs": [
        {
          "output_type": "execute_result",
          "data": {
            "text/html": [
              "\n",
              "  <div id=\"df-8e6fd522-ca64-4e05-970d-1320c63c86c9\">\n",
              "    <div class=\"colab-df-container\">\n",
              "      <div>\n",
              "<style scoped>\n",
              "    .dataframe tbody tr th:only-of-type {\n",
              "        vertical-align: middle;\n",
              "    }\n",
              "\n",
              "    .dataframe tbody tr th {\n",
              "        vertical-align: top;\n",
              "    }\n",
              "\n",
              "    .dataframe thead th {\n",
              "        text-align: right;\n",
              "    }\n",
              "</style>\n",
              "<table border=\"1\" class=\"dataframe\">\n",
              "  <thead>\n",
              "    <tr style=\"text-align: right;\">\n",
              "      <th></th>\n",
              "      <th>trending_date</th>\n",
              "      <th>title</th>\n",
              "      <th>channel_title</th>\n",
              "      <th>category_id</th>\n",
              "      <th>publish_time</th>\n",
              "      <th>tags</th>\n",
              "      <th>views</th>\n",
              "      <th>likes</th>\n",
              "      <th>dislikes</th>\n",
              "      <th>comment_count</th>\n",
              "      <th>thumbnail_link</th>\n",
              "      <th>comments_disabled</th>\n",
              "      <th>ratings_disabled</th>\n",
              "      <th>video_error_or_removed</th>\n",
              "      <th>description</th>\n",
              "      <th>country</th>\n",
              "      <th>category</th>\n",
              "      <th>likes_log</th>\n",
              "      <th>views_log</th>\n",
              "      <th>dislikes_log</th>\n",
              "      <th>comment_log</th>\n",
              "      <th>num_tags</th>\n",
              "      <th>desc_len</th>\n",
              "      <th>len_title</th>\n",
              "      <th>publish_date</th>\n",
              "      <th>publish_weekday</th>\n",
              "    </tr>\n",
              "    <tr>\n",
              "      <th>video_id</th>\n",
              "      <th></th>\n",
              "      <th></th>\n",
              "      <th></th>\n",
              "      <th></th>\n",
              "      <th></th>\n",
              "      <th></th>\n",
              "      <th></th>\n",
              "      <th></th>\n",
              "      <th></th>\n",
              "      <th></th>\n",
              "      <th></th>\n",
              "      <th></th>\n",
              "      <th></th>\n",
              "      <th></th>\n",
              "      <th></th>\n",
              "      <th></th>\n",
              "      <th></th>\n",
              "      <th></th>\n",
              "      <th></th>\n",
              "      <th></th>\n",
              "      <th></th>\n",
              "      <th></th>\n",
              "      <th></th>\n",
              "      <th></th>\n",
              "      <th></th>\n",
              "      <th></th>\n",
              "    </tr>\n",
              "  </thead>\n",
              "  <tbody>\n",
              "    <tr>\n",
              "      <th>kzwfHumJyYc</th>\n",
              "      <td>2017-11-14</td>\n",
              "      <td>Sharry Mann: Cute Munda ( Song Teaser) | Parmi...</td>\n",
              "      <td>Lokdhun Punjabi</td>\n",
              "      <td>1</td>\n",
              "      <td>12:20:39</td>\n",
              "      <td>sharry mann|\"sharry mann new song\"|\"sharry man...</td>\n",
              "      <td>1096327</td>\n",
              "      <td>33966</td>\n",
              "      <td>798</td>\n",
              "      <td>882</td>\n",
              "      <td>https://i.ytimg.com/vi/kzwfHumJyYc/default.jpg</td>\n",
              "      <td>False</td>\n",
              "      <td>False</td>\n",
              "      <td>False</td>\n",
              "      <td>Presenting Sharry Mann latest Punjabi Song  Cu...</td>\n",
              "      <td>IN</td>\n",
              "      <td>Film &amp; Animation</td>\n",
              "      <td>10.433145</td>\n",
              "      <td>13.907477</td>\n",
              "      <td>6.683361</td>\n",
              "      <td>6.783325</td>\n",
              "      <td>15</td>\n",
              "      <td>920</td>\n",
              "      <td>81</td>\n",
              "      <td>2017-11-12</td>\n",
              "      <td>7</td>\n",
              "    </tr>\n",
              "    <tr>\n",
              "      <th>zUZ1z7FwLc8</th>\n",
              "      <td>2017-11-14</td>\n",
              "      <td>पीरियड्स के समय, पेट पर पति करता ऐसा, देखकर दं...</td>\n",
              "      <td>HJ NEWS</td>\n",
              "      <td>25</td>\n",
              "      <td>05:43:56</td>\n",
              "      <td>पीरियड्स के समय|\"पेट पर पति करता ऐसा\"|\"देखकर द...</td>\n",
              "      <td>590101</td>\n",
              "      <td>735</td>\n",
              "      <td>904</td>\n",
              "      <td>0</td>\n",
              "      <td>https://i.ytimg.com/vi/zUZ1z7FwLc8/default.jpg</td>\n",
              "      <td>True</td>\n",
              "      <td>False</td>\n",
              "      <td>False</td>\n",
              "      <td>पीरियड्स के समय, पेट पर पति करता ऐसा, देखकर दं...</td>\n",
              "      <td>IN</td>\n",
              "      <td>News &amp; Politics</td>\n",
              "      <td>6.601230</td>\n",
              "      <td>13.288051</td>\n",
              "      <td>6.807935</td>\n",
              "      <td>0.000000</td>\n",
              "      <td>19</td>\n",
              "      <td>2232</td>\n",
              "      <td>58</td>\n",
              "      <td>2017-11-13</td>\n",
              "      <td>1</td>\n",
              "    </tr>\n",
              "    <tr>\n",
              "      <th>10L1hZ9qa58</th>\n",
              "      <td>2017-11-14</td>\n",
              "      <td>Stylish Star Allu Arjun @ ChaySam Wedding Rece...</td>\n",
              "      <td>TFPC</td>\n",
              "      <td>24</td>\n",
              "      <td>15:48:08</td>\n",
              "      <td>Stylish Star Allu Arjun @ ChaySam Wedding Rece...</td>\n",
              "      <td>473988</td>\n",
              "      <td>2011</td>\n",
              "      <td>243</td>\n",
              "      <td>149</td>\n",
              "      <td>https://i.ytimg.com/vi/10L1hZ9qa58/default.jpg</td>\n",
              "      <td>False</td>\n",
              "      <td>False</td>\n",
              "      <td>False</td>\n",
              "      <td>Watch Stylish Star Allu Arjun @ ChaySam Weddin...</td>\n",
              "      <td>IN</td>\n",
              "      <td>Entertainment</td>\n",
              "      <td>7.606885</td>\n",
              "      <td>13.068939</td>\n",
              "      <td>5.497168</td>\n",
              "      <td>5.010635</td>\n",
              "      <td>14</td>\n",
              "      <td>482</td>\n",
              "      <td>58</td>\n",
              "      <td>2017-11-12</td>\n",
              "      <td>7</td>\n",
              "    </tr>\n",
              "    <tr>\n",
              "      <th>N1vE8iiEg64</th>\n",
              "      <td>2017-11-14</td>\n",
              "      <td>Eruma Saani | Tamil vs English</td>\n",
              "      <td>Eruma Saani</td>\n",
              "      <td>23</td>\n",
              "      <td>07:08:48</td>\n",
              "      <td>Eruma Saani|\"Tamil Comedy Videos\"|\"Films\"|\"Mov...</td>\n",
              "      <td>1242680</td>\n",
              "      <td>70353</td>\n",
              "      <td>1624</td>\n",
              "      <td>2684</td>\n",
              "      <td>https://i.ytimg.com/vi/N1vE8iiEg64/default.jpg</td>\n",
              "      <td>False</td>\n",
              "      <td>False</td>\n",
              "      <td>False</td>\n",
              "      <td>This video showcases the difference between pe...</td>\n",
              "      <td>IN</td>\n",
              "      <td>Comedy</td>\n",
              "      <td>11.161295</td>\n",
              "      <td>14.032782</td>\n",
              "      <td>7.393263</td>\n",
              "      <td>7.895436</td>\n",
              "      <td>20</td>\n",
              "      <td>263</td>\n",
              "      <td>30</td>\n",
              "      <td>2017-11-12</td>\n",
              "      <td>7</td>\n",
              "    </tr>\n",
              "    <tr>\n",
              "      <th>kJzGH0PVQHQ</th>\n",
              "      <td>2017-11-14</td>\n",
              "      <td>why Samantha became EMOTIONAL @ Samantha naga ...</td>\n",
              "      <td>Filmylooks</td>\n",
              "      <td>24</td>\n",
              "      <td>01:14:16</td>\n",
              "      <td>Filmylooks|\"latest news\"|\"telugu movies\"|\"telu...</td>\n",
              "      <td>464015</td>\n",
              "      <td>492</td>\n",
              "      <td>293</td>\n",
              "      <td>66</td>\n",
              "      <td>https://i.ytimg.com/vi/kJzGH0PVQHQ/default.jpg</td>\n",
              "      <td>False</td>\n",
              "      <td>False</td>\n",
              "      <td>False</td>\n",
              "      <td>why Samantha became EMOTIONAL @ Samantha naga ...</td>\n",
              "      <td>IN</td>\n",
              "      <td>Entertainment</td>\n",
              "      <td>6.200509</td>\n",
              "      <td>13.047674</td>\n",
              "      <td>5.683580</td>\n",
              "      <td>4.204693</td>\n",
              "      <td>11</td>\n",
              "      <td>753</td>\n",
              "      <td>88</td>\n",
              "      <td>2017-11-13</td>\n",
              "      <td>1</td>\n",
              "    </tr>\n",
              "    <tr>\n",
              "      <th>...</th>\n",
              "      <td>...</td>\n",
              "      <td>...</td>\n",
              "      <td>...</td>\n",
              "      <td>...</td>\n",
              "      <td>...</td>\n",
              "      <td>...</td>\n",
              "      <td>...</td>\n",
              "      <td>...</td>\n",
              "      <td>...</td>\n",
              "      <td>...</td>\n",
              "      <td>...</td>\n",
              "      <td>...</td>\n",
              "      <td>...</td>\n",
              "      <td>...</td>\n",
              "      <td>...</td>\n",
              "      <td>...</td>\n",
              "      <td>...</td>\n",
              "      <td>...</td>\n",
              "      <td>...</td>\n",
              "      <td>...</td>\n",
              "      <td>...</td>\n",
              "      <td>...</td>\n",
              "      <td>...</td>\n",
              "      <td>...</td>\n",
              "      <td>...</td>\n",
              "      <td>...</td>\n",
              "    </tr>\n",
              "    <tr>\n",
              "      <th>1PhPYr_9zRY</th>\n",
              "      <td>2018-06-14</td>\n",
              "      <td>BTS Plays With Puppies While Answering Fan Que...</td>\n",
              "      <td>BuzzFeed Celeb</td>\n",
              "      <td>22</td>\n",
              "      <td>16:39:29</td>\n",
              "      <td>BuzzFeed|\"BuzzFeedVideo\"|\"Puppy Interview\"|\"pu...</td>\n",
              "      <td>8259128</td>\n",
              "      <td>645888</td>\n",
              "      <td>4052</td>\n",
              "      <td>62610</td>\n",
              "      <td>https://i.ytimg.com/vi/1PhPYr_9zRY/default.jpg</td>\n",
              "      <td>False</td>\n",
              "      <td>False</td>\n",
              "      <td>False</td>\n",
              "      <td>BTS with the PPS, the puppies. These adorable ...</td>\n",
              "      <td>US</td>\n",
              "      <td>People &amp; Blogs</td>\n",
              "      <td>13.378383</td>\n",
              "      <td>15.926830</td>\n",
              "      <td>8.307213</td>\n",
              "      <td>11.044696</td>\n",
              "      <td>27</td>\n",
              "      <td>926</td>\n",
              "      <td>52</td>\n",
              "      <td>2018-05-18</td>\n",
              "      <td>5</td>\n",
              "    </tr>\n",
              "    <tr>\n",
              "      <th>BZt0qjTWNhw</th>\n",
              "      <td>2018-06-14</td>\n",
              "      <td>The Cat Who Caught the Laser</td>\n",
              "      <td>AaronsAnimals</td>\n",
              "      <td>15</td>\n",
              "      <td>13:00:04</td>\n",
              "      <td>aarons animals|\"aarons\"|\"animals\"|\"cat\"|\"cats\"...</td>\n",
              "      <td>1685609</td>\n",
              "      <td>38160</td>\n",
              "      <td>1385</td>\n",
              "      <td>2657</td>\n",
              "      <td>https://i.ytimg.com/vi/BZt0qjTWNhw/default.jpg</td>\n",
              "      <td>False</td>\n",
              "      <td>False</td>\n",
              "      <td>False</td>\n",
              "      <td>The Cat Who Caught the Laser - Aaron's Animals</td>\n",
              "      <td>US</td>\n",
              "      <td>Pets &amp; Animals</td>\n",
              "      <td>10.549569</td>\n",
              "      <td>14.337638</td>\n",
              "      <td>7.234177</td>\n",
              "      <td>7.885329</td>\n",
              "      <td>14</td>\n",
              "      <td>46</td>\n",
              "      <td>28</td>\n",
              "      <td>2018-05-18</td>\n",
              "      <td>5</td>\n",
              "    </tr>\n",
              "    <tr>\n",
              "      <th>D6Oy4LfoqsU</th>\n",
              "      <td>2018-06-14</td>\n",
              "      <td>I GAVE SAFIYA NYGAARD A PERFECT HAIR MAKEOVER ...</td>\n",
              "      <td>Brad Mondo</td>\n",
              "      <td>24</td>\n",
              "      <td>17:34:22</td>\n",
              "      <td>I gave safiya nygaard a perfect hair makeover ...</td>\n",
              "      <td>1066451</td>\n",
              "      <td>48068</td>\n",
              "      <td>1032</td>\n",
              "      <td>3992</td>\n",
              "      <td>https://i.ytimg.com/vi/D6Oy4LfoqsU/default.jpg</td>\n",
              "      <td>False</td>\n",
              "      <td>False</td>\n",
              "      <td>False</td>\n",
              "      <td>I had so much fun transforming Safiyas hair in...</td>\n",
              "      <td>US</td>\n",
              "      <td>Entertainment</td>\n",
              "      <td>10.780393</td>\n",
              "      <td>13.879848</td>\n",
              "      <td>6.940222</td>\n",
              "      <td>8.292298</td>\n",
              "      <td>24</td>\n",
              "      <td>775</td>\n",
              "      <td>84</td>\n",
              "      <td>2018-05-18</td>\n",
              "      <td>5</td>\n",
              "    </tr>\n",
              "    <tr>\n",
              "      <th>oV0zkMe1K8s</th>\n",
              "      <td>2018-06-14</td>\n",
              "      <td>How Black Panther Should Have Ended</td>\n",
              "      <td>How It Should Have Ended</td>\n",
              "      <td>1</td>\n",
              "      <td>17:00:04</td>\n",
              "      <td>Black Panther|\"HISHE\"|\"Marvel\"|\"Infinity War\"|...</td>\n",
              "      <td>5660813</td>\n",
              "      <td>192957</td>\n",
              "      <td>2846</td>\n",
              "      <td>13088</td>\n",
              "      <td>https://i.ytimg.com/vi/oV0zkMe1K8s/default.jpg</td>\n",
              "      <td>False</td>\n",
              "      <td>False</td>\n",
              "      <td>False</td>\n",
              "      <td>How Black Panther Should Have EndedWatch More ...</td>\n",
              "      <td>US</td>\n",
              "      <td>Film &amp; Animation</td>\n",
              "      <td>12.170228</td>\n",
              "      <td>15.549078</td>\n",
              "      <td>7.954021</td>\n",
              "      <td>9.479527</td>\n",
              "      <td>22</td>\n",
              "      <td>3268</td>\n",
              "      <td>35</td>\n",
              "      <td>2018-05-17</td>\n",
              "      <td>4</td>\n",
              "    </tr>\n",
              "    <tr>\n",
              "      <th>ooyjaVdt-jA</th>\n",
              "      <td>2018-06-14</td>\n",
              "      <td>Official Call of Duty®: Black Ops 4 — Multipla...</td>\n",
              "      <td>Call of Duty</td>\n",
              "      <td>20</td>\n",
              "      <td>17:09:38</td>\n",
              "      <td>call of duty|\"cod\"|\"activision\"|\"Black Ops 4\"</td>\n",
              "      <td>10306119</td>\n",
              "      <td>357079</td>\n",
              "      <td>212976</td>\n",
              "      <td>144795</td>\n",
              "      <td>https://i.ytimg.com/vi/ooyjaVdt-jA/default.jpg</td>\n",
              "      <td>False</td>\n",
              "      <td>False</td>\n",
              "      <td>False</td>\n",
              "      <td>Call of Duty: Black Ops 4 Multiplayer raises t...</td>\n",
              "      <td>US</td>\n",
              "      <td>Gaming</td>\n",
              "      <td>12.785715</td>\n",
              "      <td>16.148248</td>\n",
              "      <td>12.268939</td>\n",
              "      <td>11.883081</td>\n",
              "      <td>4</td>\n",
              "      <td>709</td>\n",
              "      <td>64</td>\n",
              "      <td>2018-05-17</td>\n",
              "      <td>4</td>\n",
              "    </tr>\n",
              "  </tbody>\n",
              "</table>\n",
              "<p>154229 rows × 26 columns</p>\n",
              "</div>\n",
              "      <button class=\"colab-df-convert\" onclick=\"convertToInteractive('df-8e6fd522-ca64-4e05-970d-1320c63c86c9')\"\n",
              "              title=\"Convert this dataframe to an interactive table.\"\n",
              "              style=\"display:none;\">\n",
              "        \n",
              "  <svg xmlns=\"http://www.w3.org/2000/svg\" height=\"24px\"viewBox=\"0 0 24 24\"\n",
              "       width=\"24px\">\n",
              "    <path d=\"M0 0h24v24H0V0z\" fill=\"none\"/>\n",
              "    <path d=\"M18.56 5.44l.94 2.06.94-2.06 2.06-.94-2.06-.94-.94-2.06-.94 2.06-2.06.94zm-11 1L8.5 8.5l.94-2.06 2.06-.94-2.06-.94L8.5 2.5l-.94 2.06-2.06.94zm10 10l.94 2.06.94-2.06 2.06-.94-2.06-.94-.94-2.06-.94 2.06-2.06.94z\"/><path d=\"M17.41 7.96l-1.37-1.37c-.4-.4-.92-.59-1.43-.59-.52 0-1.04.2-1.43.59L10.3 9.45l-7.72 7.72c-.78.78-.78 2.05 0 2.83L4 21.41c.39.39.9.59 1.41.59.51 0 1.02-.2 1.41-.59l7.78-7.78 2.81-2.81c.8-.78.8-2.07 0-2.86zM5.41 20L4 18.59l7.72-7.72 1.47 1.35L5.41 20z\"/>\n",
              "  </svg>\n",
              "      </button>\n",
              "      \n",
              "  <style>\n",
              "    .colab-df-container {\n",
              "      display:flex;\n",
              "      flex-wrap:wrap;\n",
              "      gap: 12px;\n",
              "    }\n",
              "\n",
              "    .colab-df-convert {\n",
              "      background-color: #E8F0FE;\n",
              "      border: none;\n",
              "      border-radius: 50%;\n",
              "      cursor: pointer;\n",
              "      display: none;\n",
              "      fill: #1967D2;\n",
              "      height: 32px;\n",
              "      padding: 0 0 0 0;\n",
              "      width: 32px;\n",
              "    }\n",
              "\n",
              "    .colab-df-convert:hover {\n",
              "      background-color: #E2EBFA;\n",
              "      box-shadow: 0px 1px 2px rgba(60, 64, 67, 0.3), 0px 1px 3px 1px rgba(60, 64, 67, 0.15);\n",
              "      fill: #174EA6;\n",
              "    }\n",
              "\n",
              "    [theme=dark] .colab-df-convert {\n",
              "      background-color: #3B4455;\n",
              "      fill: #D2E3FC;\n",
              "    }\n",
              "\n",
              "    [theme=dark] .colab-df-convert:hover {\n",
              "      background-color: #434B5C;\n",
              "      box-shadow: 0px 1px 3px 1px rgba(0, 0, 0, 0.15);\n",
              "      filter: drop-shadow(0px 1px 2px rgba(0, 0, 0, 0.3));\n",
              "      fill: #FFFFFF;\n",
              "    }\n",
              "  </style>\n",
              "\n",
              "      <script>\n",
              "        const buttonEl =\n",
              "          document.querySelector('#df-8e6fd522-ca64-4e05-970d-1320c63c86c9 button.colab-df-convert');\n",
              "        buttonEl.style.display =\n",
              "          google.colab.kernel.accessAllowed ? 'block' : 'none';\n",
              "\n",
              "        async function convertToInteractive(key) {\n",
              "          const element = document.querySelector('#df-8e6fd522-ca64-4e05-970d-1320c63c86c9');\n",
              "          const dataTable =\n",
              "            await google.colab.kernel.invokeFunction('convertToInteractive',\n",
              "                                                     [key], {});\n",
              "          if (!dataTable) return;\n",
              "\n",
              "          const docLinkHtml = 'Like what you see? Visit the ' +\n",
              "            '<a target=\"_blank\" href=https://colab.research.google.com/notebooks/data_table.ipynb>data table notebook</a>'\n",
              "            + ' to learn more about interactive tables.';\n",
              "          element.innerHTML = '';\n",
              "          dataTable['output_type'] = 'display_data';\n",
              "          await google.colab.output.renderOutput(dataTable, element);\n",
              "          const docLink = document.createElement('div');\n",
              "          docLink.innerHTML = docLinkHtml;\n",
              "          element.appendChild(docLink);\n",
              "        }\n",
              "      </script>\n",
              "    </div>\n",
              "  </div>\n",
              "  "
            ],
            "text/plain": [
              "            trending_date  ... publish_weekday\n",
              "video_id                   ...                \n",
              "kzwfHumJyYc    2017-11-14  ...               7\n",
              "zUZ1z7FwLc8    2017-11-14  ...               1\n",
              "10L1hZ9qa58    2017-11-14  ...               7\n",
              "N1vE8iiEg64    2017-11-14  ...               7\n",
              "kJzGH0PVQHQ    2017-11-14  ...               1\n",
              "...                   ...  ...             ...\n",
              "1PhPYr_9zRY    2018-06-14  ...               5\n",
              "BZt0qjTWNhw    2018-06-14  ...               5\n",
              "D6Oy4LfoqsU    2018-06-14  ...               5\n",
              "oV0zkMe1K8s    2018-06-14  ...               4\n",
              "ooyjaVdt-jA    2018-06-14  ...               4\n",
              "\n",
              "[154229 rows x 26 columns]"
            ]
          },
          "metadata": {},
          "execution_count": 36
        }
      ],
      "source": [
        "combined_data"
      ]
    },
    {
      "cell_type": "markdown",
      "metadata": {
        "id": "TmBmMlkMpENj"
      },
      "source": [
        "##### d. Number of videos per weekday (1 pt)\n",
        "\n",
        "Calculate the number of videos published per day of the week. Which day of the week do people publish most videos? Make a visualization demonstrating the result."
      ]
    },
    {
      "cell_type": "code",
      "execution_count": 37,
      "metadata": {
        "colab": {
          "base_uri": "https://localhost:8080/",
          "height": 679
        },
        "id": "3jSpjeF-pEa9",
        "outputId": "496cf0dc-8b79-4e33-a099-2aff4fd413b0"
      },
      "outputs": [
        {
          "output_type": "execute_result",
          "data": {
            "text/plain": [
              "(<matplotlib.axes._subplots.AxesSubplot at 0x7efd2e652750>,\n",
              " Text(0.5, 1.0, 'Number of puplished videos per week days '))"
            ]
          },
          "metadata": {},
          "execution_count": 37
        },
        {
          "output_type": "display_data",
          "data": {
            "image/png": "[encoded data removed]",
            "text/plain": [
              "<Figure size 1080x720 with 1 Axes>"
            ]
          },
          "metadata": {}
        }
      ],
      "source": [
        "# Add your code for plot here\n",
        "\n",
        "##Creating dataframe after deleting videos which stay trending for more than one day according to the Video ID\n",
        "dfx=combined_data.reset_index(level=0)[['video_id','publish_weekday']].drop_duplicates(subset = ['video_id'], keep = 'last')\n",
        "\n",
        "##Mapping the day number : day name\n",
        "dayOfWeek={1:'Monday', 2:'Tuesday', 3:'Wednesday', 4:'Thursday', 5:'Friday', 6:'Saturday', 7:'Sunday'}\n",
        "dfx['publish_weekday'] = dfx['publish_weekday'].map(dayOfWeek)\n",
        "\n",
        "##Calculating and plotting\n",
        "videos_weekday = dfx['publish_weekday'].value_counts().to_frame().reset_index().rename(columns={\"index\": \"Week_Days\", \"publish_weekday\": \"No_of_videos\"})\n",
        "fig, ax = pyplot.subplots(figsize=(15, 10)),sns.set(font_scale=1.5)\n",
        "sns.barplot(x=\"Week_Days\", y=\"No_of_videos\", data=videos_weekday,ax=ax),plt.title('Number of puplished videos per week days ',color='Green')\n",
        "# Plots will be manually graded"
      ]
    },
    {
      "cell_type": "markdown",
      "metadata": {
        "id": "TActEADNwXUs"
      },
      "source": [
        "#### 5.2.6: Dropping irrelevant non numeric columns (1 pt.)\n",
        "\n",
        "Drop all the columns that are non-numeric as we have processed them and stored the information captured in them in the dataset as numbers. \n",
        "\n",
        "Note that a few key columns are non-numeric but should be kept in the dataframe:\n",
        "\n",
        "comments_disabled, ratings_disabled, video_error_or_removed, country\n",
        "\n",
        "Also drop original views, like, comments and dislikes as you have processed them as logs and stored them as separate feature. "
      ]
    },
    {
      "cell_type": "code",
      "execution_count": 38,
      "metadata": {
        "colab": {
          "base_uri": "https://localhost:8080/"
        },
        "id": "me_HyTxnwVL7",
        "outputId": "787e1443-638c-4dfc-ba1b-154f59b1b66d"
      },
      "outputs": [
        {
          "output_type": "execute_result",
          "data": {
            "text/plain": [
              "Index(['trending_date', 'title', 'channel_title', 'category_id',\n",
              "       'publish_time', 'tags', 'views', 'likes', 'dislikes', 'comment_count',\n",
              "       'thumbnail_link', 'comments_disabled', 'ratings_disabled',\n",
              "       'video_error_or_removed', 'description', 'country', 'category',\n",
              "       'likes_log', 'views_log', 'dislikes_log', 'comment_log', 'num_tags',\n",
              "       'desc_len', 'len_title', 'publish_date', 'publish_weekday'],\n",
              "      dtype='object')"
            ]
          },
          "metadata": {},
          "execution_count": 38
        }
      ],
      "source": [
        "combined_data.columns"
      ]
    },
    {
      "cell_type": "code",
      "execution_count": 39,
      "metadata": {
        "id": "k-z8gM2lyzA2"
      },
      "outputs": [],
      "source": [
        "# Add your code here\n",
        "combined_data.drop(['trending_date', 'title', 'channel_title', 'category_id',\n",
        "                    'publish_time', 'tags', 'views', 'likes', 'dislikes', 'comment_count',\n",
        "                    'thumbnail_link', 'description', 'publish_date'], axis = 1,inplace = True)"
      ]
    },
    {
      "cell_type": "code",
      "execution_count": 40,
      "metadata": {
        "colab": {
          "base_uri": "https://localhost:8080/",
          "height": 606
        },
        "id": "rLXf7Ize0jHG",
        "outputId": "6413c932-1fdc-4690-ec0c-f431bad094c6"
      },
      "outputs": [
        {
          "output_type": "execute_result",
          "data": {
            "text/html": [
              "\n",
              "  <div id=\"df-22440393-a6ef-41e0-9638-1a5802850344\">\n",
              "    <div class=\"colab-df-container\">\n",
              "      <div>\n",
              "<style scoped>\n",
              "    .dataframe tbody tr th:only-of-type {\n",
              "        vertical-align: middle;\n",
              "    }\n",
              "\n",
              "    .dataframe tbody tr th {\n",
              "        vertical-align: top;\n",
              "    }\n",
              "\n",
              "    .dataframe thead th {\n",
              "        text-align: right;\n",
              "    }\n",
              "</style>\n",
              "<table border=\"1\" class=\"dataframe\">\n",
              "  <thead>\n",
              "    <tr style=\"text-align: right;\">\n",
              "      <th></th>\n",
              "      <th>comments_disabled</th>\n",
              "      <th>ratings_disabled</th>\n",
              "      <th>video_error_or_removed</th>\n",
              "      <th>country</th>\n",
              "      <th>category</th>\n",
              "      <th>likes_log</th>\n",
              "      <th>views_log</th>\n",
              "      <th>dislikes_log</th>\n",
              "      <th>comment_log</th>\n",
              "      <th>num_tags</th>\n",
              "      <th>desc_len</th>\n",
              "      <th>len_title</th>\n",
              "      <th>publish_weekday</th>\n",
              "    </tr>\n",
              "    <tr>\n",
              "      <th>video_id</th>\n",
              "      <th></th>\n",
              "      <th></th>\n",
              "      <th></th>\n",
              "      <th></th>\n",
              "      <th></th>\n",
              "      <th></th>\n",
              "      <th></th>\n",
              "      <th></th>\n",
              "      <th></th>\n",
              "      <th></th>\n",
              "      <th></th>\n",
              "      <th></th>\n",
              "      <th></th>\n",
              "    </tr>\n",
              "  </thead>\n",
              "  <tbody>\n",
              "    <tr>\n",
              "      <th>kzwfHumJyYc</th>\n",
              "      <td>False</td>\n",
              "      <td>False</td>\n",
              "      <td>False</td>\n",
              "      <td>IN</td>\n",
              "      <td>Film &amp; Animation</td>\n",
              "      <td>10.433145</td>\n",
              "      <td>13.907477</td>\n",
              "      <td>6.683361</td>\n",
              "      <td>6.783325</td>\n",
              "      <td>15</td>\n",
              "      <td>920</td>\n",
              "      <td>81</td>\n",
              "      <td>7</td>\n",
              "    </tr>\n",
              "    <tr>\n",
              "      <th>zUZ1z7FwLc8</th>\n",
              "      <td>True</td>\n",
              "      <td>False</td>\n",
              "      <td>False</td>\n",
              "      <td>IN</td>\n",
              "      <td>News &amp; Politics</td>\n",
              "      <td>6.601230</td>\n",
              "      <td>13.288051</td>\n",
              "      <td>6.807935</td>\n",
              "      <td>0.000000</td>\n",
              "      <td>19</td>\n",
              "      <td>2232</td>\n",
              "      <td>58</td>\n",
              "      <td>1</td>\n",
              "    </tr>\n",
              "    <tr>\n",
              "      <th>10L1hZ9qa58</th>\n",
              "      <td>False</td>\n",
              "      <td>False</td>\n",
              "      <td>False</td>\n",
              "      <td>IN</td>\n",
              "      <td>Entertainment</td>\n",
              "      <td>7.606885</td>\n",
              "      <td>13.068939</td>\n",
              "      <td>5.497168</td>\n",
              "      <td>5.010635</td>\n",
              "      <td>14</td>\n",
              "      <td>482</td>\n",
              "      <td>58</td>\n",
              "      <td>7</td>\n",
              "    </tr>\n",
              "    <tr>\n",
              "      <th>N1vE8iiEg64</th>\n",
              "      <td>False</td>\n",
              "      <td>False</td>\n",
              "      <td>False</td>\n",
              "      <td>IN</td>\n",
              "      <td>Comedy</td>\n",
              "      <td>11.161295</td>\n",
              "      <td>14.032782</td>\n",
              "      <td>7.393263</td>\n",
              "      <td>7.895436</td>\n",
              "      <td>20</td>\n",
              "      <td>263</td>\n",
              "      <td>30</td>\n",
              "      <td>7</td>\n",
              "    </tr>\n",
              "    <tr>\n",
              "      <th>kJzGH0PVQHQ</th>\n",
              "      <td>False</td>\n",
              "      <td>False</td>\n",
              "      <td>False</td>\n",
              "      <td>IN</td>\n",
              "      <td>Entertainment</td>\n",
              "      <td>6.200509</td>\n",
              "      <td>13.047674</td>\n",
              "      <td>5.683580</td>\n",
              "      <td>4.204693</td>\n",
              "      <td>11</td>\n",
              "      <td>753</td>\n",
              "      <td>88</td>\n",
              "      <td>1</td>\n",
              "    </tr>\n",
              "    <tr>\n",
              "      <th>...</th>\n",
              "      <td>...</td>\n",
              "      <td>...</td>\n",
              "      <td>...</td>\n",
              "      <td>...</td>\n",
              "      <td>...</td>\n",
              "      <td>...</td>\n",
              "      <td>...</td>\n",
              "      <td>...</td>\n",
              "      <td>...</td>\n",
              "      <td>...</td>\n",
              "      <td>...</td>\n",
              "      <td>...</td>\n",
              "      <td>...</td>\n",
              "    </tr>\n",
              "    <tr>\n",
              "      <th>1PhPYr_9zRY</th>\n",
              "      <td>False</td>\n",
              "      <td>False</td>\n",
              "      <td>False</td>\n",
              "      <td>US</td>\n",
              "      <td>People &amp; Blogs</td>\n",
              "      <td>13.378383</td>\n",
              "      <td>15.926830</td>\n",
              "      <td>8.307213</td>\n",
              "      <td>11.044696</td>\n",
              "      <td>27</td>\n",
              "      <td>926</td>\n",
              "      <td>52</td>\n",
              "      <td>5</td>\n",
              "    </tr>\n",
              "    <tr>\n",
              "      <th>BZt0qjTWNhw</th>\n",
              "      <td>False</td>\n",
              "      <td>False</td>\n",
              "      <td>False</td>\n",
              "      <td>US</td>\n",
              "      <td>Pets &amp; Animals</td>\n",
              "      <td>10.549569</td>\n",
              "      <td>14.337638</td>\n",
              "      <td>7.234177</td>\n",
              "      <td>7.885329</td>\n",
              "      <td>14</td>\n",
              "      <td>46</td>\n",
              "      <td>28</td>\n",
              "      <td>5</td>\n",
              "    </tr>\n",
              "    <tr>\n",
              "      <th>D6Oy4LfoqsU</th>\n",
              "      <td>False</td>\n",
              "      <td>False</td>\n",
              "      <td>False</td>\n",
              "      <td>US</td>\n",
              "      <td>Entertainment</td>\n",
              "      <td>10.780393</td>\n",
              "      <td>13.879848</td>\n",
              "      <td>6.940222</td>\n",
              "      <td>8.292298</td>\n",
              "      <td>24</td>\n",
              "      <td>775</td>\n",
              "      <td>84</td>\n",
              "      <td>5</td>\n",
              "    </tr>\n",
              "    <tr>\n",
              "      <th>oV0zkMe1K8s</th>\n",
              "      <td>False</td>\n",
              "      <td>False</td>\n",
              "      <td>False</td>\n",
              "      <td>US</td>\n",
              "      <td>Film &amp; Animation</td>\n",
              "      <td>12.170228</td>\n",
              "      <td>15.549078</td>\n",
              "      <td>7.954021</td>\n",
              "      <td>9.479527</td>\n",
              "      <td>22</td>\n",
              "      <td>3268</td>\n",
              "      <td>35</td>\n",
              "      <td>4</td>\n",
              "    </tr>\n",
              "    <tr>\n",
              "      <th>ooyjaVdt-jA</th>\n",
              "      <td>False</td>\n",
              "      <td>False</td>\n",
              "      <td>False</td>\n",
              "      <td>US</td>\n",
              "      <td>Gaming</td>\n",
              "      <td>12.785715</td>\n",
              "      <td>16.148248</td>\n",
              "      <td>12.268939</td>\n",
              "      <td>11.883081</td>\n",
              "      <td>4</td>\n",
              "      <td>709</td>\n",
              "      <td>64</td>\n",
              "      <td>4</td>\n",
              "    </tr>\n",
              "  </tbody>\n",
              "</table>\n",
              "<p>154229 rows × 13 columns</p>\n",
              "</div>\n",
              "      <button class=\"colab-df-convert\" onclick=\"convertToInteractive('df-22440393-a6ef-41e0-9638-1a5802850344')\"\n",
              "              title=\"Convert this dataframe to an interactive table.\"\n",
              "              style=\"display:none;\">\n",
              "        \n",
              "  <svg xmlns=\"http://www.w3.org/2000/svg\" height=\"24px\"viewBox=\"0 0 24 24\"\n",
              "       width=\"24px\">\n",
              "    <path d=\"M0 0h24v24H0V0z\" fill=\"none\"/>\n",
              "    <path d=\"M18.56 5.44l.94 2.06.94-2.06 2.06-.94-2.06-.94-.94-2.06-.94 2.06-2.06.94zm-11 1L8.5 8.5l.94-2.06 2.06-.94-2.06-.94L8.5 2.5l-.94 2.06-2.06.94zm10 10l.94 2.06.94-2.06 2.06-.94-2.06-.94-.94-2.06-.94 2.06-2.06.94z\"/><path d=\"M17.41 7.96l-1.37-1.37c-.4-.4-.92-.59-1.43-.59-.52 0-1.04.2-1.43.59L10.3 9.45l-7.72 7.72c-.78.78-.78 2.05 0 2.83L4 21.41c.39.39.9.59 1.41.59.51 0 1.02-.2 1.41-.59l7.78-7.78 2.81-2.81c.8-.78.8-2.07 0-2.86zM5.41 20L4 18.59l7.72-7.72 1.47 1.35L5.41 20z\"/>\n",
              "  </svg>\n",
              "      </button>\n",
              "      \n",
              "  <style>\n",
              "    .colab-df-container {\n",
              "      display:flex;\n",
              "      flex-wrap:wrap;\n",
              "      gap: 12px;\n",
              "    }\n",
              "\n",
              "    .colab-df-convert {\n",
              "      background-color: #E8F0FE;\n",
              "      border: none;\n",
              "      border-radius: 50%;\n",
              "      cursor: pointer;\n",
              "      display: none;\n",
              "      fill: #1967D2;\n",
              "      height: 32px;\n",
              "      padding: 0 0 0 0;\n",
              "      width: 32px;\n",
              "    }\n",
              "\n",
              "    .colab-df-convert:hover {\n",
              "      background-color: #E2EBFA;\n",
              "      box-shadow: 0px 1px 2px rgba(60, 64, 67, 0.3), 0px 1px 3px 1px rgba(60, 64, 67, 0.15);\n",
              "      fill: #174EA6;\n",
              "    }\n",
              "\n",
              "    [theme=dark] .colab-df-convert {\n",
              "      background-color: #3B4455;\n",
              "      fill: #D2E3FC;\n",
              "    }\n",
              "\n",
              "    [theme=dark] .colab-df-convert:hover {\n",
              "      background-color: #434B5C;\n",
              "      box-shadow: 0px 1px 3px 1px rgba(0, 0, 0, 0.15);\n",
              "      filter: drop-shadow(0px 1px 2px rgba(0, 0, 0, 0.3));\n",
              "      fill: #FFFFFF;\n",
              "    }\n",
              "  </style>\n",
              "\n",
              "      <script>\n",
              "        const buttonEl =\n",
              "          document.querySelector('#df-22440393-a6ef-41e0-9638-1a5802850344 button.colab-df-convert');\n",
              "        buttonEl.style.display =\n",
              "          google.colab.kernel.accessAllowed ? 'block' : 'none';\n",
              "\n",
              "        async function convertToInteractive(key) {\n",
              "          const element = document.querySelector('#df-22440393-a6ef-41e0-9638-1a5802850344');\n",
              "          const dataTable =\n",
              "            await google.colab.kernel.invokeFunction('convertToInteractive',\n",
              "                                                     [key], {});\n",
              "          if (!dataTable) return;\n",
              "\n",
              "          const docLinkHtml = 'Like what you see? Visit the ' +\n",
              "            '<a target=\"_blank\" href=https://colab.research.google.com/notebooks/data_table.ipynb>data table notebook</a>'\n",
              "            + ' to learn more about interactive tables.';\n",
              "          element.innerHTML = '';\n",
              "          dataTable['output_type'] = 'display_data';\n",
              "          await google.colab.output.renderOutput(dataTable, element);\n",
              "          const docLink = document.createElement('div');\n",
              "          docLink.innerHTML = docLinkHtml;\n",
              "          element.appendChild(docLink);\n",
              "        }\n",
              "      </script>\n",
              "    </div>\n",
              "  </div>\n",
              "  "
            ],
            "text/plain": [
              "             comments_disabled  ratings_disabled  ...  len_title publish_weekday\n",
              "video_id                                          ...                           \n",
              "kzwfHumJyYc              False             False  ...         81               7\n",
              "zUZ1z7FwLc8               True             False  ...         58               1\n",
              "10L1hZ9qa58              False             False  ...         58               7\n",
              "N1vE8iiEg64              False             False  ...         30               7\n",
              "kJzGH0PVQHQ              False             False  ...         88               1\n",
              "...                        ...               ...  ...        ...             ...\n",
              "1PhPYr_9zRY              False             False  ...         52               5\n",
              "BZt0qjTWNhw              False             False  ...         28               5\n",
              "D6Oy4LfoqsU              False             False  ...         84               5\n",
              "oV0zkMe1K8s              False             False  ...         35               4\n",
              "ooyjaVdt-jA              False             False  ...         64               4\n",
              "\n",
              "[154229 rows x 13 columns]"
            ]
          },
          "metadata": {},
          "execution_count": 40
        }
      ],
      "source": [
        "combined_data"
      ]
    },
    {
      "cell_type": "markdown",
      "metadata": {
        "id": "hHcKZhs10713"
      },
      "source": [
        "#### 5.2.7: Convert categorical features in the dataset into one hot vectors. (3 pts)\n",
        "\n",
        "There are three categorical features remaining in the dataset, identify them and convert them into one hot vectors. Be sure that when you one hot encode, the original column is replaced."
      ]
    },
    {
      "cell_type": "code",
      "execution_count": 41,
      "metadata": {
        "id": "65zcoDkv05p4"
      },
      "outputs": [],
      "source": [
        "combined_data.publish_weekday = combined_data.publish_weekday.astype('category')\n",
        "combined_data.country = combined_data.country.astype('category')\n",
        "combined_data.category = combined_data.category.astype('category')\n",
        "combined_data= pd.get_dummies(combined_data)\n",
        "# Hint: Use pd.get_dummies()range. "
      ]
    },
    {
      "cell_type": "code",
      "execution_count": 42,
      "metadata": {
        "colab": {
          "base_uri": "https://localhost:8080/",
          "height": 536
        },
        "id": "y-FptYMU1SIi",
        "outputId": "8e498847-8fae-43d4-8838-c0e3e0b120d3"
      },
      "outputs": [
        {
          "output_type": "execute_result",
          "data": {
            "text/html": [
              "\n",
              "  <div id=\"df-8b7f7eaa-0ad4-45a1-b78a-c38364cfd319\">\n",
              "    <div class=\"colab-df-container\">\n",
              "      <div>\n",
              "<style scoped>\n",
              "    .dataframe tbody tr th:only-of-type {\n",
              "        vertical-align: middle;\n",
              "    }\n",
              "\n",
              "    .dataframe tbody tr th {\n",
              "        vertical-align: top;\n",
              "    }\n",
              "\n",
              "    .dataframe thead th {\n",
              "        text-align: right;\n",
              "    }\n",
              "</style>\n",
              "<table border=\"1\" class=\"dataframe\">\n",
              "  <thead>\n",
              "    <tr style=\"text-align: right;\">\n",
              "      <th></th>\n",
              "      <th>comments_disabled</th>\n",
              "      <th>ratings_disabled</th>\n",
              "      <th>video_error_or_removed</th>\n",
              "      <th>likes_log</th>\n",
              "      <th>views_log</th>\n",
              "      <th>dislikes_log</th>\n",
              "      <th>comment_log</th>\n",
              "      <th>num_tags</th>\n",
              "      <th>desc_len</th>\n",
              "      <th>len_title</th>\n",
              "      <th>country_CA</th>\n",
              "      <th>country_FR</th>\n",
              "      <th>country_IN</th>\n",
              "      <th>country_US</th>\n",
              "      <th>category_Autos &amp; Vehicles</th>\n",
              "      <th>category_Comedy</th>\n",
              "      <th>category_Education</th>\n",
              "      <th>category_Entertainment</th>\n",
              "      <th>category_Film &amp; Animation</th>\n",
              "      <th>category_Gaming</th>\n",
              "      <th>category_Howto &amp; Style</th>\n",
              "      <th>category_Movies</th>\n",
              "      <th>category_Music</th>\n",
              "      <th>category_News &amp; Politics</th>\n",
              "      <th>category_People &amp; Blogs</th>\n",
              "      <th>category_Pets &amp; Animals</th>\n",
              "      <th>category_Science &amp; Technology</th>\n",
              "      <th>category_Shows</th>\n",
              "      <th>category_Sports</th>\n",
              "      <th>category_Trailers</th>\n",
              "      <th>category_Travel &amp; Events</th>\n",
              "      <th>publish_weekday_1</th>\n",
              "      <th>publish_weekday_2</th>\n",
              "      <th>publish_weekday_3</th>\n",
              "      <th>publish_weekday_4</th>\n",
              "      <th>publish_weekday_5</th>\n",
              "      <th>publish_weekday_6</th>\n",
              "      <th>publish_weekday_7</th>\n",
              "    </tr>\n",
              "    <tr>\n",
              "      <th>video_id</th>\n",
              "      <th></th>\n",
              "      <th></th>\n",
              "      <th></th>\n",
              "      <th></th>\n",
              "      <th></th>\n",
              "      <th></th>\n",
              "      <th></th>\n",
              "      <th></th>\n",
              "      <th></th>\n",
              "      <th></th>\n",
              "      <th></th>\n",
              "      <th></th>\n",
              "      <th></th>\n",
              "      <th></th>\n",
              "      <th></th>\n",
              "      <th></th>\n",
              "      <th></th>\n",
              "      <th></th>\n",
              "      <th></th>\n",
              "      <th></th>\n",
              "      <th></th>\n",
              "      <th></th>\n",
              "      <th></th>\n",
              "      <th></th>\n",
              "      <th></th>\n",
              "      <th></th>\n",
              "      <th></th>\n",
              "      <th></th>\n",
              "      <th></th>\n",
              "      <th></th>\n",
              "      <th></th>\n",
              "      <th></th>\n",
              "      <th></th>\n",
              "      <th></th>\n",
              "      <th></th>\n",
              "      <th></th>\n",
              "      <th></th>\n",
              "      <th></th>\n",
              "    </tr>\n",
              "  </thead>\n",
              "  <tbody>\n",
              "    <tr>\n",
              "      <th>kzwfHumJyYc</th>\n",
              "      <td>False</td>\n",
              "      <td>False</td>\n",
              "      <td>False</td>\n",
              "      <td>10.433145</td>\n",
              "      <td>13.907477</td>\n",
              "      <td>6.683361</td>\n",
              "      <td>6.783325</td>\n",
              "      <td>15</td>\n",
              "      <td>920</td>\n",
              "      <td>81</td>\n",
              "      <td>0</td>\n",
              "      <td>0</td>\n",
              "      <td>1</td>\n",
              "      <td>0</td>\n",
              "      <td>0</td>\n",
              "      <td>0</td>\n",
              "      <td>0</td>\n",
              "      <td>0</td>\n",
              "      <td>1</td>\n",
              "      <td>0</td>\n",
              "      <td>0</td>\n",
              "      <td>0</td>\n",
              "      <td>0</td>\n",
              "      <td>0</td>\n",
              "      <td>0</td>\n",
              "      <td>0</td>\n",
              "      <td>0</td>\n",
              "      <td>0</td>\n",
              "      <td>0</td>\n",
              "      <td>0</td>\n",
              "      <td>0</td>\n",
              "      <td>0</td>\n",
              "      <td>0</td>\n",
              "      <td>0</td>\n",
              "      <td>0</td>\n",
              "      <td>0</td>\n",
              "      <td>0</td>\n",
              "      <td>1</td>\n",
              "    </tr>\n",
              "    <tr>\n",
              "      <th>zUZ1z7FwLc8</th>\n",
              "      <td>True</td>\n",
              "      <td>False</td>\n",
              "      <td>False</td>\n",
              "      <td>6.601230</td>\n",
              "      <td>13.288051</td>\n",
              "      <td>6.807935</td>\n",
              "      <td>0.000000</td>\n",
              "      <td>19</td>\n",
              "      <td>2232</td>\n",
              "      <td>58</td>\n",
              "      <td>0</td>\n",
              "      <td>0</td>\n",
              "      <td>1</td>\n",
              "      <td>0</td>\n",
              "      <td>0</td>\n",
              "      <td>0</td>\n",
              "      <td>0</td>\n",
              "      <td>0</td>\n",
              "      <td>0</td>\n",
              "      <td>0</td>\n",
              "      <td>0</td>\n",
              "      <td>0</td>\n",
              "      <td>0</td>\n",
              "      <td>1</td>\n",
              "      <td>0</td>\n",
              "      <td>0</td>\n",
              "      <td>0</td>\n",
              "      <td>0</td>\n",
              "      <td>0</td>\n",
              "      <td>0</td>\n",
              "      <td>0</td>\n",
              "      <td>1</td>\n",
              "      <td>0</td>\n",
              "      <td>0</td>\n",
              "      <td>0</td>\n",
              "      <td>0</td>\n",
              "      <td>0</td>\n",
              "      <td>0</td>\n",
              "    </tr>\n",
              "    <tr>\n",
              "      <th>10L1hZ9qa58</th>\n",
              "      <td>False</td>\n",
              "      <td>False</td>\n",
              "      <td>False</td>\n",
              "      <td>7.606885</td>\n",
              "      <td>13.068939</td>\n",
              "      <td>5.497168</td>\n",
              "      <td>5.010635</td>\n",
              "      <td>14</td>\n",
              "      <td>482</td>\n",
              "      <td>58</td>\n",
              "      <td>0</td>\n",
              "      <td>0</td>\n",
              "      <td>1</td>\n",
              "      <td>0</td>\n",
              "      <td>0</td>\n",
              "      <td>0</td>\n",
              "      <td>0</td>\n",
              "      <td>1</td>\n",
              "      <td>0</td>\n",
              "      <td>0</td>\n",
              "      <td>0</td>\n",
              "      <td>0</td>\n",
              "      <td>0</td>\n",
              "      <td>0</td>\n",
              "      <td>0</td>\n",
              "      <td>0</td>\n",
              "      <td>0</td>\n",
              "      <td>0</td>\n",
              "      <td>0</td>\n",
              "      <td>0</td>\n",
              "      <td>0</td>\n",
              "      <td>0</td>\n",
              "      <td>0</td>\n",
              "      <td>0</td>\n",
              "      <td>0</td>\n",
              "      <td>0</td>\n",
              "      <td>0</td>\n",
              "      <td>1</td>\n",
              "    </tr>\n",
              "    <tr>\n",
              "      <th>N1vE8iiEg64</th>\n",
              "      <td>False</td>\n",
              "      <td>False</td>\n",
              "      <td>False</td>\n",
              "      <td>11.161295</td>\n",
              "      <td>14.032782</td>\n",
              "      <td>7.393263</td>\n",
              "      <td>7.895436</td>\n",
              "      <td>20</td>\n",
              "      <td>263</td>\n",
              "      <td>30</td>\n",
              "      <td>0</td>\n",
              "      <td>0</td>\n",
              "      <td>1</td>\n",
              "      <td>0</td>\n",
              "      <td>0</td>\n",
              "      <td>1</td>\n",
              "      <td>0</td>\n",
              "      <td>0</td>\n",
              "      <td>0</td>\n",
              "      <td>0</td>\n",
              "      <td>0</td>\n",
              "      <td>0</td>\n",
              "      <td>0</td>\n",
              "      <td>0</td>\n",
              "      <td>0</td>\n",
              "      <td>0</td>\n",
              "      <td>0</td>\n",
              "      <td>0</td>\n",
              "      <td>0</td>\n",
              "      <td>0</td>\n",
              "      <td>0</td>\n",
              "      <td>0</td>\n",
              "      <td>0</td>\n",
              "      <td>0</td>\n",
              "      <td>0</td>\n",
              "      <td>0</td>\n",
              "      <td>0</td>\n",
              "      <td>1</td>\n",
              "    </tr>\n",
              "    <tr>\n",
              "      <th>kJzGH0PVQHQ</th>\n",
              "      <td>False</td>\n",
              "      <td>False</td>\n",
              "      <td>False</td>\n",
              "      <td>6.200509</td>\n",
              "      <td>13.047674</td>\n",
              "      <td>5.683580</td>\n",
              "      <td>4.204693</td>\n",
              "      <td>11</td>\n",
              "      <td>753</td>\n",
              "      <td>88</td>\n",
              "      <td>0</td>\n",
              "      <td>0</td>\n",
              "      <td>1</td>\n",
              "      <td>0</td>\n",
              "      <td>0</td>\n",
              "      <td>0</td>\n",
              "      <td>0</td>\n",
              "      <td>1</td>\n",
              "      <td>0</td>\n",
              "      <td>0</td>\n",
              "      <td>0</td>\n",
              "      <td>0</td>\n",
              "      <td>0</td>\n",
              "      <td>0</td>\n",
              "      <td>0</td>\n",
              "      <td>0</td>\n",
              "      <td>0</td>\n",
              "      <td>0</td>\n",
              "      <td>0</td>\n",
              "      <td>0</td>\n",
              "      <td>0</td>\n",
              "      <td>1</td>\n",
              "      <td>0</td>\n",
              "      <td>0</td>\n",
              "      <td>0</td>\n",
              "      <td>0</td>\n",
              "      <td>0</td>\n",
              "      <td>0</td>\n",
              "    </tr>\n",
              "    <tr>\n",
              "      <th>...</th>\n",
              "      <td>...</td>\n",
              "      <td>...</td>\n",
              "      <td>...</td>\n",
              "      <td>...</td>\n",
              "      <td>...</td>\n",
              "      <td>...</td>\n",
              "      <td>...</td>\n",
              "      <td>...</td>\n",
              "      <td>...</td>\n",
              "      <td>...</td>\n",
              "      <td>...</td>\n",
              "      <td>...</td>\n",
              "      <td>...</td>\n",
              "      <td>...</td>\n",
              "      <td>...</td>\n",
              "      <td>...</td>\n",
              "      <td>...</td>\n",
              "      <td>...</td>\n",
              "      <td>...</td>\n",
              "      <td>...</td>\n",
              "      <td>...</td>\n",
              "      <td>...</td>\n",
              "      <td>...</td>\n",
              "      <td>...</td>\n",
              "      <td>...</td>\n",
              "      <td>...</td>\n",
              "      <td>...</td>\n",
              "      <td>...</td>\n",
              "      <td>...</td>\n",
              "      <td>...</td>\n",
              "      <td>...</td>\n",
              "      <td>...</td>\n",
              "      <td>...</td>\n",
              "      <td>...</td>\n",
              "      <td>...</td>\n",
              "      <td>...</td>\n",
              "      <td>...</td>\n",
              "      <td>...</td>\n",
              "    </tr>\n",
              "    <tr>\n",
              "      <th>1PhPYr_9zRY</th>\n",
              "      <td>False</td>\n",
              "      <td>False</td>\n",
              "      <td>False</td>\n",
              "      <td>13.378383</td>\n",
              "      <td>15.926830</td>\n",
              "      <td>8.307213</td>\n",
              "      <td>11.044696</td>\n",
              "      <td>27</td>\n",
              "      <td>926</td>\n",
              "      <td>52</td>\n",
              "      <td>0</td>\n",
              "      <td>0</td>\n",
              "      <td>0</td>\n",
              "      <td>1</td>\n",
              "      <td>0</td>\n",
              "      <td>0</td>\n",
              "      <td>0</td>\n",
              "      <td>0</td>\n",
              "      <td>0</td>\n",
              "      <td>0</td>\n",
              "      <td>0</td>\n",
              "      <td>0</td>\n",
              "      <td>0</td>\n",
              "      <td>0</td>\n",
              "      <td>1</td>\n",
              "      <td>0</td>\n",
              "      <td>0</td>\n",
              "      <td>0</td>\n",
              "      <td>0</td>\n",
              "      <td>0</td>\n",
              "      <td>0</td>\n",
              "      <td>0</td>\n",
              "      <td>0</td>\n",
              "      <td>0</td>\n",
              "      <td>0</td>\n",
              "      <td>1</td>\n",
              "      <td>0</td>\n",
              "      <td>0</td>\n",
              "    </tr>\n",
              "    <tr>\n",
              "      <th>BZt0qjTWNhw</th>\n",
              "      <td>False</td>\n",
              "      <td>False</td>\n",
              "      <td>False</td>\n",
              "      <td>10.549569</td>\n",
              "      <td>14.337638</td>\n",
              "      <td>7.234177</td>\n",
              "      <td>7.885329</td>\n",
              "      <td>14</td>\n",
              "      <td>46</td>\n",
              "      <td>28</td>\n",
              "      <td>0</td>\n",
              "      <td>0</td>\n",
              "      <td>0</td>\n",
              "      <td>1</td>\n",
              "      <td>0</td>\n",
              "      <td>0</td>\n",
              "      <td>0</td>\n",
              "      <td>0</td>\n",
              "      <td>0</td>\n",
              "      <td>0</td>\n",
              "      <td>0</td>\n",
              "      <td>0</td>\n",
              "      <td>0</td>\n",
              "      <td>0</td>\n",
              "      <td>0</td>\n",
              "      <td>1</td>\n",
              "      <td>0</td>\n",
              "      <td>0</td>\n",
              "      <td>0</td>\n",
              "      <td>0</td>\n",
              "      <td>0</td>\n",
              "      <td>0</td>\n",
              "      <td>0</td>\n",
              "      <td>0</td>\n",
              "      <td>0</td>\n",
              "      <td>1</td>\n",
              "      <td>0</td>\n",
              "      <td>0</td>\n",
              "    </tr>\n",
              "    <tr>\n",
              "      <th>D6Oy4LfoqsU</th>\n",
              "      <td>False</td>\n",
              "      <td>False</td>\n",
              "      <td>False</td>\n",
              "      <td>10.780393</td>\n",
              "      <td>13.879848</td>\n",
              "      <td>6.940222</td>\n",
              "      <td>8.292298</td>\n",
              "      <td>24</td>\n",
              "      <td>775</td>\n",
              "      <td>84</td>\n",
              "      <td>0</td>\n",
              "      <td>0</td>\n",
              "      <td>0</td>\n",
              "      <td>1</td>\n",
              "      <td>0</td>\n",
              "      <td>0</td>\n",
              "      <td>0</td>\n",
              "      <td>1</td>\n",
              "      <td>0</td>\n",
              "      <td>0</td>\n",
              "      <td>0</td>\n",
              "      <td>0</td>\n",
              "      <td>0</td>\n",
              "      <td>0</td>\n",
              "      <td>0</td>\n",
              "      <td>0</td>\n",
              "      <td>0</td>\n",
              "      <td>0</td>\n",
              "      <td>0</td>\n",
              "      <td>0</td>\n",
              "      <td>0</td>\n",
              "      <td>0</td>\n",
              "      <td>0</td>\n",
              "      <td>0</td>\n",
              "      <td>0</td>\n",
              "      <td>1</td>\n",
              "      <td>0</td>\n",
              "      <td>0</td>\n",
              "    </tr>\n",
              "    <tr>\n",
              "      <th>oV0zkMe1K8s</th>\n",
              "      <td>False</td>\n",
              "      <td>False</td>\n",
              "      <td>False</td>\n",
              "      <td>12.170228</td>\n",
              "      <td>15.549078</td>\n",
              "      <td>7.954021</td>\n",
              "      <td>9.479527</td>\n",
              "      <td>22</td>\n",
              "      <td>3268</td>\n",
              "      <td>35</td>\n",
              "      <td>0</td>\n",
              "      <td>0</td>\n",
              "      <td>0</td>\n",
              "      <td>1</td>\n",
              "      <td>0</td>\n",
              "      <td>0</td>\n",
              "      <td>0</td>\n",
              "      <td>0</td>\n",
              "      <td>1</td>\n",
              "      <td>0</td>\n",
              "      <td>0</td>\n",
              "      <td>0</td>\n",
              "      <td>0</td>\n",
              "      <td>0</td>\n",
              "      <td>0</td>\n",
              "      <td>0</td>\n",
              "      <td>0</td>\n",
              "      <td>0</td>\n",
              "      <td>0</td>\n",
              "      <td>0</td>\n",
              "      <td>0</td>\n",
              "      <td>0</td>\n",
              "      <td>0</td>\n",
              "      <td>0</td>\n",
              "      <td>1</td>\n",
              "      <td>0</td>\n",
              "      <td>0</td>\n",
              "      <td>0</td>\n",
              "    </tr>\n",
              "    <tr>\n",
              "      <th>ooyjaVdt-jA</th>\n",
              "      <td>False</td>\n",
              "      <td>False</td>\n",
              "      <td>False</td>\n",
              "      <td>12.785715</td>\n",
              "      <td>16.148248</td>\n",
              "      <td>12.268939</td>\n",
              "      <td>11.883081</td>\n",
              "      <td>4</td>\n",
              "      <td>709</td>\n",
              "      <td>64</td>\n",
              "      <td>0</td>\n",
              "      <td>0</td>\n",
              "      <td>0</td>\n",
              "      <td>1</td>\n",
              "      <td>0</td>\n",
              "      <td>0</td>\n",
              "      <td>0</td>\n",
              "      <td>0</td>\n",
              "      <td>0</td>\n",
              "      <td>1</td>\n",
              "      <td>0</td>\n",
              "      <td>0</td>\n",
              "      <td>0</td>\n",
              "      <td>0</td>\n",
              "      <td>0</td>\n",
              "      <td>0</td>\n",
              "      <td>0</td>\n",
              "      <td>0</td>\n",
              "      <td>0</td>\n",
              "      <td>0</td>\n",
              "      <td>0</td>\n",
              "      <td>0</td>\n",
              "      <td>0</td>\n",
              "      <td>0</td>\n",
              "      <td>1</td>\n",
              "      <td>0</td>\n",
              "      <td>0</td>\n",
              "      <td>0</td>\n",
              "    </tr>\n",
              "  </tbody>\n",
              "</table>\n",
              "<p>154229 rows × 38 columns</p>\n",
              "</div>\n",
              "      <button class=\"colab-df-convert\" onclick=\"convertToInteractive('df-8b7f7eaa-0ad4-45a1-b78a-c38364cfd319')\"\n",
              "              title=\"Convert this dataframe to an interactive table.\"\n",
              "              style=\"display:none;\">\n",
              "        \n",
              "  <svg xmlns=\"http://www.w3.org/2000/svg\" height=\"24px\"viewBox=\"0 0 24 24\"\n",
              "       width=\"24px\">\n",
              "    <path d=\"M0 0h24v24H0V0z\" fill=\"none\"/>\n",
              "    <path d=\"M18.56 5.44l.94 2.06.94-2.06 2.06-.94-2.06-.94-.94-2.06-.94 2.06-2.06.94zm-11 1L8.5 8.5l.94-2.06 2.06-.94-2.06-.94L8.5 2.5l-.94 2.06-2.06.94zm10 10l.94 2.06.94-2.06 2.06-.94-2.06-.94-.94-2.06-.94 2.06-2.06.94z\"/><path d=\"M17.41 7.96l-1.37-1.37c-.4-.4-.92-.59-1.43-.59-.52 0-1.04.2-1.43.59L10.3 9.45l-7.72 7.72c-.78.78-.78 2.05 0 2.83L4 21.41c.39.39.9.59 1.41.59.51 0 1.02-.2 1.41-.59l7.78-7.78 2.81-2.81c.8-.78.8-2.07 0-2.86zM5.41 20L4 18.59l7.72-7.72 1.47 1.35L5.41 20z\"/>\n",
              "  </svg>\n",
              "      </button>\n",
              "      \n",
              "  <style>\n",
              "    .colab-df-container {\n",
              "      display:flex;\n",
              "      flex-wrap:wrap;\n",
              "      gap: 12px;\n",
              "    }\n",
              "\n",
              "    .colab-df-convert {\n",
              "      background-color: #E8F0FE;\n",
              "      border: none;\n",
              "      border-radius: 50%;\n",
              "      cursor: pointer;\n",
              "      display: none;\n",
              "      fill: #1967D2;\n",
              "      height: 32px;\n",
              "      padding: 0 0 0 0;\n",
              "      width: 32px;\n",
              "    }\n",
              "\n",
              "    .colab-df-convert:hover {\n",
              "      background-color: #E2EBFA;\n",
              "      box-shadow: 0px 1px 2px rgba(60, 64, 67, 0.3), 0px 1px 3px 1px rgba(60, 64, 67, 0.15);\n",
              "      fill: #174EA6;\n",
              "    }\n",
              "\n",
              "    [theme=dark] .colab-df-convert {\n",
              "      background-color: #3B4455;\n",
              "      fill: #D2E3FC;\n",
              "    }\n",
              "\n",
              "    [theme=dark] .colab-df-convert:hover {\n",
              "      background-color: #434B5C;\n",
              "      box-shadow: 0px 1px 3px 1px rgba(0, 0, 0, 0.15);\n",
              "      filter: drop-shadow(0px 1px 2px rgba(0, 0, 0, 0.3));\n",
              "      fill: #FFFFFF;\n",
              "    }\n",
              "  </style>\n",
              "\n",
              "      <script>\n",
              "        const buttonEl =\n",
              "          document.querySelector('#df-8b7f7eaa-0ad4-45a1-b78a-c38364cfd319 button.colab-df-convert');\n",
              "        buttonEl.style.display =\n",
              "          google.colab.kernel.accessAllowed ? 'block' : 'none';\n",
              "\n",
              "        async function convertToInteractive(key) {\n",
              "          const element = document.querySelector('#df-8b7f7eaa-0ad4-45a1-b78a-c38364cfd319');\n",
              "          const dataTable =\n",
              "            await google.colab.kernel.invokeFunction('convertToInteractive',\n",
              "                                                     [key], {});\n",
              "          if (!dataTable) return;\n",
              "\n",
              "          const docLinkHtml = 'Like what you see? Visit the ' +\n",
              "            '<a target=\"_blank\" href=https://colab.research.google.com/notebooks/data_table.ipynb>data table notebook</a>'\n",
              "            + ' to learn more about interactive tables.';\n",
              "          element.innerHTML = '';\n",
              "          dataTable['output_type'] = 'display_data';\n",
              "          await google.colab.output.renderOutput(dataTable, element);\n",
              "          const docLink = document.createElement('div');\n",
              "          docLink.innerHTML = docLinkHtml;\n",
              "          element.appendChild(docLink);\n",
              "        }\n",
              "      </script>\n",
              "    </div>\n",
              "  </div>\n",
              "  "
            ],
            "text/plain": [
              "             comments_disabled  ...  publish_weekday_7\n",
              "video_id                        ...                   \n",
              "kzwfHumJyYc              False  ...                  1\n",
              "zUZ1z7FwLc8               True  ...                  0\n",
              "10L1hZ9qa58              False  ...                  1\n",
              "N1vE8iiEg64              False  ...                  1\n",
              "kJzGH0PVQHQ              False  ...                  0\n",
              "...                        ...  ...                ...\n",
              "1PhPYr_9zRY              False  ...                  0\n",
              "BZt0qjTWNhw              False  ...                  0\n",
              "D6Oy4LfoqsU              False  ...                  0\n",
              "oV0zkMe1K8s              False  ...                  0\n",
              "ooyjaVdt-jA              False  ...                  0\n",
              "\n",
              "[154229 rows x 38 columns]"
            ]
          },
          "metadata": {},
          "execution_count": 42
        }
      ],
      "source": [
        "combined_data"
      ]
    },
    {
      "cell_type": "code",
      "execution_count": 43,
      "metadata": {
        "colab": {
          "base_uri": "https://localhost:8080/"
        },
        "id": "8zD2QAKt_MT3",
        "outputId": "84d66c8e-7884-43f9-d88f-30f3ea18ff26"
      },
      "outputs": [
        {
          "output_type": "stream",
          "name": "stdout",
          "text": [
            "check_final_df (154229, 38)\n"
          ]
        }
      ],
      "source": [
        "print('check_final_df',(combined_data.shape))"
      ]
    },
    {
      "cell_type": "code",
      "execution_count": 44,
      "metadata": {
        "id": "SuEBZtrD_ajx"
      },
      "outputs": [],
      "source": [
        "combined_data_sec_2 = combined_data.copy()\n",
        "combined_data_sec_2.rename(columns = {'views_log':'label'}, inplace = True) \n",
        "combined_data_sec_2.to_csv('combined_data.csv')"
      ]
    },
    {
      "cell_type": "markdown",
      "metadata": {
        "id": "WSHYiF1u_zFB"
      },
      "source": [
        "#### 5.2.8: Split into x and y (1 pt)\n",
        "\n",
        "Split the data into features and label, in this case the features are anything but views_log and the label is views_log."
      ]
    },
    {
      "cell_type": "code",
      "execution_count": 45,
      "metadata": {
        "colab": {
          "base_uri": "https://localhost:8080/"
        },
        "id": "tLkOH8UsCE0V",
        "outputId": "59e4d900-6cd3-4487-9290-b5b5161f348a"
      },
      "outputs": [
        {
          "output_type": "execute_result",
          "data": {
            "text/plain": [
              "Index(['comments_disabled', 'ratings_disabled', 'video_error_or_removed',\n",
              "       'likes_log', 'views_log', 'dislikes_log', 'comment_log', 'num_tags',\n",
              "       'desc_len', 'len_title', 'country_CA', 'country_FR', 'country_IN',\n",
              "       'country_US', 'category_Autos & Vehicles', 'category_Comedy',\n",
              "       'category_Education', 'category_Entertainment',\n",
              "       'category_Film & Animation', 'category_Gaming',\n",
              "       'category_Howto & Style', 'category_Movies', 'category_Music',\n",
              "       'category_News & Politics', 'category_People & Blogs',\n",
              "       'category_Pets & Animals', 'category_Science & Technology',\n",
              "       'category_Shows', 'category_Sports', 'category_Trailers',\n",
              "       'category_Travel & Events', 'publish_weekday_1', 'publish_weekday_2',\n",
              "       'publish_weekday_3', 'publish_weekday_4', 'publish_weekday_5',\n",
              "       'publish_weekday_6', 'publish_weekday_7'],\n",
              "      dtype='object')"
            ]
          },
          "metadata": {},
          "execution_count": 45
        }
      ],
      "source": [
        "combined_data.columns"
      ]
    },
    {
      "cell_type": "code",
      "execution_count": 46,
      "metadata": {
        "id": "kbANVWxJDZzJ"
      },
      "outputs": [],
      "source": [
        "# Add your code here\n",
        "combined_data=pd.read_csv('combined_data.csv').set_index('video_id')\n",
        "label = combined_data['label']\n",
        "features = combined_data.drop(['label'],axis=1)"
      ]
    },
    {
      "cell_type": "code",
      "execution_count": 47,
      "metadata": {
        "colab": {
          "base_uri": "https://localhost:8080/",
          "height": 536
        },
        "id": "EhtXewwbDoJU",
        "outputId": "910687fe-c23a-4f9c-bd03-b7f0c77c9795"
      },
      "outputs": [
        {
          "output_type": "execute_result",
          "data": {
            "text/html": [
              "\n",
              "  <div id=\"df-8914ba9b-41cd-4bff-a38d-2674c4cde40b\">\n",
              "    <div class=\"colab-df-container\">\n",
              "      <div>\n",
              "<style scoped>\n",
              "    .dataframe tbody tr th:only-of-type {\n",
              "        vertical-align: middle;\n",
              "    }\n",
              "\n",
              "    .dataframe tbody tr th {\n",
              "        vertical-align: top;\n",
              "    }\n",
              "\n",
              "    .dataframe thead th {\n",
              "        text-align: right;\n",
              "    }\n",
              "</style>\n",
              "<table border=\"1\" class=\"dataframe\">\n",
              "  <thead>\n",
              "    <tr style=\"text-align: right;\">\n",
              "      <th></th>\n",
              "      <th>comments_disabled</th>\n",
              "      <th>ratings_disabled</th>\n",
              "      <th>video_error_or_removed</th>\n",
              "      <th>likes_log</th>\n",
              "      <th>label</th>\n",
              "      <th>dislikes_log</th>\n",
              "      <th>comment_log</th>\n",
              "      <th>num_tags</th>\n",
              "      <th>desc_len</th>\n",
              "      <th>len_title</th>\n",
              "      <th>country_CA</th>\n",
              "      <th>country_FR</th>\n",
              "      <th>country_IN</th>\n",
              "      <th>country_US</th>\n",
              "      <th>category_Autos &amp; Vehicles</th>\n",
              "      <th>category_Comedy</th>\n",
              "      <th>category_Education</th>\n",
              "      <th>category_Entertainment</th>\n",
              "      <th>category_Film &amp; Animation</th>\n",
              "      <th>category_Gaming</th>\n",
              "      <th>category_Howto &amp; Style</th>\n",
              "      <th>category_Movies</th>\n",
              "      <th>category_Music</th>\n",
              "      <th>category_News &amp; Politics</th>\n",
              "      <th>category_People &amp; Blogs</th>\n",
              "      <th>category_Pets &amp; Animals</th>\n",
              "      <th>category_Science &amp; Technology</th>\n",
              "      <th>category_Shows</th>\n",
              "      <th>category_Sports</th>\n",
              "      <th>category_Trailers</th>\n",
              "      <th>category_Travel &amp; Events</th>\n",
              "      <th>publish_weekday_1</th>\n",
              "      <th>publish_weekday_2</th>\n",
              "      <th>publish_weekday_3</th>\n",
              "      <th>publish_weekday_4</th>\n",
              "      <th>publish_weekday_5</th>\n",
              "      <th>publish_weekday_6</th>\n",
              "      <th>publish_weekday_7</th>\n",
              "    </tr>\n",
              "    <tr>\n",
              "      <th>video_id</th>\n",
              "      <th></th>\n",
              "      <th></th>\n",
              "      <th></th>\n",
              "      <th></th>\n",
              "      <th></th>\n",
              "      <th></th>\n",
              "      <th></th>\n",
              "      <th></th>\n",
              "      <th></th>\n",
              "      <th></th>\n",
              "      <th></th>\n",
              "      <th></th>\n",
              "      <th></th>\n",
              "      <th></th>\n",
              "      <th></th>\n",
              "      <th></th>\n",
              "      <th></th>\n",
              "      <th></th>\n",
              "      <th></th>\n",
              "      <th></th>\n",
              "      <th></th>\n",
              "      <th></th>\n",
              "      <th></th>\n",
              "      <th></th>\n",
              "      <th></th>\n",
              "      <th></th>\n",
              "      <th></th>\n",
              "      <th></th>\n",
              "      <th></th>\n",
              "      <th></th>\n",
              "      <th></th>\n",
              "      <th></th>\n",
              "      <th></th>\n",
              "      <th></th>\n",
              "      <th></th>\n",
              "      <th></th>\n",
              "      <th></th>\n",
              "      <th></th>\n",
              "    </tr>\n",
              "  </thead>\n",
              "  <tbody>\n",
              "    <tr>\n",
              "      <th>kzwfHumJyYc</th>\n",
              "      <td>False</td>\n",
              "      <td>False</td>\n",
              "      <td>False</td>\n",
              "      <td>10.433145</td>\n",
              "      <td>13.907477</td>\n",
              "      <td>6.683361</td>\n",
              "      <td>6.783325</td>\n",
              "      <td>15</td>\n",
              "      <td>920</td>\n",
              "      <td>81</td>\n",
              "      <td>0</td>\n",
              "      <td>0</td>\n",
              "      <td>1</td>\n",
              "      <td>0</td>\n",
              "      <td>0</td>\n",
              "      <td>0</td>\n",
              "      <td>0</td>\n",
              "      <td>0</td>\n",
              "      <td>1</td>\n",
              "      <td>0</td>\n",
              "      <td>0</td>\n",
              "      <td>0</td>\n",
              "      <td>0</td>\n",
              "      <td>0</td>\n",
              "      <td>0</td>\n",
              "      <td>0</td>\n",
              "      <td>0</td>\n",
              "      <td>0</td>\n",
              "      <td>0</td>\n",
              "      <td>0</td>\n",
              "      <td>0</td>\n",
              "      <td>0</td>\n",
              "      <td>0</td>\n",
              "      <td>0</td>\n",
              "      <td>0</td>\n",
              "      <td>0</td>\n",
              "      <td>0</td>\n",
              "      <td>1</td>\n",
              "    </tr>\n",
              "    <tr>\n",
              "      <th>zUZ1z7FwLc8</th>\n",
              "      <td>True</td>\n",
              "      <td>False</td>\n",
              "      <td>False</td>\n",
              "      <td>6.601230</td>\n",
              "      <td>13.288051</td>\n",
              "      <td>6.807935</td>\n",
              "      <td>0.000000</td>\n",
              "      <td>19</td>\n",
              "      <td>2232</td>\n",
              "      <td>58</td>\n",
              "      <td>0</td>\n",
              "      <td>0</td>\n",
              "      <td>1</td>\n",
              "      <td>0</td>\n",
              "      <td>0</td>\n",
              "      <td>0</td>\n",
              "      <td>0</td>\n",
              "      <td>0</td>\n",
              "      <td>0</td>\n",
              "      <td>0</td>\n",
              "      <td>0</td>\n",
              "      <td>0</td>\n",
              "      <td>0</td>\n",
              "      <td>1</td>\n",
              "      <td>0</td>\n",
              "      <td>0</td>\n",
              "      <td>0</td>\n",
              "      <td>0</td>\n",
              "      <td>0</td>\n",
              "      <td>0</td>\n",
              "      <td>0</td>\n",
              "      <td>1</td>\n",
              "      <td>0</td>\n",
              "      <td>0</td>\n",
              "      <td>0</td>\n",
              "      <td>0</td>\n",
              "      <td>0</td>\n",
              "      <td>0</td>\n",
              "    </tr>\n",
              "    <tr>\n",
              "      <th>10L1hZ9qa58</th>\n",
              "      <td>False</td>\n",
              "      <td>False</td>\n",
              "      <td>False</td>\n",
              "      <td>7.606885</td>\n",
              "      <td>13.068939</td>\n",
              "      <td>5.497168</td>\n",
              "      <td>5.010635</td>\n",
              "      <td>14</td>\n",
              "      <td>482</td>\n",
              "      <td>58</td>\n",
              "      <td>0</td>\n",
              "      <td>0</td>\n",
              "      <td>1</td>\n",
              "      <td>0</td>\n",
              "      <td>0</td>\n",
              "      <td>0</td>\n",
              "      <td>0</td>\n",
              "      <td>1</td>\n",
              "      <td>0</td>\n",
              "      <td>0</td>\n",
              "      <td>0</td>\n",
              "      <td>0</td>\n",
              "      <td>0</td>\n",
              "      <td>0</td>\n",
              "      <td>0</td>\n",
              "      <td>0</td>\n",
              "      <td>0</td>\n",
              "      <td>0</td>\n",
              "      <td>0</td>\n",
              "      <td>0</td>\n",
              "      <td>0</td>\n",
              "      <td>0</td>\n",
              "      <td>0</td>\n",
              "      <td>0</td>\n",
              "      <td>0</td>\n",
              "      <td>0</td>\n",
              "      <td>0</td>\n",
              "      <td>1</td>\n",
              "    </tr>\n",
              "    <tr>\n",
              "      <th>N1vE8iiEg64</th>\n",
              "      <td>False</td>\n",
              "      <td>False</td>\n",
              "      <td>False</td>\n",
              "      <td>11.161295</td>\n",
              "      <td>14.032782</td>\n",
              "      <td>7.393263</td>\n",
              "      <td>7.895436</td>\n",
              "      <td>20</td>\n",
              "      <td>263</td>\n",
              "      <td>30</td>\n",
              "      <td>0</td>\n",
              "      <td>0</td>\n",
              "      <td>1</td>\n",
              "      <td>0</td>\n",
              "      <td>0</td>\n",
              "      <td>1</td>\n",
              "      <td>0</td>\n",
              "      <td>0</td>\n",
              "      <td>0</td>\n",
              "      <td>0</td>\n",
              "      <td>0</td>\n",
              "      <td>0</td>\n",
              "      <td>0</td>\n",
              "      <td>0</td>\n",
              "      <td>0</td>\n",
              "      <td>0</td>\n",
              "      <td>0</td>\n",
              "      <td>0</td>\n",
              "      <td>0</td>\n",
              "      <td>0</td>\n",
              "      <td>0</td>\n",
              "      <td>0</td>\n",
              "      <td>0</td>\n",
              "      <td>0</td>\n",
              "      <td>0</td>\n",
              "      <td>0</td>\n",
              "      <td>0</td>\n",
              "      <td>1</td>\n",
              "    </tr>\n",
              "    <tr>\n",
              "      <th>kJzGH0PVQHQ</th>\n",
              "      <td>False</td>\n",
              "      <td>False</td>\n",
              "      <td>False</td>\n",
              "      <td>6.200509</td>\n",
              "      <td>13.047674</td>\n",
              "      <td>5.683580</td>\n",
              "      <td>4.204693</td>\n",
              "      <td>11</td>\n",
              "      <td>753</td>\n",
              "      <td>88</td>\n",
              "      <td>0</td>\n",
              "      <td>0</td>\n",
              "      <td>1</td>\n",
              "      <td>0</td>\n",
              "      <td>0</td>\n",
              "      <td>0</td>\n",
              "      <td>0</td>\n",
              "      <td>1</td>\n",
              "      <td>0</td>\n",
              "      <td>0</td>\n",
              "      <td>0</td>\n",
              "      <td>0</td>\n",
              "      <td>0</td>\n",
              "      <td>0</td>\n",
              "      <td>0</td>\n",
              "      <td>0</td>\n",
              "      <td>0</td>\n",
              "      <td>0</td>\n",
              "      <td>0</td>\n",
              "      <td>0</td>\n",
              "      <td>0</td>\n",
              "      <td>1</td>\n",
              "      <td>0</td>\n",
              "      <td>0</td>\n",
              "      <td>0</td>\n",
              "      <td>0</td>\n",
              "      <td>0</td>\n",
              "      <td>0</td>\n",
              "    </tr>\n",
              "    <tr>\n",
              "      <th>...</th>\n",
              "      <td>...</td>\n",
              "      <td>...</td>\n",
              "      <td>...</td>\n",
              "      <td>...</td>\n",
              "      <td>...</td>\n",
              "      <td>...</td>\n",
              "      <td>...</td>\n",
              "      <td>...</td>\n",
              "      <td>...</td>\n",
              "      <td>...</td>\n",
              "      <td>...</td>\n",
              "      <td>...</td>\n",
              "      <td>...</td>\n",
              "      <td>...</td>\n",
              "      <td>...</td>\n",
              "      <td>...</td>\n",
              "      <td>...</td>\n",
              "      <td>...</td>\n",
              "      <td>...</td>\n",
              "      <td>...</td>\n",
              "      <td>...</td>\n",
              "      <td>...</td>\n",
              "      <td>...</td>\n",
              "      <td>...</td>\n",
              "      <td>...</td>\n",
              "      <td>...</td>\n",
              "      <td>...</td>\n",
              "      <td>...</td>\n",
              "      <td>...</td>\n",
              "      <td>...</td>\n",
              "      <td>...</td>\n",
              "      <td>...</td>\n",
              "      <td>...</td>\n",
              "      <td>...</td>\n",
              "      <td>...</td>\n",
              "      <td>...</td>\n",
              "      <td>...</td>\n",
              "      <td>...</td>\n",
              "    </tr>\n",
              "    <tr>\n",
              "      <th>1PhPYr_9zRY</th>\n",
              "      <td>False</td>\n",
              "      <td>False</td>\n",
              "      <td>False</td>\n",
              "      <td>13.378383</td>\n",
              "      <td>15.926830</td>\n",
              "      <td>8.307213</td>\n",
              "      <td>11.044696</td>\n",
              "      <td>27</td>\n",
              "      <td>926</td>\n",
              "      <td>52</td>\n",
              "      <td>0</td>\n",
              "      <td>0</td>\n",
              "      <td>0</td>\n",
              "      <td>1</td>\n",
              "      <td>0</td>\n",
              "      <td>0</td>\n",
              "      <td>0</td>\n",
              "      <td>0</td>\n",
              "      <td>0</td>\n",
              "      <td>0</td>\n",
              "      <td>0</td>\n",
              "      <td>0</td>\n",
              "      <td>0</td>\n",
              "      <td>0</td>\n",
              "      <td>1</td>\n",
              "      <td>0</td>\n",
              "      <td>0</td>\n",
              "      <td>0</td>\n",
              "      <td>0</td>\n",
              "      <td>0</td>\n",
              "      <td>0</td>\n",
              "      <td>0</td>\n",
              "      <td>0</td>\n",
              "      <td>0</td>\n",
              "      <td>0</td>\n",
              "      <td>1</td>\n",
              "      <td>0</td>\n",
              "      <td>0</td>\n",
              "    </tr>\n",
              "    <tr>\n",
              "      <th>BZt0qjTWNhw</th>\n",
              "      <td>False</td>\n",
              "      <td>False</td>\n",
              "      <td>False</td>\n",
              "      <td>10.549569</td>\n",
              "      <td>14.337638</td>\n",
              "      <td>7.234177</td>\n",
              "      <td>7.885329</td>\n",
              "      <td>14</td>\n",
              "      <td>46</td>\n",
              "      <td>28</td>\n",
              "      <td>0</td>\n",
              "      <td>0</td>\n",
              "      <td>0</td>\n",
              "      <td>1</td>\n",
              "      <td>0</td>\n",
              "      <td>0</td>\n",
              "      <td>0</td>\n",
              "      <td>0</td>\n",
              "      <td>0</td>\n",
              "      <td>0</td>\n",
              "      <td>0</td>\n",
              "      <td>0</td>\n",
              "      <td>0</td>\n",
              "      <td>0</td>\n",
              "      <td>0</td>\n",
              "      <td>1</td>\n",
              "      <td>0</td>\n",
              "      <td>0</td>\n",
              "      <td>0</td>\n",
              "      <td>0</td>\n",
              "      <td>0</td>\n",
              "      <td>0</td>\n",
              "      <td>0</td>\n",
              "      <td>0</td>\n",
              "      <td>0</td>\n",
              "      <td>1</td>\n",
              "      <td>0</td>\n",
              "      <td>0</td>\n",
              "    </tr>\n",
              "    <tr>\n",
              "      <th>D6Oy4LfoqsU</th>\n",
              "      <td>False</td>\n",
              "      <td>False</td>\n",
              "      <td>False</td>\n",
              "      <td>10.780393</td>\n",
              "      <td>13.879848</td>\n",
              "      <td>6.940222</td>\n",
              "      <td>8.292298</td>\n",
              "      <td>24</td>\n",
              "      <td>775</td>\n",
              "      <td>84</td>\n",
              "      <td>0</td>\n",
              "      <td>0</td>\n",
              "      <td>0</td>\n",
              "      <td>1</td>\n",
              "      <td>0</td>\n",
              "      <td>0</td>\n",
              "      <td>0</td>\n",
              "      <td>1</td>\n",
              "      <td>0</td>\n",
              "      <td>0</td>\n",
              "      <td>0</td>\n",
              "      <td>0</td>\n",
              "      <td>0</td>\n",
              "      <td>0</td>\n",
              "      <td>0</td>\n",
              "      <td>0</td>\n",
              "      <td>0</td>\n",
              "      <td>0</td>\n",
              "      <td>0</td>\n",
              "      <td>0</td>\n",
              "      <td>0</td>\n",
              "      <td>0</td>\n",
              "      <td>0</td>\n",
              "      <td>0</td>\n",
              "      <td>0</td>\n",
              "      <td>1</td>\n",
              "      <td>0</td>\n",
              "      <td>0</td>\n",
              "    </tr>\n",
              "    <tr>\n",
              "      <th>oV0zkMe1K8s</th>\n",
              "      <td>False</td>\n",
              "      <td>False</td>\n",
              "      <td>False</td>\n",
              "      <td>12.170228</td>\n",
              "      <td>15.549078</td>\n",
              "      <td>7.954021</td>\n",
              "      <td>9.479527</td>\n",
              "      <td>22</td>\n",
              "      <td>3268</td>\n",
              "      <td>35</td>\n",
              "      <td>0</td>\n",
              "      <td>0</td>\n",
              "      <td>0</td>\n",
              "      <td>1</td>\n",
              "      <td>0</td>\n",
              "      <td>0</td>\n",
              "      <td>0</td>\n",
              "      <td>0</td>\n",
              "      <td>1</td>\n",
              "      <td>0</td>\n",
              "      <td>0</td>\n",
              "      <td>0</td>\n",
              "      <td>0</td>\n",
              "      <td>0</td>\n",
              "      <td>0</td>\n",
              "      <td>0</td>\n",
              "      <td>0</td>\n",
              "      <td>0</td>\n",
              "      <td>0</td>\n",
              "      <td>0</td>\n",
              "      <td>0</td>\n",
              "      <td>0</td>\n",
              "      <td>0</td>\n",
              "      <td>0</td>\n",
              "      <td>1</td>\n",
              "      <td>0</td>\n",
              "      <td>0</td>\n",
              "      <td>0</td>\n",
              "    </tr>\n",
              "    <tr>\n",
              "      <th>ooyjaVdt-jA</th>\n",
              "      <td>False</td>\n",
              "      <td>False</td>\n",
              "      <td>False</td>\n",
              "      <td>12.785715</td>\n",
              "      <td>16.148248</td>\n",
              "      <td>12.268939</td>\n",
              "      <td>11.883081</td>\n",
              "      <td>4</td>\n",
              "      <td>709</td>\n",
              "      <td>64</td>\n",
              "      <td>0</td>\n",
              "      <td>0</td>\n",
              "      <td>0</td>\n",
              "      <td>1</td>\n",
              "      <td>0</td>\n",
              "      <td>0</td>\n",
              "      <td>0</td>\n",
              "      <td>0</td>\n",
              "      <td>0</td>\n",
              "      <td>1</td>\n",
              "      <td>0</td>\n",
              "      <td>0</td>\n",
              "      <td>0</td>\n",
              "      <td>0</td>\n",
              "      <td>0</td>\n",
              "      <td>0</td>\n",
              "      <td>0</td>\n",
              "      <td>0</td>\n",
              "      <td>0</td>\n",
              "      <td>0</td>\n",
              "      <td>0</td>\n",
              "      <td>0</td>\n",
              "      <td>0</td>\n",
              "      <td>0</td>\n",
              "      <td>1</td>\n",
              "      <td>0</td>\n",
              "      <td>0</td>\n",
              "      <td>0</td>\n",
              "    </tr>\n",
              "  </tbody>\n",
              "</table>\n",
              "<p>154229 rows × 38 columns</p>\n",
              "</div>\n",
              "      <button class=\"colab-df-convert\" onclick=\"convertToInteractive('df-8914ba9b-41cd-4bff-a38d-2674c4cde40b')\"\n",
              "              title=\"Convert this dataframe to an interactive table.\"\n",
              "              style=\"display:none;\">\n",
              "        \n",
              "  <svg xmlns=\"http://www.w3.org/2000/svg\" height=\"24px\"viewBox=\"0 0 24 24\"\n",
              "       width=\"24px\">\n",
              "    <path d=\"M0 0h24v24H0V0z\" fill=\"none\"/>\n",
              "    <path d=\"M18.56 5.44l.94 2.06.94-2.06 2.06-.94-2.06-.94-.94-2.06-.94 2.06-2.06.94zm-11 1L8.5 8.5l.94-2.06 2.06-.94-2.06-.94L8.5 2.5l-.94 2.06-2.06.94zm10 10l.94 2.06.94-2.06 2.06-.94-2.06-.94-.94-2.06-.94 2.06-2.06.94z\"/><path d=\"M17.41 7.96l-1.37-1.37c-.4-.4-.92-.59-1.43-.59-.52 0-1.04.2-1.43.59L10.3 9.45l-7.72 7.72c-.78.78-.78 2.05 0 2.83L4 21.41c.39.39.9.59 1.41.59.51 0 1.02-.2 1.41-.59l7.78-7.78 2.81-2.81c.8-.78.8-2.07 0-2.86zM5.41 20L4 18.59l7.72-7.72 1.47 1.35L5.41 20z\"/>\n",
              "  </svg>\n",
              "      </button>\n",
              "      \n",
              "  <style>\n",
              "    .colab-df-container {\n",
              "      display:flex;\n",
              "      flex-wrap:wrap;\n",
              "      gap: 12px;\n",
              "    }\n",
              "\n",
              "    .colab-df-convert {\n",
              "      background-color: #E8F0FE;\n",
              "      border: none;\n",
              "      border-radius: 50%;\n",
              "      cursor: pointer;\n",
              "      display: none;\n",
              "      fill: #1967D2;\n",
              "      height: 32px;\n",
              "      padding: 0 0 0 0;\n",
              "      width: 32px;\n",
              "    }\n",
              "\n",
              "    .colab-df-convert:hover {\n",
              "      background-color: #E2EBFA;\n",
              "      box-shadow: 0px 1px 2px rgba(60, 64, 67, 0.3), 0px 1px 3px 1px rgba(60, 64, 67, 0.15);\n",
              "      fill: #174EA6;\n",
              "    }\n",
              "\n",
              "    [theme=dark] .colab-df-convert {\n",
              "      background-color: #3B4455;\n",
              "      fill: #D2E3FC;\n",
              "    }\n",
              "\n",
              "    [theme=dark] .colab-df-convert:hover {\n",
              "      background-color: #434B5C;\n",
              "      box-shadow: 0px 1px 3px 1px rgba(0, 0, 0, 0.15);\n",
              "      filter: drop-shadow(0px 1px 2px rgba(0, 0, 0, 0.3));\n",
              "      fill: #FFFFFF;\n",
              "    }\n",
              "  </style>\n",
              "\n",
              "      <script>\n",
              "        const buttonEl =\n",
              "          document.querySelector('#df-8914ba9b-41cd-4bff-a38d-2674c4cde40b button.colab-df-convert');\n",
              "        buttonEl.style.display =\n",
              "          google.colab.kernel.accessAllowed ? 'block' : 'none';\n",
              "\n",
              "        async function convertToInteractive(key) {\n",
              "          const element = document.querySelector('#df-8914ba9b-41cd-4bff-a38d-2674c4cde40b');\n",
              "          const dataTable =\n",
              "            await google.colab.kernel.invokeFunction('convertToInteractive',\n",
              "                                                     [key], {});\n",
              "          if (!dataTable) return;\n",
              "\n",
              "          const docLinkHtml = 'Like what you see? Visit the ' +\n",
              "            '<a target=\"_blank\" href=https://colab.research.google.com/notebooks/data_table.ipynb>data table notebook</a>'\n",
              "            + ' to learn more about interactive tables.';\n",
              "          element.innerHTML = '';\n",
              "          dataTable['output_type'] = 'display_data';\n",
              "          await google.colab.output.renderOutput(dataTable, element);\n",
              "          const docLink = document.createElement('div');\n",
              "          docLink.innerHTML = docLinkHtml;\n",
              "          element.appendChild(docLink);\n",
              "        }\n",
              "      </script>\n",
              "    </div>\n",
              "  </div>\n",
              "  "
            ],
            "text/plain": [
              "             comments_disabled  ...  publish_weekday_7\n",
              "video_id                        ...                   \n",
              "kzwfHumJyYc              False  ...                  1\n",
              "zUZ1z7FwLc8               True  ...                  0\n",
              "10L1hZ9qa58              False  ...                  1\n",
              "N1vE8iiEg64              False  ...                  1\n",
              "kJzGH0PVQHQ              False  ...                  0\n",
              "...                        ...  ...                ...\n",
              "1PhPYr_9zRY              False  ...                  0\n",
              "BZt0qjTWNhw              False  ...                  0\n",
              "D6Oy4LfoqsU              False  ...                  0\n",
              "oV0zkMe1K8s              False  ...                  0\n",
              "ooyjaVdt-jA              False  ...                  0\n",
              "\n",
              "[154229 rows x 38 columns]"
            ]
          },
          "metadata": {},
          "execution_count": 47
        }
      ],
      "source": [
        "combined_data"
      ]
    },
    {
      "cell_type": "code",
      "execution_count": 48,
      "metadata": {
        "colab": {
          "base_uri": "https://localhost:8080/"
        },
        "id": "JCAEKtuoDF2I",
        "outputId": "0b13fdd5-0efa-4584-d769-bcf916ecff6a"
      },
      "outputs": [
        {
          "output_type": "stream",
          "name": "stdout",
          "text": [
            "check_x_y_split [(154229, 37), count    154229.000000\n",
            "mean         12.556466\n",
            "std           1.814343\n",
            "min           5.411646\n",
            "25%          11.476127\n",
            "50%          12.658552\n",
            "75%          13.763285\n",
            "max          19.232552\n",
            "Name: label, dtype: float64]\n"
          ]
        }
      ],
      "source": [
        "# print cell\n",
        "print('check_x_y_split',([features.shape, label.describe()]))"
      ]
    },
    {
      "cell_type": "code",
      "execution_count": 49,
      "metadata": {
        "colab": {
          "base_uri": "https://localhost:8080/"
        },
        "id": "tY8z76UOEOD5",
        "outputId": "70c76ebc-c264-406d-f7e4-c5916aa644cd"
      },
      "outputs": [
        {
          "output_type": "execute_result",
          "data": {
            "text/plain": [
              "video_id\n",
              "kzwfHumJyYc    13.907477\n",
              "zUZ1z7FwLc8    13.288051\n",
              "10L1hZ9qa58    13.068939\n",
              "N1vE8iiEg64    14.032782\n",
              "kJzGH0PVQHQ    13.047674\n",
              "                 ...    \n",
              "1PhPYr_9zRY    15.926830\n",
              "BZt0qjTWNhw    14.337638\n",
              "D6Oy4LfoqsU    13.879848\n",
              "oV0zkMe1K8s    15.549078\n",
              "ooyjaVdt-jA    16.148248\n",
              "Name: label, Length: 154229, dtype: float64"
            ]
          },
          "metadata": {},
          "execution_count": 49
        }
      ],
      "source": [
        "label"
      ]
    },
    {
      "cell_type": "code",
      "execution_count": 50,
      "metadata": {
        "colab": {
          "base_uri": "https://localhost:8080/",
          "height": 536
        },
        "id": "TCodiBVO0-kF",
        "outputId": "aa3a15fa-ee66-449f-ce9f-7514e1fa1a49"
      },
      "outputs": [
        {
          "output_type": "execute_result",
          "data": {
            "text/html": [
              "\n",
              "  <div id=\"df-8102d6cf-6a69-4641-9a74-401734f78195\">\n",
              "    <div class=\"colab-df-container\">\n",
              "      <div>\n",
              "<style scoped>\n",
              "    .dataframe tbody tr th:only-of-type {\n",
              "        vertical-align: middle;\n",
              "    }\n",
              "\n",
              "    .dataframe tbody tr th {\n",
              "        vertical-align: top;\n",
              "    }\n",
              "\n",
              "    .dataframe thead th {\n",
              "        text-align: right;\n",
              "    }\n",
              "</style>\n",
              "<table border=\"1\" class=\"dataframe\">\n",
              "  <thead>\n",
              "    <tr style=\"text-align: right;\">\n",
              "      <th></th>\n",
              "      <th>comments_disabled</th>\n",
              "      <th>ratings_disabled</th>\n",
              "      <th>video_error_or_removed</th>\n",
              "      <th>likes_log</th>\n",
              "      <th>dislikes_log</th>\n",
              "      <th>comment_log</th>\n",
              "      <th>num_tags</th>\n",
              "      <th>desc_len</th>\n",
              "      <th>len_title</th>\n",
              "      <th>country_CA</th>\n",
              "      <th>country_FR</th>\n",
              "      <th>country_IN</th>\n",
              "      <th>country_US</th>\n",
              "      <th>category_Autos &amp; Vehicles</th>\n",
              "      <th>category_Comedy</th>\n",
              "      <th>category_Education</th>\n",
              "      <th>category_Entertainment</th>\n",
              "      <th>category_Film &amp; Animation</th>\n",
              "      <th>category_Gaming</th>\n",
              "      <th>category_Howto &amp; Style</th>\n",
              "      <th>category_Movies</th>\n",
              "      <th>category_Music</th>\n",
              "      <th>category_News &amp; Politics</th>\n",
              "      <th>category_People &amp; Blogs</th>\n",
              "      <th>category_Pets &amp; Animals</th>\n",
              "      <th>category_Science &amp; Technology</th>\n",
              "      <th>category_Shows</th>\n",
              "      <th>category_Sports</th>\n",
              "      <th>category_Trailers</th>\n",
              "      <th>category_Travel &amp; Events</th>\n",
              "      <th>publish_weekday_1</th>\n",
              "      <th>publish_weekday_2</th>\n",
              "      <th>publish_weekday_3</th>\n",
              "      <th>publish_weekday_4</th>\n",
              "      <th>publish_weekday_5</th>\n",
              "      <th>publish_weekday_6</th>\n",
              "      <th>publish_weekday_7</th>\n",
              "    </tr>\n",
              "    <tr>\n",
              "      <th>video_id</th>\n",
              "      <th></th>\n",
              "      <th></th>\n",
              "      <th></th>\n",
              "      <th></th>\n",
              "      <th></th>\n",
              "      <th></th>\n",
              "      <th></th>\n",
              "      <th></th>\n",
              "      <th></th>\n",
              "      <th></th>\n",
              "      <th></th>\n",
              "      <th></th>\n",
              "      <th></th>\n",
              "      <th></th>\n",
              "      <th></th>\n",
              "      <th></th>\n",
              "      <th></th>\n",
              "      <th></th>\n",
              "      <th></th>\n",
              "      <th></th>\n",
              "      <th></th>\n",
              "      <th></th>\n",
              "      <th></th>\n",
              "      <th></th>\n",
              "      <th></th>\n",
              "      <th></th>\n",
              "      <th></th>\n",
              "      <th></th>\n",
              "      <th></th>\n",
              "      <th></th>\n",
              "      <th></th>\n",
              "      <th></th>\n",
              "      <th></th>\n",
              "      <th></th>\n",
              "      <th></th>\n",
              "      <th></th>\n",
              "      <th></th>\n",
              "    </tr>\n",
              "  </thead>\n",
              "  <tbody>\n",
              "    <tr>\n",
              "      <th>kzwfHumJyYc</th>\n",
              "      <td>False</td>\n",
              "      <td>False</td>\n",
              "      <td>False</td>\n",
              "      <td>10.433145</td>\n",
              "      <td>6.683361</td>\n",
              "      <td>6.783325</td>\n",
              "      <td>15</td>\n",
              "      <td>920</td>\n",
              "      <td>81</td>\n",
              "      <td>0</td>\n",
              "      <td>0</td>\n",
              "      <td>1</td>\n",
              "      <td>0</td>\n",
              "      <td>0</td>\n",
              "      <td>0</td>\n",
              "      <td>0</td>\n",
              "      <td>0</td>\n",
              "      <td>1</td>\n",
              "      <td>0</td>\n",
              "      <td>0</td>\n",
              "      <td>0</td>\n",
              "      <td>0</td>\n",
              "      <td>0</td>\n",
              "      <td>0</td>\n",
              "      <td>0</td>\n",
              "      <td>0</td>\n",
              "      <td>0</td>\n",
              "      <td>0</td>\n",
              "      <td>0</td>\n",
              "      <td>0</td>\n",
              "      <td>0</td>\n",
              "      <td>0</td>\n",
              "      <td>0</td>\n",
              "      <td>0</td>\n",
              "      <td>0</td>\n",
              "      <td>0</td>\n",
              "      <td>1</td>\n",
              "    </tr>\n",
              "    <tr>\n",
              "      <th>zUZ1z7FwLc8</th>\n",
              "      <td>True</td>\n",
              "      <td>False</td>\n",
              "      <td>False</td>\n",
              "      <td>6.601230</td>\n",
              "      <td>6.807935</td>\n",
              "      <td>0.000000</td>\n",
              "      <td>19</td>\n",
              "      <td>2232</td>\n",
              "      <td>58</td>\n",
              "      <td>0</td>\n",
              "      <td>0</td>\n",
              "      <td>1</td>\n",
              "      <td>0</td>\n",
              "      <td>0</td>\n",
              "      <td>0</td>\n",
              "      <td>0</td>\n",
              "      <td>0</td>\n",
              "      <td>0</td>\n",
              "      <td>0</td>\n",
              "      <td>0</td>\n",
              "      <td>0</td>\n",
              "      <td>0</td>\n",
              "      <td>1</td>\n",
              "      <td>0</td>\n",
              "      <td>0</td>\n",
              "      <td>0</td>\n",
              "      <td>0</td>\n",
              "      <td>0</td>\n",
              "      <td>0</td>\n",
              "      <td>0</td>\n",
              "      <td>1</td>\n",
              "      <td>0</td>\n",
              "      <td>0</td>\n",
              "      <td>0</td>\n",
              "      <td>0</td>\n",
              "      <td>0</td>\n",
              "      <td>0</td>\n",
              "    </tr>\n",
              "    <tr>\n",
              "      <th>10L1hZ9qa58</th>\n",
              "      <td>False</td>\n",
              "      <td>False</td>\n",
              "      <td>False</td>\n",
              "      <td>7.606885</td>\n",
              "      <td>5.497168</td>\n",
              "      <td>5.010635</td>\n",
              "      <td>14</td>\n",
              "      <td>482</td>\n",
              "      <td>58</td>\n",
              "      <td>0</td>\n",
              "      <td>0</td>\n",
              "      <td>1</td>\n",
              "      <td>0</td>\n",
              "      <td>0</td>\n",
              "      <td>0</td>\n",
              "      <td>0</td>\n",
              "      <td>1</td>\n",
              "      <td>0</td>\n",
              "      <td>0</td>\n",
              "      <td>0</td>\n",
              "      <td>0</td>\n",
              "      <td>0</td>\n",
              "      <td>0</td>\n",
              "      <td>0</td>\n",
              "      <td>0</td>\n",
              "      <td>0</td>\n",
              "      <td>0</td>\n",
              "      <td>0</td>\n",
              "      <td>0</td>\n",
              "      <td>0</td>\n",
              "      <td>0</td>\n",
              "      <td>0</td>\n",
              "      <td>0</td>\n",
              "      <td>0</td>\n",
              "      <td>0</td>\n",
              "      <td>0</td>\n",
              "      <td>1</td>\n",
              "    </tr>\n",
              "    <tr>\n",
              "      <th>N1vE8iiEg64</th>\n",
              "      <td>False</td>\n",
              "      <td>False</td>\n",
              "      <td>False</td>\n",
              "      <td>11.161295</td>\n",
              "      <td>7.393263</td>\n",
              "      <td>7.895436</td>\n",
              "      <td>20</td>\n",
              "      <td>263</td>\n",
              "      <td>30</td>\n",
              "      <td>0</td>\n",
              "      <td>0</td>\n",
              "      <td>1</td>\n",
              "      <td>0</td>\n",
              "      <td>0</td>\n",
              "      <td>1</td>\n",
              "      <td>0</td>\n",
              "      <td>0</td>\n",
              "      <td>0</td>\n",
              "      <td>0</td>\n",
              "      <td>0</td>\n",
              "      <td>0</td>\n",
              "      <td>0</td>\n",
              "      <td>0</td>\n",
              "      <td>0</td>\n",
              "      <td>0</td>\n",
              "      <td>0</td>\n",
              "      <td>0</td>\n",
              "      <td>0</td>\n",
              "      <td>0</td>\n",
              "      <td>0</td>\n",
              "      <td>0</td>\n",
              "      <td>0</td>\n",
              "      <td>0</td>\n",
              "      <td>0</td>\n",
              "      <td>0</td>\n",
              "      <td>0</td>\n",
              "      <td>1</td>\n",
              "    </tr>\n",
              "    <tr>\n",
              "      <th>kJzGH0PVQHQ</th>\n",
              "      <td>False</td>\n",
              "      <td>False</td>\n",
              "      <td>False</td>\n",
              "      <td>6.200509</td>\n",
              "      <td>5.683580</td>\n",
              "      <td>4.204693</td>\n",
              "      <td>11</td>\n",
              "      <td>753</td>\n",
              "      <td>88</td>\n",
              "      <td>0</td>\n",
              "      <td>0</td>\n",
              "      <td>1</td>\n",
              "      <td>0</td>\n",
              "      <td>0</td>\n",
              "      <td>0</td>\n",
              "      <td>0</td>\n",
              "      <td>1</td>\n",
              "      <td>0</td>\n",
              "      <td>0</td>\n",
              "      <td>0</td>\n",
              "      <td>0</td>\n",
              "      <td>0</td>\n",
              "      <td>0</td>\n",
              "      <td>0</td>\n",
              "      <td>0</td>\n",
              "      <td>0</td>\n",
              "      <td>0</td>\n",
              "      <td>0</td>\n",
              "      <td>0</td>\n",
              "      <td>0</td>\n",
              "      <td>1</td>\n",
              "      <td>0</td>\n",
              "      <td>0</td>\n",
              "      <td>0</td>\n",
              "      <td>0</td>\n",
              "      <td>0</td>\n",
              "      <td>0</td>\n",
              "    </tr>\n",
              "    <tr>\n",
              "      <th>...</th>\n",
              "      <td>...</td>\n",
              "      <td>...</td>\n",
              "      <td>...</td>\n",
              "      <td>...</td>\n",
              "      <td>...</td>\n",
              "      <td>...</td>\n",
              "      <td>...</td>\n",
              "      <td>...</td>\n",
              "      <td>...</td>\n",
              "      <td>...</td>\n",
              "      <td>...</td>\n",
              "      <td>...</td>\n",
              "      <td>...</td>\n",
              "      <td>...</td>\n",
              "      <td>...</td>\n",
              "      <td>...</td>\n",
              "      <td>...</td>\n",
              "      <td>...</td>\n",
              "      <td>...</td>\n",
              "      <td>...</td>\n",
              "      <td>...</td>\n",
              "      <td>...</td>\n",
              "      <td>...</td>\n",
              "      <td>...</td>\n",
              "      <td>...</td>\n",
              "      <td>...</td>\n",
              "      <td>...</td>\n",
              "      <td>...</td>\n",
              "      <td>...</td>\n",
              "      <td>...</td>\n",
              "      <td>...</td>\n",
              "      <td>...</td>\n",
              "      <td>...</td>\n",
              "      <td>...</td>\n",
              "      <td>...</td>\n",
              "      <td>...</td>\n",
              "      <td>...</td>\n",
              "    </tr>\n",
              "    <tr>\n",
              "      <th>1PhPYr_9zRY</th>\n",
              "      <td>False</td>\n",
              "      <td>False</td>\n",
              "      <td>False</td>\n",
              "      <td>13.378383</td>\n",
              "      <td>8.307213</td>\n",
              "      <td>11.044696</td>\n",
              "      <td>27</td>\n",
              "      <td>926</td>\n",
              "      <td>52</td>\n",
              "      <td>0</td>\n",
              "      <td>0</td>\n",
              "      <td>0</td>\n",
              "      <td>1</td>\n",
              "      <td>0</td>\n",
              "      <td>0</td>\n",
              "      <td>0</td>\n",
              "      <td>0</td>\n",
              "      <td>0</td>\n",
              "      <td>0</td>\n",
              "      <td>0</td>\n",
              "      <td>0</td>\n",
              "      <td>0</td>\n",
              "      <td>0</td>\n",
              "      <td>1</td>\n",
              "      <td>0</td>\n",
              "      <td>0</td>\n",
              "      <td>0</td>\n",
              "      <td>0</td>\n",
              "      <td>0</td>\n",
              "      <td>0</td>\n",
              "      <td>0</td>\n",
              "      <td>0</td>\n",
              "      <td>0</td>\n",
              "      <td>0</td>\n",
              "      <td>1</td>\n",
              "      <td>0</td>\n",
              "      <td>0</td>\n",
              "    </tr>\n",
              "    <tr>\n",
              "      <th>BZt0qjTWNhw</th>\n",
              "      <td>False</td>\n",
              "      <td>False</td>\n",
              "      <td>False</td>\n",
              "      <td>10.549569</td>\n",
              "      <td>7.234177</td>\n",
              "      <td>7.885329</td>\n",
              "      <td>14</td>\n",
              "      <td>46</td>\n",
              "      <td>28</td>\n",
              "      <td>0</td>\n",
              "      <td>0</td>\n",
              "      <td>0</td>\n",
              "      <td>1</td>\n",
              "      <td>0</td>\n",
              "      <td>0</td>\n",
              "      <td>0</td>\n",
              "      <td>0</td>\n",
              "      <td>0</td>\n",
              "      <td>0</td>\n",
              "      <td>0</td>\n",
              "      <td>0</td>\n",
              "      <td>0</td>\n",
              "      <td>0</td>\n",
              "      <td>0</td>\n",
              "      <td>1</td>\n",
              "      <td>0</td>\n",
              "      <td>0</td>\n",
              "      <td>0</td>\n",
              "      <td>0</td>\n",
              "      <td>0</td>\n",
              "      <td>0</td>\n",
              "      <td>0</td>\n",
              "      <td>0</td>\n",
              "      <td>0</td>\n",
              "      <td>1</td>\n",
              "      <td>0</td>\n",
              "      <td>0</td>\n",
              "    </tr>\n",
              "    <tr>\n",
              "      <th>D6Oy4LfoqsU</th>\n",
              "      <td>False</td>\n",
              "      <td>False</td>\n",
              "      <td>False</td>\n",
              "      <td>10.780393</td>\n",
              "      <td>6.940222</td>\n",
              "      <td>8.292298</td>\n",
              "      <td>24</td>\n",
              "      <td>775</td>\n",
              "      <td>84</td>\n",
              "      <td>0</td>\n",
              "      <td>0</td>\n",
              "      <td>0</td>\n",
              "      <td>1</td>\n",
              "      <td>0</td>\n",
              "      <td>0</td>\n",
              "      <td>0</td>\n",
              "      <td>1</td>\n",
              "      <td>0</td>\n",
              "      <td>0</td>\n",
              "      <td>0</td>\n",
              "      <td>0</td>\n",
              "      <td>0</td>\n",
              "      <td>0</td>\n",
              "      <td>0</td>\n",
              "      <td>0</td>\n",
              "      <td>0</td>\n",
              "      <td>0</td>\n",
              "      <td>0</td>\n",
              "      <td>0</td>\n",
              "      <td>0</td>\n",
              "      <td>0</td>\n",
              "      <td>0</td>\n",
              "      <td>0</td>\n",
              "      <td>0</td>\n",
              "      <td>1</td>\n",
              "      <td>0</td>\n",
              "      <td>0</td>\n",
              "    </tr>\n",
              "    <tr>\n",
              "      <th>oV0zkMe1K8s</th>\n",
              "      <td>False</td>\n",
              "      <td>False</td>\n",
              "      <td>False</td>\n",
              "      <td>12.170228</td>\n",
              "      <td>7.954021</td>\n",
              "      <td>9.479527</td>\n",
              "      <td>22</td>\n",
              "      <td>3268</td>\n",
              "      <td>35</td>\n",
              "      <td>0</td>\n",
              "      <td>0</td>\n",
              "      <td>0</td>\n",
              "      <td>1</td>\n",
              "      <td>0</td>\n",
              "      <td>0</td>\n",
              "      <td>0</td>\n",
              "      <td>0</td>\n",
              "      <td>1</td>\n",
              "      <td>0</td>\n",
              "      <td>0</td>\n",
              "      <td>0</td>\n",
              "      <td>0</td>\n",
              "      <td>0</td>\n",
              "      <td>0</td>\n",
              "      <td>0</td>\n",
              "      <td>0</td>\n",
              "      <td>0</td>\n",
              "      <td>0</td>\n",
              "      <td>0</td>\n",
              "      <td>0</td>\n",
              "      <td>0</td>\n",
              "      <td>0</td>\n",
              "      <td>0</td>\n",
              "      <td>1</td>\n",
              "      <td>0</td>\n",
              "      <td>0</td>\n",
              "      <td>0</td>\n",
              "    </tr>\n",
              "    <tr>\n",
              "      <th>ooyjaVdt-jA</th>\n",
              "      <td>False</td>\n",
              "      <td>False</td>\n",
              "      <td>False</td>\n",
              "      <td>12.785715</td>\n",
              "      <td>12.268939</td>\n",
              "      <td>11.883081</td>\n",
              "      <td>4</td>\n",
              "      <td>709</td>\n",
              "      <td>64</td>\n",
              "      <td>0</td>\n",
              "      <td>0</td>\n",
              "      <td>0</td>\n",
              "      <td>1</td>\n",
              "      <td>0</td>\n",
              "      <td>0</td>\n",
              "      <td>0</td>\n",
              "      <td>0</td>\n",
              "      <td>0</td>\n",
              "      <td>1</td>\n",
              "      <td>0</td>\n",
              "      <td>0</td>\n",
              "      <td>0</td>\n",
              "      <td>0</td>\n",
              "      <td>0</td>\n",
              "      <td>0</td>\n",
              "      <td>0</td>\n",
              "      <td>0</td>\n",
              "      <td>0</td>\n",
              "      <td>0</td>\n",
              "      <td>0</td>\n",
              "      <td>0</td>\n",
              "      <td>0</td>\n",
              "      <td>0</td>\n",
              "      <td>1</td>\n",
              "      <td>0</td>\n",
              "      <td>0</td>\n",
              "      <td>0</td>\n",
              "    </tr>\n",
              "  </tbody>\n",
              "</table>\n",
              "<p>154229 rows × 37 columns</p>\n",
              "</div>\n",
              "      <button class=\"colab-df-convert\" onclick=\"convertToInteractive('df-8102d6cf-6a69-4641-9a74-401734f78195')\"\n",
              "              title=\"Convert this dataframe to an interactive table.\"\n",
              "              style=\"display:none;\">\n",
              "        \n",
              "  <svg xmlns=\"http://www.w3.org/2000/svg\" height=\"24px\"viewBox=\"0 0 24 24\"\n",
              "       width=\"24px\">\n",
              "    <path d=\"M0 0h24v24H0V0z\" fill=\"none\"/>\n",
              "    <path d=\"M18.56 5.44l.94 2.06.94-2.06 2.06-.94-2.06-.94-.94-2.06-.94 2.06-2.06.94zm-11 1L8.5 8.5l.94-2.06 2.06-.94-2.06-.94L8.5 2.5l-.94 2.06-2.06.94zm10 10l.94 2.06.94-2.06 2.06-.94-2.06-.94-.94-2.06-.94 2.06-2.06.94z\"/><path d=\"M17.41 7.96l-1.37-1.37c-.4-.4-.92-.59-1.43-.59-.52 0-1.04.2-1.43.59L10.3 9.45l-7.72 7.72c-.78.78-.78 2.05 0 2.83L4 21.41c.39.39.9.59 1.41.59.51 0 1.02-.2 1.41-.59l7.78-7.78 2.81-2.81c.8-.78.8-2.07 0-2.86zM5.41 20L4 18.59l7.72-7.72 1.47 1.35L5.41 20z\"/>\n",
              "  </svg>\n",
              "      </button>\n",
              "      \n",
              "  <style>\n",
              "    .colab-df-container {\n",
              "      display:flex;\n",
              "      flex-wrap:wrap;\n",
              "      gap: 12px;\n",
              "    }\n",
              "\n",
              "    .colab-df-convert {\n",
              "      background-color: #E8F0FE;\n",
              "      border: none;\n",
              "      border-radius: 50%;\n",
              "      cursor: pointer;\n",
              "      display: none;\n",
              "      fill: #1967D2;\n",
              "      height: 32px;\n",
              "      padding: 0 0 0 0;\n",
              "      width: 32px;\n",
              "    }\n",
              "\n",
              "    .colab-df-convert:hover {\n",
              "      background-color: #E2EBFA;\n",
              "      box-shadow: 0px 1px 2px rgba(60, 64, 67, 0.3), 0px 1px 3px 1px rgba(60, 64, 67, 0.15);\n",
              "      fill: #174EA6;\n",
              "    }\n",
              "\n",
              "    [theme=dark] .colab-df-convert {\n",
              "      background-color: #3B4455;\n",
              "      fill: #D2E3FC;\n",
              "    }\n",
              "\n",
              "    [theme=dark] .colab-df-convert:hover {\n",
              "      background-color: #434B5C;\n",
              "      box-shadow: 0px 1px 3px 1px rgba(0, 0, 0, 0.15);\n",
              "      filter: drop-shadow(0px 1px 2px rgba(0, 0, 0, 0.3));\n",
              "      fill: #FFFFFF;\n",
              "    }\n",
              "  </style>\n",
              "\n",
              "      <script>\n",
              "        const buttonEl =\n",
              "          document.querySelector('#df-8102d6cf-6a69-4641-9a74-401734f78195 button.colab-df-convert');\n",
              "        buttonEl.style.display =\n",
              "          google.colab.kernel.accessAllowed ? 'block' : 'none';\n",
              "\n",
              "        async function convertToInteractive(key) {\n",
              "          const element = document.querySelector('#df-8102d6cf-6a69-4641-9a74-401734f78195');\n",
              "          const dataTable =\n",
              "            await google.colab.kernel.invokeFunction('convertToInteractive',\n",
              "                                                     [key], {});\n",
              "          if (!dataTable) return;\n",
              "\n",
              "          const docLinkHtml = 'Like what you see? Visit the ' +\n",
              "            '<a target=\"_blank\" href=https://colab.research.google.com/notebooks/data_table.ipynb>data table notebook</a>'\n",
              "            + ' to learn more about interactive tables.';\n",
              "          element.innerHTML = '';\n",
              "          dataTable['output_type'] = 'display_data';\n",
              "          await google.colab.output.renderOutput(dataTable, element);\n",
              "          const docLink = document.createElement('div');\n",
              "          docLink.innerHTML = docLinkHtml;\n",
              "          element.appendChild(docLink);\n",
              "        }\n",
              "      </script>\n",
              "    </div>\n",
              "  </div>\n",
              "  "
            ],
            "text/plain": [
              "             comments_disabled  ...  publish_weekday_7\n",
              "video_id                        ...                   \n",
              "kzwfHumJyYc              False  ...                  1\n",
              "zUZ1z7FwLc8               True  ...                  0\n",
              "10L1hZ9qa58              False  ...                  1\n",
              "N1vE8iiEg64              False  ...                  1\n",
              "kJzGH0PVQHQ              False  ...                  0\n",
              "...                        ...  ...                ...\n",
              "1PhPYr_9zRY              False  ...                  0\n",
              "BZt0qjTWNhw              False  ...                  0\n",
              "D6Oy4LfoqsU              False  ...                  0\n",
              "oV0zkMe1K8s              False  ...                  0\n",
              "ooyjaVdt-jA              False  ...                  0\n",
              "\n",
              "[154229 rows x 37 columns]"
            ]
          },
          "metadata": {},
          "execution_count": 50
        }
      ],
      "source": [
        "features"
      ]
    },
    {
      "cell_type": "markdown",
      "metadata": {
        "id": "3ugUxHjk_uXS"
      },
      "source": [
        "## 5.3 : Machine Learning using sklearn (15 pts)\n",
        "\n",
        "Scikit-learn (formerly scikits.learn and also known as sklearn) is a free software machine learning library for the Python programming language. It features various classification, regression and clustering algorithms including support vector machines, random forests, gradient boosting, k-means and DBSCAN, and is designed to interoperate with the Python numerical and scientific libraries NumPy and SciPy.\n",
        "\n",
        "You can find the documentation [here](https://scikit-learn.org/stable/modules/classes.html)\n",
        "\n",
        "Now we will train some machine learning models using sklearn to predict views, rather than predicting views directly we will predict views_log to avoid numerical instability issues"
      ]
    },
    {
      "cell_type": "markdown",
      "metadata": {
        "id": "HPQFGsMhSt-I"
      },
      "source": [
        "### 5.3.1 : Split data into train and test (1 pt)\n",
        "\n",
        "Use sklearn's train_test_split library and split data into train and test sets, the split should be 80-20 meaning 80% for training and rest for testing."
      ]
    },
    {
      "cell_type": "code",
      "execution_count": 51,
      "metadata": {
        "id": "qjedXNJ8Stb7"
      },
      "outputs": [],
      "source": [
        "from sklearn.model_selection import train_test_split\n",
        "# Add your code here\n",
        "x_train, x_test, y_train, y_test = train_test_split(features.values, label.values, test_size=0.2, random_state=0)\n",
        "from sklearn.preprocessing import StandardScaler\n",
        "sc = StandardScaler()\n",
        "x_train = sc.fit_transform(x_train)\n",
        "x_test = sc.transform(x_test)"
      ]
    },
    {
      "cell_type": "code",
      "execution_count": 52,
      "metadata": {
        "colab": {
          "base_uri": "https://localhost:8080/"
        },
        "id": "V9Gw6pxgRjCh",
        "outputId": "26d4648e-c1a8-4960-ed2e-10106a8e34ca"
      },
      "outputs": [
        {
          "output_type": "stream",
          "name": "stdout",
          "text": [
            "check_data_split [(123383, 37), (30846, 37), (123383,), (30846,)]\n"
          ]
        }
      ],
      "source": [
        "# print cell.\n",
        "print('check_data_split',[x_train.shape,x_test.shape,y_train.shape,y_test.shape])"
      ]
    },
    {
      "cell_type": "markdown",
      "metadata": {
        "id": "-2nLOMf3TM20"
      },
      "source": [
        "### 5.3.2: Train Machine Learning Models."
      ]
    },
    {
      "cell_type": "markdown",
      "metadata": {
        "id": "xZh09iGcTO7B"
      },
      "source": [
        "#### 5.3.2.1 Linear Regression (3 pts)\n",
        "\n",
        "In this step we will train a linear regression model using sklearn. Train using the training data and then make predictions of test, report the mean squared error obtained on both train and test sets."
      ]
    },
    {
      "cell_type": "code",
      "execution_count": 53,
      "metadata": {
        "id": "0m62PnIFTJ7i"
      },
      "outputs": [],
      "source": [
        "from sklearn.linear_model import LinearRegression\n",
        "from sklearn.metrics import mean_squared_error\n",
        "# Add your code here\n",
        "from sklearn.metrics import accuracy_score, mean_absolute_error, mean_squared_error"
      ]
    },
    {
      "cell_type": "code",
      "execution_count": 54,
      "metadata": {
        "id": "FUetWpWSTkWp"
      },
      "outputs": [],
      "source": [
        "# Create linear regression object\n",
        "lin_R = LinearRegression()"
      ]
    },
    {
      "cell_type": "code",
      "execution_count": 55,
      "metadata": {
        "colab": {
          "base_uri": "https://localhost:8080/"
        },
        "id": "SfbfqM-vTtQh",
        "outputId": "5e7f4a65-e04b-46d8-e939-2ffbb21a1f4c"
      },
      "outputs": [
        {
          "output_type": "execute_result",
          "data": {
            "text/plain": [
              "LinearRegression()"
            ]
          },
          "metadata": {},
          "execution_count": 55
        }
      ],
      "source": [
        "# Train the model using the training sets\n",
        "lin_R.fit(x_train, y_train)"
      ]
    },
    {
      "cell_type": "code",
      "execution_count": 56,
      "metadata": {
        "id": "LRLBeJKITzzZ"
      },
      "outputs": [],
      "source": [
        "# Make predictions\n",
        "\n",
        "y_predict_test = lin_R.predict(x_test)\n",
        "y_predict_train= lin_R.predict(x_train)"
      ]
    },
    {
      "cell_type": "code",
      "execution_count": 57,
      "metadata": {
        "colab": {
          "base_uri": "https://localhost:8080/"
        },
        "id": "PKrUy8pdUGU-",
        "outputId": "520228da-703d-4fc0-d242-eadca723d691"
      },
      "outputs": [
        {
          "output_type": "stream",
          "name": "stdout",
          "text": [
            "r Squared: 0.86\n"
          ]
        }
      ],
      "source": [
        "# The coefficients\n",
        "#print('Coefficients: \\n', lin_R.coef_)\n",
        "\n",
        "print('r Squared: %.2f'\n",
        "      % lin_R.score(x_test, y_test))"
      ]
    },
    {
      "cell_type": "code",
      "execution_count": 58,
      "metadata": {
        "colab": {
          "base_uri": "https://localhost:8080/"
        },
        "id": "89Uhz4OaURDH",
        "outputId": "7708d00b-2aae-4723-9870-d73cbf4f2713"
      },
      "outputs": [
        {
          "output_type": "stream",
          "name": "stdout",
          "text": [
            "mse_value of Test= 0.4440500387860451\n",
            "mse_value of Train= 0.44505513193882945\n"
          ]
        }
      ],
      "source": [
        "print('mse_value of Test=',mean_squared_error(y_test, y_predict_test))\n",
        "print('mse_value of Train=',mean_squared_error(y_train, y_predict_train))\n",
        "mse_test= mean_squared_error(y_test, y_predict_test)"
      ]
    },
    {
      "cell_type": "code",
      "execution_count": 59,
      "metadata": {
        "colab": {
          "base_uri": "https://localhost:8080/"
        },
        "id": "3ZM6z-o0Us_x",
        "outputId": "54240b4f-2940-4458-85a6-b6656e560f39"
      },
      "outputs": [
        {
          "output_type": "stream",
          "name": "stdout",
          "text": [
            "check_lr 0.6663707967686198\n"
          ]
        }
      ],
      "source": [
        "print('check_lr', (np.sqrt(mean_squared_error(y_test, y_predict_test))))"
      ]
    },
    {
      "cell_type": "markdown",
      "metadata": {
        "id": "myDrAZbEJBEd"
      },
      "source": [
        "#### 5.3.2.2 Lasso Regression (Task1)\n",
        "\n",
        "The first task for this assignment is to implement one linear model from supervised learning. \n",
        "\n",
        "https://scikit-learn.org/stable/supervised_learning will provide a glimpse of various linear models available in scikit learn libraries. We will implement some of the linear models to check the accuracy score.\n",
        "\n",
        "**Lasso Linear Model**\n",
        "\n",
        "Laso is a type of linear model that estimates sparse coefficient. This feature helps  that leads to reduction in features with fewer non zero coefficients. Lasso is imported through sklearn.linear_model libraries."
      ]
    },
    {
      "cell_type": "markdown",
      "metadata": {
        "id": "rmUi2PeLMlMR"
      },
      "source": [
        "The alpha value in the model is the lasso alpha parameter. As alpha value increases, more coefficients of features are treated as zero. If alpha is zero, the coefficients are same as linear regression. The optimum value of alpha is taken between 0 to 1. This example takes the value of alpha as 0.1. Further validations can also be done through cross validation techniques."
      ]
    },
    {
      "cell_type": "code",
      "execution_count": 60,
      "metadata": {
        "id": "6JGrvRk7Z6Cc"
      },
      "outputs": [],
      "source": [
        "lasso_r = linear_model.Lasso(alpha=0.1)"
      ]
    },
    {
      "cell_type": "code",
      "execution_count": 61,
      "metadata": {
        "colab": {
          "base_uri": "https://localhost:8080/"
        },
        "id": "Hz0Ipxbwk29J",
        "outputId": "8b4148c9-ae70-49e1-c74c-73d364585a2b"
      },
      "outputs": [
        {
          "output_type": "execute_result",
          "data": {
            "text/plain": [
              "Lasso(alpha=0.1)"
            ]
          },
          "metadata": {},
          "execution_count": 61
        }
      ],
      "source": [
        "lasso_r.fit(x_train, y_train)"
      ]
    },
    {
      "cell_type": "code",
      "execution_count": 62,
      "metadata": {
        "id": "yQoxSnN7lCFZ"
      },
      "outputs": [],
      "source": [
        "y_predict_test = lasso_r.predict(x_test)\n",
        "y_predict_train= lasso_r.predict(x_train)"
      ]
    },
    {
      "cell_type": "code",
      "execution_count": 63,
      "metadata": {
        "colab": {
          "base_uri": "https://localhost:8080/"
        },
        "id": "CbUt0nvcj7TV",
        "outputId": "fa263523-24fc-4441-b99c-4cac2e3b1585"
      },
      "outputs": [
        {
          "output_type": "execute_result",
          "data": {
            "text/plain": [
              "0.8373939796852172"
            ]
          },
          "metadata": {},
          "execution_count": 63
        }
      ],
      "source": [
        "lasso_r.score(x_test, y_test)"
      ]
    },
    {
      "cell_type": "code",
      "execution_count": 64,
      "metadata": {
        "colab": {
          "base_uri": "https://localhost:8080/"
        },
        "id": "ua98Ly9Klrvw",
        "outputId": "19db08b8-2633-4fb2-8eea-611e077eeba7"
      },
      "outputs": [
        {
          "output_type": "stream",
          "name": "stdout",
          "text": [
            "r Squared: 0.84\n",
            "Model parameter used are: Lasso(alpha=0.1)\n",
            "MAE value         : 0.55446427521467\n",
            "RMSE value        : 0.73063083742423\n"
          ]
        }
      ],
      "source": [
        "print('r Squared: %.2f'\n",
        "      % lasso_r.score(x_test, y_test))\n",
        "print('Model parameter used are:',lasso_r)\n",
        "print(\"MAE value         :\", metrics.mean_absolute_error(y_test,y_predict_test))\n",
        "print(\"RMSE value        :\",np.sqrt(metrics.mean_squared_error(y_test,y_predict_test)))\n"
      ]
    },
    {
      "cell_type": "code",
      "source": [
        "\n",
        "print(lasso_r.intercept_)\n",
        "print(lasso_r.coef_)\n",
        "\n",
        "pr = lasso_r.predict(x_test)\n",
        "\n",
        "print(\"Score:\", lasso_r.score(x_test, y_test))\n",
        "plt.figure(dpi=100)\n",
        "plt.scatter(y_test, pr)"
      ],
      "metadata": {
        "colab": {
          "base_uri": "https://localhost:8080/",
          "height": 549
        },
        "id": "qhtPtDnwdWyw",
        "outputId": "4177ba86-5083-4901-d12a-36655e58b483"
      },
      "execution_count": 65,
      "outputs": [
        {
          "output_type": "stream",
          "name": "stdout",
          "text": [
            "12.557263432364504\n",
            "[ 0.          0.31217941  0.          0.49193392  1.1057955   0.\n",
            "  0.          0.          0.          0.         -0.17147651  0.\n",
            "  0.         -0.         -0.         -0.          0.          0.\n",
            " -0.         -0.          0.          0.         -0.         -0.\n",
            " -0.         -0.          0.          0.         -0.         -0.\n",
            "  0.          0.          0.          0.          0.         -0.\n",
            " -0.        ]\n",
            "Score: 0.8373939796852172\n"
          ]
        },
        {
          "output_type": "execute_result",
          "data": {
            "text/plain": [
              "<matplotlib.collections.PathCollection at 0x7efd2c1cfa90>"
            ]
          },
          "metadata": {},
          "execution_count": 65
        },
        {
          "output_type": "display_data",
          "data": {
            "image/png": "[encoded data removed]",
            "text/plain": [
              "<Figure size 600x400 with 1 Axes>"
            ]
          },
          "metadata": {}
        }
      ]
    },
    {
      "cell_type": "markdown",
      "metadata": {
        "id": "dfzNlM62OMcr"
      },
      "source": [
        "The accuracy for lasso regression is 84%. Next we try with Ridge regression model.\n",
        "\n",
        "#### 5.3.2.3 Ridge Regression\n",
        "\n",
        "\n",
        "Ridge regression addresses some of the problems of Ordinary Least Squares by imposing a penalty on the size of the coefficients. The ridge coefficients minimize a penalized residual sum of squares. The alpha value works on same principle. Larger the values, greater the shrinkage of coefficient values"
      ]
    },
    {
      "cell_type": "code",
      "execution_count": 66,
      "metadata": {
        "colab": {
          "base_uri": "https://localhost:8080/"
        },
        "id": "S2mczZinp0VK",
        "outputId": "177e58c7-3a7c-4b4a-b163-5a2e3477d36d"
      },
      "outputs": [
        {
          "output_type": "stream",
          "name": "stdout",
          "text": [
            "score: 0.86\n",
            "Model parameter used are: Ridge(alpha=0.1)\n",
            "MAE value         : 0.5054928981415091\n",
            "RMSE value        : 0.666389047958706\n"
          ]
        }
      ],
      "source": [
        "ridge_r = Ridge(alpha=0.1)\n",
        "ridge_r.fit(x_train, y_train)\n",
        "y_predict_test = ridge_r.predict(x_test)\n",
        "ridge_r.score(x_test, y_test)\n",
        "\n",
        "print('score: %.2f'\n",
        "      % ridge_r.score(x_test, y_test))\n",
        "print('Model parameter used are:',ridge_r)\n",
        "print(\"MAE value         :\", metrics.mean_absolute_error(y_test,y_predict_test))\n",
        "print(\"RMSE value        :\",np.sqrt(metrics.mean_squared_error(y_test,y_predict_test)))"
      ]
    },
    {
      "cell_type": "markdown",
      "metadata": {
        "id": "9v-2uBV3QpJi"
      },
      "source": [
        "#### 5.3.2.4 Stochastic Gradient Descent - SGD Regressor\n",
        "\n",
        "SGD is a type of iterative method that helps in optimizing features to gain suitable smoothness in the descent. This is being implemented just to check if there is any impact on accuracy. \n",
        "\n"
      ]
    },
    {
      "cell_type": "code",
      "execution_count": 67,
      "metadata": {
        "id": "q7_h-CICp5mW"
      },
      "outputs": [],
      "source": [
        "from sklearn.linear_model import SGDRegressor\n",
        "from sklearn.pipeline import make_pipeline\n",
        "from sklearn.preprocessing import StandardScaler"
      ]
    },
    {
      "cell_type": "code",
      "source": [
        "scaler = StandardScaler()\n",
        "scaler.fit(x_train)  \n",
        "X1_train = scaler.transform(x_train)\n",
        "X1_test = scaler.transform(x_test)  # apply same transformation to test data"
      ],
      "metadata": {
        "id": "DylQXhF6aqEG"
      },
      "execution_count": 68,
      "outputs": []
    },
    {
      "cell_type": "code",
      "execution_count": 69,
      "metadata": {
        "id": "05qMgaSIteFs"
      },
      "outputs": [],
      "source": [
        "reg = make_pipeline(StandardScaler(),SGDRegressor(max_iter=200, tol=0.001))"
      ]
    },
    {
      "cell_type": "code",
      "execution_count": 70,
      "metadata": {
        "colab": {
          "base_uri": "https://localhost:8080/"
        },
        "id": "IZHhhzBptkzw",
        "outputId": "c91fe283-807c-4a98-cb15-da34acad9dbf"
      },
      "outputs": [
        {
          "output_type": "execute_result",
          "data": {
            "text/plain": [
              "Pipeline(steps=[('standardscaler', StandardScaler()),\n",
              "                ('sgdregressor', SGDRegressor(max_iter=200))])"
            ]
          },
          "metadata": {},
          "execution_count": 70
        }
      ],
      "source": [
        "reg.fit(X1_train, y_train)"
      ]
    },
    {
      "cell_type": "code",
      "execution_count": 71,
      "metadata": {
        "colab": {
          "base_uri": "https://localhost:8080/"
        },
        "id": "QbdnGVBLuk5w",
        "outputId": "bc547522-d0f1-4e7f-94d4-840d72b81a73"
      },
      "outputs": [
        {
          "output_type": "stream",
          "name": "stdout",
          "text": [
            "-1.2375241822657448e+16\n",
            "Model parameter used are: Pipeline(steps=[('standardscaler', StandardScaler()),\n",
            "                ('sgdregressor', SGDRegressor(max_iter=200))])\n",
            "MAE value         : 122365053.46582744\n",
            "RMSE value        : 201561014.23034757\n"
          ]
        }
      ],
      "source": [
        "y_predict_test = reg.predict(X1_test)\n",
        "reg.score(X1_test, y_test)\n",
        "\n",
        "print(reg.score(X1_test, y_test))\n",
        "print('Model parameter used are:',reg)\n",
        "print(\"MAE value         :\", metrics.mean_absolute_error(y_test,y_predict_test))\n",
        "print(\"RMSE value        :\",np.sqrt(metrics.mean_squared_error(y_test,y_predict_test)))"
      ]
    },
    {
      "cell_type": "markdown",
      "metadata": {
        "id": "W7KLjCkFSPDh"
      },
      "source": [
        "The score comes in negative values for various iterations. Hence ruling it out, linear models seems more appropriate with given features"
      ]
    },
    {
      "cell_type": "markdown",
      "metadata": {
        "id": "6Sie93RH0QIJ"
      },
      "source": [
        "## 5.4  Dimensionality reduction with PCA (6 pts)"
      ]
    },
    {
      "cell_type": "markdown",
      "metadata": {
        "id": "YYXcyKKx0Q8A"
      },
      "source": [
        "##### Step 1: Fitting PCA and explained_variance_ratiio\n",
        "Use Principal component analysis to reduce number of dimensions of the dataset, as a first step fit a pca model on your train set and then plot the explained_variance_ratio against the number of components to decide the number of components you should keep. (3 pts)"
      ]
    },
    {
      "cell_type": "code",
      "execution_count": 72,
      "metadata": {
        "colab": {
          "base_uri": "https://localhost:8080/",
          "height": 331
        },
        "id": "qg3xQhWVvTLZ",
        "outputId": "7af8f930-4b45-48dd-f664-151286cd9950"
      },
      "outputs": [
        {
          "output_type": "stream",
          "name": "stdout",
          "text": [
            "[(0, 0.0934099332688184), (1, 0.14319107233793274), (2, 0.18258334050782274), (3, 0.2219737195111788), (4, 0.25695214391317606), (5, 0.29126124844742507), (6, 0.32496866047643186), (7, 0.35725170900234793), (8, 0.38921158327118877), (9, 0.421051952100915), (10, 0.4522406409861591), (11, 0.4828923774850224), (12, 0.5132368733187977), (13, 0.5426913632975252), (14, 0.5717230765242706), (15, 0.6005557593880493), (16, 0.6287874664216458), (17, 0.6564464657458366), (18, 0.6839159322231024), (19, 0.7112644855903222), (20, 0.7384130726507131), (21, 0.7654506163544035), (22, 0.79242643443149), (23, 0.8192758716396454), (24, 0.8454349862276131), (25, 0.8712625341217852), (26, 0.8967693002737167), (27, 0.92000850037608), (28, 0.9413662400368236), (29, 0.9611316673419386), (30, 0.9788396613468554), (31, 0.9947502177824762), (32, 0.9982500621881424), (33, 1.0), (34, 1.0), (35, 1.0), (36, 1.0)]\n"
          ]
        },
        {
          "output_type": "execute_result",
          "data": {
            "text/plain": [
              "[<matplotlib.lines.Line2D at 0x7efd2cbf4e90>]"
            ]
          },
          "metadata": {},
          "execution_count": 72
        },
        {
          "output_type": "display_data",
          "data": {
            "image/png": "[encoded data removed]",
            "text/plain": [
              "<Figure size 432x288 with 1 Axes>"
            ]
          },
          "metadata": {}
        }
      ],
      "source": [
        "import numpy as np\n",
        "from sklearn.decomposition import PCA\n",
        "from sklearn.preprocessing import StandardScaler\n",
        "# Add your code here\n",
        "\n",
        "pca = PCA()\n",
        "sc = StandardScaler()\n",
        "x_train_std=pca.fit_transform(x_train)\n",
        "np.set_printoptions(suppress=True)\n",
        "var_vs_pca = np.cumsum(pca.explained_variance_ratio_)\n",
        "print([(i,x) for i, x in enumerate(var_vs_pca)])\n",
        "# plotting the explained_variance_ratio against the number of components\n",
        "plt.plot(var_vs_pca)"
      ]
    },
    {
      "cell_type": "code",
      "execution_count": 73,
      "metadata": {
        "colab": {
          "base_uri": "https://localhost:8080/",
          "height": 331
        },
        "id": "imI1XGQS1hqx",
        "outputId": "de4f37e8-12bb-44de-ddb0-24f611e84824"
      },
      "outputs": [
        {
          "output_type": "stream",
          "name": "stdout",
          "text": [
            "[(0, 0.0934099332688184), (1, 0.14319107233793274), (2, 0.18258334050782274), (3, 0.2219737195111788), (4, 0.25695214391317606), (5, 0.29126124844742507), (6, 0.32496866047643186), (7, 0.35725170900234793), (8, 0.38921158327118877), (9, 0.421051952100915), (10, 0.4522406409861591), (11, 0.4828923774850224), (12, 0.5132368733187977), (13, 0.5426913632975252), (14, 0.5717230765242706), (15, 0.6005557593880493), (16, 0.6287874664216458), (17, 0.6564464657458366), (18, 0.6839159322231024), (19, 0.7112644855903222), (20, 0.7384130726507131), (21, 0.7654506163544035), (22, 0.79242643443149), (23, 0.8192758716396454), (24, 0.8454349862276131), (25, 0.8712625341217852), (26, 0.8967693002737167), (27, 0.92000850037608), (28, 0.9413662400368236), (29, 0.9611316673419386), (30, 0.9788396613468554), (31, 0.9947502177824762), (32, 0.9982500621881424), (33, 1.0)]\n"
          ]
        },
        {
          "output_type": "execute_result",
          "data": {
            "text/plain": [
              "[<matplotlib.lines.Line2D at 0x7efd2ca6e810>]"
            ]
          },
          "metadata": {},
          "execution_count": 73
        },
        {
          "output_type": "display_data",
          "data": {
            "image/png": "[encoded data removed]",
            "text/plain": [
              "<Figure size 432x288 with 1 Axes>"
            ]
          },
          "metadata": {}
        }
      ],
      "source": [
        "#It is strating faltten with number of component = 34 (99% of variance)\n",
        "pca = PCA(34)\n",
        "x_train_std=pca.fit_transform(x_train)\n",
        "np.set_printoptions(suppress=True)\n",
        "var_vs_pca = np.cumsum(pca.explained_variance_ratio_)\n",
        "print([(i,x) for i, x in enumerate(var_vs_pca)])\n",
        "# plotting the explained_variance_ratio against the number of components\n",
        "plt.plot(var_vs_pca)\n",
        "plt.plot(pd.Series(pca.explained_variance_ratio_))"
      ]
    },
    {
      "cell_type": "markdown",
      "metadata": {
        "id": "IbweDVRE2EvY"
      },
      "source": [
        "##### Step 2: Deciding number of components to keep\n",
        "Use the plot to decide the number of components to keep, choose a number that explains atleast 95% of variance in the dataset. Then fit and transform your pca on training set using the number of components you decided. (1 pts)\n",
        "\n",
        "**Remember that your pca should be trained on the training set (and transformed here) but only transformed on the test set.**"
      ]
    },
    {
      "cell_type": "code",
      "execution_count": 74,
      "metadata": {
        "id": "wm_0D2wj2BRG"
      },
      "outputs": [],
      "source": [
        "# Add your code here\n",
        "pca = PCA(n_components=34)\n",
        "x_train_Trans=pca.fit_transform(x_train)\n",
        "x_test_Trans=pca.transform(x_test)"
      ]
    },
    {
      "cell_type": "code",
      "execution_count": 75,
      "metadata": {
        "colab": {
          "base_uri": "https://localhost:8080/"
        },
        "id": "q6dXkDwO21uq",
        "outputId": "ec0d1265-184d-43aa-dcee-da13cb95599e"
      },
      "outputs": [
        {
          "output_type": "execute_result",
          "data": {
            "text/plain": [
              "array([[-1.18698344, -0.19629962, -1.74502162, ...,  0.18371158,\n",
              "        -0.14004584,  0.02314707],\n",
              "       [ 0.09111618, -0.19884039, -0.82269685, ..., -0.42163052,\n",
              "        -0.01298446, -0.28458585],\n",
              "       [ 1.25597799,  0.87424018, -1.63056746, ..., -0.97864796,\n",
              "         0.0062563 , -0.22557323],\n",
              "       ...,\n",
              "       [-2.25807731, -0.07197147,  2.00143501, ...,  0.82707941,\n",
              "         0.01974311,  0.05971743],\n",
              "       [ 4.43067261,  1.34411661,  3.30747396, ...,  0.22386356,\n",
              "        -0.52626623, -1.26112496],\n",
              "       [-0.38385757,  0.18394374,  0.63574502, ...,  0.33358915,\n",
              "         0.04612311,  0.04445584]])"
            ]
          },
          "metadata": {},
          "execution_count": 75
        }
      ],
      "source": [
        "x_train_Trans"
      ]
    },
    {
      "cell_type": "code",
      "execution_count": 76,
      "metadata": {
        "colab": {
          "base_uri": "https://localhost:8080/"
        },
        "id": "RSaAc2XA2aGW",
        "outputId": "430e85e8-1dc9-4626-a838-34c710297f3c"
      },
      "outputs": [
        {
          "output_type": "stream",
          "name": "stdout",
          "text": [
            "check_pca [[-1.18698344 -0.19629962 -1.74502162 ...  0.18371158 -0.14004584\n",
            "   0.02314707]\n",
            " [ 0.09111618 -0.19884039 -0.82269685 ... -0.42163052 -0.01298446\n",
            "  -0.28458585]\n",
            " [ 1.25597799  0.87424018 -1.63056746 ... -0.97864796  0.0062563\n",
            "  -0.22557323]\n",
            " ...\n",
            " [-1.08302864  0.54934388  0.70213772 ...  0.2126897  -0.21864415\n",
            "   0.26084669]\n",
            " [ 2.4563177  -2.03956653  0.14530877 ...  1.17185556 -0.14579692\n",
            "   0.16136025]\n",
            " [ 1.62869266  1.45617117  1.45342869 ...  0.77473147  0.63791858\n",
            "  -0.35997171]]\n"
          ]
        }
      ],
      "source": [
        "# Print cell.\n",
        "print('check_pca', (x_train_Trans[:50,:]))"
      ]
    },
    {
      "cell_type": "markdown",
      "source": [
        "## 5.5 Ensemble Methods"
      ],
      "metadata": {
        "id": "ShpcLF8Q4IP-"
      }
    },
    {
      "cell_type": "markdown",
      "metadata": {
        "id": "k9SK_ig74voC"
      },
      "source": [
        "### 5.5.1 Random Forest. (10 pts)"
      ]
    },
    {
      "cell_type": "markdown",
      "metadata": {
        "id": "zUt8vY9n4tDR"
      },
      "source": [
        "##### Step 1: Hyperparameter tuning. \n",
        "Use grid search and train a random forest model on the transformed train dataset. Take a look at the sklearn `RandomForestRegressor` documentation and tune the max_depth hyperparameter using grid search. We have already tested the number of estimators hyperparameter for you. Note this section may take a while to run depending on how large your grid is. \n",
        "\n",
        "(Hint: refer to the GridSearchCV documentation and do some reading on how the max_depth in a RF model affects the result - while theory may help guide a rough estimate of possible hyperparameters, we can cross validate values using tools like GridSearch.\n",
        "\n",
        "Our autograder has tiered points for this question depending on your final MSE value but is fairly generous; we are not requiring that you find the **most** optimal value for this hyperparameter but rather demonstrate understanding of grid search optimization. (4 pts)\n"
      ]
    },
    {
      "cell_type": "code",
      "execution_count": 77,
      "metadata": {
        "id": "LtFcUJxo9tQK"
      },
      "outputs": [],
      "source": [
        "from sklearn.ensemble import RandomForestRegressor\n",
        "from sklearn.model_selection import GridSearchCV\n",
        "# Add your code here\n",
        "# Only tune the max depth of the trees in the RF hyperparameter.\n",
        "#grid = GridSearchCV(estimator=RandomForestRegressor(), param_grid={'n_estimators':[140],'max_depth':[25,30,35,40,45]},cv=5)\n",
        "#grid.fit(x_train_Trans, y_train)\n",
        "#grid.best_params_\n",
        "# depth = [40]\n",
        "# nEstimator = [140]"
      ]
    },
    {
      "cell_type": "code",
      "execution_count": 78,
      "metadata": {
        "colab": {
          "base_uri": "https://localhost:8080/"
        },
        "id": "rYeh8S2XAOFp",
        "outputId": "8dc2bc45-5734-46b0-d6fb-c15ca1b27bcc"
      },
      "outputs": [
        {
          "output_type": "stream",
          "name": "stdout",
          "text": [
            "{'n_estimators': [200, 400, 600, 800, 1000, 1200, 1400, 1600, 1800, 2000], 'max_features': ['auto', 'sqrt'], 'max_depth': [10, 20, 30, 40, 50, 60, 70, 80, 90, 100, 110, None], 'min_samples_split': [2, 5, 10], 'min_samples_leaf': [1, 2, 4], 'bootstrap': [True, False]}\n"
          ]
        }
      ],
      "source": [
        "from sklearn.model_selection import RandomizedSearchCV\n",
        "# Number of trees in random forest\n",
        "n_estimators = [int(x) for x in np.linspace(start = 200, stop = 2000, num = 10)]\n",
        "# Number of features to consider at every split\n",
        "max_features = ['auto', 'sqrt']\n",
        "# Maximum number of levels in tree\n",
        "max_depth = [int(x) for x in np.linspace(10, 110, num = 11)]\n",
        "max_depth.append(None)\n",
        "# Minimum number of samples required to split a node\n",
        "min_samples_split = [2, 5, 10]\n",
        "# Minimum number of samples required at each leaf node\n",
        "min_samples_leaf = [1, 2, 4]\n",
        "# Method of selecting samples for training each tree\n",
        "bootstrap = [True, False]\n",
        "# Create the random grid\n",
        "random_grid = {'n_estimators': n_estimators,\n",
        "               'max_features': max_features,\n",
        "               'max_depth': max_depth,\n",
        "               'min_samples_split': min_samples_split,\n",
        "               'min_samples_leaf': min_samples_leaf,\n",
        "               'bootstrap': bootstrap}\n",
        "print(random_grid)"
      ]
    },
    {
      "cell_type": "code",
      "execution_count": 79,
      "metadata": {
        "id": "g1f9CFee_pCT"
      },
      "outputs": [],
      "source": [
        "# Use the random grid to search for best hyperparameters\n",
        "# First create the base model to tune\n",
        "##rf = RandomForestRegressor()\n",
        "# Random search of parameters, using 3 fold cross validation, \n",
        "# search across 100 different combinations, and use all available cores\n",
        "##rf_random = RandomizedSearchCV(estimator = rf, param_distributions = random_grid, n_iter = 100, cv = 3, verbose=2, random_state=42, n_jobs = -1)\n",
        "# Fit the random search model\n",
        "##rf_random.fit(x_train_Trans, y_train)"
      ]
    },
    {
      "cell_type": "markdown",
      "metadata": {
        "id": "0D9fboMGUQsT"
      },
      "source": [
        "Step 2: Fitting RF\n",
        "Fit the random forest on the training data using the parameters you computed above. Then make predictions on the test set, report the root mean squared error for the test set. (3 pts)"
      ]
    },
    {
      "cell_type": "code",
      "execution_count": 80,
      "metadata": {
        "id": "5-VjMrQmUGAr"
      },
      "outputs": [],
      "source": [
        "# Add your code here\n",
        "# Set n_estimators = 140\n",
        "reg_RF = RandomForestRegressor(n_estimators=140, max_depth=40)\n",
        "reg_RF.fit(x_train_Trans, y_train)\n",
        "y_pred_RF = reg_RF.predict(x_test_Trans)"
      ]
    },
    {
      "cell_type": "code",
      "execution_count": 81,
      "metadata": {
        "colab": {
          "base_uri": "https://localhost:8080/"
        },
        "id": "aW5KQzDvZeMY",
        "outputId": "ffc5e723-8828-4b0c-cf5d-345d13a71cbf"
      },
      "outputs": [
        {
          "output_type": "stream",
          "name": "stdout",
          "text": [
            "0.9387209847841412\n",
            "check_rf 0.4485238863971467\n",
            "MSE Value 0.20117367666880057\n"
          ]
        }
      ],
      "source": [
        "print(reg_RF.score(x_test_Trans, y_test))\n",
        "print('check_rf', (np.sqrt(mean_squared_error(y_test, y_pred_RF))))\n",
        "print('MSE Value', mean_squared_error(y_test, y_pred_RF))\n"
      ]
    },
    {
      "cell_type": "markdown",
      "metadata": {
        "id": "W7PxkbczStGn"
      },
      "source": [
        "###5.5.2 Gradient Boosting Regressor\n",
        "\n",
        "GBR is a type of ensemble learning which is built on principle of Boosting methods unlike Random Forest that relies on bagging methods.\n",
        "\n",
        "It gives a prediction model in the form of an ensemble of weak decision tree prediction models."
      ]
    },
    {
      "cell_type": "code",
      "execution_count": 82,
      "metadata": {
        "id": "P3r3hor_aCu-"
      },
      "outputs": [],
      "source": [
        "from sklearn.metrics import mean_squared_error\n",
        "from sklearn.datasets import make_friedman1\n",
        "from sklearn.ensemble import GradientBoostingRegressor\n",
        "\n",
        "est = GradientBoostingRegressor(n_estimators=100, learning_rate=0.1, max_depth=1, random_state=0,loss='squared_error').fit(x_train_Trans, y_train)"
      ]
    },
    {
      "cell_type": "code",
      "execution_count": 83,
      "metadata": {
        "id": "4bohWKZRbPOo"
      },
      "outputs": [],
      "source": [
        "y_pred_est = est.predict(x_test_Trans)"
      ]
    },
    {
      "cell_type": "code",
      "execution_count": 84,
      "metadata": {
        "colab": {
          "base_uri": "https://localhost:8080/"
        },
        "id": "IbYN-lKebkn6",
        "outputId": "810699bd-f0bf-4841-9578-b910dd901bc1"
      },
      "outputs": [
        {
          "output_type": "stream",
          "name": "stdout",
          "text": [
            "MSE Value 0.8186565445097079\n",
            "Accuracy Score 0.7506310583060845\n",
            "RMSE 0.9047964105309592\n"
          ]
        }
      ],
      "source": [
        "print('MSE Value', mean_squared_error(y_test, y_pred_est))\n",
        "print('Accuracy Score', est.score(x_test_Trans, y_test))\n",
        "print('RMSE', (np.sqrt(mean_squared_error(y_test, y_pred_est))))"
      ]
    },
    {
      "cell_type": "markdown",
      "source": [
        "##### Hyperparameter tuning."
      ],
      "metadata": {
        "id": "FdOGhD1GHTp-"
      }
    },
    {
      "cell_type": "code",
      "execution_count": 85,
      "metadata": {
        "colab": {
          "base_uri": "https://localhost:8080/"
        },
        "id": "6h1JjR0i11qu",
        "outputId": "d9d48055-a63d-40e9-f554-ea3c395493c3"
      },
      "outputs": [
        {
          "output_type": "stream",
          "name": "stdout",
          "text": [
            "{'n_estimators': [200, 400, 600, 800, 1000, 1200, 1400, 1600, 1800, 2000], 'max_features': ['auto', 'sqrt'], 'max_depth': [10, 20, 30, 40, 50, 60, 70, 80, 90, 100, 110, None], 'min_samples_split': [2, 5, 10], 'min_samples_leaf': [1, 2, 4]}\n"
          ]
        }
      ],
      "source": [
        "from sklearn.model_selection import RandomizedSearchCV\n",
        "# Number of trees in random forest\n",
        "n_estimators = [int(x) for x in np.linspace(start = 200, stop = 2000, num = 10)]\n",
        "# Number of features to consider at every split\n",
        "max_features = ['auto', 'sqrt']\n",
        "# Maximum number of levels in tree\n",
        "max_depth = [int(x) for x in np.linspace(10, 110, num = 11)]\n",
        "max_depth.append(None)\n",
        "# Minimum number of samples required to split a node\n",
        "min_samples_split = [2, 5, 10]\n",
        "# Minimum number of samples required at each leaf node\n",
        "min_samples_leaf = [1, 2, 4]\n",
        "# Method of selecting samples for training each tree\n",
        "bootstrap = [True, False]\n",
        "# Create the random grid\n",
        "random_grid = {'n_estimators': n_estimators,\n",
        "               'max_features': max_features,\n",
        "               'max_depth': max_depth,\n",
        "               'min_samples_split': min_samples_split,\n",
        "               'min_samples_leaf': min_samples_leaf}\n",
        "print(random_grid)"
      ]
    },
    {
      "cell_type": "markdown",
      "source": [
        "The hyperparameter tuning is done using RandomizedSearchCV, where parameters with various combination have been stored as random_grid. This can be used in below .fit() method, however the step takes a longtime to be executed on Colab (Nearly 2hrs for 2 iterations) Please remove comment with ## to run the below code"
      ],
      "metadata": {
        "id": "_dIdfS6lEPs0"
      }
    },
    {
      "cell_type": "code",
      "execution_count": 86,
      "metadata": {
        "id": "vHnEKpgn1HCK"
      },
      "outputs": [],
      "source": [
        "# Use the random grid to search for best hyperparameters\n",
        "# First create the base model to tune\n",
        "##gbr = GradientBoostingRegressor()\n",
        "# Random search of parameters, using 3 fold cross validation, \n",
        "# search across 100 different combinations, and use all available cores\n",
        "##gbr_random = RandomizedSearchCV(estimator = gbr, param_distributions = random_grid, n_iter = 2, cv = 3, verbose=2, random_state=42, n_jobs = -1)\n",
        "# Fit the random search model\n",
        "##gbr_random.fit(x_train_Trans, y_train)"
      ]
    },
    {
      "cell_type": "code",
      "execution_count": 87,
      "metadata": {
        "id": "JcA01iIDdTaz"
      },
      "outputs": [],
      "source": [
        "from sklearn.ensemble import GradientBoostingRegressor\n",
        "from sklearn.ensemble import RandomForestRegressor\n",
        "from sklearn.linear_model import LinearRegression\n",
        "from sklearn.ensemble import VotingRegressor\n"
      ]
    },
    {
      "cell_type": "markdown",
      "metadata": {
        "id": "ZGXTcMbvUASF"
      },
      "source": [
        "###5.5.3 Voting Regressor\n",
        "\n",
        "A voting regressor is an ensemble method that fits several base regressors implemented on the whole dataset. Then it averages the individual predictions to form a final prediction. It is useful when we have to choose between a set of equally well performing models for balancing out their individual weaknesses."
      ]
    },
    {
      "cell_type": "code",
      "execution_count": 88,
      "metadata": {
        "id": "DVLBxu45dh4D"
      },
      "outputs": [],
      "source": [
        "reg1 = GradientBoostingRegressor(random_state=1)\n",
        "reg2 = RandomForestRegressor(random_state=1)\n",
        "reg3 = LinearRegression()\n",
        "ereg = VotingRegressor(estimators=[('gb', reg1), ('rf', reg2), ('lr', reg3)])\n",
        "ereg = ereg.fit(x_train_Trans, y_train)"
      ]
    },
    {
      "cell_type": "code",
      "execution_count": 89,
      "metadata": {
        "id": "4Fmw3Ym_hOPH"
      },
      "outputs": [],
      "source": [
        "y_pred_RF = ereg.predict(x_test_Trans)"
      ]
    },
    {
      "cell_type": "code",
      "execution_count": 90,
      "metadata": {
        "colab": {
          "base_uri": "https://localhost:8080/"
        },
        "id": "SWqN2L7UhTY7",
        "outputId": "d816dfd4-20e6-453b-deba-47d425bf8bf7"
      },
      "outputs": [
        {
          "output_type": "stream",
          "name": "stdout",
          "text": [
            "MSE Value 0.3018727780287592\n",
            "Accuracy Score 0.9080472810141429\n",
            "RMSE 0.5494295023283325\n"
          ]
        }
      ],
      "source": [
        "print('MSE Value', mean_squared_error(y_test, ereg.predict(x_test_Trans)))\n",
        "print('Accuracy Score', ereg.score(x_test_Trans, y_test))\n",
        "print('RMSE', (np.sqrt(mean_squared_error(y_test, y_pred_RF))))"
      ]
    },
    {
      "cell_type": "code",
      "execution_count": 91,
      "metadata": {
        "id": "ncWIJi_okzFM"
      },
      "outputs": [],
      "source": [
        "xt = x_test_Trans[:20]"
      ]
    },
    {
      "cell_type": "code",
      "execution_count": 92,
      "metadata": {
        "id": "SZCbFGU-k8zk"
      },
      "outputs": [],
      "source": [
        "#pred1 = reg1.predict(xt)\n",
        "pred1 = reg_RF.predict(xt)\n",
        "pred2 = est.predict(xt)\n",
        "pred3 = ereg.predict(xt)"
      ]
    },
    {
      "cell_type": "code",
      "execution_count": 93,
      "metadata": {
        "colab": {
          "base_uri": "https://localhost:8080/",
          "height": 290
        },
        "id": "aIIABMa7jzul",
        "outputId": "36e02a7e-b85d-4623-83fe-456232ffee6c"
      },
      "outputs": [
        {
          "output_type": "display_data",
          "data": {
            "image/png": "[encoded data removed]",
            "text/plain": [
              "<Figure size 432x288 with 1 Axes>"
            ]
          },
          "metadata": {}
        }
      ],
      "source": [
        "plt.figure()\n",
        "plt.plot(pred2, \"gd\", label=\"GradientBoostingRegressor\")\n",
        "plt.plot(pred1, \"b^\", label=\"RandomForestRegressor\")\n",
        "plt.plot(pred3, \"r*\", ms=10, label=\"VotingRegressor\")\n",
        "\n",
        "plt.tick_params(axis=\"x\", which=\"both\", bottom=False, top=False, labelbottom=False)\n",
        "plt.ylabel(\"predicted\")\n",
        "plt.xlabel(\"training samples\")\n",
        "plt.legend(loc=\"best\")\n",
        "plt.title(\"Regressor predictions and their average\")\n",
        "\n",
        "plt.show()"
      ]
    },
    {
      "cell_type": "markdown",
      "metadata": {
        "id": "WYXrf8_dWWTA"
      },
      "source": [
        "## Almost halfway there :)\n",
        "\n",
        "Well done! Almost halfway there :)\n"
      ]
    },
    {
      "cell_type": "markdown",
      "metadata": {
        "id": "VFgj0s7nWW-r"
      },
      "source": [
        "# Section 2 : Distributed Machine Learning with Spark (55 Points)\n",
        "\n",
        "Apache Spark ML is the machine learning library consisting of common learning algorithms and utilities, including classification, regression, clustering, collaborative filtering, dimensionality reduction, and underlying optimization primitives.\n",
        "\n",
        "Why Spark ML?\n",
        "\n",
        "Moving to the Big Data Era requires heavy iterative computations on very big datasets. Standard implementations of machine learning algorithms require very powerful machines to be able to run. Depending on high-end machines is not advantageous due to their high price and improper costs of scaling up. The idea of using distributed computing engines is to distribute the calculations to multiple low-end machines (commodity hardware) instead of a single high-end one. This definitely speeds up the learning phase and allows us to create better models.\n",
        "\n",
        "Read more about it with the python documentation [here](https://spark.apache.org/docs/latest/ml-guide.html)"
      ]
    },
    {
      "cell_type": "markdown",
      "metadata": {
        "id": "FmA_c-4NWhIx"
      },
      "source": [
        "### Initializing Spark Connection - Boring setup stuff again"
      ]
    },
    {
      "cell_type": "code",
      "execution_count": 94,
      "metadata": {
        "colab": {
          "base_uri": "https://localhost:8080/"
        },
        "id": "prFDieiMl2jF",
        "outputId": "a78b5b54-6a80-4466-f0e1-2e7f3bab0e23"
      },
      "outputs": [
        {
          "output_type": "stream",
          "name": "stdout",
          "text": [
            "Reading package lists... Done\n",
            "Building dependency tree       \n",
            "Reading state information... Done\n",
            "The following package was automatically installed and is no longer required:\n",
            "  libnvidia-common-470\n",
            "Use 'apt autoremove' to remove it.\n",
            "The following additional packages will be installed:\n",
            "  comerr-dev krb5-multidev libgssrpc4 libkadm5clnt-mit11 libkadm5srv-mit11\n",
            "  libkdb5-9\n",
            "Suggested packages:\n",
            "  doc-base krb5-doc krb5-user\n",
            "The following NEW packages will be installed:\n",
            "  comerr-dev krb5-multidev libgssrpc4 libkadm5clnt-mit11 libkadm5srv-mit11\n",
            "  libkdb5-9 libkrb5-dev\n",
            "0 upgraded, 7 newly installed, 0 to remove and 39 not upgraded.\n",
            "Need to get 349 kB of archives.\n",
            "After this operation, 1,992 kB of additional disk space will be used.\n",
            "Get:1 http://archive.ubuntu.com/ubuntu bionic-updates/main amd64 libgssrpc4 amd64 1.16-2ubuntu0.2 [54.4 kB]\n",
            "Get:2 http://archive.ubuntu.com/ubuntu bionic-updates/main amd64 libkdb5-9 amd64 1.16-2ubuntu0.2 [37.3 kB]\n",
            "Get:3 http://archive.ubuntu.com/ubuntu bionic-updates/main amd64 libkadm5srv-mit11 amd64 1.16-2ubuntu0.2 [49.7 kB]\n",
            "Get:4 http://archive.ubuntu.com/ubuntu bionic-updates/main amd64 libkadm5clnt-mit11 amd64 1.16-2ubuntu0.2 [38.0 kB]\n",
            "Get:5 http://archive.ubuntu.com/ubuntu bionic-updates/main amd64 comerr-dev amd64 2.1-1.44.1-1ubuntu1.3 [38.5 kB]\n",
            "Get:6 http://archive.ubuntu.com/ubuntu bionic-updates/main amd64 krb5-multidev amd64 1.16-2ubuntu0.2 [120 kB]\n",
            "Get:7 http://archive.ubuntu.com/ubuntu bionic-updates/main amd64 libkrb5-dev amd64 1.16-2ubuntu0.2 [11.7 kB]\n",
            "Fetched 349 kB in 0s (3,512 kB/s)\n",
            "Selecting previously unselected package libgssrpc4:amd64.\n",
            "(Reading database ... 155896 files and directories currently installed.)\n",
            "Preparing to unpack .../0-libgssrpc4_1.16-2ubuntu0.2_amd64.deb ...\n",
            "Unpacking libgssrpc4:amd64 (1.16-2ubuntu0.2) ...\n",
            "Selecting previously unselected package libkdb5-9:amd64.\n",
            "Preparing to unpack .../1-libkdb5-9_1.16-2ubuntu0.2_amd64.deb ...\n",
            "Unpacking libkdb5-9:amd64 (1.16-2ubuntu0.2) ...\n",
            "Selecting previously unselected package libkadm5srv-mit11:amd64.\n",
            "Preparing to unpack .../2-libkadm5srv-mit11_1.16-2ubuntu0.2_amd64.deb ...\n",
            "Unpacking libkadm5srv-mit11:amd64 (1.16-2ubuntu0.2) ...\n",
            "Selecting previously unselected package libkadm5clnt-mit11:amd64.\n",
            "Preparing to unpack .../3-libkadm5clnt-mit11_1.16-2ubuntu0.2_amd64.deb ...\n",
            "Unpacking libkadm5clnt-mit11:amd64 (1.16-2ubuntu0.2) ...\n",
            "Selecting previously unselected package comerr-dev:amd64.\n",
            "Preparing to unpack .../4-comerr-dev_2.1-1.44.1-1ubuntu1.3_amd64.deb ...\n",
            "Unpacking comerr-dev:amd64 (2.1-1.44.1-1ubuntu1.3) ...\n",
            "Selecting previously unselected package krb5-multidev:amd64.\n",
            "Preparing to unpack .../5-krb5-multidev_1.16-2ubuntu0.2_amd64.deb ...\n",
            "Unpacking krb5-multidev:amd64 (1.16-2ubuntu0.2) ...\n",
            "Selecting previously unselected package libkrb5-dev:amd64.\n",
            "Preparing to unpack .../6-libkrb5-dev_1.16-2ubuntu0.2_amd64.deb ...\n",
            "Unpacking libkrb5-dev:amd64 (1.16-2ubuntu0.2) ...\n",
            "Setting up libgssrpc4:amd64 (1.16-2ubuntu0.2) ...\n",
            "Setting up comerr-dev:amd64 (2.1-1.44.1-1ubuntu1.3) ...\n",
            "Setting up libkdb5-9:amd64 (1.16-2ubuntu0.2) ...\n",
            "Setting up libkadm5srv-mit11:amd64 (1.16-2ubuntu0.2) ...\n",
            "Setting up libkadm5clnt-mit11:amd64 (1.16-2ubuntu0.2) ...\n",
            "Setting up krb5-multidev:amd64 (1.16-2ubuntu0.2) ...\n",
            "Setting up libkrb5-dev:amd64 (1.16-2ubuntu0.2) ...\n",
            "Processing triggers for man-db (2.8.3-2ubuntu0.1) ...\n",
            "Processing triggers for libc-bin (2.27-3ubuntu1.3) ...\n",
            "/sbin/ldconfig.real: /usr/local/lib/python3.7/dist-packages/ideep4py/lib/libmkldnn.so.0 is not a symbolic link\n",
            "\n",
            "--2022-02-28 16:16:02--  https://www-us.apache.org/dist/spark/spark-2.4.5/spark-2.4.5-bin-hadoop2.7.tgz\n",
            "Resolving www-us.apache.org (www-us.apache.org)... failed: Name or service not known.\n",
            "wget: unable to resolve host address ‘www-us.apache.org’\n",
            "tar: spark-2.4.5-bin-hadoop2.7.tgz: Cannot open: No such file or directory\n",
            "tar: Error is not recoverable: exiting now\n",
            "Collecting findspark\n",
            "  Downloading findspark-2.0.1-py2.py3-none-any.whl (4.4 kB)\n",
            "Installing collected packages: findspark\n",
            "Successfully installed findspark-2.0.1\n",
            "Collecting sparkmagic\n",
            "  Downloading sparkmagic-0.19.1.tar.gz (43 kB)\n",
            "\u001b[K     |████████████████████████████████| 43 kB 1.4 MB/s \n",
            "\u001b[?25hCollecting hdijupyterutils>=0.6\n",
            "  Downloading hdijupyterutils-0.19.1.tar.gz (5.0 kB)\n",
            "Collecting autovizwidget>=0.6\n",
            "  Downloading autovizwidget-0.19.1.tar.gz (8.7 kB)\n",
            "Requirement already satisfied: ipython>=4.0.2 in /usr/local/lib/python3.7/dist-packages (from sparkmagic) (5.5.0)\n",
            "Collecting nose\n",
            "  Downloading nose-1.3.7-py3-none-any.whl (154 kB)\n",
            "\u001b[K     |████████████████████████████████| 154 kB 31.3 MB/s \n",
            "\u001b[?25hCollecting mock\n",
            "  Downloading mock-4.0.3-py3-none-any.whl (28 kB)\n",
            "Requirement already satisfied: pandas>=0.17.1 in /usr/local/lib/python3.7/dist-packages (from sparkmagic) (1.0.5)\n",
            "Requirement already satisfied: numpy in /usr/local/lib/python3.7/dist-packages (from sparkmagic) (1.21.5)\n",
            "Requirement already satisfied: requests in /usr/local/lib/python3.7/dist-packages (from sparkmagic) (2.23.0)\n",
            "Requirement already satisfied: ipykernel<6.0.0 in /usr/local/lib/python3.7/dist-packages (from sparkmagic) (4.10.1)\n",
            "Requirement already satisfied: ipywidgets>5.0.0 in /usr/local/lib/python3.7/dist-packages (from sparkmagic) (7.6.5)\n",
            "Requirement already satisfied: notebook>=4.2 in /usr/local/lib/python3.7/dist-packages (from sparkmagic) (5.3.1)\n",
            "Requirement already satisfied: tornado>=4 in /usr/local/lib/python3.7/dist-packages (from sparkmagic) (5.1.1)\n",
            "Collecting requests_kerberos>=0.8.0\n",
            "  Downloading requests_kerberos-0.14.0-py2.py3-none-any.whl (11 kB)\n",
            "Requirement already satisfied: plotly>=3 in /usr/local/lib/python3.7/dist-packages (from autovizwidget>=0.6->sparkmagic) (5.5.0)\n",
            "Requirement already satisfied: jupyter>=1 in /usr/local/lib/python3.7/dist-packages (from hdijupyterutils>=0.6->sparkmagic) (1.0.0)\n",
            "Requirement already satisfied: jupyter-client in /usr/local/lib/python3.7/dist-packages (from ipykernel<6.0.0->sparkmagic) (5.3.5)\n",
            "Requirement already satisfied: traitlets>=4.1.0 in /usr/local/lib/python3.7/dist-packages (from ipykernel<6.0.0->sparkmagic) (5.1.1)\n",
            "Requirement already satisfied: decorator in /usr/local/lib/python3.7/dist-packages (from ipython>=4.0.2->sparkmagic) (4.4.2)\n",
            "Requirement already satisfied: pygments in /usr/local/lib/python3.7/dist-packages (from ipython>=4.0.2->sparkmagic) (2.6.1)\n",
            "Requirement already satisfied: simplegeneric>0.8 in /usr/local/lib/python3.7/dist-packages (from ipython>=4.0.2->sparkmagic) (0.8.1)\n",
            "Requirement already satisfied: pickleshare in /usr/local/lib/python3.7/dist-packages (from ipython>=4.0.2->sparkmagic) (0.7.5)\n",
            "Requirement already satisfied: setuptools>=18.5 in /usr/local/lib/python3.7/dist-packages (from ipython>=4.0.2->sparkmagic) (57.4.0)\n",
            "Requirement already satisfied: pexpect in /usr/local/lib/python3.7/dist-packages (from ipython>=4.0.2->sparkmagic) (4.8.0)\n",
            "Requirement already satisfied: prompt-toolkit<2.0.0,>=1.0.4 in /usr/local/lib/python3.7/dist-packages (from ipython>=4.0.2->sparkmagic) (1.0.18)\n",
            "Requirement already satisfied: ipython-genutils~=0.2.0 in /usr/local/lib/python3.7/dist-packages (from ipywidgets>5.0.0->sparkmagic) (0.2.0)\n",
            "Requirement already satisfied: widgetsnbextension~=3.5.0 in /usr/local/lib/python3.7/dist-packages (from ipywidgets>5.0.0->sparkmagic) (3.5.2)\n",
            "Requirement already satisfied: jupyterlab-widgets>=1.0.0 in /usr/local/lib/python3.7/dist-packages (from ipywidgets>5.0.0->sparkmagic) (1.0.2)\n",
            "Requirement already satisfied: nbformat>=4.2.0 in /usr/local/lib/python3.7/dist-packages (from ipywidgets>5.0.0->sparkmagic) (5.1.3)\n",
            "Requirement already satisfied: jupyter-console in /usr/local/lib/python3.7/dist-packages (from jupyter>=1->hdijupyterutils>=0.6->sparkmagic) (5.2.0)\n",
            "Requirement already satisfied: nbconvert in /usr/local/lib/python3.7/dist-packages (from jupyter>=1->hdijupyterutils>=0.6->sparkmagic) (5.6.1)\n",
            "Requirement already satisfied: qtconsole in /usr/local/lib/python3.7/dist-packages (from jupyter>=1->hdijupyterutils>=0.6->sparkmagic) (5.2.2)\n",
            "Requirement already satisfied: jupyter-core in /usr/local/lib/python3.7/dist-packages (from nbformat>=4.2.0->ipywidgets>5.0.0->sparkmagic) (4.9.2)\n",
            "Requirement already satisfied: jsonschema!=2.5.0,>=2.4 in /usr/local/lib/python3.7/dist-packages (from nbformat>=4.2.0->ipywidgets>5.0.0->sparkmagic) (4.3.3)\n",
            "Requirement already satisfied: importlib-resources>=1.4.0 in /usr/local/lib/python3.7/dist-packages (from jsonschema!=2.5.0,>=2.4->nbformat>=4.2.0->ipywidgets>5.0.0->sparkmagic) (5.4.0)\n",
            "Requirement already satisfied: importlib-metadata in /usr/local/lib/python3.7/dist-packages (from jsonschema!=2.5.0,>=2.4->nbformat>=4.2.0->ipywidgets>5.0.0->sparkmagic) (4.11.1)\n",
            "Requirement already satisfied: pyrsistent!=0.17.0,!=0.17.1,!=0.17.2,>=0.14.0 in /usr/local/lib/python3.7/dist-packages (from jsonschema!=2.5.0,>=2.4->nbformat>=4.2.0->ipywidgets>5.0.0->sparkmagic) (0.18.1)\n",
            "Requirement already satisfied: attrs>=17.4.0 in /usr/local/lib/python3.7/dist-packages (from jsonschema!=2.5.0,>=2.4->nbformat>=4.2.0->ipywidgets>5.0.0->sparkmagic) (21.4.0)\n",
            "Requirement already satisfied: typing-extensions in /usr/local/lib/python3.7/dist-packages (from jsonschema!=2.5.0,>=2.4->nbformat>=4.2.0->ipywidgets>5.0.0->sparkmagic) (3.10.0.2)\n",
            "Requirement already satisfied: zipp>=3.1.0 in /usr/local/lib/python3.7/dist-packages (from importlib-resources>=1.4.0->jsonschema!=2.5.0,>=2.4->nbformat>=4.2.0->ipywidgets>5.0.0->sparkmagic) (3.7.0)\n",
            "Requirement already satisfied: jinja2 in /usr/local/lib/python3.7/dist-packages (from notebook>=4.2->sparkmagic) (2.11.3)\n",
            "Requirement already satisfied: terminado>=0.8.1 in /usr/local/lib/python3.7/dist-packages (from notebook>=4.2->sparkmagic) (0.13.1)\n",
            "Requirement already satisfied: Send2Trash in /usr/local/lib/python3.7/dist-packages (from notebook>=4.2->sparkmagic) (1.8.0)\n",
            "Requirement already satisfied: pyzmq>=13 in /usr/local/lib/python3.7/dist-packages (from jupyter-client->ipykernel<6.0.0->sparkmagic) (22.3.0)\n",
            "Requirement already satisfied: python-dateutil>=2.1 in /usr/local/lib/python3.7/dist-packages (from jupyter-client->ipykernel<6.0.0->sparkmagic) (2.8.2)\n",
            "Requirement already satisfied: pytz>=2017.2 in /usr/local/lib/python3.7/dist-packages (from pandas>=0.17.1->sparkmagic) (2018.9)\n",
            "Requirement already satisfied: six in /usr/local/lib/python3.7/dist-packages (from plotly>=3->autovizwidget>=0.6->sparkmagic) (1.15.0)\n",
            "Requirement already satisfied: tenacity>=6.2.0 in /usr/local/lib/python3.7/dist-packages (from plotly>=3->autovizwidget>=0.6->sparkmagic) (8.0.1)\n",
            "Requirement already satisfied: wcwidth in /usr/local/lib/python3.7/dist-packages (from prompt-toolkit<2.0.0,>=1.0.4->ipython>=4.0.2->sparkmagic) (0.2.5)\n",
            "Collecting pyspnego[kerberos]\n",
            "  Downloading pyspnego-0.5.0-py2.py3-none-any.whl (122 kB)\n",
            "\u001b[K     |████████████████████████████████| 122 kB 78.8 MB/s \n",
            "\u001b[?25hCollecting cryptography>=1.3\n",
            "  Downloading cryptography-36.0.1-cp36-abi3-manylinux_2_24_x86_64.whl (3.6 MB)\n",
            "\u001b[K     |████████████████████████████████| 3.6 MB 78.3 MB/s \n",
            "\u001b[?25hRequirement already satisfied: cffi>=1.12 in /usr/local/lib/python3.7/dist-packages (from cryptography>=1.3->requests_kerberos>=0.8.0->sparkmagic) (1.15.0)\n",
            "Requirement already satisfied: pycparser in /usr/local/lib/python3.7/dist-packages (from cffi>=1.12->cryptography>=1.3->requests_kerberos>=0.8.0->sparkmagic) (2.21)\n",
            "Requirement already satisfied: urllib3!=1.25.0,!=1.25.1,<1.26,>=1.21.1 in /usr/local/lib/python3.7/dist-packages (from requests->sparkmagic) (1.24.3)\n",
            "Requirement already satisfied: chardet<4,>=3.0.2 in /usr/local/lib/python3.7/dist-packages (from requests->sparkmagic) (3.0.4)\n",
            "Requirement already satisfied: certifi>=2017.4.17 in /usr/local/lib/python3.7/dist-packages (from requests->sparkmagic) (2021.10.8)\n",
            "Requirement already satisfied: idna<3,>=2.5 in /usr/local/lib/python3.7/dist-packages (from requests->sparkmagic) (2.10)\n",
            "Requirement already satisfied: ptyprocess in /usr/local/lib/python3.7/dist-packages (from terminado>=0.8.1->notebook>=4.2->sparkmagic) (0.7.0)\n",
            "Requirement already satisfied: MarkupSafe>=0.23 in /usr/local/lib/python3.7/dist-packages (from jinja2->notebook>=4.2->sparkmagic) (2.0.1)\n",
            "Requirement already satisfied: pandocfilters>=1.4.1 in /usr/local/lib/python3.7/dist-packages (from nbconvert->jupyter>=1->hdijupyterutils>=0.6->sparkmagic) (1.5.0)\n",
            "Requirement already satisfied: bleach in /usr/local/lib/python3.7/dist-packages (from nbconvert->jupyter>=1->hdijupyterutils>=0.6->sparkmagic) (4.1.0)\n",
            "Requirement already satisfied: entrypoints>=0.2.2 in /usr/local/lib/python3.7/dist-packages (from nbconvert->jupyter>=1->hdijupyterutils>=0.6->sparkmagic) (0.4)\n",
            "Requirement already satisfied: mistune<2,>=0.8.1 in /usr/local/lib/python3.7/dist-packages (from nbconvert->jupyter>=1->hdijupyterutils>=0.6->sparkmagic) (0.8.4)\n",
            "Requirement already satisfied: defusedxml in /usr/local/lib/python3.7/dist-packages (from nbconvert->jupyter>=1->hdijupyterutils>=0.6->sparkmagic) (0.7.1)\n",
            "Requirement already satisfied: testpath in /usr/local/lib/python3.7/dist-packages (from nbconvert->jupyter>=1->hdijupyterutils>=0.6->sparkmagic) (0.5.0)\n",
            "Requirement already satisfied: packaging in /usr/local/lib/python3.7/dist-packages (from bleach->nbconvert->jupyter>=1->hdijupyterutils>=0.6->sparkmagic) (21.3)\n",
            "Requirement already satisfied: webencodings in /usr/local/lib/python3.7/dist-packages (from bleach->nbconvert->jupyter>=1->hdijupyterutils>=0.6->sparkmagic) (0.5.1)\n",
            "Requirement already satisfied: pyparsing!=3.0.5,>=2.0.2 in /usr/local/lib/python3.7/dist-packages (from packaging->bleach->nbconvert->jupyter>=1->hdijupyterutils>=0.6->sparkmagic) (3.0.7)\n",
            "Collecting gssapi>=1.5.0\n",
            "  Downloading gssapi-1.7.3.tar.gz (1.3 MB)\n",
            "\u001b[K     |████████████████████████████████| 1.3 MB 61.5 MB/s \n",
            "\u001b[?25hCollecting krb5>=0.3.0\n",
            "  Downloading krb5-0.3.0.tar.gz (1.7 MB)\n",
            "\u001b[K     |████████████████████████████████| 1.7 MB 55.4 MB/s \n",
            "\u001b[?25h  Installing build dependencies ... \u001b[?25l\u001b[?25hdone\n",
            "  Getting requirements to build wheel ... \u001b[?25l\u001b[?25hdone\n",
            "    Preparing wheel metadata ... \u001b[?25l\u001b[?25hdone\n",
            "Requirement already satisfied: qtpy in /usr/local/lib/python3.7/dist-packages (from qtconsole->jupyter>=1->hdijupyterutils>=0.6->sparkmagic) (2.0.1)\n",
            "Building wheels for collected packages: sparkmagic, autovizwidget, hdijupyterutils, gssapi, krb5\n",
            "  Building wheel for sparkmagic (setup.py) ... \u001b[?25l\u001b[?25hdone\n",
            "  Created wheel for sparkmagic: filename=sparkmagic-0.19.1-py3-none-any.whl size=64701 sha256=3afe23c8bacd37ea4bb0d6afe65e33bf65c1c2d15ac8ecf5473b1a8d50bb0b28\n",
            "  Stored in directory: /root/.cache/pip/wheels/77/00/d5/153197547803fa423ee3d0a7a1ff19f138cbcc385a5d11e0dd\n",
            "  Building wheel for autovizwidget (setup.py) ... \u001b[?25l\u001b[?25hdone\n",
            "  Created wheel for autovizwidget: filename=autovizwidget-0.19.1-py3-none-any.whl size=14544 sha256=8bb86b14c7bcbbcad7f17fcc59e79aacfa2f25b3c3589afcfc14df8191bfe477\n",
            "  Stored in directory: /root/.cache/pip/wheels/09/76/d9/ff313b7bd4ff55b1ff8c299f31889f525dc5129556853e1330\n",
            "  Building wheel for hdijupyterutils (setup.py) ... \u001b[?25l\u001b[?25hdone\n",
            "  Created wheel for hdijupyterutils: filename=hdijupyterutils-0.19.1-py3-none-any.whl size=7676 sha256=c56f0613e0f5cacdd06fed13720e9d5133de2887374289c17f3270c87304141e\n",
            "  Stored in directory: /root/.cache/pip/wheels/18/64/eb/292698b4780fb4eed0d7521f8e8acac011eda244f368b88aa0\n",
            "  Building wheel for gssapi (setup.py) ... \u001b[?25l\u001b[?25hdone\n",
            "  Created wheel for gssapi: filename=gssapi-1.7.3-cp37-cp37m-linux_x86_64.whl size=2748769 sha256=4b46a8484973db76e39ea46011a431be3ce7cb116755015e73c478dbc3417215\n",
            "  Stored in directory: /root/.cache/pip/wheels/39/98/00/50c2dc63e573ee6526a8a64017272d5ecaddcd66034430b88b\n",
            "  Building wheel for krb5 (PEP 517) ... \u001b[?25l\u001b[?25hdone\n",
            "  Created wheel for krb5: filename=krb5-0.3.0-cp37-cp37m-linux_x86_64.whl size=3073499 sha256=607938243e99cded861b89ef29d76ca39dcf8f6c67cfa1fe13d18e04b778b182\n",
            "  Stored in directory: /root/.cache/pip/wheels/8d/9c/5b/c797df276a5e2d9fd6ffd544aade607a6edae4428c0b511093\n",
            "Successfully built sparkmagic autovizwidget hdijupyterutils gssapi krb5\n",
            "Installing collected packages: cryptography, pyspnego, nose, mock, krb5, gssapi, hdijupyterutils, requests-kerberos, autovizwidget, sparkmagic\n",
            "Successfully installed autovizwidget-0.19.1 cryptography-36.0.1 gssapi-1.7.3 hdijupyterutils-0.19.1 krb5-0.3.0 mock-4.0.3 nose-1.3.7 pyspnego-0.5.0 requests-kerberos-0.14.0 sparkmagic-0.19.1\n",
            "Requirement already satisfied: pyspark in /usr/local/lib/python3.7/dist-packages (3.2.1)\n",
            "Requirement already satisfied: py4j==0.10.9.3 in /usr/local/lib/python3.7/dist-packages (from pyspark) (0.10.9.3)\n",
            "Requirement already satisfied: pyspark in /usr/local/lib/python3.7/dist-packages (3.2.1)\n",
            "Requirement already satisfied: py4j==0.10.9.3 in /usr/local/lib/python3.7/dist-packages (from pyspark) (0.10.9.3)\n",
            "Requirement already satisfied: seaborn in /usr/local/lib/python3.7/dist-packages (0.11.2)\n",
            "Requirement already satisfied: pandas>=0.23 in /usr/local/lib/python3.7/dist-packages (from seaborn) (1.0.5)\n",
            "Requirement already satisfied: scipy>=1.0 in /usr/local/lib/python3.7/dist-packages (from seaborn) (1.4.1)\n",
            "Requirement already satisfied: matplotlib>=2.2 in /usr/local/lib/python3.7/dist-packages (from seaborn) (3.2.2)\n",
            "Requirement already satisfied: numpy>=1.15 in /usr/local/lib/python3.7/dist-packages (from seaborn) (1.21.5)\n",
            "Requirement already satisfied: python-dateutil>=2.1 in /usr/local/lib/python3.7/dist-packages (from matplotlib>=2.2->seaborn) (2.8.2)\n",
            "Requirement already satisfied: kiwisolver>=1.0.1 in /usr/local/lib/python3.7/dist-packages (from matplotlib>=2.2->seaborn) (1.3.2)\n",
            "Requirement already satisfied: cycler>=0.10 in /usr/local/lib/python3.7/dist-packages (from matplotlib>=2.2->seaborn) (0.11.0)\n",
            "Requirement already satisfied: pyparsing!=2.0.4,!=2.1.2,!=2.1.6,>=2.0.1 in /usr/local/lib/python3.7/dist-packages (from matplotlib>=2.2->seaborn) (3.0.7)\n",
            "Requirement already satisfied: pytz>=2017.2 in /usr/local/lib/python3.7/dist-packages (from pandas>=0.23->seaborn) (2018.9)\n",
            "Requirement already satisfied: six>=1.5 in /usr/local/lib/python3.7/dist-packages (from python-dateutil>=2.1->matplotlib>=2.2->seaborn) (1.15.0)\n",
            "Requirement already satisfied: plotly in /usr/local/lib/python3.7/dist-packages (5.5.0)\n",
            "Requirement already satisfied: six in /usr/local/lib/python3.7/dist-packages (from plotly) (1.15.0)\n",
            "Requirement already satisfied: tenacity>=6.2.0 in /usr/local/lib/python3.7/dist-packages (from plotly) (8.0.1)\n",
            "Requirement already satisfied: imageio in /usr/local/lib/python3.7/dist-packages (2.4.1)\n",
            "Requirement already satisfied: numpy in /usr/local/lib/python3.7/dist-packages (from imageio) (1.21.5)\n",
            "Requirement already satisfied: pillow in /usr/local/lib/python3.7/dist-packages (from imageio) (7.1.2)\n",
            "Requirement already satisfied: folium in /usr/local/lib/python3.7/dist-packages (0.8.3)\n",
            "Requirement already satisfied: requests in /usr/local/lib/python3.7/dist-packages (from folium) (2.23.0)\n",
            "Requirement already satisfied: six in /usr/local/lib/python3.7/dist-packages (from folium) (1.15.0)\n",
            "Requirement already satisfied: numpy in /usr/local/lib/python3.7/dist-packages (from folium) (1.21.5)\n",
            "Requirement already satisfied: jinja2 in /usr/local/lib/python3.7/dist-packages (from folium) (2.11.3)\n",
            "Requirement already satisfied: branca>=0.3.0 in /usr/local/lib/python3.7/dist-packages (from folium) (0.4.2)\n",
            "Requirement already satisfied: MarkupSafe>=0.23 in /usr/local/lib/python3.7/dist-packages (from jinja2->folium) (2.0.1)\n",
            "Requirement already satisfied: chardet<4,>=3.0.2 in /usr/local/lib/python3.7/dist-packages (from requests->folium) (3.0.4)\n",
            "Requirement already satisfied: urllib3!=1.25.0,!=1.25.1,<1.26,>=1.21.1 in /usr/local/lib/python3.7/dist-packages (from requests->folium) (1.24.3)\n",
            "Requirement already satisfied: idna<3,>=2.5 in /usr/local/lib/python3.7/dist-packages (from requests->folium) (2.10)\n",
            "Requirement already satisfied: certifi>=2017.4.17 in /usr/local/lib/python3.7/dist-packages (from requests->folium) (2021.10.8)\n"
          ]
        }
      ],
      "source": [
        "!apt install libkrb5-dev\n",
        "!wget https://www-us.apache.org/dist/spark/spark-2.4.5/spark-2.4.5-bin-hadoop2.7.tgz\n",
        "!tar xf spark-2.4.5-bin-hadoop2.7.tgz\n",
        "!pip install findspark\n",
        "!pip install sparkmagic\n",
        "!pip install pyspark\n",
        "!pip install pyspark --user\n",
        "!pip install seaborn --user\n",
        "!pip install plotly --user\n",
        "!pip install imageio --user\n",
        "!pip install folium --user"
      ]
    },
    {
      "cell_type": "code",
      "execution_count": 95,
      "metadata": {
        "colab": {
          "base_uri": "https://localhost:8080/"
        },
        "id": "5rhq2OK0WuM4",
        "outputId": "fca0b2c0-06d7-4c3b-e484-c130287f8c05"
      },
      "outputs": [
        {
          "output_type": "stream",
          "name": "stdout",
          "text": [
            "\u001b[33m\r0% [Working]\u001b[0m\r            \rGet:1 http://ppa.launchpad.net/c2d4u.team/c2d4u4.0+/ubuntu bionic InRelease [15.9 kB]\n",
            "\u001b[33m\r0% [Waiting for headers] [Waiting for headers] [Connected to cloud.r-project.or\u001b[0m\r                                                                               \rGet:2 http://security.ubuntu.com/ubuntu bionic-security InRelease [88.7 kB]\n",
            "\u001b[33m\r0% [Waiting for headers] [2 InRelease 14.2 kB/88.7 kB 16%] [Connected to cloud.\u001b[0m\r                                                                               \rHit:3 http://archive.ubuntu.com/ubuntu bionic InRelease\n",
            "\u001b[33m\r0% [Waiting for headers] [2 InRelease 88.7 kB/88.7 kB 100%] [Connected to cloud\u001b[0m\r                                                                               \rGet:4 http://archive.ubuntu.com/ubuntu bionic-updates InRelease [88.7 kB]\n",
            "\r                                                                               \rGet:5 https://cloud.r-project.org/bin/linux/ubuntu bionic-cran40/ InRelease [3,626 B]\n",
            "\u001b[33m\r0% [4 InRelease 47.5 kB/88.7 kB 54%] [5 InRelease 3,626 B/3,626 B 100%] [Waitin\u001b[0m\u001b[33m\r0% [3 InRelease gpgv 242 kB] [4 InRelease 47.5 kB/88.7 kB 54%] [5 InRelease 3,6\u001b[0m\u001b[33m\r0% [3 InRelease gpgv 242 kB] [4 InRelease 50.4 kB/88.7 kB 57%] [Waiting for hea\u001b[0m\r                                                                               \rHit:6 http://ppa.launchpad.net/cran/libgit2/ubuntu bionic InRelease\n",
            "\u001b[33m\r0% [3 InRelease gpgv 242 kB] [4 InRelease 75.0 kB/88.7 kB 85%] [Connecting to p\u001b[0m\u001b[33m\r0% [3 InRelease gpgv 242 kB] [Waiting for headers] [Connecting to ppa.launchpad\u001b[0m\r                                                                               \rGet:7 http://archive.ubuntu.com/ubuntu bionic-backports InRelease [74.6 kB]\n",
            "\u001b[33m\r0% [3 InRelease gpgv 242 kB] [7 InRelease 9,841 B/74.6 kB 13%] [Waiting for hea\u001b[0m\u001b[33m\r                                                                               \r0% [3 InRelease gpgv 242 kB] [Waiting for headers] [Waiting for headers]\u001b[0m\r                                                                        \rHit:8 http://ppa.launchpad.net/deadsnakes/ppa/ubuntu bionic InRelease\n",
            "Get:9 http://ppa.launchpad.net/graphics-drivers/ppa/ubuntu bionic InRelease [21.3 kB]\n",
            "Ign:10 https://developer.download.nvidia.com/compute/cuda/repos/ubuntu1804/x86_64  InRelease\n",
            "Ign:11 https://developer.download.nvidia.com/compute/machine-learning/repos/ubuntu1804/x86_64  InRelease\n",
            "Get:12 https://developer.download.nvidia.com/compute/cuda/repos/ubuntu1804/x86_64  Release [696 B]\n",
            "Hit:13 https://developer.download.nvidia.com/compute/machine-learning/repos/ubuntu1804/x86_64  Release\n",
            "Get:14 https://developer.download.nvidia.com/compute/cuda/repos/ubuntu1804/x86_64  Release.gpg [836 B]\n",
            "Get:15 http://security.ubuntu.com/ubuntu bionic-security/restricted amd64 Packages [806 kB]\n",
            "Get:16 http://security.ubuntu.com/ubuntu bionic-security/universe amd64 Packages [1,474 kB]\n",
            "Get:17 http://security.ubuntu.com/ubuntu bionic-security/main amd64 Packages [2,596 kB]\n",
            "Get:18 http://ppa.launchpad.net/c2d4u.team/c2d4u4.0+/ubuntu bionic/main Sources [1,827 kB]\n",
            "Get:19 http://ppa.launchpad.net/c2d4u.team/c2d4u4.0+/ubuntu bionic/main amd64 Packages [936 kB]\n",
            "Get:20 https://cloud.r-project.org/bin/linux/ubuntu bionic-cran40/ Packages [76.8 kB]\n",
            "Get:21 http://archive.ubuntu.com/ubuntu bionic-updates/universe amd64 Packages [2,252 kB]\n",
            "Get:22 http://archive.ubuntu.com/ubuntu bionic-updates/restricted amd64 Packages [840 kB]\n",
            "Get:23 http://archive.ubuntu.com/ubuntu bionic-updates/main amd64 Packages [3,035 kB]\n",
            "Get:24 http://ppa.launchpad.net/graphics-drivers/ppa/ubuntu bionic/main amd64 Packages [42.8 kB]\n",
            "Get:26 https://developer.download.nvidia.com/compute/cuda/repos/ubuntu1804/x86_64  Packages [930 kB]\n",
            "Fetched 15.1 MB in 3s (5,488 kB/s)\n",
            "Reading package lists... Done\n",
            "Building dependency tree       \n",
            "Reading state information... Done\n",
            "69 packages can be upgraded. Run 'apt list --upgradable' to see them.\n",
            "Reading package lists... Done\n",
            "Building dependency tree       \n",
            "Reading state information... Done\n",
            "python-dev is already the newest version (2.7.15~rc1-1).\n",
            "gcc is already the newest version (4:7.4.0-1ubuntu2.3).\n",
            "gcc set to manually installed.\n",
            "libkrb5-dev is already the newest version (1.16-2ubuntu0.2).\n",
            "The following package was automatically installed and is no longer required:\n",
            "  libnvidia-common-470\n",
            "Use 'apt autoremove' to remove it.\n",
            "0 upgraded, 0 newly installed, 0 to remove and 69 not upgraded.\n"
          ]
        }
      ],
      "source": [
        "!apt update\n",
        "!apt install gcc python-dev libkrb5-dev"
      ]
    },
    {
      "cell_type": "code",
      "execution_count": 96,
      "metadata": {
        "id": "7UEEQuWXWyTG"
      },
      "outputs": [],
      "source": [
        "from pyspark.sql import SparkSession\n",
        "from pyspark.sql.types import *\n",
        "import pyspark.sql.functions as F\n",
        "\n",
        "import os\n",
        "\n",
        "spark = SparkSession.builder.appName('CA-5').getOrCreate()"
      ]
    },
    {
      "cell_type": "code",
      "execution_count": 97,
      "metadata": {
        "id": "b8yWqRbBXbjG"
      },
      "outputs": [],
      "source": [
        "%load_ext sparkmagic.magics"
      ]
    },
    {
      "cell_type": "code",
      "execution_count": 98,
      "metadata": {
        "id": "1IS0TCduXgZS"
      },
      "outputs": [],
      "source": [
        "#graph section\n",
        "import networkx as nx\n",
        "# SQLite RDBMS\n",
        "import sqlite3\n",
        "# Parallel processing\n",
        "# import swifter\n",
        "import pandas as pd\n",
        "# NoSQL DB\n",
        "from pymongo import MongoClient\n",
        "from pymongo.errors import DuplicateKeyError, OperationFailure\n",
        "\n",
        "import os\n",
        "os.environ['SPARK_HOME'] = '/content/spark-2.4.5-bin-hadoop2.7'\n",
        "os.environ[\"JAVA_HOME\"] = \"/usr/lib/jvm/java-8-openjdk-amd64\"\n",
        "import pyspark\n",
        "from pyspark.sql import SQLContext"
      ]
    },
    {
      "cell_type": "code",
      "execution_count": 99,
      "metadata": {
        "id": "cKlwuiZcXjup"
      },
      "outputs": [],
      "source": [
        "try:\n",
        "    if(spark == None):\n",
        "        spark = SparkSession.builder.appName('Initial').getOrCreate()\n",
        "        sqlContext=SQLContext(spark)\n",
        "except NameError:\n",
        "    spark = SparkSession.builder.appName('Initial').getOrCreate()\n",
        "    sqlContext=SQLContext(spark)"
      ]
    },
    {
      "cell_type": "markdown",
      "metadata": {
        "id": "79x5WBItX6GK"
      },
      "source": [
        "### 5.1 Data Preparation for Spark ML (20 points)\n",
        "\n",
        "Once the spark setup ready. Next, we need the prepared data for our ML algorithms. We will use the same data you processed in Section 1 but now in spark. \n",
        "\n",
        "Read in the csv  into a spark dataframe. Set the \"inferSchema\" flag to True so that the columns are the correct datatypes and not all strings. Further, set the parameter to the first row as column headers."
      ]
    },
    {
      "cell_type": "code",
      "execution_count": 100,
      "metadata": {
        "id": "g8zrpukwX3vE"
      },
      "outputs": [],
      "source": [
        "# Add your code here\n",
        "\n",
        "train_sdf = spark.read.format('csv').options(header='true', inferSchema='true').load('combined_data.csv')"
      ]
    },
    {
      "cell_type": "markdown",
      "metadata": {
        "id": "R3UhA-cBYIkY"
      },
      "source": [
        "Let us make sure everything is smooth to proceed"
      ]
    },
    {
      "cell_type": "code",
      "execution_count": 101,
      "metadata": {
        "colab": {
          "base_uri": "https://localhost:8080/",
          "height": 506
        },
        "id": "mD8KQ65LYHWY",
        "outputId": "7b339ffa-c6e8-4bc7-f1c9-4537e87836c3"
      },
      "outputs": [
        {
          "output_type": "stream",
          "name": "stdout",
          "text": [
            "+-----------+-----------------+----------------+----------------------+------------------+------------------+------------------+------------------+--------+--------+---------+----------+----------+----------+----------+-------------------------+---------------+------------------+----------------------+-------------------------+---------------+----------------------+---------------+--------------+------------------------+-----------------------+-----------------------+-----------------------------+--------------+---------------+-----------------+------------------------+-----------------+-----------------+-----------------+-----------------+-----------------+-----------------+-----------------+\n",
            "|   video_id|comments_disabled|ratings_disabled|video_error_or_removed|         likes_log|             label|      dislikes_log|       comment_log|num_tags|desc_len|len_title|country_CA|country_FR|country_IN|country_US|category_Autos & Vehicles|category_Comedy|category_Education|category_Entertainment|category_Film & Animation|category_Gaming|category_Howto & Style|category_Movies|category_Music|category_News & Politics|category_People & Blogs|category_Pets & Animals|category_Science & Technology|category_Shows|category_Sports|category_Trailers|category_Travel & Events|publish_weekday_1|publish_weekday_2|publish_weekday_3|publish_weekday_4|publish_weekday_5|publish_weekday_6|publish_weekday_7|\n",
            "+-----------+-----------------+----------------+----------------------+------------------+------------------+------------------+------------------+--------+--------+---------+----------+----------+----------+----------+-------------------------+---------------+------------------+----------------------+-------------------------+---------------+----------------------+---------------+--------------+------------------------+-----------------------+-----------------------+-----------------------------+--------------+---------------+-----------------+------------------------+-----------------+-----------------+-----------------+-----------------+-----------------+-----------------+-----------------+\n",
            "|kzwfHumJyYc|            false|           false|                 false|10.433144744037243|13.907476971790734| 6.683360945766275|  6.78332520060396|      15|     920|       81|         0|         0|         1|         0|                        0|              0|                 0|                     0|                        1|              0|                     0|              0|             0|                       0|                      0|                      0|                            0|             0|              0|                0|                       0|                0|                0|                0|                0|                0|                0|                1|\n",
            "|zUZ1z7FwLc8|             true|           false|                 false| 6.601230118728877|13.288050682295575| 6.807934943699926|               0.0|      19|    2232|       58|         0|         0|         1|         0|                        0|              0|                 0|                     0|                        0|              0|                     0|              0|             0|                       1|                      0|                      0|                            0|             0|              0|                0|                       0|                1|                0|                0|                0|                0|                0|                0|\n",
            "|10L1hZ9qa58|            false|           false|                 false|  7.60688453121963|13.068939393656878| 5.497168225293202|5.0106352940962555|      14|     482|       58|         0|         0|         1|         0|                        0|              0|                 0|                     1|                        0|              0|                     0|              0|             0|                       0|                      0|                      0|                            0|             0|              0|                0|                       0|                0|                0|                0|                0|                0|                0|                1|\n",
            "|N1vE8iiEg64|            false|           false|                 false| 11.16129491949047|14.032781700387753| 7.393263094763838| 7.895436006942965|      20|     263|       30|         0|         0|         1|         0|                        0|              1|                 0|                     0|                        0|              0|                     0|              0|             0|                       0|                      0|                      0|                            0|             0|              0|                0|                       0|                0|                0|                0|                0|                0|                0|                1|\n",
            "|kJzGH0PVQHQ|            false|           false|                 false|  6.20050917404269|13.047674313372497| 5.683579767338681| 4.204692619390966|      11|     753|       88|         0|         0|         1|         0|                        0|              0|                 0|                     1|                        0|              0|                     0|              0|             0|                       0|                      0|                      0|                            0|             0|              0|                0|                       0|                1|                0|                0|                0|                0|                0|                0|\n",
            "|il_pSa5l98w|            false|           false|                 false|11.498958377741612|15.624892174393528| 8.339500903005945|  8.46884293047519|      22|     449|       91|         0|         0|         1|         0|                        0|              0|                 0|                     1|                        0|              0|                     0|              0|             0|                       0|                      0|                      0|                            0|             0|              0|                0|                       0|                0|                0|                0|                0|                1|                0|                0|\n",
            "|7MxiQ4v0EnE|            false|           false|                 false|11.755699079672715|15.559263780679146| 8.872767529910936|  8.99516499031115|      18|    1411|       96|         0|         0|         1|         0|                        0|              0|                 0|                     0|                        0|              0|                     0|              0|             1|                       0|                      0|                      0|                            0|             0|              0|                0|                       0|                0|                0|                0|                0|                0|                1|                0|\n",
            "|c64I9HNpiOY|            false|           false|                 false|11.796140073147356| 16.17526697582603|  9.08398318309966| 9.291736010180177|      26|    1299|       96|         0|         0|         1|         0|                        0|              0|                 0|                     0|                        0|              0|                     0|              0|             1|                       0|                      0|                      0|                            0|             0|              0|                0|                       0|                0|                0|                0|                0|                0|                1|                0|\n",
            "|KObFEYCaRx8|            false|           false|                 false| 6.255750041753367| 11.68033640902843|3.9889840465642745|3.1780538303479458|      21|     509|       97|         0|         0|         1|         0|                        0|              0|                 0|                     1|                        0|              0|                     0|              0|             0|                       0|                      0|                      0|                            0|             0|              0|                0|                       0|                1|                0|                0|                0|                0|                0|                0|\n",
            "|g8QsfJhFpjY|            false|           false|                 false|10.998744217390875|13.784051882105244| 7.343426229147367| 7.785305182539862|      23|     477|       34|         0|         0|         1|         0|                        0|              0|                 0|                     1|                        0|              0|                     0|              0|             0|                       0|                      0|                      0|                            0|             0|              0|                0|                       0|                0|                0|                0|                0|                0|                0|                1|\n",
            "|4du1KXBl4YU|            false|           false|                 false| 8.373553741214627| 13.35782751759637| 7.688913336864796| 7.962067308753666|      23|      99|       78|         0|         0|         1|         0|                        0|              0|                 0|                     1|                        0|              0|                     0|              0|             0|                       0|                      0|                      0|                            0|             0|              0|                0|                       0|                0|                0|                0|                0|                0|                0|                1|\n",
            "|zOOmEDwPJX0|            false|           false|                 false|10.399250298625073|14.669120455465158| 6.566672429803241| 7.463936604468925|      22|    2093|       83|         0|         0|         1|         0|                        0|              0|                 0|                     0|                        0|              0|                     0|              0|             1|                       0|                      0|                      0|                            0|             0|              0|                0|                       0|                0|                0|                0|                0|                0|                1|                0|\n",
            "|Prb_osSVE0M|             true|           false|                 false|  6.57507584059962| 11.95816241638283|3.9889840465642745|               0.0|      20|     858|       85|         0|         0|         1|         0|                        0|              0|                 0|                     0|                        0|              0|                     0|              0|             0|                       1|                      0|                      0|                            0|             0|              0|                0|                       0|                1|                0|                0|                0|                0|                0|                0|\n",
            "|KHxdrECEsD0|            false|           false|                 false| 7.867871490396322|13.065610998767987|5.5254529391317835|5.1647859739235145|      12|    1351|       92|         0|         0|         1|         0|                        0|              0|                 0|                     1|                        0|              0|                     0|              0|             0|                       0|                      0|                      0|                            0|             0|              0|                0|                       0|                0|                0|                0|                0|                0|                1|                0|\n",
            "|so0ccfs-psI|            false|           false|                 false| 10.10483529147988|13.636392265237525| 5.198497031265826|  6.38856140554563|      25|    2387|       88|         0|         0|         1|         0|                        0|              0|                 0|                     0|                        0|              0|                     0|              0|             1|                       0|                      0|                      0|                            0|             0|              0|                0|                       0|                0|                0|                0|                0|                0|                0|                1|\n",
            "|7gShaSuK_PY|            false|           false|                 false| 5.476463551931511|11.402351382259514|   4.0943445622221|2.9444389791664403|      28|     171|       85|         0|         0|         1|         0|                        0|              0|                 0|                     0|                        0|              0|                     0|              0|             0|                       0|                      1|                      0|                            0|             0|              0|                0|                       0|                1|                0|                0|                0|                0|                0|                0|\n",
            "|ep3SLMuRbvg|            false|           false|                 false|10.154946414830384|12.749982887372441| 6.035481432524756| 7.962415680121064|      11|     248|       35|         0|         0|         1|         0|                        0|              1|                 0|                     0|                        0|              0|                     0|              0|             0|                       0|                      0|                      0|                            0|             0|              0|                0|                       0|                1|                0|                0|                0|                0|                0|                0|\n",
            "|ePO5M5DE01I|            false|           false|                 false|13.628413215237485|  17.3958509780565| 11.02183710688727|11.524043430704076|      22|     901|       63|         0|         0|         1|         0|                        0|              0|                 0|                     0|                        1|              0|                     0|              0|             0|                       0|                      0|                      0|                            0|             0|              0|                0|                       0|                0|                1|                0|                0|                0|                0|                0|\n",
            "|CLl1RbxDRAs|            false|           false|                 false| 9.551871220788255|12.252956231429025|6.1070228877422545|  7.00850518208228|      30|     201|       68|         0|         0|         1|         0|                        0|              1|                 0|                     0|                        0|              0|                     0|              0|             0|                       0|                      0|                      0|                            0|             0|              0|                0|                       0|                0|                0|                0|                0|                0|                0|                1|\n",
            "|1ZAPwfrtAFY|            false|           false|                 false|11.484402526036991|14.698775492508977|  8.72371943690701| 9.449672183486918|       4|     630|       62|         0|         0|         1|         0|                        0|              0|                 0|                     1|                        0|              0|                     0|              0|             0|                       0|                      0|                      0|                            0|             0|              0|                0|                       0|                1|                0|                0|                0|                0|                0|                0|\n",
            "+-----------+-----------------+----------------+----------------------+------------------+------------------+------------------+------------------+--------+--------+---------+----------+----------+----------+----------+-------------------------+---------------+------------------+----------------------+-------------------------+---------------+----------------------+---------------+--------------+------------------------+-----------------------+-----------------------+-----------------------------+--------------+---------------+-----------------+------------------------+-----------------+-----------------+-----------------+-----------------+-----------------+-----------------+-----------------+\n",
            "only showing top 20 rows\n",
            "\n"
          ]
        },
        {
          "output_type": "display_data",
          "data": {
            "text/plain": [
              "None"
            ]
          },
          "metadata": {}
        }
      ],
      "source": [
        "display(train_sdf.show())"
      ]
    },
    {
      "cell_type": "markdown",
      "metadata": {
        "id": "oyf8gsJrb1vx"
      },
      "source": [
        "Print out the dataframe schema and verify the datatypes"
      ]
    },
    {
      "cell_type": "code",
      "execution_count": 102,
      "metadata": {
        "colab": {
          "base_uri": "https://localhost:8080/",
          "height": 746
        },
        "id": "SMeEU7jwbnni",
        "outputId": "45f09d39-3fa3-498f-ecf8-417d6d3665c0"
      },
      "outputs": [
        {
          "output_type": "stream",
          "name": "stdout",
          "text": [
            "root\n",
            " |-- video_id: string (nullable = true)\n",
            " |-- comments_disabled: boolean (nullable = true)\n",
            " |-- ratings_disabled: boolean (nullable = true)\n",
            " |-- video_error_or_removed: boolean (nullable = true)\n",
            " |-- likes_log: double (nullable = true)\n",
            " |-- label: double (nullable = true)\n",
            " |-- dislikes_log: double (nullable = true)\n",
            " |-- comment_log: double (nullable = true)\n",
            " |-- num_tags: integer (nullable = true)\n",
            " |-- desc_len: integer (nullable = true)\n",
            " |-- len_title: integer (nullable = true)\n",
            " |-- country_CA: integer (nullable = true)\n",
            " |-- country_FR: integer (nullable = true)\n",
            " |-- country_IN: integer (nullable = true)\n",
            " |-- country_US: integer (nullable = true)\n",
            " |-- category_Autos & Vehicles: integer (nullable = true)\n",
            " |-- category_Comedy: integer (nullable = true)\n",
            " |-- category_Education: integer (nullable = true)\n",
            " |-- category_Entertainment: integer (nullable = true)\n",
            " |-- category_Film & Animation: integer (nullable = true)\n",
            " |-- category_Gaming: integer (nullable = true)\n",
            " |-- category_Howto & Style: integer (nullable = true)\n",
            " |-- category_Movies: integer (nullable = true)\n",
            " |-- category_Music: integer (nullable = true)\n",
            " |-- category_News & Politics: integer (nullable = true)\n",
            " |-- category_People & Blogs: integer (nullable = true)\n",
            " |-- category_Pets & Animals: integer (nullable = true)\n",
            " |-- category_Science & Technology: integer (nullable = true)\n",
            " |-- category_Shows: integer (nullable = true)\n",
            " |-- category_Sports: integer (nullable = true)\n",
            " |-- category_Trailers: integer (nullable = true)\n",
            " |-- category_Travel & Events: integer (nullable = true)\n",
            " |-- publish_weekday_1: integer (nullable = true)\n",
            " |-- publish_weekday_2: integer (nullable = true)\n",
            " |-- publish_weekday_3: integer (nullable = true)\n",
            " |-- publish_weekday_4: integer (nullable = true)\n",
            " |-- publish_weekday_5: integer (nullable = true)\n",
            " |-- publish_weekday_6: integer (nullable = true)\n",
            " |-- publish_weekday_7: integer (nullable = true)\n",
            "\n"
          ]
        },
        {
          "output_type": "display_data",
          "data": {
            "text/plain": [
              "None"
            ]
          },
          "metadata": {}
        }
      ],
      "source": [
        "#Task: Print the dataframe schema and verify\n",
        "# Add your code here\n",
        "display(train_sdf.printSchema())"
      ]
    },
    {
      "cell_type": "markdown",
      "metadata": {
        "id": "1OCScWTIb9kh"
      },
      "source": [
        "Now, we have the processed data in hand. Next for the Spark ML, we need to create a feature column that has all features concatenated and a single column for labels.\n",
        "\n",
        "You can use VectorAssembler() to create a feature vector from all categorical and numerical features. Let us call the call the final vector as “features”.\n",
        "\n",
        "Now, list all columns in the data and store it in a list named 'all_columns'"
      ]
    },
    {
      "cell_type": "code",
      "execution_count": 103,
      "metadata": {
        "id": "y8DKtyuhbyor"
      },
      "outputs": [],
      "source": [
        "from pyspark.ml.feature import StringIndexer, VectorAssembler"
      ]
    },
    {
      "cell_type": "code",
      "execution_count": 104,
      "metadata": {
        "id": "JH1GlSPddnwL"
      },
      "outputs": [],
      "source": [
        "# Add your code here\n",
        "all_columns =train_sdf.columns"
      ]
    },
    {
      "cell_type": "markdown",
      "metadata": {
        "id": "BqQ-aaTYd7Vf"
      },
      "source": [
        "Now create a list of columns which you don't wan't to include in your features, i.e., the labels and probably other columns which are not useful for the machine learning model. Let us call this list drop_columns."
      ]
    },
    {
      "cell_type": "code",
      "execution_count": 105,
      "metadata": {
        "id": "KKwLeEw4drqU"
      },
      "outputs": [],
      "source": [
        "# Add your code here\n",
        "drop_columns = drop_columns = ['video_id','label']"
      ]
    },
    {
      "cell_type": "code",
      "execution_count": 106,
      "metadata": {
        "id": "BBuijblhd1JL"
      },
      "outputs": [],
      "source": [
        "columns_to_use = [i for i in all_columns if i not in drop_columns]"
      ]
    },
    {
      "cell_type": "markdown",
      "metadata": {
        "id": "B3t5sbwgeKlw"
      },
      "source": [
        "Now create a VectorAssembler object with columns you want to use for the ML models. Let us Name the output column as 'features'. These are the features that you will use later. Let us name the vector assembler object 'assembler'"
      ]
    },
    {
      "cell_type": "code",
      "execution_count": 107,
      "metadata": {
        "id": "6JniA3N8eH41"
      },
      "outputs": [],
      "source": [
        "# Add your code\n",
        "assembler = VectorAssembler(inputCols=columns_to_use, outputCol='features')"
      ]
    },
    {
      "cell_type": "code",
      "execution_count": 108,
      "metadata": {
        "colab": {
          "base_uri": "https://localhost:8080/"
        },
        "id": "ecWbTOfceQI8",
        "outputId": "eac83ebe-1428-4134-d68c-65ac83c74a76"
      },
      "outputs": [
        {
          "output_type": "stream",
          "name": "stdout",
          "text": [
            "stat_assembler ('[Param(parent=\\'VectorAssembler_9d89a781bb23\\', name=\\'handleInvalid\\', doc=\"How to handle invalid data (NULL and NaN values). Options are \\'skip\\' (filter out rows with invalid data), \\'error\\' (throw an error), or \\'keep\\' (return relevant number of NaN in the output). Column lengths are taken from the size of ML Attribute Group, which can be set using `VectorSizeHint` in a pipeline before `VectorAssembler`. Column lengths can also be inferred from first rows of the data since it is safe to do so but only in case of \\'error\\' or \\'skip\\').\"), Param(parent=\\'VectorAssembler_9d89a781bb23\\', name=\\'inputCols\\', doc=\\'input column names.\\'), Param(parent=\\'VectorAssembler_9d89a781bb23\\', name=\\'outputCol\\', doc=\\'output column name.\\')]', ['comments_disabled', 'ratings_disabled', 'video_error_or_removed', 'likes_log', 'dislikes_log', 'comment_log', 'num_tags', 'desc_len', 'len_title', 'country_CA', 'country_FR', 'country_IN', 'country_US', 'category_Autos & Vehicles', 'category_Comedy', 'category_Education', 'category_Entertainment', 'category_Film & Animation', 'category_Gaming', 'category_Howto & Style', 'category_Movies', 'category_Music', 'category_News & Politics', 'category_People & Blogs', 'category_Pets & Animals', 'category_Science & Technology', 'category_Shows', 'category_Sports', 'category_Trailers', 'category_Travel & Events', 'publish_weekday_1', 'publish_weekday_2', 'publish_weekday_3', 'publish_weekday_4', 'publish_weekday_5', 'publish_weekday_6', 'publish_weekday_7'])\n"
          ]
        }
      ],
      "source": [
        "# Print assember stats\n",
        "print('stat_assembler', (str(assembler.params), columns_to_use))"
      ]
    },
    {
      "cell_type": "markdown",
      "metadata": {
        "id": "E06b4cMHeZCQ"
      },
      "source": [
        "Now, we are ready to create a pipeline with different stages.  For our data so far, we just a single stage with the assember, however, you could have other stages  before that where you perform operations on the data, e.g, transforming categorical strings to numeric values or feature scaling operations.\n",
        "\n",
        "In this step, we will create a pipeline with a single stage - the assembler. Fit the pipeline to your data and create the transformed dataframe and name it 'modified_data_sdf'."
      ]
    },
    {
      "cell_type": "code",
      "execution_count": 109,
      "metadata": {
        "colab": {
          "base_uri": "https://localhost:8080/",
          "height": 486
        },
        "id": "hGAYJfJSen6A",
        "outputId": "d2339ea6-b32e-4899-d6ac-4be3e3c443e3"
      },
      "outputs": [
        {
          "output_type": "stream",
          "name": "stdout",
          "text": [
            "+-----------+------------------+--------------------+\n",
            "|   video_id|             label|            features|\n",
            "+-----------+------------------+--------------------+\n",
            "|kzwfHumJyYc|13.907476971790734|(37,[3,4,5,6,7,8,...|\n",
            "|zUZ1z7FwLc8|13.288050682295575|(37,[0,3,4,6,7,8,...|\n",
            "|10L1hZ9qa58|13.068939393656878|(37,[3,4,5,6,7,8,...|\n",
            "|N1vE8iiEg64|14.032781700387753|(37,[3,4,5,6,7,8,...|\n",
            "|kJzGH0PVQHQ|13.047674313372497|(37,[3,4,5,6,7,8,...|\n",
            "|il_pSa5l98w|15.624892174393528|(37,[3,4,5,6,7,8,...|\n",
            "|7MxiQ4v0EnE|15.559263780679146|(37,[3,4,5,6,7,8,...|\n",
            "|c64I9HNpiOY| 16.17526697582603|(37,[3,4,5,6,7,8,...|\n",
            "|KObFEYCaRx8| 11.68033640902843|(37,[3,4,5,6,7,8,...|\n",
            "|g8QsfJhFpjY|13.784051882105244|(37,[3,4,5,6,7,8,...|\n",
            "|4du1KXBl4YU| 13.35782751759637|(37,[3,4,5,6,7,8,...|\n",
            "|zOOmEDwPJX0|14.669120455465158|(37,[3,4,5,6,7,8,...|\n",
            "|Prb_osSVE0M| 11.95816241638283|(37,[0,3,4,6,7,8,...|\n",
            "|KHxdrECEsD0|13.065610998767987|(37,[3,4,5,6,7,8,...|\n",
            "|so0ccfs-psI|13.636392265237525|(37,[3,4,5,6,7,8,...|\n",
            "|7gShaSuK_PY|11.402351382259514|(37,[3,4,5,6,7,8,...|\n",
            "|ep3SLMuRbvg|12.749982887372441|(37,[3,4,5,6,7,8,...|\n",
            "|ePO5M5DE01I|  17.3958509780565|(37,[3,4,5,6,7,8,...|\n",
            "|CLl1RbxDRAs|12.252956231429025|(37,[3,4,5,6,7,8,...|\n",
            "|1ZAPwfrtAFY|14.698775492508977|(37,[3,4,5,6,7,8,...|\n",
            "+-----------+------------------+--------------------+\n",
            "only showing top 20 rows\n",
            "\n"
          ]
        },
        {
          "output_type": "display_data",
          "data": {
            "text/plain": [
              "None"
            ]
          },
          "metadata": {}
        }
      ],
      "source": [
        "from pyspark.ml import Pipeline\n",
        "# Add your code here\n",
        "pipeline = Pipeline(stages=[assembler])\n",
        "modified_data_sdf = pipeline.fit(train_sdf).transform(train_sdf).drop(*columns_to_use)\n",
        "display(modified_data_sdf.show())"
      ]
    },
    {
      "cell_type": "code",
      "execution_count": 110,
      "metadata": {
        "colab": {
          "base_uri": "https://localhost:8080/"
        },
        "id": "qDfS8wJpe-7h",
        "outputId": "323f0bf0-69d6-4214-a581-6810c6f0c437"
      },
      "outputs": [
        {
          "output_type": "stream",
          "name": "stdout",
          "text": [
            "check_pipeline (array(['video_id', 'label', 'features'], dtype=object), 37)\n"
          ]
        }
      ],
      "source": [
        "#Print results\n",
        "pipeline_stat = pd.DataFrame(modified_data_sdf.take(5), columns=modified_data_sdf.columns)\n",
        "print('check_pipeline', (pipeline_stat.columns.values, pipeline_stat['features'][0].size))"
      ]
    },
    {
      "cell_type": "markdown",
      "metadata": {
        "id": "CXUClWlwfYqq"
      },
      "source": [
        "Now that we have the required data in the right format, Let us create our train and test sets. Let us, split into an 80-20 ratio between the train and test sets. Name these 'train_sdf' and 'test_sdf'"
      ]
    },
    {
      "cell_type": "code",
      "execution_count": 111,
      "metadata": {
        "id": "9_6cXRgIfWvh"
      },
      "outputs": [],
      "source": [
        "# Add your code here\n",
        "train_sdf, test_sdf = modified_data_sdf.randomSplit([0.8, 0.2], seed = 2021)"
      ]
    },
    {
      "cell_type": "code",
      "execution_count": 112,
      "metadata": {
        "colab": {
          "base_uri": "https://localhost:8080/"
        },
        "id": "5GYq-X3LgNHK",
        "outputId": "133e050e-9c03-44d3-9b5b-e568fe45d7ac"
      },
      "outputs": [
        {
          "output_type": "stream",
          "name": "stdout",
          "text": [
            "check_split (123254, 30975)\n"
          ]
        }
      ],
      "source": [
        "#Print results here\n",
        "print('check_split', (train_sdf.count(), test_sdf.count()))"
      ]
    },
    {
      "cell_type": "markdown",
      "metadata": {
        "id": "YlSOcfoEgVOa"
      },
      "source": [
        "### 5.2 Linear regression using Spark ML (15 points)\n",
        "\n",
        "In this section, train s linear regression model to our data and predict the views. This prediction should be based on \"Big\" data tools, i.e., Spark ML's linear regression. Create a model using this library, fit the training data. \n",
        "Afterwards, print the summary stats of the model, i.e, \n",
        "- the RMSE error, R2 score and any other information you find useful. Refere the Spark ML documentation online for the implementation.\n",
        "\n",
        "In this section, we will train the model without any regularization!"
      ]
    },
    {
      "cell_type": "code",
      "execution_count": 113,
      "metadata": {
        "id": "BFwSfa_ZgUiL"
      },
      "outputs": [],
      "source": [
        "from pyspark.ml.regression import LinearRegression\n",
        "\n",
        "# Add your code here\n",
        "\n",
        "lr_model = LinearRegression(featuresCol='features', labelCol='label').fit(train_sdf)"
      ]
    },
    {
      "cell_type": "code",
      "execution_count": 114,
      "metadata": {
        "colab": {
          "base_uri": "https://localhost:8080/"
        },
        "id": "YWRefyrdgQky",
        "outputId": "9819efe7-b307-4af5-be10-b0744ec4466d"
      },
      "outputs": [
        {
          "output_type": "stream",
          "name": "stdout",
          "text": [
            "RMSE: 0.666726\n",
            "r2: 0.864832\n"
          ]
        }
      ],
      "source": [
        "trainingSum = lr_model.summary\n",
        "\n",
        "print(\"RMSE: %f\" % trainingSum.rootMeanSquaredError)\n",
        "print(\"r2: %f\" % trainingSum.r2)"
      ]
    },
    {
      "cell_type": "markdown",
      "metadata": {
        "id": "h3V2ZRb4hSz1"
      },
      "source": [
        "Let us investigate that if the model actually overfits the training data.\n",
        "\n",
        "Predict the views for your test data (Note: it is called 'transform' in spark ml). Evaluate the performance using 'RegressionEvaluator' in the Spark ML Regression library. Name prediction column as 'prediction'."
      ]
    },
    {
      "cell_type": "code",
      "execution_count": 115,
      "metadata": {
        "id": "tNCnZNZ0hN64"
      },
      "outputs": [],
      "source": [
        "# Add your code here\n",
        "predictions = lr_model.transform(test_sdf)"
      ]
    },
    {
      "cell_type": "code",
      "execution_count": 116,
      "metadata": {
        "id": "RpTvWeYDhcZR"
      },
      "outputs": [],
      "source": [
        "from pyspark.ml.evaluation import RegressionEvaluator\n",
        "\n",
        "# Task: Compute RMSr on the test set\n",
        "\n",
        "test_rmse_orig = lr_model.evaluate(test_sdf).rootMeanSquaredError"
      ]
    },
    {
      "cell_type": "code",
      "execution_count": 117,
      "metadata": {
        "colab": {
          "base_uri": "https://localhost:8080/"
        },
        "id": "PXGoL5j1hjWk",
        "outputId": "a80f039d-ea8d-455a-9e82-3b501fc9ecfc"
      },
      "outputs": [
        {
          "output_type": "stream",
          "name": "stdout",
          "text": [
            "result_lr_test [0.6680836832676446, 0     10.689455\n",
            "1     10.581327\n",
            "2     11.005251\n",
            "3     10.702889\n",
            "4     10.286572\n",
            "5     11.590491\n",
            "6     13.262100\n",
            "7     11.047227\n",
            "8     11.544116\n",
            "9     12.445897\n",
            "10    12.049720\n",
            "11    11.267933\n",
            "12    11.977952\n",
            "13    11.017735\n",
            "14    11.527805\n",
            "15    13.147644\n",
            "16    13.147644\n",
            "17    11.071909\n",
            "18    11.517631\n",
            "19    11.608772\n",
            "20    11.870405\n",
            "21    11.234233\n",
            "22    13.208107\n",
            "23    13.525551\n",
            "24    11.961687\n",
            "25    12.234030\n",
            "26    11.875323\n",
            "27    11.875323\n",
            "28    13.480186\n",
            "29    11.816098\n",
            "30    11.994392\n",
            "31    11.786351\n",
            "32    12.903977\n",
            "33    12.808212\n",
            "34    11.852132\n",
            "35    13.572612\n",
            "36    12.257464\n",
            "37    12.257464\n",
            "38    12.628452\n",
            "39    11.600449\n",
            "40    12.400553\n",
            "41    11.598370\n",
            "42    12.775414\n",
            "43    11.437039\n",
            "44    12.723687\n",
            "45    12.002061\n",
            "46    12.616377\n",
            "47    12.616377\n",
            "48    12.597132\n",
            "49    13.769189\n",
            "Name: prediction, dtype: float64, 0      9.668651\n",
            "1      9.829895\n",
            "2      9.930129\n",
            "3     10.712126\n",
            "4     11.018006\n",
            "5     11.054835\n",
            "6     11.153762\n",
            "7     11.175899\n",
            "8     11.258382\n",
            "9     11.266360\n",
            "10    11.468357\n",
            "11    11.468859\n",
            "12    11.483754\n",
            "13    11.512265\n",
            "14    11.564445\n",
            "15    11.588135\n",
            "16    11.588135\n",
            "17    11.660664\n",
            "18    11.857671\n",
            "19    11.880322\n",
            "20    11.888144\n",
            "21    11.891335\n",
            "22    11.937552\n",
            "23    11.954922\n",
            "24    11.977156\n",
            "25    12.016164\n",
            "26    12.054133\n",
            "27    12.054133\n",
            "28    12.198675\n",
            "29    12.226267\n",
            "30    12.256457\n",
            "31    12.375583\n",
            "32    12.486016\n",
            "33    12.557198\n",
            "34    12.644428\n",
            "35    12.658160\n",
            "36    12.669763\n",
            "37    12.669763\n",
            "38    12.866671\n",
            "39    12.883370\n",
            "40    12.909091\n",
            "41    12.924927\n",
            "42    12.978248\n",
            "43    12.997584\n",
            "44    13.010363\n",
            "45    13.027932\n",
            "46    13.037278\n",
            "47    13.037278\n",
            "48    13.046706\n",
            "49    13.076920\n",
            "Name: label, dtype: float64]\n",
            "\n",
            " Differences between Prediction and label: \n",
            " 0     1.020804\n",
            "1     0.751432\n",
            "2     1.075121\n",
            "3    -0.009237\n",
            "4    -0.731434\n",
            "5     0.535657\n",
            "6     2.108338\n",
            "7    -0.128672\n",
            "8     0.285735\n",
            "9     1.179537\n",
            "10    0.581363\n",
            "11   -0.200926\n",
            "12    0.494198\n",
            "13   -0.494530\n",
            "14   -0.036640\n",
            "15    1.559509\n",
            "16    1.559509\n",
            "17   -0.588755\n",
            "18   -0.340040\n",
            "19   -0.271550\n",
            "20   -0.017739\n",
            "21   -0.657101\n",
            "22    1.270555\n",
            "23    1.570629\n",
            "24   -0.015469\n",
            "25    0.217865\n",
            "26   -0.178810\n",
            "27   -0.178810\n",
            "28    1.281511\n",
            "29   -0.410169\n",
            "30   -0.262065\n",
            "31   -0.589232\n",
            "32    0.417961\n",
            "33    0.251014\n",
            "34   -0.792296\n",
            "35    0.914451\n",
            "36   -0.412299\n",
            "37   -0.412299\n",
            "38   -0.238219\n",
            "39   -1.282921\n",
            "40   -0.508538\n",
            "41   -1.326557\n",
            "42   -0.202834\n",
            "43   -1.560545\n",
            "44   -0.286676\n",
            "45   -1.025870\n",
            "46   -0.420901\n",
            "47   -0.420901\n",
            "48   -0.449575\n",
            "49    0.692269\n",
            "dtype: float64\n"
          ]
        }
      ],
      "source": [
        "#Print results here\n",
        "predictions_to_print = predictions.toPandas()\n",
        "lranswer = [test_rmse_orig, predictions_to_print['prediction'][0:50], predictions_to_print['label'][0:50]]\n",
        "print('result_lr_test', lranswer)\n",
        "\n",
        "x=predictions_to_print['prediction'][0:50]\n",
        "y=predictions_to_print['label'][0:50]\n",
        "print('\\n Differences between Prediction and label: \\n',(x - y))"
      ]
    },
    {
      "cell_type": "markdown",
      "metadata": {
        "id": "-ejKD18T6Q0N"
      },
      "source": [
        "Next, we will implement regularization to avoid overfitting. you can try different  regularization parameters, e.g., try LASSO (L1), Ridge (L2) and elastic net (combination of L1 and L2).\n",
        "\n",
        "You can try different regularization hyperparameters to initialize three different regularized linear regression models. Compare these regularization methods with each other and the non-regularized method above.\n"
      ]
    },
    {
      "cell_type": "code",
      "execution_count": 118,
      "metadata": {
        "id": "4BrN7NLChw7y"
      },
      "outputs": [],
      "source": [
        "# Add your code here\n",
        "LR=LinearRegression\n",
        "model1= LR(featuresCol='features', labelCol='label', elasticNetParam=1, regParam=0.1)\n",
        "model1_fit=model1.fit(train_sdf)\n",
        "model2 = LR(featuresCol='features', labelCol='label', elasticNetParam=0, regParam=0.1)\n",
        "model2_fit=model2.fit(train_sdf)\n",
        "elastic_net_model =LR(featuresCol='features', labelCol='label', elasticNetParam=0.5, regParam=0.1).fit(train_sdf)\n",
        "\n",
        "# Compute predictions using each of the models\n",
        "l1_predictions = model1_fit.transform(test_sdf)\n",
        "l2_predictions = model2_fit.transform(test_sdf)\n",
        "elastic_net_predictions = elastic_net_model.transform(test_sdf)\n",
        "\n",
        "# Task: Calculate the root mean squared error (RMSE) on test set for each of your models\n",
        "test_rmse_l1 = model1_fit.evaluate(test_sdf).rootMeanSquaredError\n",
        "test_rmse_l2 = model2_fit.evaluate(test_sdf).rootMeanSquaredError\n",
        "test_rmse_elastic = elastic_net_model.evaluate(test_sdf).rootMeanSquaredError"
      ]
    },
    {
      "cell_type": "code",
      "execution_count": 119,
      "metadata": {
        "colab": {
          "base_uri": "https://localhost:8080/"
        },
        "id": "YGTACBqM7tIu",
        "outputId": "2bb9dfbf-2743-40ff-d57d-ced10a8e12b2"
      },
      "outputs": [
        {
          "output_type": "stream",
          "name": "stdout",
          "text": [
            "result_lr_all [0.7338957894135835, 0.6820046707276309, 0.7038727498387661]\n"
          ]
        }
      ],
      "source": [
        "# Print your results here\n",
        "result = [test_rmse_l1, test_rmse_l2, test_rmse_elastic]\n",
        "print('result_lr_all', result)"
      ]
    },
    {
      "cell_type": "markdown",
      "metadata": {
        "id": "tNqpwzJz9R1Z"
      },
      "source": [
        "### 5.3 Random Forest Regression 10 pts)\n",
        "\n",
        "You need an understanding of random forest and its variations,i.e., boosted trees to succeed as a data scientist. These are ensemble methods that are know for generalization and are considered popular for classification and regression problems. Similar to linear regresssion, create a random forest regressor model. After it, train the model using the data and then evaluate its performance using the test data. Finally, compare performance of random forest model with the linear regression model."
      ]
    },
    {
      "cell_type": "code",
      "execution_count": 120,
      "metadata": {
        "id": "KxC9r9WH9P1C"
      },
      "outputs": [],
      "source": [
        "from pyspark.ml.regression import RandomForestRegressor\n",
        "# Add your code here\n",
        "rf_model = rf_model = RandomForestRegressor(labelCol=\"label\", featuresCol=\"features\").fit(train_sdf) #Task"
      ]
    },
    {
      "cell_type": "code",
      "execution_count": 121,
      "metadata": {
        "id": "ZVUTblQb_MRn"
      },
      "outputs": [],
      "source": [
        "# Add code here to calculate predictions\n",
        "predictions = predictions = rf_model.transform(test_sdf) #Task : Calculate predictions on the test set"
      ]
    },
    {
      "cell_type": "code",
      "execution_count": 122,
      "metadata": {
        "id": "ofGBVusx_T3I"
      },
      "outputs": [],
      "source": [
        "from pyspark.ml.evaluation import RegressionEvaluator\n",
        "\n",
        "# Add your code here to instatiate a regressionevaluator \n",
        "reg_evaluator = RegressionEvaluator(labelCol=\"label\", predictionCol=\"prediction\", metricName=\"rmse\")\n",
        "train_rmse_rf = reg_evaluator.evaluate(rf_model.transform(train_sdf)) #Task: Compute the training RMSE\n",
        "rmse_rf = reg_evaluator.evaluate(predictions) #Task: Compute RMSE using the test set"
      ]
    },
    {
      "cell_type": "code",
      "execution_count": 123,
      "metadata": {
        "colab": {
          "base_uri": "https://localhost:8080/"
        },
        "id": "h-z0geOsD1py",
        "outputId": "1160a3dd-8b80-4a2a-9671-57005b6904ff"
      },
      "outputs": [
        {
          "output_type": "stream",
          "name": "stdout",
          "text": [
            "check_rf_spark \n",
            " [0.722702988099663, 0     10.900335\n",
            "1     10.622649\n",
            "2     10.937377\n",
            "3     11.399996\n",
            "4     10.800194\n",
            "5     11.753933\n",
            "6     13.160865\n",
            "7     11.221447\n",
            "8     11.691378\n",
            "9     12.414728\n",
            "10    11.892932\n",
            "11    11.435676\n",
            "12    11.621849\n",
            "13    11.378713\n",
            "14    11.541946\n",
            "15    12.918614\n",
            "16    12.918614\n",
            "17    10.731081\n",
            "18    11.909913\n",
            "19    12.054996\n",
            "20    11.825730\n",
            "21    10.928273\n",
            "22    12.842791\n",
            "23    13.550858\n",
            "24    12.386876\n",
            "25    11.886356\n",
            "26    11.577533\n",
            "27    11.577533\n",
            "28    13.267185\n",
            "29    11.859094\n",
            "30    11.897975\n",
            "31    11.327590\n",
            "32    12.682341\n",
            "33    12.648268\n",
            "34    11.684233\n",
            "35    13.275136\n",
            "36    12.417066\n",
            "37    12.417066\n",
            "38    12.673207\n",
            "39    11.592968\n",
            "40    12.588421\n",
            "41    11.592968\n",
            "42    12.634591\n",
            "43    11.544507\n",
            "44    12.615365\n",
            "45    11.892932\n",
            "46    12.799235\n",
            "47    12.799235\n",
            "48    12.657006\n",
            "49    13.919702\n",
            "Name: prediction, dtype: float64, 0      9.668651\n",
            "1      9.829895\n",
            "2      9.930129\n",
            "3     10.712126\n",
            "4     11.018006\n",
            "5     11.054835\n",
            "6     11.153762\n",
            "7     11.175899\n",
            "8     11.258382\n",
            "9     11.266360\n",
            "10    11.468357\n",
            "11    11.468859\n",
            "12    11.483754\n",
            "13    11.512265\n",
            "14    11.564445\n",
            "15    11.588135\n",
            "16    11.588135\n",
            "17    11.660664\n",
            "18    11.857671\n",
            "19    11.880322\n",
            "20    11.888144\n",
            "21    11.891335\n",
            "22    11.937552\n",
            "23    11.954922\n",
            "24    11.977156\n",
            "25    12.016164\n",
            "26    12.054133\n",
            "27    12.054133\n",
            "28    12.198675\n",
            "29    12.226267\n",
            "30    12.256457\n",
            "31    12.375583\n",
            "32    12.486016\n",
            "33    12.557198\n",
            "34    12.644428\n",
            "35    12.658160\n",
            "36    12.669763\n",
            "37    12.669763\n",
            "38    12.866671\n",
            "39    12.883370\n",
            "40    12.909091\n",
            "41    12.924927\n",
            "42    12.978248\n",
            "43    12.997584\n",
            "44    13.010363\n",
            "45    13.027932\n",
            "46    13.037278\n",
            "47    13.037278\n",
            "48    13.046706\n",
            "49    13.076920\n",
            "Name: label, dtype: float64, 0.7330723967036643]\n",
            "\n",
            " Differences between Prediction and label: \n",
            " 0     1.231684\n",
            "1     0.792754\n",
            "2     1.007247\n",
            "3     0.687869\n",
            "4    -0.217812\n",
            "5     0.699098\n",
            "6     2.007103\n",
            "7     0.045548\n",
            "8     0.432996\n",
            "9     1.148368\n",
            "10    0.424575\n",
            "11   -0.033183\n",
            "12    0.138095\n",
            "13   -0.133552\n",
            "14   -0.022499\n",
            "15    1.330479\n",
            "16    1.330479\n",
            "17   -0.929583\n",
            "18    0.052242\n",
            "19    0.174674\n",
            "20   -0.062414\n",
            "21   -0.963062\n",
            "22    0.905238\n",
            "23    1.595937\n",
            "24    0.409720\n",
            "25   -0.129808\n",
            "26   -0.476600\n",
            "27   -0.476600\n",
            "28    1.068510\n",
            "29   -0.367173\n",
            "30   -0.358482\n",
            "31   -1.047993\n",
            "32    0.196325\n",
            "33    0.091070\n",
            "34   -0.960195\n",
            "35    0.616975\n",
            "36   -0.252697\n",
            "37   -0.252697\n",
            "38   -0.193463\n",
            "39   -1.290402\n",
            "40   -0.320670\n",
            "41   -1.331959\n",
            "42   -0.343657\n",
            "43   -1.453077\n",
            "44   -0.394998\n",
            "45   -1.135000\n",
            "46   -0.238043\n",
            "47   -0.238043\n",
            "48   -0.389701\n",
            "49    0.842781\n",
            "dtype: float64\n"
          ]
        }
      ],
      "source": [
        "#Print results of predictions here\n",
        "predictions_to_reveal = predictions.toPandas()\n",
        "answer = [train_rmse_rf, predictions_to_reveal['prediction'][0:50], predictions_to_reveal['label'][0:50], rmse_rf]\n",
        "print('check_rf_spark \\n', answer)\n",
        "\n",
        "x=predictions_to_reveal['prediction'][0:50]\n",
        "y=predictions_to_reveal['label'][0:50]\n",
        "print('\\n Differences between Prediction and label: \\n',(x - y))"
      ]
    },
    {
      "cell_type": "markdown",
      "source": [
        "### 5.4 Gradient Boosting Regression (Task2 part1- Regression Model)\n",
        "Gradient Boosting tree regression is another ensemble method. The difference between Random Forest and Gradient Boosting lies in the way the trees are built. GBT build trees one at a time, where each new tree helps to correct errors made by previously trained tree. The model will be implemented by importing GBT regressor from Mlib. Once the accuracy is checked, we can rely on the appropriate model to finalize based on best available accuracy evaluated through regression evaluator."
      ],
      "metadata": {
        "id": "ZiCKTDVZ3pZm"
      }
    },
    {
      "cell_type": "code",
      "execution_count": 124,
      "metadata": {
        "id": "de9SX5T0FBM-"
      },
      "outputs": [],
      "source": [
        "from pyspark.ml import Pipeline\n",
        "from pyspark.ml.regression import GBTRegressor"
      ]
    },
    {
      "cell_type": "code",
      "execution_count": 125,
      "metadata": {
        "id": "Wml_FAr2D-_b"
      },
      "outputs": [],
      "source": [
        "gbt = GBTRegressor(labelCol=\"label\", featuresCol=\"features\", maxIter=10)"
      ]
    },
    {
      "cell_type": "code",
      "execution_count": 126,
      "metadata": {
        "id": "VWPOFgcOO1bZ"
      },
      "outputs": [],
      "source": [
        "gbt_model = gbt.fit(train_sdf)"
      ]
    },
    {
      "cell_type": "code",
      "execution_count": 127,
      "metadata": {
        "id": "JWbYDKl-Pak6"
      },
      "outputs": [],
      "source": [
        "predictions = gbt_model.transform(test_sdf)"
      ]
    },
    {
      "cell_type": "code",
      "execution_count": 128,
      "metadata": {
        "colab": {
          "base_uri": "https://localhost:8080/"
        },
        "id": "gvn3fO2XPlYo",
        "outputId": "5e239ec1-5045-4493-b0cd-48bcb5519ba9"
      },
      "outputs": [
        {
          "output_type": "stream",
          "name": "stdout",
          "text": [
            "check_gbt_spark \n",
            " [0.6672353910621585, 0      10.524902\n",
            "1      10.501362\n",
            "2      10.084784\n",
            "3      11.027729\n",
            "4      10.970112\n",
            "         ...    \n",
            "495    11.051913\n",
            "496    12.483138\n",
            "497    12.741112\n",
            "498    10.746261\n",
            "499    11.414361\n",
            "Name: prediction, Length: 500, dtype: float64, 0       9.668651\n",
            "1       9.829895\n",
            "2       9.930129\n",
            "3      10.712126\n",
            "4      11.018006\n",
            "         ...    \n",
            "495    10.514285\n",
            "496    11.852763\n",
            "497    12.921796\n",
            "498    11.204578\n",
            "499    10.951157\n",
            "Name: label, Length: 500, dtype: float64, 0.6704441742259695]\n",
            "\n",
            " Differences between Prediction and label: \n",
            " 0     0.856251\n",
            "1     0.671468\n",
            "2     0.154654\n",
            "3     0.315603\n",
            "4    -0.047894\n",
            "5     0.390090\n",
            "6     1.371761\n",
            "7    -0.025567\n",
            "8     0.570763\n",
            "9     1.336625\n",
            "10    0.634135\n",
            "11    0.236549\n",
            "12    0.551850\n",
            "13    0.060663\n",
            "14   -0.205287\n",
            "15    1.175065\n",
            "16    1.175065\n",
            "17   -1.019681\n",
            "18   -0.018518\n",
            "19   -0.364141\n",
            "20   -0.099070\n",
            "21   -1.250351\n",
            "22    1.227616\n",
            "23    0.953782\n",
            "24   -0.075734\n",
            "25   -0.076908\n",
            "26   -0.032698\n",
            "27   -0.032698\n",
            "28    1.520957\n",
            "29   -0.405853\n",
            "30   -0.273389\n",
            "31   -0.303134\n",
            "32    0.213334\n",
            "33    0.092261\n",
            "34   -1.169432\n",
            "35    0.920472\n",
            "36   -0.722966\n",
            "37   -0.722966\n",
            "38   -0.360066\n",
            "39   -0.668770\n",
            "40   -0.962294\n",
            "41   -0.710327\n",
            "42   -0.183303\n",
            "43   -0.761340\n",
            "44   -0.273026\n",
            "45   -0.992993\n",
            "46   -0.332387\n",
            "47   -0.332387\n",
            "48   -0.473690\n",
            "49    0.840288\n",
            "dtype: float64\n"
          ]
        }
      ],
      "source": [
        "from pyspark.ml.evaluation import RegressionEvaluator\n",
        "\n",
        "# Add your code here to instatiate a regressionevaluator \n",
        "gbt_evaluator = RegressionEvaluator(labelCol=\"label\", predictionCol=\"prediction\", metricName=\"rmse\")\n",
        "train_rmse_gbt = gbt_evaluator.evaluate(gbt_model.transform(train_sdf)) #Task: Compute the training RMSE\n",
        "rmse_gbt = gbt_evaluator.evaluate(predictions) #Task: Compute RMSE using the test set\n",
        "\n",
        "#Print results of predictions here\n",
        "predictions_to_reveal = predictions.toPandas()\n",
        "answer = [train_rmse_gbt, predictions_to_reveal['prediction'][0:500], predictions_to_reveal['label'][0:500], rmse_gbt]\n",
        "print('check_gbt_spark \\n', answer)\n",
        "\n",
        "x=predictions_to_reveal['prediction'][0:50]\n",
        "y=predictions_to_reveal['label'][0:50]\n",
        "print('\\n Differences between Prediction and label: \\n',(x - y))"
      ]
    },
    {
      "cell_type": "code",
      "execution_count": 129,
      "metadata": {
        "id": "NsH8rMj8VwQs"
      },
      "outputs": [],
      "source": [
        "accuracy = gbt_evaluator.evaluate(predictions)"
      ]
    },
    {
      "cell_type": "code",
      "execution_count": 130,
      "metadata": {
        "colab": {
          "base_uri": "https://localhost:8080/"
        },
        "id": "yQb3E2qJWDJ0",
        "outputId": "02a2701c-6440-4bf6-c379-c732d3619a33"
      },
      "outputs": [
        {
          "output_type": "stream",
          "name": "stdout",
          "text": [
            "Accuracy = 0.670444\n"
          ]
        }
      ],
      "source": [
        "print(\"Accuracy = %g\" % accuracy)"
      ]
    },
    {
      "cell_type": "markdown",
      "source": [
        "### 5.5 Task 2 part II- Implement Classification Model\n",
        "\n",
        "In this task, a classification model is implemented on processed data set combined_data.csv for predicting the impact of ratings disabled variable on all features. This can enable us to understand the weightage of factors leading to whether a review is abled or disabled."
      ],
      "metadata": {
        "id": "j3UhMfVI6a7R"
      }
    },
    {
      "cell_type": "code",
      "source": [
        "df = spark.read.format('csv').options(header='true', inferSchema='true').load('combined_data.csv')"
      ],
      "metadata": {
        "id": "7uqvyjjRbxOp"
      },
      "execution_count": 131,
      "outputs": []
    },
    {
      "cell_type": "code",
      "source": [
        "display(df.show())"
      ],
      "metadata": {
        "colab": {
          "base_uri": "https://localhost:8080/",
          "height": 506
        },
        "id": "ezLDnOfmZme5",
        "outputId": "fef76040-23f0-4de5-f88e-effd3768b96a"
      },
      "execution_count": 132,
      "outputs": [
        {
          "output_type": "stream",
          "name": "stdout",
          "text": [
            "+-----------+-----------------+----------------+----------------------+------------------+------------------+------------------+------------------+--------+--------+---------+----------+----------+----------+----------+-------------------------+---------------+------------------+----------------------+-------------------------+---------------+----------------------+---------------+--------------+------------------------+-----------------------+-----------------------+-----------------------------+--------------+---------------+-----------------+------------------------+-----------------+-----------------+-----------------+-----------------+-----------------+-----------------+-----------------+\n",
            "|   video_id|comments_disabled|ratings_disabled|video_error_or_removed|         likes_log|             label|      dislikes_log|       comment_log|num_tags|desc_len|len_title|country_CA|country_FR|country_IN|country_US|category_Autos & Vehicles|category_Comedy|category_Education|category_Entertainment|category_Film & Animation|category_Gaming|category_Howto & Style|category_Movies|category_Music|category_News & Politics|category_People & Blogs|category_Pets & Animals|category_Science & Technology|category_Shows|category_Sports|category_Trailers|category_Travel & Events|publish_weekday_1|publish_weekday_2|publish_weekday_3|publish_weekday_4|publish_weekday_5|publish_weekday_6|publish_weekday_7|\n",
            "+-----------+-----------------+----------------+----------------------+------------------+------------------+------------------+------------------+--------+--------+---------+----------+----------+----------+----------+-------------------------+---------------+------------------+----------------------+-------------------------+---------------+----------------------+---------------+--------------+------------------------+-----------------------+-----------------------+-----------------------------+--------------+---------------+-----------------+------------------------+-----------------+-----------------+-----------------+-----------------+-----------------+-----------------+-----------------+\n",
            "|kzwfHumJyYc|            false|           false|                 false|10.433144744037243|13.907476971790734| 6.683360945766275|  6.78332520060396|      15|     920|       81|         0|         0|         1|         0|                        0|              0|                 0|                     0|                        1|              0|                     0|              0|             0|                       0|                      0|                      0|                            0|             0|              0|                0|                       0|                0|                0|                0|                0|                0|                0|                1|\n",
            "|zUZ1z7FwLc8|             true|           false|                 false| 6.601230118728877|13.288050682295575| 6.807934943699926|               0.0|      19|    2232|       58|         0|         0|         1|         0|                        0|              0|                 0|                     0|                        0|              0|                     0|              0|             0|                       1|                      0|                      0|                            0|             0|              0|                0|                       0|                1|                0|                0|                0|                0|                0|                0|\n",
            "|10L1hZ9qa58|            false|           false|                 false|  7.60688453121963|13.068939393656878| 5.497168225293202|5.0106352940962555|      14|     482|       58|         0|         0|         1|         0|                        0|              0|                 0|                     1|                        0|              0|                     0|              0|             0|                       0|                      0|                      0|                            0|             0|              0|                0|                       0|                0|                0|                0|                0|                0|                0|                1|\n",
            "|N1vE8iiEg64|            false|           false|                 false| 11.16129491949047|14.032781700387753| 7.393263094763838| 7.895436006942965|      20|     263|       30|         0|         0|         1|         0|                        0|              1|                 0|                     0|                        0|              0|                     0|              0|             0|                       0|                      0|                      0|                            0|             0|              0|                0|                       0|                0|                0|                0|                0|                0|                0|                1|\n",
            "|kJzGH0PVQHQ|            false|           false|                 false|  6.20050917404269|13.047674313372497| 5.683579767338681| 4.204692619390966|      11|     753|       88|         0|         0|         1|         0|                        0|              0|                 0|                     1|                        0|              0|                     0|              0|             0|                       0|                      0|                      0|                            0|             0|              0|                0|                       0|                1|                0|                0|                0|                0|                0|                0|\n",
            "|il_pSa5l98w|            false|           false|                 false|11.498958377741612|15.624892174393528| 8.339500903005945|  8.46884293047519|      22|     449|       91|         0|         0|         1|         0|                        0|              0|                 0|                     1|                        0|              0|                     0|              0|             0|                       0|                      0|                      0|                            0|             0|              0|                0|                       0|                0|                0|                0|                0|                1|                0|                0|\n",
            "|7MxiQ4v0EnE|            false|           false|                 false|11.755699079672715|15.559263780679146| 8.872767529910936|  8.99516499031115|      18|    1411|       96|         0|         0|         1|         0|                        0|              0|                 0|                     0|                        0|              0|                     0|              0|             1|                       0|                      0|                      0|                            0|             0|              0|                0|                       0|                0|                0|                0|                0|                0|                1|                0|\n",
            "|c64I9HNpiOY|            false|           false|                 false|11.796140073147356| 16.17526697582603|  9.08398318309966| 9.291736010180177|      26|    1299|       96|         0|         0|         1|         0|                        0|              0|                 0|                     0|                        0|              0|                     0|              0|             1|                       0|                      0|                      0|                            0|             0|              0|                0|                       0|                0|                0|                0|                0|                0|                1|                0|\n",
            "|KObFEYCaRx8|            false|           false|                 false| 6.255750041753367| 11.68033640902843|3.9889840465642745|3.1780538303479458|      21|     509|       97|         0|         0|         1|         0|                        0|              0|                 0|                     1|                        0|              0|                     0|              0|             0|                       0|                      0|                      0|                            0|             0|              0|                0|                       0|                1|                0|                0|                0|                0|                0|                0|\n",
            "|g8QsfJhFpjY|            false|           false|                 false|10.998744217390875|13.784051882105244| 7.343426229147367| 7.785305182539862|      23|     477|       34|         0|         0|         1|         0|                        0|              0|                 0|                     1|                        0|              0|                     0|              0|             0|                       0|                      0|                      0|                            0|             0|              0|                0|                       0|                0|                0|                0|                0|                0|                0|                1|\n",
            "|4du1KXBl4YU|            false|           false|                 false| 8.373553741214627| 13.35782751759637| 7.688913336864796| 7.962067308753666|      23|      99|       78|         0|         0|         1|         0|                        0|              0|                 0|                     1|                        0|              0|                     0|              0|             0|                       0|                      0|                      0|                            0|             0|              0|                0|                       0|                0|                0|                0|                0|                0|                0|                1|\n",
            "|zOOmEDwPJX0|            false|           false|                 false|10.399250298625073|14.669120455465158| 6.566672429803241| 7.463936604468925|      22|    2093|       83|         0|         0|         1|         0|                        0|              0|                 0|                     0|                        0|              0|                     0|              0|             1|                       0|                      0|                      0|                            0|             0|              0|                0|                       0|                0|                0|                0|                0|                0|                1|                0|\n",
            "|Prb_osSVE0M|             true|           false|                 false|  6.57507584059962| 11.95816241638283|3.9889840465642745|               0.0|      20|     858|       85|         0|         0|         1|         0|                        0|              0|                 0|                     0|                        0|              0|                     0|              0|             0|                       1|                      0|                      0|                            0|             0|              0|                0|                       0|                1|                0|                0|                0|                0|                0|                0|\n",
            "|KHxdrECEsD0|            false|           false|                 false| 7.867871490396322|13.065610998767987|5.5254529391317835|5.1647859739235145|      12|    1351|       92|         0|         0|         1|         0|                        0|              0|                 0|                     1|                        0|              0|                     0|              0|             0|                       0|                      0|                      0|                            0|             0|              0|                0|                       0|                0|                0|                0|                0|                0|                1|                0|\n",
            "|so0ccfs-psI|            false|           false|                 false| 10.10483529147988|13.636392265237525| 5.198497031265826|  6.38856140554563|      25|    2387|       88|         0|         0|         1|         0|                        0|              0|                 0|                     0|                        0|              0|                     0|              0|             1|                       0|                      0|                      0|                            0|             0|              0|                0|                       0|                0|                0|                0|                0|                0|                0|                1|\n",
            "|7gShaSuK_PY|            false|           false|                 false| 5.476463551931511|11.402351382259514|   4.0943445622221|2.9444389791664403|      28|     171|       85|         0|         0|         1|         0|                        0|              0|                 0|                     0|                        0|              0|                     0|              0|             0|                       0|                      1|                      0|                            0|             0|              0|                0|                       0|                1|                0|                0|                0|                0|                0|                0|\n",
            "|ep3SLMuRbvg|            false|           false|                 false|10.154946414830384|12.749982887372441| 6.035481432524756| 7.962415680121064|      11|     248|       35|         0|         0|         1|         0|                        0|              1|                 0|                     0|                        0|              0|                     0|              0|             0|                       0|                      0|                      0|                            0|             0|              0|                0|                       0|                1|                0|                0|                0|                0|                0|                0|\n",
            "|ePO5M5DE01I|            false|           false|                 false|13.628413215237485|  17.3958509780565| 11.02183710688727|11.524043430704076|      22|     901|       63|         0|         0|         1|         0|                        0|              0|                 0|                     0|                        1|              0|                     0|              0|             0|                       0|                      0|                      0|                            0|             0|              0|                0|                       0|                0|                1|                0|                0|                0|                0|                0|\n",
            "|CLl1RbxDRAs|            false|           false|                 false| 9.551871220788255|12.252956231429025|6.1070228877422545|  7.00850518208228|      30|     201|       68|         0|         0|         1|         0|                        0|              1|                 0|                     0|                        0|              0|                     0|              0|             0|                       0|                      0|                      0|                            0|             0|              0|                0|                       0|                0|                0|                0|                0|                0|                0|                1|\n",
            "|1ZAPwfrtAFY|            false|           false|                 false|11.484402526036991|14.698775492508977|  8.72371943690701| 9.449672183486918|       4|     630|       62|         0|         0|         1|         0|                        0|              0|                 0|                     1|                        0|              0|                     0|              0|             0|                       0|                      0|                      0|                            0|             0|              0|                0|                       0|                1|                0|                0|                0|                0|                0|                0|\n",
            "+-----------+-----------------+----------------+----------------------+------------------+------------------+------------------+------------------+--------+--------+---------+----------+----------+----------+----------+-------------------------+---------------+------------------+----------------------+-------------------------+---------------+----------------------+---------------+--------------+------------------------+-----------------------+-----------------------+-----------------------------+--------------+---------------+-----------------+------------------------+-----------------+-----------------+-----------------+-----------------+-----------------+-----------------+-----------------+\n",
            "only showing top 20 rows\n",
            "\n"
          ]
        },
        {
          "output_type": "display_data",
          "data": {
            "text/plain": [
              "None"
            ]
          },
          "metadata": {}
        }
      ]
    },
    {
      "cell_type": "code",
      "source": [
        "from pyspark.sql.types import IntegerType\n",
        "from pyspark.sql.types import DoubleType\n",
        "df = df.withColumn(\"ratings_disabled\", df[\"ratings_disabled\"].cast(IntegerType()))"
      ],
      "metadata": {
        "id": "LewRQvNhiUSV"
      },
      "execution_count": 133,
      "outputs": []
    },
    {
      "cell_type": "code",
      "source": [
        "display(df.show())"
      ],
      "metadata": {
        "colab": {
          "base_uri": "https://localhost:8080/",
          "height": 506
        },
        "id": "TABdui8xiUYZ",
        "outputId": "e619bb08-c2e8-4f4d-ca63-7a908badfb8a"
      },
      "execution_count": 134,
      "outputs": [
        {
          "output_type": "stream",
          "name": "stdout",
          "text": [
            "+-----------+-----------------+----------------+----------------------+------------------+------------------+------------------+------------------+--------+--------+---------+----------+----------+----------+----------+-------------------------+---------------+------------------+----------------------+-------------------------+---------------+----------------------+---------------+--------------+------------------------+-----------------------+-----------------------+-----------------------------+--------------+---------------+-----------------+------------------------+-----------------+-----------------+-----------------+-----------------+-----------------+-----------------+-----------------+\n",
            "|   video_id|comments_disabled|ratings_disabled|video_error_or_removed|         likes_log|             label|      dislikes_log|       comment_log|num_tags|desc_len|len_title|country_CA|country_FR|country_IN|country_US|category_Autos & Vehicles|category_Comedy|category_Education|category_Entertainment|category_Film & Animation|category_Gaming|category_Howto & Style|category_Movies|category_Music|category_News & Politics|category_People & Blogs|category_Pets & Animals|category_Science & Technology|category_Shows|category_Sports|category_Trailers|category_Travel & Events|publish_weekday_1|publish_weekday_2|publish_weekday_3|publish_weekday_4|publish_weekday_5|publish_weekday_6|publish_weekday_7|\n",
            "+-----------+-----------------+----------------+----------------------+------------------+------------------+------------------+------------------+--------+--------+---------+----------+----------+----------+----------+-------------------------+---------------+------------------+----------------------+-------------------------+---------------+----------------------+---------------+--------------+------------------------+-----------------------+-----------------------+-----------------------------+--------------+---------------+-----------------+------------------------+-----------------+-----------------+-----------------+-----------------+-----------------+-----------------+-----------------+\n",
            "|kzwfHumJyYc|            false|               0|                 false|10.433144744037243|13.907476971790734| 6.683360945766275|  6.78332520060396|      15|     920|       81|         0|         0|         1|         0|                        0|              0|                 0|                     0|                        1|              0|                     0|              0|             0|                       0|                      0|                      0|                            0|             0|              0|                0|                       0|                0|                0|                0|                0|                0|                0|                1|\n",
            "|zUZ1z7FwLc8|             true|               0|                 false| 6.601230118728877|13.288050682295575| 6.807934943699926|               0.0|      19|    2232|       58|         0|         0|         1|         0|                        0|              0|                 0|                     0|                        0|              0|                     0|              0|             0|                       1|                      0|                      0|                            0|             0|              0|                0|                       0|                1|                0|                0|                0|                0|                0|                0|\n",
            "|10L1hZ9qa58|            false|               0|                 false|  7.60688453121963|13.068939393656878| 5.497168225293202|5.0106352940962555|      14|     482|       58|         0|         0|         1|         0|                        0|              0|                 0|                     1|                        0|              0|                     0|              0|             0|                       0|                      0|                      0|                            0|             0|              0|                0|                       0|                0|                0|                0|                0|                0|                0|                1|\n",
            "|N1vE8iiEg64|            false|               0|                 false| 11.16129491949047|14.032781700387753| 7.393263094763838| 7.895436006942965|      20|     263|       30|         0|         0|         1|         0|                        0|              1|                 0|                     0|                        0|              0|                     0|              0|             0|                       0|                      0|                      0|                            0|             0|              0|                0|                       0|                0|                0|                0|                0|                0|                0|                1|\n",
            "|kJzGH0PVQHQ|            false|               0|                 false|  6.20050917404269|13.047674313372497| 5.683579767338681| 4.204692619390966|      11|     753|       88|         0|         0|         1|         0|                        0|              0|                 0|                     1|                        0|              0|                     0|              0|             0|                       0|                      0|                      0|                            0|             0|              0|                0|                       0|                1|                0|                0|                0|                0|                0|                0|\n",
            "|il_pSa5l98w|            false|               0|                 false|11.498958377741612|15.624892174393528| 8.339500903005945|  8.46884293047519|      22|     449|       91|         0|         0|         1|         0|                        0|              0|                 0|                     1|                        0|              0|                     0|              0|             0|                       0|                      0|                      0|                            0|             0|              0|                0|                       0|                0|                0|                0|                0|                1|                0|                0|\n",
            "|7MxiQ4v0EnE|            false|               0|                 false|11.755699079672715|15.559263780679146| 8.872767529910936|  8.99516499031115|      18|    1411|       96|         0|         0|         1|         0|                        0|              0|                 0|                     0|                        0|              0|                     0|              0|             1|                       0|                      0|                      0|                            0|             0|              0|                0|                       0|                0|                0|                0|                0|                0|                1|                0|\n",
            "|c64I9HNpiOY|            false|               0|                 false|11.796140073147356| 16.17526697582603|  9.08398318309966| 9.291736010180177|      26|    1299|       96|         0|         0|         1|         0|                        0|              0|                 0|                     0|                        0|              0|                     0|              0|             1|                       0|                      0|                      0|                            0|             0|              0|                0|                       0|                0|                0|                0|                0|                0|                1|                0|\n",
            "|KObFEYCaRx8|            false|               0|                 false| 6.255750041753367| 11.68033640902843|3.9889840465642745|3.1780538303479458|      21|     509|       97|         0|         0|         1|         0|                        0|              0|                 0|                     1|                        0|              0|                     0|              0|             0|                       0|                      0|                      0|                            0|             0|              0|                0|                       0|                1|                0|                0|                0|                0|                0|                0|\n",
            "|g8QsfJhFpjY|            false|               0|                 false|10.998744217390875|13.784051882105244| 7.343426229147367| 7.785305182539862|      23|     477|       34|         0|         0|         1|         0|                        0|              0|                 0|                     1|                        0|              0|                     0|              0|             0|                       0|                      0|                      0|                            0|             0|              0|                0|                       0|                0|                0|                0|                0|                0|                0|                1|\n",
            "|4du1KXBl4YU|            false|               0|                 false| 8.373553741214627| 13.35782751759637| 7.688913336864796| 7.962067308753666|      23|      99|       78|         0|         0|         1|         0|                        0|              0|                 0|                     1|                        0|              0|                     0|              0|             0|                       0|                      0|                      0|                            0|             0|              0|                0|                       0|                0|                0|                0|                0|                0|                0|                1|\n",
            "|zOOmEDwPJX0|            false|               0|                 false|10.399250298625073|14.669120455465158| 6.566672429803241| 7.463936604468925|      22|    2093|       83|         0|         0|         1|         0|                        0|              0|                 0|                     0|                        0|              0|                     0|              0|             1|                       0|                      0|                      0|                            0|             0|              0|                0|                       0|                0|                0|                0|                0|                0|                1|                0|\n",
            "|Prb_osSVE0M|             true|               0|                 false|  6.57507584059962| 11.95816241638283|3.9889840465642745|               0.0|      20|     858|       85|         0|         0|         1|         0|                        0|              0|                 0|                     0|                        0|              0|                     0|              0|             0|                       1|                      0|                      0|                            0|             0|              0|                0|                       0|                1|                0|                0|                0|                0|                0|                0|\n",
            "|KHxdrECEsD0|            false|               0|                 false| 7.867871490396322|13.065610998767987|5.5254529391317835|5.1647859739235145|      12|    1351|       92|         0|         0|         1|         0|                        0|              0|                 0|                     1|                        0|              0|                     0|              0|             0|                       0|                      0|                      0|                            0|             0|              0|                0|                       0|                0|                0|                0|                0|                0|                1|                0|\n",
            "|so0ccfs-psI|            false|               0|                 false| 10.10483529147988|13.636392265237525| 5.198497031265826|  6.38856140554563|      25|    2387|       88|         0|         0|         1|         0|                        0|              0|                 0|                     0|                        0|              0|                     0|              0|             1|                       0|                      0|                      0|                            0|             0|              0|                0|                       0|                0|                0|                0|                0|                0|                0|                1|\n",
            "|7gShaSuK_PY|            false|               0|                 false| 5.476463551931511|11.402351382259514|   4.0943445622221|2.9444389791664403|      28|     171|       85|         0|         0|         1|         0|                        0|              0|                 0|                     0|                        0|              0|                     0|              0|             0|                       0|                      1|                      0|                            0|             0|              0|                0|                       0|                1|                0|                0|                0|                0|                0|                0|\n",
            "|ep3SLMuRbvg|            false|               0|                 false|10.154946414830384|12.749982887372441| 6.035481432524756| 7.962415680121064|      11|     248|       35|         0|         0|         1|         0|                        0|              1|                 0|                     0|                        0|              0|                     0|              0|             0|                       0|                      0|                      0|                            0|             0|              0|                0|                       0|                1|                0|                0|                0|                0|                0|                0|\n",
            "|ePO5M5DE01I|            false|               0|                 false|13.628413215237485|  17.3958509780565| 11.02183710688727|11.524043430704076|      22|     901|       63|         0|         0|         1|         0|                        0|              0|                 0|                     0|                        1|              0|                     0|              0|             0|                       0|                      0|                      0|                            0|             0|              0|                0|                       0|                0|                1|                0|                0|                0|                0|                0|\n",
            "|CLl1RbxDRAs|            false|               0|                 false| 9.551871220788255|12.252956231429025|6.1070228877422545|  7.00850518208228|      30|     201|       68|         0|         0|         1|         0|                        0|              1|                 0|                     0|                        0|              0|                     0|              0|             0|                       0|                      0|                      0|                            0|             0|              0|                0|                       0|                0|                0|                0|                0|                0|                0|                1|\n",
            "|1ZAPwfrtAFY|            false|               0|                 false|11.484402526036991|14.698775492508977|  8.72371943690701| 9.449672183486918|       4|     630|       62|         0|         0|         1|         0|                        0|              0|                 0|                     1|                        0|              0|                     0|              0|             0|                       0|                      0|                      0|                            0|             0|              0|                0|                       0|                1|                0|                0|                0|                0|                0|                0|\n",
            "+-----------+-----------------+----------------+----------------------+------------------+------------------+------------------+------------------+--------+--------+---------+----------+----------+----------+----------+-------------------------+---------------+------------------+----------------------+-------------------------+---------------+----------------------+---------------+--------------+------------------------+-----------------------+-----------------------+-----------------------------+--------------+---------------+-----------------+------------------------+-----------------+-----------------+-----------------+-----------------+-----------------+-----------------+-----------------+\n",
            "only showing top 20 rows\n",
            "\n"
          ]
        },
        {
          "output_type": "display_data",
          "data": {
            "text/plain": [
              "None"
            ]
          },
          "metadata": {}
        }
      ]
    },
    {
      "cell_type": "code",
      "source": [
        "print((df.count(), len(df.columns)))"
      ],
      "metadata": {
        "colab": {
          "base_uri": "https://localhost:8080/"
        },
        "id": "5vv9WaLUiUcW",
        "outputId": "179eebfe-121d-4f0c-91f1-2ec28a1352ae"
      },
      "execution_count": 135,
      "outputs": [
        {
          "output_type": "stream",
          "name": "stdout",
          "text": [
            "(154229, 39)\n"
          ]
        }
      ]
    },
    {
      "cell_type": "code",
      "source": [
        "display(df.printSchema())"
      ],
      "metadata": {
        "colab": {
          "base_uri": "https://localhost:8080/",
          "height": 746
        },
        "id": "S8FqYCZdidPh",
        "outputId": "9abc0e55-9036-4964-f64e-3fcbbeb70020"
      },
      "execution_count": 136,
      "outputs": [
        {
          "output_type": "stream",
          "name": "stdout",
          "text": [
            "root\n",
            " |-- video_id: string (nullable = true)\n",
            " |-- comments_disabled: boolean (nullable = true)\n",
            " |-- ratings_disabled: integer (nullable = true)\n",
            " |-- video_error_or_removed: boolean (nullable = true)\n",
            " |-- likes_log: double (nullable = true)\n",
            " |-- label: double (nullable = true)\n",
            " |-- dislikes_log: double (nullable = true)\n",
            " |-- comment_log: double (nullable = true)\n",
            " |-- num_tags: integer (nullable = true)\n",
            " |-- desc_len: integer (nullable = true)\n",
            " |-- len_title: integer (nullable = true)\n",
            " |-- country_CA: integer (nullable = true)\n",
            " |-- country_FR: integer (nullable = true)\n",
            " |-- country_IN: integer (nullable = true)\n",
            " |-- country_US: integer (nullable = true)\n",
            " |-- category_Autos & Vehicles: integer (nullable = true)\n",
            " |-- category_Comedy: integer (nullable = true)\n",
            " |-- category_Education: integer (nullable = true)\n",
            " |-- category_Entertainment: integer (nullable = true)\n",
            " |-- category_Film & Animation: integer (nullable = true)\n",
            " |-- category_Gaming: integer (nullable = true)\n",
            " |-- category_Howto & Style: integer (nullable = true)\n",
            " |-- category_Movies: integer (nullable = true)\n",
            " |-- category_Music: integer (nullable = true)\n",
            " |-- category_News & Politics: integer (nullable = true)\n",
            " |-- category_People & Blogs: integer (nullable = true)\n",
            " |-- category_Pets & Animals: integer (nullable = true)\n",
            " |-- category_Science & Technology: integer (nullable = true)\n",
            " |-- category_Shows: integer (nullable = true)\n",
            " |-- category_Sports: integer (nullable = true)\n",
            " |-- category_Trailers: integer (nullable = true)\n",
            " |-- category_Travel & Events: integer (nullable = true)\n",
            " |-- publish_weekday_1: integer (nullable = true)\n",
            " |-- publish_weekday_2: integer (nullable = true)\n",
            " |-- publish_weekday_3: integer (nullable = true)\n",
            " |-- publish_weekday_4: integer (nullable = true)\n",
            " |-- publish_weekday_5: integer (nullable = true)\n",
            " |-- publish_weekday_6: integer (nullable = true)\n",
            " |-- publish_weekday_7: integer (nullable = true)\n",
            "\n"
          ]
        },
        {
          "output_type": "display_data",
          "data": {
            "text/plain": [
              "None"
            ]
          },
          "metadata": {}
        }
      ]
    },
    {
      "cell_type": "code",
      "source": [
        "from pyspark.ml.feature import StringIndexer, VectorAssembler"
      ],
      "metadata": {
        "id": "Ejf5JL_gidSo"
      },
      "execution_count": 137,
      "outputs": []
    },
    {
      "cell_type": "code",
      "source": [
        "all_columns =df.columns"
      ],
      "metadata": {
        "id": "1WCGxRBOijGl"
      },
      "execution_count": 138,
      "outputs": []
    },
    {
      "cell_type": "code",
      "source": [
        "drop_columns = drop_columns = ['video_id','ratings_disabled']"
      ],
      "metadata": {
        "id": "G2lwHxwRijJ2"
      },
      "execution_count": 139,
      "outputs": []
    },
    {
      "cell_type": "code",
      "source": [
        "columns_to_use = [i for i in all_columns if i not in drop_columns]"
      ],
      "metadata": {
        "id": "e53GFDujidVZ"
      },
      "execution_count": 140,
      "outputs": []
    },
    {
      "cell_type": "code",
      "source": [
        "assembler = VectorAssembler(inputCols=columns_to_use, outputCol='featurz')"
      ],
      "metadata": {
        "id": "5k1vxyiLiunk"
      },
      "execution_count": 141,
      "outputs": []
    },
    {
      "cell_type": "code",
      "source": [
        "print('stat_assembler', (str(assembler.params), columns_to_use))"
      ],
      "metadata": {
        "colab": {
          "base_uri": "https://localhost:8080/"
        },
        "id": "2hrHW472iuq4",
        "outputId": "c4facc31-a720-4bed-9007-817c94bc318c"
      },
      "execution_count": 142,
      "outputs": [
        {
          "output_type": "stream",
          "name": "stdout",
          "text": [
            "stat_assembler ('[Param(parent=\\'VectorAssembler_c65dce46dc69\\', name=\\'handleInvalid\\', doc=\"How to handle invalid data (NULL and NaN values). Options are \\'skip\\' (filter out rows with invalid data), \\'error\\' (throw an error), or \\'keep\\' (return relevant number of NaN in the output). Column lengths are taken from the size of ML Attribute Group, which can be set using `VectorSizeHint` in a pipeline before `VectorAssembler`. Column lengths can also be inferred from first rows of the data since it is safe to do so but only in case of \\'error\\' or \\'skip\\').\"), Param(parent=\\'VectorAssembler_c65dce46dc69\\', name=\\'inputCols\\', doc=\\'input column names.\\'), Param(parent=\\'VectorAssembler_c65dce46dc69\\', name=\\'outputCol\\', doc=\\'output column name.\\')]', ['comments_disabled', 'video_error_or_removed', 'likes_log', 'label', 'dislikes_log', 'comment_log', 'num_tags', 'desc_len', 'len_title', 'country_CA', 'country_FR', 'country_IN', 'country_US', 'category_Autos & Vehicles', 'category_Comedy', 'category_Education', 'category_Entertainment', 'category_Film & Animation', 'category_Gaming', 'category_Howto & Style', 'category_Movies', 'category_Music', 'category_News & Politics', 'category_People & Blogs', 'category_Pets & Animals', 'category_Science & Technology', 'category_Shows', 'category_Sports', 'category_Trailers', 'category_Travel & Events', 'publish_weekday_1', 'publish_weekday_2', 'publish_weekday_3', 'publish_weekday_4', 'publish_weekday_5', 'publish_weekday_6', 'publish_weekday_7'])\n"
          ]
        }
      ]
    },
    {
      "cell_type": "code",
      "source": [
        "from pyspark.ml import Pipeline\n",
        "# Add your code here\n",
        "pipeline = Pipeline(stages=[assembler])\n",
        "modified_data_sdf = pipeline.fit(df).transform(df).drop(*columns_to_use)\n",
        "display(modified_data_sdf.show())"
      ],
      "metadata": {
        "colab": {
          "base_uri": "https://localhost:8080/",
          "height": 486
        },
        "id": "Z6K3iRoVi5C-",
        "outputId": "786eabde-617c-4814-ee6c-0f9aa7f6f7ff"
      },
      "execution_count": 143,
      "outputs": [
        {
          "output_type": "stream",
          "name": "stdout",
          "text": [
            "+-----------+----------------+--------------------+\n",
            "|   video_id|ratings_disabled|             featurz|\n",
            "+-----------+----------------+--------------------+\n",
            "|kzwfHumJyYc|               0|(37,[2,3,4,5,6,7,...|\n",
            "|zUZ1z7FwLc8|               0|(37,[0,2,3,4,6,7,...|\n",
            "|10L1hZ9qa58|               0|(37,[2,3,4,5,6,7,...|\n",
            "|N1vE8iiEg64|               0|(37,[2,3,4,5,6,7,...|\n",
            "|kJzGH0PVQHQ|               0|(37,[2,3,4,5,6,7,...|\n",
            "|il_pSa5l98w|               0|(37,[2,3,4,5,6,7,...|\n",
            "|7MxiQ4v0EnE|               0|(37,[2,3,4,5,6,7,...|\n",
            "|c64I9HNpiOY|               0|(37,[2,3,4,5,6,7,...|\n",
            "|KObFEYCaRx8|               0|(37,[2,3,4,5,6,7,...|\n",
            "|g8QsfJhFpjY|               0|(37,[2,3,4,5,6,7,...|\n",
            "|4du1KXBl4YU|               0|(37,[2,3,4,5,6,7,...|\n",
            "|zOOmEDwPJX0|               0|(37,[2,3,4,5,6,7,...|\n",
            "|Prb_osSVE0M|               0|(37,[0,2,3,4,6,7,...|\n",
            "|KHxdrECEsD0|               0|(37,[2,3,4,5,6,7,...|\n",
            "|so0ccfs-psI|               0|(37,[2,3,4,5,6,7,...|\n",
            "|7gShaSuK_PY|               0|(37,[2,3,4,5,6,7,...|\n",
            "|ep3SLMuRbvg|               0|(37,[2,3,4,5,6,7,...|\n",
            "|ePO5M5DE01I|               0|(37,[2,3,4,5,6,7,...|\n",
            "|CLl1RbxDRAs|               0|(37,[2,3,4,5,6,7,...|\n",
            "|1ZAPwfrtAFY|               0|(37,[2,3,4,5,6,7,...|\n",
            "+-----------+----------------+--------------------+\n",
            "only showing top 20 rows\n",
            "\n"
          ]
        },
        {
          "output_type": "display_data",
          "data": {
            "text/plain": [
              "None"
            ]
          },
          "metadata": {}
        }
      ]
    },
    {
      "cell_type": "code",
      "source": [
        "pipeline_stat = pd.DataFrame(modified_data_sdf.take(5), columns=modified_data_sdf.columns)\n",
        "print('check_pipeline', (pipeline_stat.columns.values, pipeline_stat['featurz'][0].size))"
      ],
      "metadata": {
        "colab": {
          "base_uri": "https://localhost:8080/"
        },
        "id": "DYkvC5BEi5GJ",
        "outputId": "fcbb6046-59e6-484b-8bd0-9a4f1a1006ac"
      },
      "execution_count": 144,
      "outputs": [
        {
          "output_type": "stream",
          "name": "stdout",
          "text": [
            "check_pipeline (array(['video_id', 'ratings_disabled', 'featurz'], dtype=object), 37)\n"
          ]
        }
      ]
    },
    {
      "cell_type": "code",
      "source": [
        "train_sdf1, test_sdf1 = modified_data_sdf.randomSplit([0.8, 0.2], seed = 2021)\n",
        "print('check_split', (train_sdf.count(), test_sdf.count()))"
      ],
      "metadata": {
        "colab": {
          "base_uri": "https://localhost:8080/"
        },
        "id": "E47Cg1VKiut-",
        "outputId": "2a602c4b-0786-42e1-abc8-e9c1cccb981d"
      },
      "execution_count": 145,
      "outputs": [
        {
          "output_type": "stream",
          "name": "stdout",
          "text": [
            "check_split (123254, 30975)\n"
          ]
        }
      ]
    },
    {
      "cell_type": "code",
      "source": [
        "display(train_sdf1.show())"
      ],
      "metadata": {
        "colab": {
          "base_uri": "https://localhost:8080/",
          "height": 486
        },
        "id": "dyrMcuVidYlk",
        "outputId": "9272811b-20fc-426b-d742-736eb233d7a6"
      },
      "execution_count": 146,
      "outputs": [
        {
          "output_type": "stream",
          "name": "stdout",
          "text": [
            "+--------+----------------+--------------------+\n",
            "|video_id|ratings_disabled|             featurz|\n",
            "+--------+----------------+--------------------+\n",
            "|  #NAME?|               0|(37,[0,2,3,4,6,7,...|\n",
            "|  #NAME?|               0|(37,[0,2,3,4,6,7,...|\n",
            "|  #NAME?|               0|(37,[0,2,3,4,6,7,...|\n",
            "|  #NAME?|               0|(37,[0,2,3,4,6,7,...|\n",
            "|  #NAME?|               0|(37,[0,2,3,4,6,7,...|\n",
            "|  #NAME?|               0|(37,[0,2,3,4,6,7,...|\n",
            "|  #NAME?|               0|(37,[0,2,3,4,6,7,...|\n",
            "|  #NAME?|               0|(37,[0,2,3,4,6,7,...|\n",
            "|  #NAME?|               0|(37,[0,2,3,4,6,7,...|\n",
            "|  #NAME?|               0|(37,[0,2,3,4,7,8,...|\n",
            "|  #NAME?|               0|(37,[0,2,3,4,7,8,...|\n",
            "|  #NAME?|               0|(37,[0,2,3,4,7,8,...|\n",
            "|  #NAME?|               0|(37,[2,3,4,5,6,7,...|\n",
            "|  #NAME?|               0|(37,[2,3,4,5,6,7,...|\n",
            "|  #NAME?|               0|(37,[2,3,4,5,6,7,...|\n",
            "|  #NAME?|               0|(37,[2,3,4,5,6,7,...|\n",
            "|  #NAME?|               0|(37,[2,3,4,5,6,7,...|\n",
            "|  #NAME?|               0|(37,[2,3,4,5,6,7,...|\n",
            "|  #NAME?|               0|(37,[2,3,4,5,6,7,...|\n",
            "|  #NAME?|               0|(37,[2,3,4,5,6,7,...|\n",
            "+--------+----------------+--------------------+\n",
            "only showing top 20 rows\n",
            "\n"
          ]
        },
        {
          "output_type": "display_data",
          "data": {
            "text/plain": [
              "None"
            ]
          },
          "metadata": {}
        }
      ]
    },
    {
      "cell_type": "markdown",
      "source": [
        "####5.5.1 Logistic Regression\n",
        "\n",
        "Logistic regression classification model is a popular method to predict a categorical response. Since the label column has 2 values, binary logistic regression and binary classification evaluator is used.\n",
        "\n",
        "For hyper parameter tuning, multiple values are added as an array for Elastic Net mixing Parameters, Iterations and Logistic Regression params. These arrays are converted to list which will be called during LogisticRegression() model."
      ],
      "metadata": {
        "id": "WW7x-X6PiJD1"
      }
    },
    {
      "cell_type": "code",
      "source": [
        "import itertools   \n",
        "regParam        = [0.1, 0.5, 2.0]\n",
        "elasticNetParam = [0.0,  0.5, 1.0]\n",
        "maxIter         = [10, 50, 100]\n",
        "experiments     = list(itertools.product(regParam, elasticNetParam, maxIter))\n",
        "print(len(experiments))\n"
      ],
      "metadata": {
        "colab": {
          "base_uri": "https://localhost:8080/"
        },
        "id": "gmryIs4Ecv7M",
        "outputId": "1ae2f3c3-9865-4d8f-a246-c2efa4299f0d"
      },
      "execution_count": 147,
      "outputs": [
        {
          "output_type": "stream",
          "name": "stdout",
          "text": [
            "27\n"
          ]
        }
      ]
    },
    {
      "cell_type": "code",
      "source": [
        "from pyspark.ml.classification import LogisticRegression\n",
        "from pyspark.ml.classification import DecisionTreeClassifier\n",
        "from pyspark.ml.classification import RandomForestClassifier\n",
        "from pyspark.ml.classification import GBTClassifier\n",
        "\n",
        "from pyspark.ml.evaluation import BinaryClassificationEvaluator"
      ],
      "metadata": {
        "id": "ykSdby7ZBatW"
      },
      "execution_count": 148,
      "outputs": []
    },
    {
      "cell_type": "code",
      "source": [
        "for ind, experiment in enumerate(experiments):\n",
        "    regParam        = experiment[0]\n",
        "    elasticNetParam = experiment[1]\n",
        "    maxIter         = experiment[2]\n",
        "\n",
        "    print(ind)\n",
        "    print('params: ', regParam, elasticNetParam, maxIter)\n",
        "    \n",
        "    lr = LogisticRegression(labelCol=\"ratings_disabled\", \n",
        "                            featuresCol=\"featurz\", \n",
        "                            regParam=regParam,\n",
        "                            elasticNetParam=elasticNetParam,\n",
        "                            maxIter=maxIter\n",
        "                            )\n",
        "    \n",
        "    # Train model with Training Data\n",
        "    lrModel     = lr.fit(train_sdf1)\n",
        "    \n",
        "    # Make predictions on validation data using the transform() method.\n",
        "    # LogisticRegression.transform() will only use the 'features' column.\n",
        "    predictions = lrModel.transform(test_sdf1)\n",
        "    \n",
        "    # evaluate predictions\n",
        "    evaluator = BinaryClassificationEvaluator(rawPredictionCol=\"rawPrediction\", labelCol='ratings_disabled')\n",
        "    acc       = evaluator.evaluate(predictions)\n",
        "    \n",
        "    print('Accuracy: ', acc)\n",
        " "
      ],
      "metadata": {
        "colab": {
          "base_uri": "https://localhost:8080/"
        },
        "id": "s2NgrhPG6qXd",
        "outputId": "e1aa00c2-8727-4217-936e-6132e417ed75"
      },
      "execution_count": 149,
      "outputs": [
        {
          "output_type": "stream",
          "name": "stdout",
          "text": [
            "0\n",
            "params:  0.1 0.0 10\n",
            "Accuracy:  0.9954222916327152\n",
            "1\n",
            "params:  0.1 0.0 50\n",
            "Accuracy:  0.9954222916327152\n",
            "2\n",
            "params:  0.1 0.0 100\n",
            "Accuracy:  0.9954222916327152\n",
            "3\n",
            "params:  0.1 0.5 10\n",
            "Accuracy:  0.5\n",
            "4\n",
            "params:  0.1 0.5 50\n",
            "Accuracy:  0.5\n",
            "5\n",
            "params:  0.1 0.5 100\n",
            "Accuracy:  0.5\n",
            "6\n",
            "params:  0.1 1.0 10\n",
            "Accuracy:  0.5\n",
            "7\n",
            "params:  0.1 1.0 50\n",
            "Accuracy:  0.5\n",
            "8\n",
            "params:  0.1 1.0 100\n",
            "Accuracy:  0.5\n",
            "9\n",
            "params:  0.5 0.0 10\n",
            "Accuracy:  0.993051412901645\n",
            "10\n",
            "params:  0.5 0.0 50\n",
            "Accuracy:  0.993051412901645\n",
            "11\n",
            "params:  0.5 0.0 100\n",
            "Accuracy:  0.9930514129016451\n",
            "12\n",
            "params:  0.5 0.5 10\n",
            "Accuracy:  0.5\n",
            "13\n",
            "params:  0.5 0.5 50\n",
            "Accuracy:  0.5\n",
            "14\n",
            "params:  0.5 0.5 100\n",
            "Accuracy:  0.5\n",
            "15\n",
            "params:  0.5 1.0 10\n",
            "Accuracy:  0.5\n",
            "16\n",
            "params:  0.5 1.0 50\n",
            "Accuracy:  0.5\n",
            "17\n",
            "params:  0.5 1.0 100\n",
            "Accuracy:  0.5\n",
            "18\n",
            "params:  2.0 0.0 10\n",
            "Accuracy:  0.9927670674100172\n",
            "19\n",
            "params:  2.0 0.0 50\n",
            "Accuracy:  0.9927670674100173\n",
            "20\n",
            "params:  2.0 0.0 100\n",
            "Accuracy:  0.9927670674100171\n",
            "21\n",
            "params:  2.0 0.5 10\n",
            "Accuracy:  0.5\n",
            "22\n",
            "params:  2.0 0.5 50\n",
            "Accuracy:  0.5\n",
            "23\n",
            "params:  2.0 0.5 100\n",
            "Accuracy:  0.5\n",
            "24\n",
            "params:  2.0 1.0 10\n",
            "Accuracy:  0.5\n",
            "25\n",
            "params:  2.0 1.0 50\n",
            "Accuracy:  0.5\n",
            "26\n",
            "params:  2.0 1.0 100\n",
            "Accuracy:  0.5\n"
          ]
        }
      ]
    },
    {
      "cell_type": "markdown",
      "source": [
        "Multiple values of accuracy is visible. 99.5% is the highest accuracy achieved for 10 iterations, 0.0 elastic net param and 0.1 regParam values."
      ],
      "metadata": {
        "id": "y1JbpN8wlQuM"
      }
    },
    {
      "cell_type": "code",
      "source": [
        "print(\"coefficients: \" + str(lrModel.coefficientMatrix))\n",
        "print(\"intercepts: \" + str(lrModel.interceptVector))"
      ],
      "metadata": {
        "colab": {
          "base_uri": "https://localhost:8080/"
        },
        "id": "xXM2SJC7ky_I",
        "outputId": "d2f412ac-6c2d-467a-e278-d66ac63e1306"
      },
      "execution_count": 150,
      "outputs": [
        {
          "output_type": "stream",
          "name": "stdout",
          "text": [
            "coefficients: 1 X 37 CSRMatrix\n",
            "\n",
            "intercepts: [-4.459869512254484]\n"
          ]
        }
      ]
    },
    {
      "cell_type": "code",
      "source": [
        "# Extract the summary from the returned LogisticRegressionModel instance trained\n",
        "# in the earlier example\n",
        "trainingSummary = lrModel.summary\n",
        "\n",
        "# Obtain the objective per iteration\n",
        "objectiveHistory = trainingSummary.objectiveHistory\n",
        "print(\"objectiveHistory:\")\n",
        "for objective in objectiveHistory:\n",
        "    print(objective)\n",
        "\n",
        "# Obtain the receiver-operating characteristic as a dataframe and areaUnderROC.\n",
        "trainingSummary.roc.show()\n",
        "print(\"areaUnderROC: \" + str(trainingSummary.areaUnderROC))\n",
        "\n",
        "# Set the model threshold to maximize F-Measure\n",
        "fMeasure = trainingSummary.fMeasureByThreshold\n",
        "maxFMeasure = fMeasure.groupBy().max('F-Measure').select('max(F-Measure)').head()\n",
        "bestThreshold = fMeasure.where(fMeasure['F-Measure'] == maxFMeasure['max(F-Measure)']) \\\n",
        "    .select('threshold').head()['threshold']\n",
        "lr.setThreshold(bestThreshold)"
      ],
      "metadata": {
        "colab": {
          "base_uri": "https://localhost:8080/"
        },
        "id": "HqVo7sszlcaq",
        "outputId": "cf236f45-ef44-45d0-d9ea-b9da79316a12"
      },
      "execution_count": 151,
      "outputs": [
        {
          "output_type": "stream",
          "name": "stdout",
          "text": [
            "objectiveHistory:\n",
            "0.06248131231725768\n"
          ]
        },
        {
          "output_type": "stream",
          "name": "stderr",
          "text": [
            "/usr/local/lib/python3.7/dist-packages/pyspark/sql/context.py:127: FutureWarning:\n",
            "\n",
            "Deprecated in 3.0.0. Use SparkSession.builder.getOrCreate() instead.\n",
            "\n"
          ]
        },
        {
          "output_type": "stream",
          "name": "stdout",
          "text": [
            "+---+---+\n",
            "|FPR|TPR|\n",
            "+---+---+\n",
            "|0.0|0.0|\n",
            "|1.0|1.0|\n",
            "|1.0|1.0|\n",
            "+---+---+\n",
            "\n",
            "areaUnderROC: 0.5\n"
          ]
        },
        {
          "output_type": "execute_result",
          "data": {
            "text/plain": [
              "LogisticRegression_5e2d03bc24ca"
            ]
          },
          "metadata": {},
          "execution_count": 151
        }
      ]
    },
    {
      "cell_type": "markdown",
      "source": [
        "### 5.6 Dimensionality Reduction using Principal Component Analysis (10pt)\n",
        "\n",
        "The focus of this section is to utilize PCA to further reduce the dimensions of data, i.e., a lower dimensional space. After PCA perform linear regression on the new data. You can select a suitable value for the number of dimensions as calculated in previous section.\n",
        "\n",
        "The steps are illustrated below:\n",
        "1.   Initialization of PCA model\n",
        "2.   Fit the PCA model using the training data\n",
        "3.   Extract the PCA feature from the trained PCA model from step 2\n",
        "4.   Train a linear regression model using the retreived PCA features\n",
        "5.   Evaluate the trained model 's performance on the test set \n",
        "\n",
        "This section requires extra effort and therefore has less starter code. Spen time to understand and implement considering yourself a data scientist working on an assigned task."
      ],
      "metadata": {
        "id": "8WKteGeYOvDX"
      }
    },
    {
      "cell_type": "code",
      "source": [
        "# Add your code for the PCA model and training here\n",
        "from pyspark.ml.feature import PCA as PCA_ML\n",
        "pca_Lr = PCA_ML(k=34, inputCol='features', outputCol='pcaFeature').fit(train_sdf).transform(train_sdf)\n",
        "\n",
        "pca_lr_model=LinearRegression(featuresCol='pcaFeature', labelCol='label', elasticNetParam=1, regParam=0.1).fit(pca_Lr)\n",
        "\n",
        "training_rmse_pca = reg_evaluator.evaluate(pca_lr_model.transform(pca_Lr))"
      ],
      "metadata": {
        "id": "O80zvFGtOsTb"
      },
      "execution_count": 152,
      "outputs": []
    },
    {
      "cell_type": "code",
      "source": [
        "# Add your code here\n",
        "pca_Lr_test = PCA_ML(k=34, inputCol='features', outputCol='pcaFeature').fit(train_sdf).transform(test_sdf)\n",
        "\n",
        "predictions = pca_lr_model.transform(pca_Lr_test) #Task: Retreive predictions on the test set\n",
        "\n",
        "test_rmse_pca = reg_evaluator.evaluate(pca_lr_model.transform(pca_Lr_test)) #Task: Retreive RMSE for test data"
      ],
      "metadata": {
        "id": "8dwudronQjI-"
      },
      "execution_count": 153,
      "outputs": []
    },
    {
      "cell_type": "code",
      "source": [
        "# Add your code here\n",
        "predictions_to_grade = predictions.toPandas()\n",
        "answer = [training_rmse_pca, predictions_to_grade['prediction'][0:50], predictions_to_grade['label'][0:50], test_rmse_pca]\n",
        "print('check_pca_spark \\n', answer)\n",
        "\n",
        "x=predictions_to_grade['prediction'][0:50]\n",
        "y=predictions_to_grade['label'][0:50]\n",
        "print('\\n Differences between Prediction and label: \\n',(x - y))\n",
        "\n",
        "print('\\n \\n Model Summery:',pca_lr_model.summary.r2)"
      ],
      "metadata": {
        "colab": {
          "base_uri": "https://localhost:8080/"
        },
        "id": "Gy_g3oBbQjMF",
        "outputId": "fdbd82d2-b6df-444f-cb4b-ba916cd2e68b"
      },
      "execution_count": 154,
      "outputs": [
        {
          "output_type": "stream",
          "name": "stdout",
          "text": [
            "check_pca_spark \n",
            " [0.7556473497735112, 0     10.938431\n",
            "1     10.875887\n",
            "2     10.184046\n",
            "3     10.640630\n",
            "4     10.636015\n",
            "5     11.578566\n",
            "6     13.037811\n",
            "7     11.022325\n",
            "8     11.735197\n",
            "9     12.276016\n",
            "10    11.893918\n",
            "11    11.344813\n",
            "12    12.014372\n",
            "13    11.081861\n",
            "14    11.607520\n",
            "15    13.103707\n",
            "16    13.103707\n",
            "17    11.255943\n",
            "18    11.722413\n",
            "19    11.819103\n",
            "20    11.823611\n",
            "21    11.416744\n",
            "22    13.045205\n",
            "23    13.620706\n",
            "24    12.066434\n",
            "25    12.511210\n",
            "26    11.955678\n",
            "27    11.955678\n",
            "28    13.395693\n",
            "29    12.077007\n",
            "30    11.678988\n",
            "31    10.857226\n",
            "32    12.879338\n",
            "33    12.995058\n",
            "34    11.873429\n",
            "35    13.373649\n",
            "36    12.303463\n",
            "37    12.303463\n",
            "38    12.104946\n",
            "39    10.968543\n",
            "40    12.444278\n",
            "41    10.967992\n",
            "42    12.762149\n",
            "43    10.624729\n",
            "44    12.843149\n",
            "45    11.829084\n",
            "46    12.216641\n",
            "47    12.216641\n",
            "48    12.483464\n",
            "49    13.623927\n",
            "Name: prediction, dtype: float64, 0      9.668651\n",
            "1      9.829895\n",
            "2      9.930129\n",
            "3     10.712126\n",
            "4     11.018006\n",
            "5     11.054835\n",
            "6     11.153762\n",
            "7     11.175899\n",
            "8     11.258382\n",
            "9     11.266360\n",
            "10    11.468357\n",
            "11    11.468859\n",
            "12    11.483754\n",
            "13    11.512265\n",
            "14    11.564445\n",
            "15    11.588135\n",
            "16    11.588135\n",
            "17    11.660664\n",
            "18    11.857671\n",
            "19    11.880322\n",
            "20    11.888144\n",
            "21    11.891335\n",
            "22    11.937552\n",
            "23    11.954922\n",
            "24    11.977156\n",
            "25    12.016164\n",
            "26    12.054133\n",
            "27    12.054133\n",
            "28    12.198675\n",
            "29    12.226267\n",
            "30    12.256457\n",
            "31    12.375583\n",
            "32    12.486016\n",
            "33    12.557198\n",
            "34    12.644428\n",
            "35    12.658160\n",
            "36    12.669763\n",
            "37    12.669763\n",
            "38    12.866671\n",
            "39    12.883370\n",
            "40    12.909091\n",
            "41    12.924927\n",
            "42    12.978248\n",
            "43    12.997584\n",
            "44    13.010363\n",
            "45    13.027932\n",
            "46    13.037278\n",
            "47    13.037278\n",
            "48    13.046706\n",
            "49    13.076920\n",
            "Name: label, dtype: float64, 0.7636599609731372]\n",
            "\n",
            " Differences between Prediction and label: \n",
            " 0     1.269780\n",
            "1     1.045992\n",
            "2     0.253916\n",
            "3    -0.071497\n",
            "4    -0.381991\n",
            "5     0.523731\n",
            "6     1.884049\n",
            "7    -0.153574\n",
            "8     0.476815\n",
            "9     1.009656\n",
            "10    0.425561\n",
            "11   -0.124045\n",
            "12    0.530618\n",
            "13   -0.430405\n",
            "14    0.043075\n",
            "15    1.515572\n",
            "16    1.515572\n",
            "17   -0.404721\n",
            "18   -0.135257\n",
            "19   -0.061219\n",
            "20   -0.064534\n",
            "21   -0.474591\n",
            "22    1.107653\n",
            "23    1.665784\n",
            "24    0.089278\n",
            "25    0.495046\n",
            "26   -0.098455\n",
            "27   -0.098455\n",
            "28    1.197018\n",
            "29   -0.149260\n",
            "30   -0.577469\n",
            "31   -1.518358\n",
            "32    0.393321\n",
            "33    0.437860\n",
            "34   -0.770998\n",
            "35    0.715489\n",
            "36   -0.366300\n",
            "37   -0.366300\n",
            "38   -0.761725\n",
            "39   -1.914827\n",
            "40   -0.464813\n",
            "41   -1.956934\n",
            "42   -0.216099\n",
            "43   -2.372856\n",
            "44   -0.167214\n",
            "45   -1.198848\n",
            "46   -0.820637\n",
            "47   -0.820637\n",
            "48   -0.563242\n",
            "49    0.547007\n",
            "dtype: float64\n",
            "\n",
            " \n",
            " Model Summery: 0.826373442383269\n"
          ]
        }
      ]
    },
    {
      "cell_type": "markdown",
      "source": [
        "#### 5.6.1 Gradient Boosting Regressor with PCA Features (Task2 part1- Regression Model)"
      ],
      "metadata": {
        "id": "Ku5jJgj5beC-"
      }
    },
    {
      "cell_type": "code",
      "source": [
        "gbt = GBTRegressor(labelCol=\"label\", featuresCol=\"pcaFeature\", maxIter=10)"
      ],
      "metadata": {
        "id": "v7r2LTwYZM1M"
      },
      "execution_count": 155,
      "outputs": []
    },
    {
      "cell_type": "code",
      "source": [
        "gbt_model = gbt.fit(pca_Lr)"
      ],
      "metadata": {
        "id": "nTbMwXK2ZmFQ"
      },
      "execution_count": 156,
      "outputs": []
    },
    {
      "cell_type": "code",
      "source": [
        "predictions = gbt_model.transform(pca_Lr_test)"
      ],
      "metadata": {
        "id": "bjR4pJmDa666"
      },
      "execution_count": 157,
      "outputs": []
    },
    {
      "cell_type": "code",
      "source": [
        "from pyspark.ml.evaluation import RegressionEvaluator\n",
        "\n",
        "accuracy = gbt_evaluator.evaluate(predictions)\n",
        "\n",
        "print(\"Accuracy = %g\" % accuracy)"
      ],
      "metadata": {
        "colab": {
          "base_uri": "https://localhost:8080/"
        },
        "id": "-MBWWyPEbAcd",
        "outputId": "32d12016-8def-4574-f2f8-02dc308f3f16"
      },
      "execution_count": 158,
      "outputs": [
        {
          "output_type": "stream",
          "name": "stdout",
          "text": [
            "Accuracy = 0.758758\n"
          ]
        }
      ]
    },
    {
      "cell_type": "markdown",
      "source": [
        "# Submission\n",
        "\n",
        "**Submission on the blackboard**. \n",
        "** PDF submission for the simalarity check and .ipynb for original submission **\n",
        "\n",
        "Go to the \"File\" tab at the top left, and click \"Download .ipynb\". Submit under 'scalableMachinelearning.ipynb'.\n",
        "\n",
        "You must submit your notebook to blackboard for the grading."
      ],
      "metadata": {
        "id": "2dygPwYbRor8"
      }
    },
    {
      "cell_type": "code",
      "source": [
        ""
      ],
      "metadata": {
        "id": "5Vu76Kv_QjO_"
      },
      "execution_count": 158,
      "outputs": []
    },
    {
      "cell_type": "code",
      "source": [
        ""
      ],
      "metadata": {
        "id": "-8MR3pf7QjRv"
      },
      "execution_count": 158,
      "outputs": []
    }
  ],
  "metadata": {
    "colab": {
      "name": "Technical Project 2.ipynb",
      "provenance": [],
      "collapsed_sections": [],
      "toc_visible": true
    },
    "kernelspec": {
      "display_name": "Python 3",
      "name": "python3"
    },
    "language_info": {
      "name": "python"
    }
  },
  "nbformat": 4,
  "nbformat_minor": 0
}